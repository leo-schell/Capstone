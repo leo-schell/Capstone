{
 "cells": [
  {
   "cell_type": "code",
   "execution_count": 79,
   "id": "6151e024",
   "metadata": {},
   "outputs": [],
   "source": [
    "import pandas as pd\n",
    "import numpy as np\n",
    "import matplotlib.pyplot as plt\n",
    "%matplotlib inline\n",
    "import seaborn as sns\n",
    "\n",
    "import os\n",
    "from surprise import Dataset\n",
    "from surprise import Reader\n",
    "from surprise import accuracy\n",
    "from surprise import KNNBasic\n",
    "from surprise import KNNBaseline\n",
    "from surprise import KNNWithMeans"
   ]
  },
  {
   "cell_type": "code",
   "execution_count": 29,
   "id": "7b7d89e5",
   "metadata": {},
   "outputs": [
    {
     "name": "stdout",
     "output_type": "stream",
     "text": [
      "<class 'pandas.core.frame.DataFrame'>\n",
      "RangeIndex: 1000000 entries, 0 to 999999\n",
      "Data columns (total 8 columns):\n",
      " #   Column           Non-Null Count    Dtype         \n",
      "---  ------           --------------    -----         \n",
      " 0   mid              1000000 non-null  int64         \n",
      " 1   cust_id          1000000 non-null  int64         \n",
      " 2   rating           1000000 non-null  float64       \n",
      " 3   r_date           1000000 non-null  datetime64[ns]\n",
      " 4   m_decade         1000000 non-null  int64         \n",
      " 5   m_avg_rating     1000000 non-null  float64       \n",
      " 6   user_engagement  1000000 non-null  int64         \n",
      " 7   adopters         1000000 non-null  int64         \n",
      "dtypes: datetime64[ns](1), float64(2), int64(5)\n",
      "memory usage: 61.0 MB\n"
     ]
    }
   ],
   "source": [
    "data = pd.read_csv('data/1m_useratt.csv')\n",
    "\n",
    "#for split\n",
    "data['r_date'] = data['r_date'].astype('datetime64[ns]')\n",
    "\n",
    "data.info()"
   ]
  },
  {
   "cell_type": "code",
   "execution_count": 2,
   "id": "fabeb284",
   "metadata": {},
   "outputs": [
    {
     "name": "stdout",
     "output_type": "stream",
     "text": [
      "holdout shape:  (100000, 9)\n",
      "test shape:  (200000, 9)\n",
      "train shape:  (700000, 9)\n"
     ]
    }
   ],
   "source": [
    "train = pd.read_csv('data/train_1M.csv')\n",
    "test = pd.read_csv('data/test_1M.csv')\n",
    "holdout = pd.read_csv('data/ho_1M.csv')\n",
    "\n",
    "print('holdout shape: ', holdout.shape)\n",
    "print('test shape: ', test.shape)\n",
    "print('train shape: ', train.shape)"
   ]
  },
  {
   "cell_type": "code",
   "execution_count": 3,
   "id": "0447af3d",
   "metadata": {},
   "outputs": [
    {
     "data": {
      "text/html": [
       "<div>\n",
       "<style scoped>\n",
       "    .dataframe tbody tr th:only-of-type {\n",
       "        vertical-align: middle;\n",
       "    }\n",
       "\n",
       "    .dataframe tbody tr th {\n",
       "        vertical-align: top;\n",
       "    }\n",
       "\n",
       "    .dataframe thead th {\n",
       "        text-align: right;\n",
       "    }\n",
       "</style>\n",
       "<table border=\"1\" class=\"dataframe\">\n",
       "  <thead>\n",
       "    <tr style=\"text-align: right;\">\n",
       "      <th></th>\n",
       "      <th>mid</th>\n",
       "      <th>cust_id</th>\n",
       "      <th>rating</th>\n",
       "      <th>r_date</th>\n",
       "      <th>m_decade</th>\n",
       "      <th>m_avg_rating</th>\n",
       "      <th>user_engagement</th>\n",
       "      <th>adopters</th>\n",
       "      <th>split</th>\n",
       "    </tr>\n",
       "  </thead>\n",
       "  <tbody>\n",
       "    <tr>\n",
       "      <th>0</th>\n",
       "      <td>3113</td>\n",
       "      <td>510180</td>\n",
       "      <td>3.0</td>\n",
       "      <td>1999-12-12</td>\n",
       "      <td>4</td>\n",
       "      <td>3.187192</td>\n",
       "      <td>9</td>\n",
       "      <td>1</td>\n",
       "      <td>1.0</td>\n",
       "    </tr>\n",
       "    <tr>\n",
       "      <th>1</th>\n",
       "      <td>2953</td>\n",
       "      <td>510180</td>\n",
       "      <td>5.0</td>\n",
       "      <td>1999-12-16</td>\n",
       "      <td>3</td>\n",
       "      <td>3.662879</td>\n",
       "      <td>9</td>\n",
       "      <td>1</td>\n",
       "      <td>1.0</td>\n",
       "    </tr>\n",
       "    <tr>\n",
       "      <th>2</th>\n",
       "      <td>11242</td>\n",
       "      <td>830363</td>\n",
       "      <td>3.0</td>\n",
       "      <td>1999-12-21</td>\n",
       "      <td>3</td>\n",
       "      <td>3.843621</td>\n",
       "      <td>16</td>\n",
       "      <td>1</td>\n",
       "      <td>1.0</td>\n",
       "    </tr>\n",
       "    <tr>\n",
       "      <th>3</th>\n",
       "      <td>10152</td>\n",
       "      <td>1435350</td>\n",
       "      <td>5.0</td>\n",
       "      <td>1999-12-27</td>\n",
       "      <td>4</td>\n",
       "      <td>3.870432</td>\n",
       "      <td>2</td>\n",
       "      <td>1</td>\n",
       "      <td>1.0</td>\n",
       "    </tr>\n",
       "    <tr>\n",
       "      <th>4</th>\n",
       "      <td>17499</td>\n",
       "      <td>1394647</td>\n",
       "      <td>4.0</td>\n",
       "      <td>1999-12-29</td>\n",
       "      <td>4</td>\n",
       "      <td>3.942529</td>\n",
       "      <td>7</td>\n",
       "      <td>1</td>\n",
       "      <td>1.0</td>\n",
       "    </tr>\n",
       "  </tbody>\n",
       "</table>\n",
       "</div>"
      ],
      "text/plain": [
       "     mid  cust_id  rating      r_date  m_decade  m_avg_rating   \n",
       "0   3113   510180     3.0  1999-12-12         4      3.187192  \\\n",
       "1   2953   510180     5.0  1999-12-16         3      3.662879   \n",
       "2  11242   830363     3.0  1999-12-21         3      3.843621   \n",
       "3  10152  1435350     5.0  1999-12-27         4      3.870432   \n",
       "4  17499  1394647     4.0  1999-12-29         4      3.942529   \n",
       "\n",
       "   user_engagement  adopters  split  \n",
       "0                9         1    1.0  \n",
       "1                9         1    1.0  \n",
       "2               16         1    1.0  \n",
       "3                2         1    1.0  \n",
       "4                7         1    1.0  "
      ]
     },
     "execution_count": 3,
     "metadata": {},
     "output_type": "execute_result"
    }
   ],
   "source": [
    "train.head()"
   ]
  },
  {
   "cell_type": "code",
   "execution_count": 16,
   "id": "3904f503",
   "metadata": {},
   "outputs": [
    {
     "data": {
      "text/plain": [
       "m_decade\n",
       "5    364284\n",
       "4    186429\n",
       "3     80683\n",
       "2     27997\n",
       "0     21735\n",
       "1     18872\n",
       "Name: count, dtype: int64"
      ]
     },
     "execution_count": 16,
     "metadata": {},
     "output_type": "execute_result"
    }
   ],
   "source": [
    "train['m_decade'].value_counts()"
   ]
  },
  {
   "cell_type": "code",
   "execution_count": 26,
   "id": "a5501979",
   "metadata": {},
   "outputs": [],
   "source": [
    "train['m_decade'] = train['m_decade'].replace([0], 6)\n",
    "test['m_decade'] = test['m_decade'].replace([0], 6)\n",
    "holdout['m_decade'] = holdout['m_decade'].replace([0], 6)"
   ]
  },
  {
   "cell_type": "code",
   "execution_count": 23,
   "id": "34e037cb",
   "metadata": {},
   "outputs": [
    {
     "data": {
      "text/plain": [
       "m_decade\n",
       "5    364284\n",
       "4    186429\n",
       "3     80683\n",
       "2     27997\n",
       "6     21735\n",
       "1     18872\n",
       "Name: count, dtype: int64"
      ]
     },
     "execution_count": 23,
     "metadata": {},
     "output_type": "execute_result"
    }
   ],
   "source": [
    "train['m_decade'].value_counts()"
   ]
  },
  {
   "cell_type": "code",
   "execution_count": 64,
   "id": "428f4b00",
   "metadata": {},
   "outputs": [],
   "source": [
    "reader = Reader(rating_scale=(1,5))\n",
    "\n",
    "train_data = Dataset.load_from_df(train[['cust_id','mid','rating']], reader)\n",
    "test_data = Dataset.load_from_df(test[['cust_id','mid','rating']], reader)\n",
    "ho_data = Dataset.load_from_df(holdout[['cust_id','mid','rating']], reader)\n",
    "all_data = Dataset.load_from_df(data[['cust_id','mid','rating']], reader)\n",
    "\n",
    "#correct surprise dataset format\n",
    "train_sr = train_data.build_full_trainset()\n",
    "\n",
    "test_sr1 = test_data.build_full_trainset()\n",
    "test_sr = test_sr1.build_testset()\n",
    "\n",
    "ho_sr1 = ho_data.build_full_trainset()\n",
    "ho_sr = ho_sr1.build_testset()\n",
    "\n",
    "all_sr = all_data.build_full_trainset()\n",
    "\n"
   ]
  },
  {
   "cell_type": "code",
   "execution_count": 8,
   "id": "10dc8fca",
   "metadata": {},
   "outputs": [
    {
     "name": "stdout",
     "output_type": "stream",
     "text": [
      "Computing the cosine similarity matrix...\n",
      "Done computing similarity matrix.\n",
      "RMSE: 1.2172\n",
      "MAE:  0.9481\n"
     ]
    },
    {
     "data": {
      "text/plain": [
       "0.9480793984143315"
      ]
     },
     "execution_count": 8,
     "metadata": {},
     "output_type": "execute_result"
    }
   ],
   "source": [
    "sim_dict = {'name': 'cosine', 'user_based': False}\n",
    "knn = KNNBasic(sim_options=sim_dict)\n",
    "knn.fit(train_sr)\n",
    "knn_preds = knn.test(test_sr)\n",
    "\n",
    "accuracy.rmse(knn_preds)\n",
    "accuracy.mae(knn_preds)"
   ]
  },
  {
   "cell_type": "code",
   "execution_count": 11,
   "id": "22a025a5",
   "metadata": {},
   "outputs": [
    {
     "data": {
      "text/plain": [
       "Prediction(uid=510180, iid=17499, r_ui=None, est=3.3333333333333335, details={'actual_k': 3, 'was_impossible': False})"
      ]
     },
     "execution_count": 11,
     "metadata": {},
     "output_type": "execute_result"
    }
   ],
   "source": [
    "knn.predict(510180, 17499)"
   ]
  },
  {
   "cell_type": "code",
   "execution_count": 15,
   "id": "4e38d5b7",
   "metadata": {},
   "outputs": [
    {
     "name": "stdout",
     "output_type": "stream",
     "text": [
      "Computing the cosine similarity matrix...\n",
      "Done computing similarity matrix.\n",
      "RMSE: 1.1319\n",
      "MAE:  0.8815\n"
     ]
    },
    {
     "data": {
      "text/plain": [
       "0.8815136710150847"
      ]
     },
     "execution_count": 15,
     "metadata": {},
     "output_type": "execute_result"
    }
   ],
   "source": [
    "sim_dict = {'name': 'cosine', 'user_based': False}\n",
    "knn_means = KNNWithMeans(sim_options=sim_dict)\n",
    "knn_means.fit(train_sr)\n",
    "knn_means_preds = knn_means.test(test_sr)\n",
    "\n",
    "accuracy.rmse(knn_means_preds)\n",
    "accuracy.mae(knn_means_preds)"
   ]
  },
  {
   "cell_type": "markdown",
   "id": "417988fe",
   "metadata": {},
   "source": [
    "# hybrid: rating and decade"
   ]
  },
  {
   "cell_type": "code",
   "execution_count": 13,
   "id": "d4c8f4b4",
   "metadata": {},
   "outputs": [
    {
     "name": "stdout",
     "output_type": "stream",
     "text": [
      "Estimating biases using als...\n",
      "Computing the cosine similarity matrix...\n",
      "Done computing similarity matrix.\n",
      "RMSE: 1.1191\n",
      "MAE:  0.8707\n"
     ]
    },
    {
     "data": {
      "text/plain": [
       "0.8706840387794991"
      ]
     },
     "execution_count": 13,
     "metadata": {},
     "output_type": "execute_result"
    }
   ],
   "source": [
    "sim_dict = {'name': 'cosine', 'user_based': False}\n",
    "knn_bsl = KNNBaseline(sim_options=sim_dict)\n",
    "knn_bsl.fit(train_sr)\n",
    "knn_bsl_preds = knn_bsl.test(test_sr)\n",
    "\n",
    "accuracy.rmse(knn_bsl_preds)\n",
    "accuracy.mae(knn_bsl_preds)"
   ]
  },
  {
   "cell_type": "code",
   "execution_count": 36,
   "id": "e1d16277",
   "metadata": {},
   "outputs": [],
   "source": [
    "neighbors = knn_bsl.get_neighbors(train_sr.to_inner_iid(2953), k=10)"
   ]
  },
  {
   "cell_type": "code",
   "execution_count": 37,
   "id": "24934137",
   "metadata": {},
   "outputs": [
    {
     "data": {
      "text/plain": [
       "[0, 3, 4, 9, 12, 13, 16, 18, 22, 27]"
      ]
     },
     "execution_count": 37,
     "metadata": {},
     "output_type": "execute_result"
    }
   ],
   "source": [
    "neighbors"
   ]
  },
  {
   "cell_type": "code",
   "execution_count": 31,
   "id": "63ef52d5",
   "metadata": {},
   "outputs": [
    {
     "name": "stdout",
     "output_type": "stream",
     "text": [
      "Estimating biases using als...\n",
      "Computing the cosine similarity matrix...\n",
      "Done computing similarity matrix.\n",
      "RMSE: 0.2809\n",
      "MAE:  0.1133\n"
     ]
    },
    {
     "data": {
      "text/plain": [
       "0.11333856608924349"
      ]
     },
     "execution_count": 31,
     "metadata": {},
     "output_type": "execute_result"
    }
   ],
   "source": [
    "knn_dec = KNNBaseline(sim_options=sim_dict_dec)\n",
    "knn_dec.fit(train_sr_dec)\n",
    "knn_preds_dec = knn_dec.test(test_sr_dec)\n",
    "\n",
    "accuracy.rmse(knn_preds_dec)\n",
    "accuracy.mae(knn_preds_dec)"
   ]
  },
  {
   "cell_type": "code",
   "execution_count": 39,
   "id": "5bbcf619",
   "metadata": {},
   "outputs": [
    {
     "data": {
      "text/plain": [
       "[0, 3, 4, 9, 11, 12, 13, 16, 17, 18]"
      ]
     },
     "execution_count": 39,
     "metadata": {},
     "output_type": "execute_result"
    }
   ],
   "source": [
    "neighborsd = knn_dec.get_neighbors(train_sr.to_inner_iid(2953), k=10)\n",
    "neighborsd"
   ]
  },
  {
   "cell_type": "code",
   "execution_count": 43,
   "id": "8941e6d0",
   "metadata": {},
   "outputs": [
    {
     "data": {
      "text/plain": [
       "[0, 3, 4, 9, 12, 13, 16, 18, 22, 27, 11, 17]"
      ]
     },
     "execution_count": 43,
     "metadata": {},
     "output_type": "execute_result"
    }
   ],
   "source": [
    "resulting_list = neighbors + [i for i in neighborsd if i not in neighbors]\n",
    "resulting_list"
   ]
  },
  {
   "cell_type": "code",
   "execution_count": 56,
   "id": "c9258e50",
   "metadata": {},
   "outputs": [
    {
     "data": {
      "text/plain": [
       "1428"
      ]
     },
     "execution_count": 56,
     "metadata": {},
     "output_type": "execute_result"
    }
   ],
   "source": [
    "rated = data[data['cust_id'] == 510180]['mid'].to_list()\n",
    "rated[-1]"
   ]
  },
  {
   "cell_type": "code",
   "execution_count": 57,
   "id": "5f714d89",
   "metadata": {},
   "outputs": [
    {
     "data": {
      "text/plain": [
       "[3113, 2953, 13882, 16912, 10785, 7533, 17251, 12355, 1428]"
      ]
     },
     "execution_count": 57,
     "metadata": {},
     "output_type": "execute_result"
    }
   ],
   "source": [
    "rated"
   ]
  },
  {
   "cell_type": "code",
   "execution_count": null,
   "id": "a899ea0a",
   "metadata": {},
   "outputs": [],
   "source": [
    "rating_pred = knn_bsl.predict(510150, 2953).est\n",
    "dec_pred = appear_model.predict(cust, mid).est\n",
    "        \n",
    "        # hybrid model\n",
    "v2v_pred = (rating_pred * 0.5) + (dec_pred * 0.5)"
   ]
  },
  {
   "cell_type": "code",
   "execution_count": 71,
   "id": "bb8d79d1",
   "metadata": {},
   "outputs": [],
   "source": [
    "def v2v_preds(user_list):\n",
    "    \n",
    "    '''\n",
    "    this is an unpersonalized item based recommendation\n",
    "    returns a movie that is similar to one that has been watched \n",
    "    but doesn't take into account any other user behavior\n",
    "    '''\n",
    "    \n",
    "    v2v = []\n",
    "    \n",
    "    def v2v_hybrid(cust_id):\n",
    "        \n",
    "        # last movie they rated\n",
    "        rated = data[data['cust_id'] == cust_id]['mid'].to_list()\n",
    "        mid = rated[-1]\n",
    "        \n",
    "        # neighbors from both models\n",
    "        neighbors = knn_bsl.get_neighbors(all_sr.to_inner_iid(mid), k=10)\n",
    "        neighborsd = knn_dec.get_neighbors(all_sr.to_inner_iid(mid), k=10)\n",
    "        \n",
    "        #combine lists\n",
    "        nearest_neighbors = neighbors + [i for i in neighborsd if i not in neighbors]\n",
    "\n",
    "        return [(cust_id, mid, neighbor) for neighbor in nearest_neighbors]\n",
    "    \n",
    "    #for all users get the nearest neighbors to the last movie they rated\n",
    "    for cust_id in user_list:\n",
    "        user_recs = v2v_hybrid(cust_id)\n",
    "        v2v.extend(user_recs)\n",
    "    \n",
    "    #new df of recs for analysis\n",
    "    neighbors_df = pd.DataFrame(v2v, columns=[\"cust_id\", \"mid\", 'recs'])\n",
    "    return neighbors_df"
   ]
  },
  {
   "cell_type": "code",
   "execution_count": 72,
   "id": "a722c714",
   "metadata": {},
   "outputs": [],
   "source": [
    "test_list = [305344, 2439493, 1664010, 387418, 1933293, 834542]"
   ]
  },
  {
   "cell_type": "code",
   "execution_count": 73,
   "id": "6e51f989",
   "metadata": {},
   "outputs": [],
   "source": [
    "test_df = v2v_preds(test_list)"
   ]
  },
  {
   "cell_type": "code",
   "execution_count": 74,
   "id": "35201840",
   "metadata": {},
   "outputs": [
    {
     "data": {
      "text/html": [
       "<div>\n",
       "<style scoped>\n",
       "    .dataframe tbody tr th:only-of-type {\n",
       "        vertical-align: middle;\n",
       "    }\n",
       "\n",
       "    .dataframe tbody tr th {\n",
       "        vertical-align: top;\n",
       "    }\n",
       "\n",
       "    .dataframe thead th {\n",
       "        text-align: right;\n",
       "    }\n",
       "</style>\n",
       "<table border=\"1\" class=\"dataframe\">\n",
       "  <thead>\n",
       "    <tr style=\"text-align: right;\">\n",
       "      <th></th>\n",
       "      <th>cust_id</th>\n",
       "      <th>mid</th>\n",
       "      <th>recs</th>\n",
       "    </tr>\n",
       "  </thead>\n",
       "  <tbody>\n",
       "    <tr>\n",
       "      <th>0</th>\n",
       "      <td>305344</td>\n",
       "      <td>15587</td>\n",
       "      <td>0</td>\n",
       "    </tr>\n",
       "    <tr>\n",
       "      <th>1</th>\n",
       "      <td>305344</td>\n",
       "      <td>15587</td>\n",
       "      <td>3</td>\n",
       "    </tr>\n",
       "    <tr>\n",
       "      <th>2</th>\n",
       "      <td>305344</td>\n",
       "      <td>15587</td>\n",
       "      <td>11</td>\n",
       "    </tr>\n",
       "    <tr>\n",
       "      <th>3</th>\n",
       "      <td>305344</td>\n",
       "      <td>15587</td>\n",
       "      <td>13</td>\n",
       "    </tr>\n",
       "    <tr>\n",
       "      <th>4</th>\n",
       "      <td>305344</td>\n",
       "      <td>15587</td>\n",
       "      <td>29</td>\n",
       "    </tr>\n",
       "    <tr>\n",
       "      <th>...</th>\n",
       "      <td>...</td>\n",
       "      <td>...</td>\n",
       "      <td>...</td>\n",
       "    </tr>\n",
       "    <tr>\n",
       "      <th>61</th>\n",
       "      <td>834542</td>\n",
       "      <td>15702</td>\n",
       "      <td>44</td>\n",
       "    </tr>\n",
       "    <tr>\n",
       "      <th>62</th>\n",
       "      <td>834542</td>\n",
       "      <td>15702</td>\n",
       "      <td>14</td>\n",
       "    </tr>\n",
       "    <tr>\n",
       "      <th>63</th>\n",
       "      <td>834542</td>\n",
       "      <td>15702</td>\n",
       "      <td>19</td>\n",
       "    </tr>\n",
       "    <tr>\n",
       "      <th>64</th>\n",
       "      <td>834542</td>\n",
       "      <td>15702</td>\n",
       "      <td>25</td>\n",
       "    </tr>\n",
       "    <tr>\n",
       "      <th>65</th>\n",
       "      <td>834542</td>\n",
       "      <td>15702</td>\n",
       "      <td>31</td>\n",
       "    </tr>\n",
       "  </tbody>\n",
       "</table>\n",
       "<p>66 rows × 3 columns</p>\n",
       "</div>"
      ],
      "text/plain": [
       "    cust_id    mid  recs\n",
       "0    305344  15587     0\n",
       "1    305344  15587     3\n",
       "2    305344  15587    11\n",
       "3    305344  15587    13\n",
       "4    305344  15587    29\n",
       "..      ...    ...   ...\n",
       "61   834542  15702    44\n",
       "62   834542  15702    14\n",
       "63   834542  15702    19\n",
       "64   834542  15702    25\n",
       "65   834542  15702    31\n",
       "\n",
       "[66 rows x 3 columns]"
      ]
     },
     "execution_count": 74,
     "metadata": {},
     "output_type": "execute_result"
    }
   ],
   "source": [
    "test_df"
   ]
  },
  {
   "cell_type": "code",
   "execution_count": 75,
   "id": "fd85bb64",
   "metadata": {
    "collapsed": true
   },
   "outputs": [
    {
     "data": {
      "text/plain": [
       "recs\n",
       "11      3\n",
       "0       2\n",
       "39      2\n",
       "19      2\n",
       "147     2\n",
       "93      2\n",
       "59      2\n",
       "52      2\n",
       "83      2\n",
       "29      2\n",
       "31      2\n",
       "8773    1\n",
       "97      1\n",
       "6979    1\n",
       "1       1\n",
       "5846    1\n",
       "42      1\n",
       "71      1\n",
       "95      1\n",
       "18      1\n",
       "157     1\n",
       "2       1\n",
       "12      1\n",
       "3107    1\n",
       "27      1\n",
       "34      1\n",
       "36      1\n",
       "40      1\n",
       "44      1\n",
       "14      1\n",
       "5343    1\n",
       "130     1\n",
       "1803    1\n",
       "739     1\n",
       "13      1\n",
       "32      1\n",
       "38      1\n",
       "51      1\n",
       "167     1\n",
       "173     1\n",
       "189     1\n",
       "208     1\n",
       "222     1\n",
       "285     1\n",
       "330     1\n",
       "60      1\n",
       "66      1\n",
       "82      1\n",
       "104     1\n",
       "106     1\n",
       "117     1\n",
       "3       1\n",
       "102     1\n",
       "25      1\n",
       "Name: count, dtype: int64"
      ]
     },
     "execution_count": 75,
     "metadata": {},
     "output_type": "execute_result"
    }
   ],
   "source": [
    "test_df['recs'].value_counts()"
   ]
  },
  {
   "cell_type": "code",
   "execution_count": 78,
   "id": "f5113f02",
   "metadata": {},
   "outputs": [
    {
     "data": {
      "text/plain": [
       "mid\n",
       "608      10\n",
       "1535     10\n",
       "7086     12\n",
       "10607    10\n",
       "15587    10\n",
       "15702    14\n",
       "Name: recs, dtype: int64"
      ]
     },
     "execution_count": 78,
     "metadata": {},
     "output_type": "execute_result"
    }
   ],
   "source": [
    "test_df.groupby('mid')['recs'].count()"
   ]
  },
  {
   "cell_type": "code",
   "execution_count": null,
   "id": "45f4a9b5",
   "metadata": {},
   "outputs": [],
   "source": []
  }
 ],
 "metadata": {
  "kernelspec": {
   "display_name": "Python 3 (ipykernel)",
   "language": "python",
   "name": "python3"
  },
  "language_info": {
   "codemirror_mode": {
    "name": "ipython",
    "version": 3
   },
   "file_extension": ".py",
   "mimetype": "text/x-python",
   "name": "python",
   "nbconvert_exporter": "python",
   "pygments_lexer": "ipython3",
   "version": "3.9.13"
  }
 },
 "nbformat": 4,
 "nbformat_minor": 5
}
