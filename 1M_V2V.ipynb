{
 "cells": [
  {
   "cell_type": "markdown",
   "id": "417988fe",
   "metadata": {},
   "source": [
    "# Video to Video Ranker\n",
    "### A content-filtering kNN model\n",
    "\n",
    "In order to promote content diversity, content delivery platforms usually employ models that connect users with content that is similar to what they have been exposed to already. \n",
    "\n",
    "These models are trained only to examine the similarities between the content available.\n",
    "\n",
    "In this notebook, you'll see that I've used the kNNBaseline model from the Python Surprise package to start and have left my best performing iteration from there."
   ]
  },
  {
   "cell_type": "code",
   "execution_count": 3,
   "id": "6151e024",
   "metadata": {},
   "outputs": [],
   "source": [
    "import pandas as pd\n",
    "import numpy as np\n",
    "import matplotlib.pyplot as plt\n",
    "%matplotlib inline\n",
    "import seaborn as sns\n",
    "\n",
    "import os\n",
    "from surprise import Dataset\n",
    "from surprise import Reader\n",
    "from surprise import accuracy\n",
    "from surprise import KNNBasic\n",
    "from surprise import KNNBaseline\n",
    "from surprise import KNNWithMeans"
   ]
  },
  {
   "cell_type": "code",
   "execution_count": 2,
   "id": "d37bb942",
   "metadata": {},
   "outputs": [
    {
     "data": {
      "application/javascript": [
       "if (!(\"Notification\" in window)) {\n",
       "    alert(\"This browser does not support desktop notifications, so the %%notify magic will not work.\");\n",
       "} else if (Notification.permission !== 'granted' && Notification.permission !== 'denied') {\n",
       "    Notification.requestPermission(function (permission) {\n",
       "        if(!('permission' in Notification)) {\n",
       "            Notification.permission = permission;\n",
       "        }\n",
       "    })\n",
       "}\n"
      ],
      "text/plain": [
       "<IPython.core.display.Javascript object>"
      ]
     },
     "metadata": {},
     "output_type": "display_data"
    }
   ],
   "source": [
    "#notify me when a long running cell is complete\n",
    "%load_ext jupyternotify"
   ]
  },
  {
   "cell_type": "markdown",
   "id": "4d0af0c1",
   "metadata": {},
   "source": [
    "# Import Data and Data Split\n",
    "\n",
    "If you haven't already, you can see how I split the data in the 1M_PVR Notebook."
   ]
  },
  {
   "cell_type": "code",
   "execution_count": 5,
   "id": "7b7d89e5",
   "metadata": {},
   "outputs": [
    {
     "name": "stdout",
     "output_type": "stream",
     "text": [
      "holdout shape:  (100000, 9)\n",
      "test shape:  (200000, 9)\n",
      "train shape:  (700000, 9)\n"
     ]
    }
   ],
   "source": [
    "data = pd.read_csv('data/1m_useratt_minreq.csv')\n",
    "minorityrec = pd.read_csv('data/minreq.csv')\n",
    "\n",
    "train = pd.read_csv('data/train_1M.csv')\n",
    "test = pd.read_csv('data/test_1M.csv')\n",
    "holdout = pd.read_csv('data/ho_1M.csv')\n",
    "\n",
    "print('holdout shape: ', holdout.shape)\n",
    "print('test shape: ', test.shape)\n",
    "print('train shape: ', train.shape)"
   ]
  },
  {
   "cell_type": "markdown",
   "id": "6cc942a1",
   "metadata": {},
   "source": [
    "## Preparing Data in Surprise Format"
   ]
  },
  {
   "cell_type": "code",
   "execution_count": 9,
   "id": "428f4b00",
   "metadata": {},
   "outputs": [],
   "source": [
    "reader = Reader(rating_scale=(1,5))\n",
    "\n",
    "train_data = Dataset.load_from_df(train[['cust_id','mid','rating']], reader)\n",
    "test_data = Dataset.load_from_df(test[['cust_id','mid','rating']], reader)\n",
    "ho_data = Dataset.load_from_df(holdout[['cust_id','mid','rating']], reader)\n",
    "all_data = Dataset.load_from_df(data[['cust_id','mid','rating']], reader)\n",
    "\n",
    "#correct surprise dataset format\n",
    "train_sr = train_data.build_full_trainset()\n",
    "\n",
    "test_sr1 = test_data.build_full_trainset()\n",
    "test_sr = test_sr1.build_testset()\n",
    "\n",
    "ho_sr1 = ho_data.build_full_trainset()\n",
    "ho_sr = ho_sr1.build_testset()\n",
    "\n",
    "all_sr = all_data.build_full_trainset()"
   ]
  },
  {
   "cell_type": "markdown",
   "id": "e521fb24",
   "metadata": {},
   "source": [
    "# kNN Baseline Model"
   ]
  },
  {
   "cell_type": "code",
   "execution_count": 31,
   "id": "81bd22fe",
   "metadata": {},
   "outputs": [
    {
     "name": "stdout",
     "output_type": "stream",
     "text": [
      "Estimating biases using als...\n",
      "Computing the cosine similarity matrix...\n",
      "Done computing similarity matrix.\n",
      "RMSE: 1.1191\n",
      "MAE:  0.8707\n"
     ]
    },
    {
     "data": {
      "text/plain": [
       "0.8706840387794991"
      ]
     },
     "execution_count": 31,
     "metadata": {},
     "output_type": "execute_result"
    }
   ],
   "source": [
    "sim_dict = {'name': 'cosine', 'user_based': False}\n",
    "knn_bsl1 = KNNBaseline(sim_options=sim_dict)\n",
    "knn_bsl1.fit(train_sr)\n",
    "knn_bsl1_preds = knn_bsl1.test(test_sr)\n",
    "\n",
    "accuracy.rmse(knn_bsl1_preds)\n",
    "accuracy.mae(knn_bsl1_preds)"
   ]
  },
  {
   "cell_type": "markdown",
   "id": "79bb2cb5",
   "metadata": {},
   "source": [
    "# Best Performing kNN Model"
   ]
  },
  {
   "cell_type": "code",
   "execution_count": 10,
   "id": "d4c8f4b4",
   "metadata": {},
   "outputs": [
    {
     "name": "stdout",
     "output_type": "stream",
     "text": [
      "Estimating biases using als...\n",
      "Computing the cosine similarity matrix...\n",
      "Done computing similarity matrix.\n",
      "RMSE: 0.9972\n",
      "MAE:  0.8008\n"
     ]
    },
    {
     "data": {
      "text/plain": [
       "0.8008295119623806"
      ]
     },
     "execution_count": 10,
     "metadata": {},
     "output_type": "execute_result"
    }
   ],
   "source": [
    "sim_dict = {'name': 'cosine', 'user_based': False}\n",
    "knn_bsl = KNNBaseline(min_k=5, sim_options=sim_dict)\n",
    "knn_bsl.fit(train_sr)\n",
    "knn_bsl_preds = knn_bsl.test(test_sr)\n",
    "\n",
    "accuracy.rmse(knn_bsl_preds)\n",
    "accuracy.mae(knn_bsl_preds)"
   ]
  },
  {
   "cell_type": "code",
   "execution_count": 13,
   "id": "bf274010",
   "metadata": {},
   "outputs": [
    {
     "name": "stdout",
     "output_type": "stream",
     "text": [
      "RMSE: 0.9621\n",
      "MAE:  0.7708\n"
     ]
    },
    {
     "data": {
      "text/plain": [
       "0.7708208990370433"
      ]
     },
     "execution_count": 13,
     "metadata": {},
     "output_type": "execute_result"
    }
   ],
   "source": [
    "knn_bsl_preds_ho = knn_bsl.test(ho_sr)\n",
    "\n",
    "accuracy.rmse(knn_bsl_preds_ho)\n",
    "accuracy.mae(knn_bsl_preds_ho)"
   ]
  },
  {
   "cell_type": "markdown",
   "id": "8979a05e",
   "metadata": {},
   "source": [
    "# V2V Ranker\n",
    "\n",
    "I retrain the best model using all the data and then generate a V2V Ranker based only on the last video that a user rated."
   ]
  },
  {
   "cell_type": "code",
   "execution_count": 11,
   "id": "806a1be6",
   "metadata": {},
   "outputs": [
    {
     "name": "stdout",
     "output_type": "stream",
     "text": [
      "Estimating biases using als...\n",
      "Computing the cosine similarity matrix...\n",
      "Done computing similarity matrix.\n"
     ]
    },
    {
     "data": {
      "text/plain": [
       "<surprise.prediction_algorithms.knns.KNNBaseline at 0x7fb41e520820>"
      ]
     },
     "execution_count": 11,
     "metadata": {},
     "output_type": "execute_result"
    }
   ],
   "source": [
    "#retrain on all data\n",
    "knn_bsl.fit(all_sr)"
   ]
  },
  {
   "cell_type": "code",
   "execution_count": 22,
   "id": "bb8d79d1",
   "metadata": {},
   "outputs": [],
   "source": [
    "def v2v_recs(user_list):\n",
    "    \n",
    "    '''\n",
    "    this is an unpersonalized item based recommendation\n",
    "    returns a movie that is similar to one that has been watched \n",
    "    but doesn't take into account any other user behavior\n",
    "    '''\n",
    "    \n",
    "    v2v = []\n",
    "    \n",
    "    def v2v_mod(cust_id):\n",
    "        \n",
    "        # last movie they rated\n",
    "        rated = data[data['cust_id'] == cust_id]['mid'].to_list()\n",
    "        mid = rated[-1]\n",
    "        \n",
    "        # neighbors\n",
    "        neighbors = knn_bsl.get_neighbors(all_sr.to_inner_iid(mid), k=10)\n",
    "        \n",
    "        #get raw item ids\n",
    "        item_ids = [all_sr.to_raw_iid(inner_id) for inner_id in neighbors]\n",
    "\n",
    "        #returns list of cust_id, iid, neighbor for each neighbork\n",
    "        return [(cust_id, iid, neighbor) for iid in item_ids]\n",
    "    \n",
    "    #for all users get the nearest neighbors to the last movie they rated\n",
    "    for cust_id in user_list:\n",
    "        user_recs = v2v_mod(cust_id)\n",
    "        v2v.extend(user_recs)\n",
    "    \n",
    "    #new df of recs for analysis\n",
    "    neighbors_df = pd.DataFrame(v2v, columns=[\"cust_id\", \"mid\", 'recs'])\n",
    "    return neighbors_df"
   ]
  },
  {
   "cell_type": "markdown",
   "id": "b949dbe1",
   "metadata": {},
   "source": [
    "# V2V Ranker Results"
   ]
  },
  {
   "cell_type": "code",
   "execution_count": 26,
   "id": "45f4a9b5",
   "metadata": {},
   "outputs": [
    {
     "data": {
      "text/plain": [
       "290022"
      ]
     },
     "execution_count": 26,
     "metadata": {},
     "output_type": "execute_result"
    }
   ],
   "source": [
    "#list of all users\n",
    "all_users = data['cust_id'].unique()\n",
    "len(all_users)"
   ]
  },
  {
   "cell_type": "code",
   "execution_count": 27,
   "id": "8ecd4e3d",
   "metadata": {},
   "outputs": [
    {
     "data": {
      "text/html": [
       "<div>\n",
       "<style scoped>\n",
       "    .dataframe tbody tr th:only-of-type {\n",
       "        vertical-align: middle;\n",
       "    }\n",
       "\n",
       "    .dataframe tbody tr th {\n",
       "        vertical-align: top;\n",
       "    }\n",
       "\n",
       "    .dataframe thead th {\n",
       "        text-align: right;\n",
       "    }\n",
       "</style>\n",
       "<table border=\"1\" class=\"dataframe\">\n",
       "  <thead>\n",
       "    <tr style=\"text-align: right;\">\n",
       "      <th></th>\n",
       "      <th>cust_id</th>\n",
       "      <th>mid</th>\n",
       "      <th>recs</th>\n",
       "    </tr>\n",
       "  </thead>\n",
       "  <tbody>\n",
       "    <tr>\n",
       "      <th>0</th>\n",
       "      <td>510180</td>\n",
       "      <td>1428</td>\n",
       "      <td>2</td>\n",
       "    </tr>\n",
       "    <tr>\n",
       "      <th>1</th>\n",
       "      <td>510180</td>\n",
       "      <td>1428</td>\n",
       "      <td>5</td>\n",
       "    </tr>\n",
       "    <tr>\n",
       "      <th>2</th>\n",
       "      <td>510180</td>\n",
       "      <td>1428</td>\n",
       "      <td>9</td>\n",
       "    </tr>\n",
       "    <tr>\n",
       "      <th>3</th>\n",
       "      <td>510180</td>\n",
       "      <td>1428</td>\n",
       "      <td>10</td>\n",
       "    </tr>\n",
       "    <tr>\n",
       "      <th>4</th>\n",
       "      <td>510180</td>\n",
       "      <td>1428</td>\n",
       "      <td>11</td>\n",
       "    </tr>\n",
       "  </tbody>\n",
       "</table>\n",
       "</div>"
      ],
      "text/plain": [
       "   cust_id   mid  recs\n",
       "0   510180  1428     2\n",
       "1   510180  1428     5\n",
       "2   510180  1428     9\n",
       "3   510180  1428    10\n",
       "4   510180  1428    11"
      ]
     },
     "execution_count": 27,
     "metadata": {},
     "output_type": "execute_result"
    }
   ],
   "source": [
    "v2v_df = v2v_recs(all_users)\n",
    "v2v_df.head()"
   ]
  },
  {
   "cell_type": "code",
   "execution_count": 9,
   "id": "0042ce6d",
   "metadata": {},
   "outputs": [],
   "source": [
    "v2v_df.to_csv('data/v2vrecs.csv', index=False)"
   ]
  },
  {
   "cell_type": "code",
   "execution_count": 4,
   "id": "4bac3df0",
   "metadata": {},
   "outputs": [
    {
     "data": {
      "text/html": [
       "<div>\n",
       "<style scoped>\n",
       "    .dataframe tbody tr th:only-of-type {\n",
       "        vertical-align: middle;\n",
       "    }\n",
       "\n",
       "    .dataframe tbody tr th {\n",
       "        vertical-align: top;\n",
       "    }\n",
       "\n",
       "    .dataframe thead th {\n",
       "        text-align: right;\n",
       "    }\n",
       "</style>\n",
       "<table border=\"1\" class=\"dataframe\">\n",
       "  <thead>\n",
       "    <tr style=\"text-align: right;\">\n",
       "      <th></th>\n",
       "      <th>cust_id</th>\n",
       "      <th>mid</th>\n",
       "      <th>recs</th>\n",
       "      <th>m_minreq</th>\n",
       "    </tr>\n",
       "  </thead>\n",
       "  <tbody>\n",
       "    <tr>\n",
       "      <th>0</th>\n",
       "      <td>510180</td>\n",
       "      <td>1428</td>\n",
       "      <td>2</td>\n",
       "      <td>0.0</td>\n",
       "    </tr>\n",
       "    <tr>\n",
       "      <th>1</th>\n",
       "      <td>510180</td>\n",
       "      <td>1428</td>\n",
       "      <td>5</td>\n",
       "      <td>0.0</td>\n",
       "    </tr>\n",
       "    <tr>\n",
       "      <th>2</th>\n",
       "      <td>510180</td>\n",
       "      <td>1428</td>\n",
       "      <td>9</td>\n",
       "      <td>0.0</td>\n",
       "    </tr>\n",
       "    <tr>\n",
       "      <th>3</th>\n",
       "      <td>510180</td>\n",
       "      <td>1428</td>\n",
       "      <td>10</td>\n",
       "      <td>0.0</td>\n",
       "    </tr>\n",
       "    <tr>\n",
       "      <th>4</th>\n",
       "      <td>510180</td>\n",
       "      <td>1428</td>\n",
       "      <td>11</td>\n",
       "      <td>0.0</td>\n",
       "    </tr>\n",
       "  </tbody>\n",
       "</table>\n",
       "</div>"
      ],
      "text/plain": [
       "   cust_id   mid  recs  m_minreq\n",
       "0   510180  1428     2       0.0\n",
       "1   510180  1428     5       0.0\n",
       "2   510180  1428     9       0.0\n",
       "3   510180  1428    10       0.0\n",
       "4   510180  1428    11       0.0"
      ]
     },
     "execution_count": 4,
     "metadata": {},
     "output_type": "execute_result"
    }
   ],
   "source": [
    "v2v_df = v2v_df.merge(minorityrec)\n",
    "v2v_df.head()"
   ]
  },
  {
   "cell_type": "code",
   "execution_count": 28,
   "id": "0b66afeb",
   "metadata": {},
   "outputs": [
    {
     "data": {
      "text/plain": [
       "mid\n",
       "15205    13440\n",
       "17169    11680\n",
       "5496     11040\n",
       "14550    10270\n",
       "10947    10220\n",
       "         ...  \n",
       "45          10\n",
       "6271        10\n",
       "17037       10\n",
       "2842        10\n",
       "13403       10\n",
       "Name: count, Length: 13906, dtype: int64"
      ]
     },
     "execution_count": 28,
     "metadata": {},
     "output_type": "execute_result"
    }
   ],
   "source": [
    "v2v_df['mid'].value_counts()"
   ]
  },
  {
   "cell_type": "code",
   "execution_count": 5,
   "id": "64e47649",
   "metadata": {},
   "outputs": [
    {
     "data": {
      "text/plain": [
       "m_minreq\n",
       "0.0    2388630\n",
       "1.0     511590\n",
       "Name: count, dtype: int64"
      ]
     },
     "execution_count": 5,
     "metadata": {},
     "output_type": "execute_result"
    }
   ],
   "source": [
    "v2v_df['m_minreq'].value_counts()"
   ]
  },
  {
   "cell_type": "code",
   "execution_count": 6,
   "id": "0376ead4",
   "metadata": {},
   "outputs": [
    {
     "data": {
      "text/plain": [
       "m_minreq\n",
       "0.0    0.823603\n",
       "1.0    0.176397\n",
       "Name: proportion, dtype: float64"
      ]
     },
     "execution_count": 6,
     "metadata": {},
     "output_type": "execute_result"
    }
   ],
   "source": [
    "v2v_df['m_minreq'].value_counts(normalize=True)"
   ]
  },
  {
   "cell_type": "markdown",
   "id": "7995ddd8",
   "metadata": {},
   "source": [
    "Unsurprisingly, this model performed the best in terms of content diversirty. It recommends almost 14k distinct videos and contains almost 18% instances of minority driven content."
   ]
  },
  {
   "cell_type": "markdown",
   "id": "dd74f091",
   "metadata": {},
   "source": [
    "# User #2407458\n",
    "\n",
    "Our example user was given the following results for this ranker:"
   ]
  },
  {
   "cell_type": "code",
   "execution_count": 7,
   "id": "debc3a41",
   "metadata": {},
   "outputs": [
    {
     "data": {
      "text/html": [
       "<div>\n",
       "<style scoped>\n",
       "    .dataframe tbody tr th:only-of-type {\n",
       "        vertical-align: middle;\n",
       "    }\n",
       "\n",
       "    .dataframe tbody tr th {\n",
       "        vertical-align: top;\n",
       "    }\n",
       "\n",
       "    .dataframe thead th {\n",
       "        text-align: right;\n",
       "    }\n",
       "</style>\n",
       "<table border=\"1\" class=\"dataframe\">\n",
       "  <thead>\n",
       "    <tr style=\"text-align: right;\">\n",
       "      <th></th>\n",
       "      <th>mid</th>\n",
       "      <th>cust_id</th>\n",
       "      <th>rating</th>\n",
       "      <th>r_date</th>\n",
       "      <th>m_decade</th>\n",
       "      <th>m_avg_rating</th>\n",
       "      <th>user_engagement</th>\n",
       "      <th>adopters</th>\n",
       "    </tr>\n",
       "  </thead>\n",
       "  <tbody>\n",
       "    <tr>\n",
       "      <th>309189</th>\n",
       "      <td>16128</td>\n",
       "      <td>2407458</td>\n",
       "      <td>4.0</td>\n",
       "      <td>2005-11-05</td>\n",
       "      <td>4</td>\n",
       "      <td>3.964478</td>\n",
       "      <td>4</td>\n",
       "      <td>5</td>\n",
       "    </tr>\n",
       "    <tr>\n",
       "      <th>309190</th>\n",
       "      <td>15342</td>\n",
       "      <td>2407458</td>\n",
       "      <td>3.0</td>\n",
       "      <td>2005-11-17</td>\n",
       "      <td>4</td>\n",
       "      <td>3.476331</td>\n",
       "      <td>4</td>\n",
       "      <td>5</td>\n",
       "    </tr>\n",
       "    <tr>\n",
       "      <th>309191</th>\n",
       "      <td>4157</td>\n",
       "      <td>2407458</td>\n",
       "      <td>3.0</td>\n",
       "      <td>2005-11-17</td>\n",
       "      <td>4</td>\n",
       "      <td>3.357143</td>\n",
       "      <td>4</td>\n",
       "      <td>5</td>\n",
       "    </tr>\n",
       "    <tr>\n",
       "      <th>309192</th>\n",
       "      <td>14606</td>\n",
       "      <td>2407458</td>\n",
       "      <td>3.0</td>\n",
       "      <td>2005-11-05</td>\n",
       "      <td>5</td>\n",
       "      <td>3.124744</td>\n",
       "      <td>4</td>\n",
       "      <td>5</td>\n",
       "    </tr>\n",
       "  </tbody>\n",
       "</table>\n",
       "</div>"
      ],
      "text/plain": [
       "          mid  cust_id  rating      r_date  m_decade  m_avg_rating   \n",
       "309189  16128  2407458     4.0  2005-11-05         4      3.964478  \\\n",
       "309190  15342  2407458     3.0  2005-11-17         4      3.476331   \n",
       "309191   4157  2407458     3.0  2005-11-17         4      3.357143   \n",
       "309192  14606  2407458     3.0  2005-11-05         5      3.124744   \n",
       "\n",
       "        user_engagement  adopters  \n",
       "309189                4         5  \n",
       "309190                4         5  \n",
       "309191                4         5  \n",
       "309192                4         5  "
      ]
     },
     "execution_count": 7,
     "metadata": {},
     "output_type": "execute_result"
    }
   ],
   "source": [
    "example = data[data['cust_id'] == 2407458]\n",
    "example"
   ]
  },
  {
   "cell_type": "code",
   "execution_count": 8,
   "id": "1428ac11",
   "metadata": {},
   "outputs": [
    {
     "data": {
      "text/html": [
       "<div>\n",
       "<style scoped>\n",
       "    .dataframe tbody tr th:only-of-type {\n",
       "        vertical-align: middle;\n",
       "    }\n",
       "\n",
       "    .dataframe tbody tr th {\n",
       "        vertical-align: top;\n",
       "    }\n",
       "\n",
       "    .dataframe thead th {\n",
       "        text-align: right;\n",
       "    }\n",
       "</style>\n",
       "<table border=\"1\" class=\"dataframe\">\n",
       "  <thead>\n",
       "    <tr style=\"text-align: right;\">\n",
       "      <th></th>\n",
       "      <th>cust_id</th>\n",
       "      <th>mid</th>\n",
       "      <th>recs</th>\n",
       "      <th>m_minreq</th>\n",
       "    </tr>\n",
       "  </thead>\n",
       "  <tbody>\n",
       "    <tr>\n",
       "      <th>88110</th>\n",
       "      <td>2407458</td>\n",
       "      <td>14606</td>\n",
       "      <td>0</td>\n",
       "      <td>0.0</td>\n",
       "    </tr>\n",
       "    <tr>\n",
       "      <th>88111</th>\n",
       "      <td>2407458</td>\n",
       "      <td>14606</td>\n",
       "      <td>4</td>\n",
       "      <td>0.0</td>\n",
       "    </tr>\n",
       "    <tr>\n",
       "      <th>88112</th>\n",
       "      <td>2407458</td>\n",
       "      <td>14606</td>\n",
       "      <td>7</td>\n",
       "      <td>0.0</td>\n",
       "    </tr>\n",
       "    <tr>\n",
       "      <th>88113</th>\n",
       "      <td>2407458</td>\n",
       "      <td>14606</td>\n",
       "      <td>8</td>\n",
       "      <td>0.0</td>\n",
       "    </tr>\n",
       "    <tr>\n",
       "      <th>88114</th>\n",
       "      <td>2407458</td>\n",
       "      <td>14606</td>\n",
       "      <td>11</td>\n",
       "      <td>0.0</td>\n",
       "    </tr>\n",
       "    <tr>\n",
       "      <th>88115</th>\n",
       "      <td>2407458</td>\n",
       "      <td>14606</td>\n",
       "      <td>15</td>\n",
       "      <td>0.0</td>\n",
       "    </tr>\n",
       "    <tr>\n",
       "      <th>88116</th>\n",
       "      <td>2407458</td>\n",
       "      <td>14606</td>\n",
       "      <td>22</td>\n",
       "      <td>0.0</td>\n",
       "    </tr>\n",
       "    <tr>\n",
       "      <th>88117</th>\n",
       "      <td>2407458</td>\n",
       "      <td>14606</td>\n",
       "      <td>39</td>\n",
       "      <td>0.0</td>\n",
       "    </tr>\n",
       "    <tr>\n",
       "      <th>88118</th>\n",
       "      <td>2407458</td>\n",
       "      <td>14606</td>\n",
       "      <td>45</td>\n",
       "      <td>0.0</td>\n",
       "    </tr>\n",
       "    <tr>\n",
       "      <th>88119</th>\n",
       "      <td>2407458</td>\n",
       "      <td>14606</td>\n",
       "      <td>48</td>\n",
       "      <td>0.0</td>\n",
       "    </tr>\n",
       "  </tbody>\n",
       "</table>\n",
       "</div>"
      ],
      "text/plain": [
       "       cust_id    mid  recs  m_minreq\n",
       "88110  2407458  14606     0       0.0\n",
       "88111  2407458  14606     4       0.0\n",
       "88112  2407458  14606     7       0.0\n",
       "88113  2407458  14606     8       0.0\n",
       "88114  2407458  14606    11       0.0\n",
       "88115  2407458  14606    15       0.0\n",
       "88116  2407458  14606    22       0.0\n",
       "88117  2407458  14606    39       0.0\n",
       "88118  2407458  14606    45       0.0\n",
       "88119  2407458  14606    48       0.0"
      ]
     },
     "execution_count": 8,
     "metadata": {},
     "output_type": "execute_result"
    }
   ],
   "source": [
    "v2v_example = v2v_df[(v2v_df['cust_id'] == 2407458)]\n",
    "v2v_example"
   ]
  },
  {
   "cell_type": "code",
   "execution_count": null,
   "id": "009363f6",
   "metadata": {},
   "outputs": [],
   "source": []
  },
  {
   "cell_type": "code",
   "execution_count": null,
   "id": "7f4646a4",
   "metadata": {},
   "outputs": [],
   "source": []
  },
  {
   "cell_type": "code",
   "execution_count": null,
   "id": "624dd4c8",
   "metadata": {},
   "outputs": [],
   "source": []
  },
  {
   "cell_type": "code",
   "execution_count": null,
   "id": "93de580d",
   "metadata": {},
   "outputs": [],
   "source": []
  },
  {
   "cell_type": "code",
   "execution_count": null,
   "id": "c64cf90e",
   "metadata": {},
   "outputs": [],
   "source": []
  },
  {
   "cell_type": "code",
   "execution_count": null,
   "id": "ba5e620a",
   "metadata": {},
   "outputs": [],
   "source": []
  },
  {
   "cell_type": "code",
   "execution_count": null,
   "id": "53c98e7a",
   "metadata": {},
   "outputs": [],
   "source": []
  }
 ],
 "metadata": {
  "kernelspec": {
   "display_name": "Python 3 (ipykernel)",
   "language": "python",
   "name": "python3"
  },
  "language_info": {
   "codemirror_mode": {
    "name": "ipython",
    "version": 3
   },
   "file_extension": ".py",
   "mimetype": "text/x-python",
   "name": "python",
   "nbconvert_exporter": "python",
   "pygments_lexer": "ipython3",
   "version": "3.9.13"
  }
 },
 "nbformat": 4,
 "nbformat_minor": 5
}
