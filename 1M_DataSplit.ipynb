{
 "cells": [
  {
   "cell_type": "markdown",
   "id": "085e2194",
   "metadata": {},
   "source": [
    "# Data Split\n",
    "\n",
    "The purpose of a recommender system is to predict content a user will choose, watch, and rate highly. Since future selections hinge heavily on content that has been previously watched and evaluated, time becomes an important dimension in building a model.\n",
    "\n",
    "In order to better predict how user preferences evolve with time, I employed a chronological split for each user. This is my simplified Python version of [Microsoft's](https://github.com/microsoft/recommenders) [ChronoSplit for Recommenders in pyspark](https://github.com/microsoft/recommenders/blob/main/recommenders/datasets/spark_splitters.py).\n",
    "\n",
    "Step-by-step explanation of the code below:\n",
    "1. Identify the train and holdout set size\n",
    "2. Split the data into 4 groups based on the reviews a customer has given\n",
    "    - User has >= 3 reviews: Final review will be in the holdout, 2nd to last will be in the test\n",
    "    - User has 2 reviews: Final review will be in the test set\n",
    "3. Holdout Set: A random sample of final reviews made by users who review more than 3x\n",
    "    - Ensures that the model will perform very well on frequent customers\n",
    "4. Test Set:\n",
    "    - 2nd to last reviews of those users who are in the holdout set\n",
    "    - Final reviews of those who review only twice\n",
    "5. Chronological Split: The remaining data is ordered linearly\n",
    "    - 42,612 of the latest observations are added to the test set\n",
    "5. Train Set: All remaining observations will be used to train the models"
   ]
  },
  {
   "cell_type": "code",
   "execution_count": 1,
   "id": "aface1f5",
   "metadata": {},
   "outputs": [],
   "source": [
    "import pandas as pd\n",
    "import numpy as np"
   ]
  },
  {
   "cell_type": "code",
   "execution_count": 2,
   "id": "6a8bb775",
   "metadata": {},
   "outputs": [
    {
     "data": {
      "application/javascript": [
       "if (!(\"Notification\" in window)) {\n",
       "    alert(\"This browser does not support desktop notifications, so the %%notify magic will not work.\");\n",
       "} else if (Notification.permission !== 'granted' && Notification.permission !== 'denied') {\n",
       "    Notification.requestPermission(function (permission) {\n",
       "        if(!('permission' in Notification)) {\n",
       "            Notification.permission = permission;\n",
       "        }\n",
       "    })\n",
       "}\n"
      ],
      "text/plain": [
       "<IPython.core.display.Javascript object>"
      ]
     },
     "metadata": {},
     "output_type": "display_data"
    }
   ],
   "source": [
    "#notify me when a long running cell is complete\n",
    "%load_ext jupyternotify"
   ]
  },
  {
   "cell_type": "code",
   "execution_count": 3,
   "id": "fbd0054e",
   "metadata": {},
   "outputs": [
    {
     "name": "stdout",
     "output_type": "stream",
     "text": [
      "<class 'pandas.core.frame.DataFrame'>\n",
      "RangeIndex: 1000000 entries, 0 to 999999\n",
      "Data columns (total 10 columns):\n",
      " #   Column                  Non-Null Count    Dtype         \n",
      "---  ------                  --------------    -----         \n",
      " 0   mid                     1000000 non-null  int64         \n",
      " 1   cust_id                 1000000 non-null  int64         \n",
      " 2   rating                  1000000 non-null  float64       \n",
      " 3   r_date                  1000000 non-null  datetime64[ns]\n",
      " 4   m_decade                1000000 non-null  int64         \n",
      " 5   m_avg_rating            1000000 non-null  float64       \n",
      " 6   user_engagement         1000000 non-null  int64         \n",
      " 7   cust_act_activity_rank  1000000 non-null  int64         \n",
      " 8   adopters                1000000 non-null  int64         \n",
      " 9   m_minreq                1000000 non-null  float64       \n",
      "dtypes: datetime64[ns](1), float64(3), int64(6)\n",
      "memory usage: 76.3 MB\n"
     ]
    }
   ],
   "source": [
    "data = pd.read_csv('data/1m_useratt_minreq.csv')\n",
    "minorityrec = pd.read_csv('data/minreq.csv')\n",
    "\n",
    "#for split\n",
    "data['r_date'] = data['r_date'].astype('datetime64[ns]')\n",
    "\n",
    "data.info()"
   ]
  },
  {
   "cell_type": "markdown",
   "id": "f838f38a",
   "metadata": {},
   "source": [
    "## 1. Identify Train/Test/Holdout Size"
   ]
  },
  {
   "cell_type": "code",
   "execution_count": 4,
   "id": "a1d4ff4e",
   "metadata": {},
   "outputs": [
    {
     "data": {
      "text/html": [
       "<div>\n",
       "<style scoped>\n",
       "    .dataframe tbody tr th:only-of-type {\n",
       "        vertical-align: middle;\n",
       "    }\n",
       "\n",
       "    .dataframe tbody tr th {\n",
       "        vertical-align: top;\n",
       "    }\n",
       "\n",
       "    .dataframe thead th {\n",
       "        text-align: right;\n",
       "    }\n",
       "</style>\n",
       "<table border=\"1\" class=\"dataframe\">\n",
       "  <thead>\n",
       "    <tr style=\"text-align: right;\">\n",
       "      <th></th>\n",
       "      <th>mid</th>\n",
       "      <th>cust_id</th>\n",
       "      <th>rating</th>\n",
       "      <th>r_date</th>\n",
       "      <th>m_decade</th>\n",
       "      <th>m_avg_rating</th>\n",
       "      <th>user_engagement</th>\n",
       "      <th>cust_act_activity_rank</th>\n",
       "      <th>adopters</th>\n",
       "      <th>m_minreq</th>\n",
       "    </tr>\n",
       "  </thead>\n",
       "  <tbody>\n",
       "    <tr>\n",
       "      <th>320284</th>\n",
       "      <td>13462</td>\n",
       "      <td>6</td>\n",
       "      <td>3.0</td>\n",
       "      <td>2004-11-13</td>\n",
       "      <td>5</td>\n",
       "      <td>3.340967</td>\n",
       "      <td>7</td>\n",
       "      <td>4</td>\n",
       "      <td>3</td>\n",
       "      <td>0.0</td>\n",
       "    </tr>\n",
       "    <tr>\n",
       "      <th>370521</th>\n",
       "      <td>2782</td>\n",
       "      <td>6</td>\n",
       "      <td>5.0</td>\n",
       "      <td>2004-09-15</td>\n",
       "      <td>4</td>\n",
       "      <td>4.314801</td>\n",
       "      <td>7</td>\n",
       "      <td>4</td>\n",
       "      <td>3</td>\n",
       "      <td>0.0</td>\n",
       "    </tr>\n",
       "    <tr>\n",
       "      <th>78196</th>\n",
       "      <td>15105</td>\n",
       "      <td>6</td>\n",
       "      <td>3.0</td>\n",
       "      <td>2005-12-04</td>\n",
       "      <td>4</td>\n",
       "      <td>3.581345</td>\n",
       "      <td>7</td>\n",
       "      <td>4</td>\n",
       "      <td>3</td>\n",
       "      <td>0.0</td>\n",
       "    </tr>\n",
       "    <tr>\n",
       "      <th>291435</th>\n",
       "      <td>10730</td>\n",
       "      <td>6</td>\n",
       "      <td>5.0</td>\n",
       "      <td>2004-09-15</td>\n",
       "      <td>5</td>\n",
       "      <td>3.349899</td>\n",
       "      <td>7</td>\n",
       "      <td>4</td>\n",
       "      <td>3</td>\n",
       "      <td>0.0</td>\n",
       "    </tr>\n",
       "    <tr>\n",
       "      <th>677004</th>\n",
       "      <td>6339</td>\n",
       "      <td>6</td>\n",
       "      <td>1.0</td>\n",
       "      <td>2004-09-25</td>\n",
       "      <td>4</td>\n",
       "      <td>3.659341</td>\n",
       "      <td>7</td>\n",
       "      <td>4</td>\n",
       "      <td>3</td>\n",
       "      <td>1.0</td>\n",
       "    </tr>\n",
       "  </tbody>\n",
       "</table>\n",
       "</div>"
      ],
      "text/plain": [
       "          mid  cust_id  rating     r_date  m_decade  m_avg_rating   \n",
       "320284  13462        6     3.0 2004-11-13         5      3.340967  \\\n",
       "370521   2782        6     5.0 2004-09-15         4      4.314801   \n",
       "78196   15105        6     3.0 2005-12-04         4      3.581345   \n",
       "291435  10730        6     5.0 2004-09-15         5      3.349899   \n",
       "677004   6339        6     1.0 2004-09-25         4      3.659341   \n",
       "\n",
       "        user_engagement  cust_act_activity_rank  adopters  m_minreq  \n",
       "320284                7                       4         3       0.0  \n",
       "370521                7                       4         3       0.0  \n",
       "78196                 7                       4         3       0.0  \n",
       "291435                7                       4         3       0.0  \n",
       "677004                7                       4         3       1.0  "
      ]
     },
     "execution_count": 4,
     "metadata": {},
     "output_type": "execute_result"
    }
   ],
   "source": [
    "testsize = round(len(data) * 0.2)\n",
    "hosize = round(len(data) * 0.1)\n",
    "data = data.sort_values(by=['cust_id'])\n",
    "data.head()"
   ]
  },
  {
   "cell_type": "markdown",
   "id": "0016f76c",
   "metadata": {},
   "source": [
    "## 2. Identify how many reviews a user has given"
   ]
  },
  {
   "cell_type": "code",
   "execution_count": 5,
   "id": "90460adc",
   "metadata": {},
   "outputs": [],
   "source": [
    "#splitting data into 4 groups based on how many reviews they've given\n",
    "for cust in data['cust_id'].unique():\n",
    "    i = data.index[data['cust_id'] == cust]\n",
    "    \n",
    "    #if more than 2, the final review will be in holdout, 2nd to last will be in the test\n",
    "    if len(i)> 2:\n",
    "        data.loc[i[-1], 'split'] = 4\n",
    "        data.loc[i[-2], 'split'] = 3\n",
    "        data.loc[i[:-2], 'split'] = 1\n",
    "        \n",
    "    #if 2, the final review will be in the test\n",
    "    if len(i) == 2:\n",
    "        data.loc[i[-1], 'split'] = 2\n",
    "        data.loc[i[0], 'split'] = 1\n",
    "        \n",
    "    #everyone with one review gets a linear temporal split\n",
    "    else:\n",
    "        data.loc[i[0], 'split'] = 1\n",
    "        \n",
    "#sort values by date\n",
    "data = data.sort_values(by=['r_date'])"
   ]
  },
  {
   "cell_type": "markdown",
   "id": "bad1ea86",
   "metadata": {},
   "source": [
    "## 3. Holdout Set"
   ]
  },
  {
   "cell_type": "code",
   "execution_count": 6,
   "id": "acf9a2d5",
   "metadata": {},
   "outputs": [
    {
     "data": {
      "text/html": [
       "<div>\n",
       "<style scoped>\n",
       "    .dataframe tbody tr th:only-of-type {\n",
       "        vertical-align: middle;\n",
       "    }\n",
       "\n",
       "    .dataframe tbody tr th {\n",
       "        vertical-align: top;\n",
       "    }\n",
       "\n",
       "    .dataframe thead th {\n",
       "        text-align: right;\n",
       "    }\n",
       "</style>\n",
       "<table border=\"1\" class=\"dataframe\">\n",
       "  <thead>\n",
       "    <tr style=\"text-align: right;\">\n",
       "      <th></th>\n",
       "      <th>mid</th>\n",
       "      <th>cust_id</th>\n",
       "      <th>rating</th>\n",
       "      <th>r_date</th>\n",
       "      <th>m_decade</th>\n",
       "      <th>m_avg_rating</th>\n",
       "      <th>user_engagement</th>\n",
       "      <th>cust_act_activity_rank</th>\n",
       "      <th>adopters</th>\n",
       "      <th>m_minreq</th>\n",
       "      <th>split</th>\n",
       "    </tr>\n",
       "  </thead>\n",
       "  <tbody>\n",
       "    <tr>\n",
       "      <th>153641</th>\n",
       "      <td>8596</td>\n",
       "      <td>533018</td>\n",
       "      <td>4.0</td>\n",
       "      <td>2004-10-19</td>\n",
       "      <td>4</td>\n",
       "      <td>4.129328</td>\n",
       "      <td>3</td>\n",
       "      <td>3</td>\n",
       "      <td>3</td>\n",
       "      <td>0.0</td>\n",
       "      <td>4.0</td>\n",
       "    </tr>\n",
       "    <tr>\n",
       "      <th>469815</th>\n",
       "      <td>6974</td>\n",
       "      <td>2523636</td>\n",
       "      <td>2.0</td>\n",
       "      <td>2003-07-04</td>\n",
       "      <td>4</td>\n",
       "      <td>4.403211</td>\n",
       "      <td>6</td>\n",
       "      <td>4</td>\n",
       "      <td>2</td>\n",
       "      <td>1.0</td>\n",
       "      <td>4.0</td>\n",
       "    </tr>\n",
       "    <tr>\n",
       "      <th>390996</th>\n",
       "      <td>15409</td>\n",
       "      <td>872268</td>\n",
       "      <td>4.0</td>\n",
       "      <td>2004-10-18</td>\n",
       "      <td>5</td>\n",
       "      <td>3.448441</td>\n",
       "      <td>3</td>\n",
       "      <td>3</td>\n",
       "      <td>3</td>\n",
       "      <td>0.0</td>\n",
       "      <td>4.0</td>\n",
       "    </tr>\n",
       "    <tr>\n",
       "      <th>155017</th>\n",
       "      <td>17324</td>\n",
       "      <td>1003661</td>\n",
       "      <td>5.0</td>\n",
       "      <td>2005-08-01</td>\n",
       "      <td>5</td>\n",
       "      <td>3.906130</td>\n",
       "      <td>12</td>\n",
       "      <td>5</td>\n",
       "      <td>3</td>\n",
       "      <td>1.0</td>\n",
       "      <td>4.0</td>\n",
       "    </tr>\n",
       "    <tr>\n",
       "      <th>898127</th>\n",
       "      <td>17769</td>\n",
       "      <td>1293202</td>\n",
       "      <td>1.0</td>\n",
       "      <td>2004-10-05</td>\n",
       "      <td>5</td>\n",
       "      <td>2.539474</td>\n",
       "      <td>4</td>\n",
       "      <td>3</td>\n",
       "      <td>2</td>\n",
       "      <td>0.0</td>\n",
       "      <td>4.0</td>\n",
       "    </tr>\n",
       "  </tbody>\n",
       "</table>\n",
       "</div>"
      ],
      "text/plain": [
       "          mid  cust_id  rating     r_date  m_decade  m_avg_rating   \n",
       "153641   8596   533018     4.0 2004-10-19         4      4.129328  \\\n",
       "469815   6974  2523636     2.0 2003-07-04         4      4.403211   \n",
       "390996  15409   872268     4.0 2004-10-18         5      3.448441   \n",
       "155017  17324  1003661     5.0 2005-08-01         5      3.906130   \n",
       "898127  17769  1293202     1.0 2004-10-05         5      2.539474   \n",
       "\n",
       "        user_engagement  cust_act_activity_rank  adopters  m_minreq  split  \n",
       "153641                3                       3         3       0.0    4.0  \n",
       "469815                6                       4         2       1.0    4.0  \n",
       "390996                3                       3         3       0.0    4.0  \n",
       "155017               12                       5         3       1.0    4.0  \n",
       "898127                4                       3         2       0.0    4.0  "
      ]
     },
     "execution_count": 6,
     "metadata": {},
     "output_type": "execute_result"
    }
   ],
   "source": [
    "#random sample of final reviews\n",
    "holdout = data[(data['split'] == 4)].sample(n=hosize, random_state=1)\n",
    "holdout.head()"
   ]
  },
  {
   "cell_type": "markdown",
   "id": "78275680",
   "metadata": {},
   "source": [
    "## 4. Test Set"
   ]
  },
  {
   "cell_type": "code",
   "execution_count": 7,
   "id": "90f66fdb",
   "metadata": {},
   "outputs": [
    {
     "name": "stdout",
     "output_type": "stream",
     "text": [
      "<class 'pandas.core.frame.DataFrame'>\n",
      "Index: 100000 entries, 43064 to 748396\n",
      "Data columns (total 11 columns):\n",
      " #   Column                  Non-Null Count   Dtype         \n",
      "---  ------                  --------------   -----         \n",
      " 0   mid                     100000 non-null  int64         \n",
      " 1   cust_id                 100000 non-null  int64         \n",
      " 2   rating                  100000 non-null  float64       \n",
      " 3   r_date                  100000 non-null  datetime64[ns]\n",
      " 4   m_decade                100000 non-null  int64         \n",
      " 5   m_avg_rating            100000 non-null  float64       \n",
      " 6   user_engagement         100000 non-null  int64         \n",
      " 7   cust_act_activity_rank  100000 non-null  int64         \n",
      " 8   adopters                100000 non-null  int64         \n",
      " 9   m_minreq                100000 non-null  float64       \n",
      " 10  split                   100000 non-null  float64       \n",
      "dtypes: datetime64[ns](1), float64(4), int64(6)\n",
      "memory usage: 9.2 MB\n"
     ]
    }
   ],
   "source": [
    "#if the final review is in the holdout set, the 2nd-to-last will be in the test set\n",
    "\n",
    "#new df with all 2nd to last reviews\n",
    "ho2 = data[(data['split'] == 3)]\n",
    "\n",
    "#list of all users in the holdout set\n",
    "ho_custid = holdout['cust_id'].to_list()\n",
    "\n",
    "# keep only users in the holdout using mask method\n",
    "mask = ho2['cust_id'].isin(ho_custid)\n",
    "test = ho2[mask]\n",
    "\n",
    "test.info()"
   ]
  },
  {
   "cell_type": "code",
   "execution_count": 8,
   "id": "162eac5d",
   "metadata": {},
   "outputs": [],
   "source": [
    "#using the rest of the data for train/test\n",
    "traintest = data.loc[~data.index.isin(holdout.index)]\n",
    "traintest = traintest.loc[~traintest.index.isin(test.index)]\n",
    "traintest = traintest.sort_values(by=['r_date'])"
   ]
  },
  {
   "cell_type": "code",
   "execution_count": 9,
   "id": "23e840e2",
   "metadata": {},
   "outputs": [
    {
     "name": "stdout",
     "output_type": "stream",
     "text": [
      "<class 'pandas.core.frame.DataFrame'>\n",
      "Index: 800000 entries, 0 to 997311\n",
      "Data columns (total 11 columns):\n",
      " #   Column                  Non-Null Count   Dtype         \n",
      "---  ------                  --------------   -----         \n",
      " 0   mid                     800000 non-null  int64         \n",
      " 1   cust_id                 800000 non-null  int64         \n",
      " 2   rating                  800000 non-null  float64       \n",
      " 3   r_date                  800000 non-null  datetime64[ns]\n",
      " 4   m_decade                800000 non-null  int64         \n",
      " 5   m_avg_rating            800000 non-null  float64       \n",
      " 6   user_engagement         800000 non-null  int64         \n",
      " 7   cust_act_activity_rank  800000 non-null  int64         \n",
      " 8   adopters                800000 non-null  int64         \n",
      " 9   m_minreq                800000 non-null  float64       \n",
      " 10  split                   800000 non-null  float64       \n",
      "dtypes: datetime64[ns](1), float64(4), int64(6)\n",
      "memory usage: 73.2 MB\n"
     ]
    }
   ],
   "source": [
    "#sanity check\n",
    "traintest.info()"
   ]
  },
  {
   "cell_type": "code",
   "execution_count": 10,
   "id": "44238b3f",
   "metadata": {},
   "outputs": [
    {
     "name": "stdout",
     "output_type": "stream",
     "text": [
      "<class 'pandas.core.frame.DataFrame'>\n",
      "Index: 157388 entries, 43064 to 163663\n",
      "Data columns (total 11 columns):\n",
      " #   Column                  Non-Null Count   Dtype         \n",
      "---  ------                  --------------   -----         \n",
      " 0   mid                     157388 non-null  int64         \n",
      " 1   cust_id                 157388 non-null  int64         \n",
      " 2   rating                  157388 non-null  float64       \n",
      " 3   r_date                  157388 non-null  datetime64[ns]\n",
      " 4   m_decade                157388 non-null  int64         \n",
      " 5   m_avg_rating            157388 non-null  float64       \n",
      " 6   user_engagement         157388 non-null  int64         \n",
      " 7   cust_act_activity_rank  157388 non-null  int64         \n",
      " 8   adopters                157388 non-null  int64         \n",
      " 9   m_minreq                157388 non-null  float64       \n",
      " 10  split                   157388 non-null  float64       \n",
      "dtypes: datetime64[ns](1), float64(4), int64(6)\n",
      "memory usage: 14.4 MB\n"
     ]
    }
   ],
   "source": [
    "#for reviewers who reviewed 2x, final reviews\n",
    "test2 = traintest[(traintest['split'] == 2)]\n",
    "\n",
    "#concat test\n",
    "test = pd.concat([test, test2])\n",
    "test.info()"
   ]
  },
  {
   "cell_type": "markdown",
   "id": "7e7cc4f7",
   "metadata": {},
   "source": [
    "## 5. Chronological Split"
   ]
  },
  {
   "cell_type": "code",
   "execution_count": 11,
   "id": "e0b07044",
   "metadata": {},
   "outputs": [],
   "source": [
    "#chronological split, fill in the remainder of the test size\n",
    "test_lin = traintest.loc[~traintest.index.isin(test.index)][-(testsize - len(test)):]\n",
    "test = pd.concat([test, test_lin])"
   ]
  },
  {
   "cell_type": "code",
   "execution_count": 12,
   "id": "9bec5579",
   "metadata": {},
   "outputs": [
    {
     "name": "stdout",
     "output_type": "stream",
     "text": [
      "<class 'pandas.core.frame.DataFrame'>\n",
      "Index: 200000 entries, 43064 to 997311\n",
      "Data columns (total 11 columns):\n",
      " #   Column                  Non-Null Count   Dtype         \n",
      "---  ------                  --------------   -----         \n",
      " 0   mid                     200000 non-null  int64         \n",
      " 1   cust_id                 200000 non-null  int64         \n",
      " 2   rating                  200000 non-null  float64       \n",
      " 3   r_date                  200000 non-null  datetime64[ns]\n",
      " 4   m_decade                200000 non-null  int64         \n",
      " 5   m_avg_rating            200000 non-null  float64       \n",
      " 6   user_engagement         200000 non-null  int64         \n",
      " 7   cust_act_activity_rank  200000 non-null  int64         \n",
      " 8   adopters                200000 non-null  int64         \n",
      " 9   m_minreq                200000 non-null  float64       \n",
      " 10  split                   200000 non-null  float64       \n",
      "dtypes: datetime64[ns](1), float64(4), int64(6)\n",
      "memory usage: 18.3 MB\n"
     ]
    }
   ],
   "source": [
    "#sanity check\n",
    "test.info()"
   ]
  },
  {
   "cell_type": "markdown",
   "id": "81c61a97",
   "metadata": {},
   "source": [
    "## 6. Train Set"
   ]
  },
  {
   "cell_type": "code",
   "execution_count": 14,
   "id": "3df2c2c5",
   "metadata": {},
   "outputs": [
    {
     "name": "stdout",
     "output_type": "stream",
     "text": [
      "holdout shape:  (100000, 11)\n",
      "test shape:  (200000, 11)\n",
      "train shape:  (700000, 11)\n"
     ]
    }
   ],
   "source": [
    "#remainder in train\n",
    "train = traintest.loc[~traintest.index.isin(test.index)]\n",
    "\n",
    "print('holdout shape: ', holdout.shape)\n",
    "print('test shape: ', test.shape)\n",
    "print('train shape: ', train.shape)"
   ]
  },
  {
   "cell_type": "markdown",
   "id": "135efabc",
   "metadata": {},
   "source": [
    "Because this code usually takes a long time to run, I have exported the splits as separate .csv files to make using the data easier."
   ]
  },
  {
   "cell_type": "code",
   "execution_count": 15,
   "id": "25782d87",
   "metadata": {},
   "outputs": [],
   "source": [
    "train.to_csv('data/train_1M.csv', index = False)\n",
    "test.to_csv('data/test_1M.csv', index=False)\n",
    "holdout.to_csv('data/ho_1M.csv', index=False)"
   ]
  },
  {
   "cell_type": "code",
   "execution_count": 16,
   "id": "bc1186b4",
   "metadata": {},
   "outputs": [
    {
     "data": {
      "text/html": [
       "<div>\n",
       "<style scoped>\n",
       "    .dataframe tbody tr th:only-of-type {\n",
       "        vertical-align: middle;\n",
       "    }\n",
       "\n",
       "    .dataframe tbody tr th {\n",
       "        vertical-align: top;\n",
       "    }\n",
       "\n",
       "    .dataframe thead th {\n",
       "        text-align: right;\n",
       "    }\n",
       "</style>\n",
       "<table border=\"1\" class=\"dataframe\">\n",
       "  <thead>\n",
       "    <tr style=\"text-align: right;\">\n",
       "      <th></th>\n",
       "      <th>mid</th>\n",
       "      <th>cust_id</th>\n",
       "      <th>rating</th>\n",
       "      <th>r_date</th>\n",
       "      <th>m_decade</th>\n",
       "      <th>m_avg_rating</th>\n",
       "      <th>user_engagement</th>\n",
       "      <th>cust_act_activity_rank</th>\n",
       "      <th>adopters</th>\n",
       "      <th>m_minreq</th>\n",
       "      <th>split</th>\n",
       "    </tr>\n",
       "  </thead>\n",
       "  <tbody>\n",
       "    <tr>\n",
       "      <th>43064</th>\n",
       "      <td>16438</td>\n",
       "      <td>882798</td>\n",
       "      <td>4.0</td>\n",
       "      <td>1999-12-30</td>\n",
       "      <td>4</td>\n",
       "      <td>3.732673</td>\n",
       "      <td>4</td>\n",
       "      <td>3</td>\n",
       "      <td>1</td>\n",
       "      <td>0.0</td>\n",
       "      <td>3.0</td>\n",
       "    </tr>\n",
       "    <tr>\n",
       "      <th>89202</th>\n",
       "      <td>15894</td>\n",
       "      <td>422071</td>\n",
       "      <td>3.0</td>\n",
       "      <td>1999-12-30</td>\n",
       "      <td>4</td>\n",
       "      <td>3.475410</td>\n",
       "      <td>7</td>\n",
       "      <td>4</td>\n",
       "      <td>1</td>\n",
       "      <td>0.0</td>\n",
       "      <td>3.0</td>\n",
       "    </tr>\n",
       "    <tr>\n",
       "      <th>452139</th>\n",
       "      <td>15455</td>\n",
       "      <td>2522229</td>\n",
       "      <td>4.0</td>\n",
       "      <td>1999-12-31</td>\n",
       "      <td>4</td>\n",
       "      <td>3.526316</td>\n",
       "      <td>8</td>\n",
       "      <td>4</td>\n",
       "      <td>1</td>\n",
       "      <td>0.0</td>\n",
       "      <td>3.0</td>\n",
       "    </tr>\n",
       "    <tr>\n",
       "      <th>964459</th>\n",
       "      <td>15599</td>\n",
       "      <td>802939</td>\n",
       "      <td>3.0</td>\n",
       "      <td>2000-01-05</td>\n",
       "      <td>2</td>\n",
       "      <td>3.333333</td>\n",
       "      <td>4</td>\n",
       "      <td>3</td>\n",
       "      <td>1</td>\n",
       "      <td>0.0</td>\n",
       "      <td>3.0</td>\n",
       "    </tr>\n",
       "    <tr>\n",
       "      <th>748729</th>\n",
       "      <td>9635</td>\n",
       "      <td>1611303</td>\n",
       "      <td>2.0</td>\n",
       "      <td>2000-01-05</td>\n",
       "      <td>4</td>\n",
       "      <td>3.531250</td>\n",
       "      <td>10</td>\n",
       "      <td>4</td>\n",
       "      <td>1</td>\n",
       "      <td>0.0</td>\n",
       "      <td>3.0</td>\n",
       "    </tr>\n",
       "    <tr>\n",
       "      <th>...</th>\n",
       "      <td>...</td>\n",
       "      <td>...</td>\n",
       "      <td>...</td>\n",
       "      <td>...</td>\n",
       "      <td>...</td>\n",
       "      <td>...</td>\n",
       "      <td>...</td>\n",
       "      <td>...</td>\n",
       "      <td>...</td>\n",
       "      <td>...</td>\n",
       "      <td>...</td>\n",
       "    </tr>\n",
       "    <tr>\n",
       "      <th>613135</th>\n",
       "      <td>16377</td>\n",
       "      <td>2034915</td>\n",
       "      <td>5.0</td>\n",
       "      <td>2005-12-31</td>\n",
       "      <td>5</td>\n",
       "      <td>4.319194</td>\n",
       "      <td>2</td>\n",
       "      <td>2</td>\n",
       "      <td>5</td>\n",
       "      <td>0.0</td>\n",
       "      <td>1.0</td>\n",
       "    </tr>\n",
       "    <tr>\n",
       "      <th>906727</th>\n",
       "      <td>15463</td>\n",
       "      <td>1953749</td>\n",
       "      <td>5.0</td>\n",
       "      <td>2005-12-31</td>\n",
       "      <td>4</td>\n",
       "      <td>3.466667</td>\n",
       "      <td>3</td>\n",
       "      <td>3</td>\n",
       "      <td>4</td>\n",
       "      <td>0.0</td>\n",
       "      <td>1.0</td>\n",
       "    </tr>\n",
       "    <tr>\n",
       "      <th>997371</th>\n",
       "      <td>17750</td>\n",
       "      <td>1148389</td>\n",
       "      <td>2.0</td>\n",
       "      <td>2005-12-31</td>\n",
       "      <td>5</td>\n",
       "      <td>3.500000</td>\n",
       "      <td>15</td>\n",
       "      <td>5</td>\n",
       "      <td>3</td>\n",
       "      <td>0.0</td>\n",
       "      <td>1.0</td>\n",
       "    </tr>\n",
       "    <tr>\n",
       "      <th>861147</th>\n",
       "      <td>5908</td>\n",
       "      <td>1151752</td>\n",
       "      <td>5.0</td>\n",
       "      <td>2005-12-31</td>\n",
       "      <td>0</td>\n",
       "      <td>3.563380</td>\n",
       "      <td>19</td>\n",
       "      <td>5</td>\n",
       "      <td>4</td>\n",
       "      <td>0.0</td>\n",
       "      <td>1.0</td>\n",
       "    </tr>\n",
       "    <tr>\n",
       "      <th>997311</th>\n",
       "      <td>10031</td>\n",
       "      <td>1835727</td>\n",
       "      <td>1.0</td>\n",
       "      <td>2005-12-31</td>\n",
       "      <td>4</td>\n",
       "      <td>3.666667</td>\n",
       "      <td>5</td>\n",
       "      <td>4</td>\n",
       "      <td>5</td>\n",
       "      <td>0.0</td>\n",
       "      <td>1.0</td>\n",
       "    </tr>\n",
       "  </tbody>\n",
       "</table>\n",
       "<p>200000 rows × 11 columns</p>\n",
       "</div>"
      ],
      "text/plain": [
       "          mid  cust_id  rating     r_date  m_decade  m_avg_rating   \n",
       "43064   16438   882798     4.0 1999-12-30         4      3.732673  \\\n",
       "89202   15894   422071     3.0 1999-12-30         4      3.475410   \n",
       "452139  15455  2522229     4.0 1999-12-31         4      3.526316   \n",
       "964459  15599   802939     3.0 2000-01-05         2      3.333333   \n",
       "748729   9635  1611303     2.0 2000-01-05         4      3.531250   \n",
       "...       ...      ...     ...        ...       ...           ...   \n",
       "613135  16377  2034915     5.0 2005-12-31         5      4.319194   \n",
       "906727  15463  1953749     5.0 2005-12-31         4      3.466667   \n",
       "997371  17750  1148389     2.0 2005-12-31         5      3.500000   \n",
       "861147   5908  1151752     5.0 2005-12-31         0      3.563380   \n",
       "997311  10031  1835727     1.0 2005-12-31         4      3.666667   \n",
       "\n",
       "        user_engagement  cust_act_activity_rank  adopters  m_minreq  split  \n",
       "43064                 4                       3         1       0.0    3.0  \n",
       "89202                 7                       4         1       0.0    3.0  \n",
       "452139                8                       4         1       0.0    3.0  \n",
       "964459                4                       3         1       0.0    3.0  \n",
       "748729               10                       4         1       0.0    3.0  \n",
       "...                 ...                     ...       ...       ...    ...  \n",
       "613135                2                       2         5       0.0    1.0  \n",
       "906727                3                       3         4       0.0    1.0  \n",
       "997371               15                       5         3       0.0    1.0  \n",
       "861147               19                       5         4       0.0    1.0  \n",
       "997311                5                       4         5       0.0    1.0  \n",
       "\n",
       "[200000 rows x 11 columns]"
      ]
     },
     "execution_count": 16,
     "metadata": {},
     "output_type": "execute_result"
    }
   ],
   "source": [
    "test"
   ]
  },
  {
   "cell_type": "code",
   "execution_count": 17,
   "id": "14497de5",
   "metadata": {},
   "outputs": [
    {
     "data": {
      "text/plain": [
       "split\n",
       "3.0    101655\n",
       "2.0     57388\n",
       "1.0     39325\n",
       "4.0      1632\n",
       "Name: count, dtype: int64"
      ]
     },
     "execution_count": 17,
     "metadata": {},
     "output_type": "execute_result"
    }
   ],
   "source": [
    "test['split'].value_counts()"
   ]
  },
  {
   "cell_type": "code",
   "execution_count": 18,
   "id": "69002284",
   "metadata": {},
   "outputs": [
    {
     "data": {
      "text/plain": [
       "split\n",
       "1.0    646921\n",
       "4.0     26551\n",
       "3.0     26528\n",
       "Name: count, dtype: int64"
      ]
     },
     "execution_count": 18,
     "metadata": {},
     "output_type": "execute_result"
    }
   ],
   "source": [
    "train['split'].value_counts()"
   ]
  },
  {
   "cell_type": "code",
   "execution_count": null,
   "id": "517d5a16",
   "metadata": {},
   "outputs": [],
   "source": []
  }
 ],
 "metadata": {
  "kernelspec": {
   "display_name": "Python 3 (ipykernel)",
   "language": "python",
   "name": "python3"
  },
  "language_info": {
   "codemirror_mode": {
    "name": "ipython",
    "version": 3
   },
   "file_extension": ".py",
   "mimetype": "text/x-python",
   "name": "python",
   "nbconvert_exporter": "python",
   "pygments_lexer": "ipython3",
   "version": "3.9.13"
  }
 },
 "nbformat": 4,
 "nbformat_minor": 5
}
