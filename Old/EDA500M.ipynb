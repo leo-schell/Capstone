{
 "cells": [
  {
   "cell_type": "code",
   "execution_count": 1,
   "id": "9a78b02e",
   "metadata": {},
   "outputs": [],
   "source": [
    "import pandas as pd\n",
    "from pandas import Grouper\n",
    "import numpy as np\n",
    "import matplotlib.pyplot as plt\n",
    "%matplotlib inline\n",
    "import seaborn as sns\n",
    "\n",
    "import random\n",
    "from random import sample"
   ]
  },
  {
   "cell_type": "code",
   "execution_count": 2,
   "id": "83d761ac",
   "metadata": {},
   "outputs": [
    {
     "data": {
      "application/javascript": [
       "if (!(\"Notification\" in window)) {\n",
       "    alert(\"This browser does not support desktop notifications, so the %%notify magic will not work.\");\n",
       "} else if (Notification.permission !== 'granted' && Notification.permission !== 'denied') {\n",
       "    Notification.requestPermission(function (permission) {\n",
       "        if(!('permission' in Notification)) {\n",
       "            Notification.permission = permission;\n",
       "        }\n",
       "    })\n",
       "}\n"
      ],
      "text/plain": [
       "<IPython.core.display.Javascript object>"
      ]
     },
     "metadata": {},
     "output_type": "display_data"
    }
   ],
   "source": [
    "\n",
    "#notify me when a long running cell is complete\n",
    "%load_ext jupyternotify\n",
    "import time"
   ]
  },
  {
   "cell_type": "code",
   "execution_count": 3,
   "id": "0370b072",
   "metadata": {},
   "outputs": [
    {
     "name": "stderr",
     "output_type": "stream",
     "text": [
      "/var/folders/xc/4fn08svj2dgdk_3wj3xkp_rr0000gn/T/ipykernel_18285/3666075594.py:1: ParserWarning: Length of header or names does not match length of data. This leads to a loss of data with index_col=False.\n",
      "  content = pd.read_csv('data/movie_titles3.csv', index_col=False, names = ['id', 'year', 'title'])\n"
     ]
    },
    {
     "data": {
      "text/html": [
       "<div>\n",
       "<style scoped>\n",
       "    .dataframe tbody tr th:only-of-type {\n",
       "        vertical-align: middle;\n",
       "    }\n",
       "\n",
       "    .dataframe tbody tr th {\n",
       "        vertical-align: top;\n",
       "    }\n",
       "\n",
       "    .dataframe thead th {\n",
       "        text-align: right;\n",
       "    }\n",
       "</style>\n",
       "<table border=\"1\" class=\"dataframe\">\n",
       "  <thead>\n",
       "    <tr style=\"text-align: right;\">\n",
       "      <th></th>\n",
       "      <th>id</th>\n",
       "      <th>year</th>\n",
       "      <th>title</th>\n",
       "    </tr>\n",
       "  </thead>\n",
       "  <tbody>\n",
       "    <tr>\n",
       "      <th>0</th>\n",
       "      <td>1</td>\n",
       "      <td>2003.0</td>\n",
       "      <td>Dinosaur Planet</td>\n",
       "    </tr>\n",
       "    <tr>\n",
       "      <th>1</th>\n",
       "      <td>2</td>\n",
       "      <td>2004.0</td>\n",
       "      <td>Isle of Man TT 2004 Review</td>\n",
       "    </tr>\n",
       "    <tr>\n",
       "      <th>2</th>\n",
       "      <td>3</td>\n",
       "      <td>1997.0</td>\n",
       "      <td>Character</td>\n",
       "    </tr>\n",
       "    <tr>\n",
       "      <th>3</th>\n",
       "      <td>4</td>\n",
       "      <td>1994.0</td>\n",
       "      <td>Paula Abdul's Get Up &amp; Dance</td>\n",
       "    </tr>\n",
       "    <tr>\n",
       "      <th>4</th>\n",
       "      <td>5</td>\n",
       "      <td>2004.0</td>\n",
       "      <td>The Rise and Fall of ECW</td>\n",
       "    </tr>\n",
       "  </tbody>\n",
       "</table>\n",
       "</div>"
      ],
      "text/plain": [
       "   id    year                         title\n",
       "0   1  2003.0               Dinosaur Planet\n",
       "1   2  2004.0    Isle of Man TT 2004 Review\n",
       "2   3  1997.0                     Character\n",
       "3   4  1994.0  Paula Abdul's Get Up & Dance\n",
       "4   5  2004.0      The Rise and Fall of ECW"
      ]
     },
     "execution_count": 3,
     "metadata": {},
     "output_type": "execute_result"
    }
   ],
   "source": [
    "content = pd.read_csv('data/movie_titles3.csv', index_col=False, names = ['id', 'year', 'title'])\n",
    "content.head()"
   ]
  },
  {
   "cell_type": "code",
   "execution_count": 4,
   "id": "9349adc0",
   "metadata": {},
   "outputs": [
    {
     "data": {
      "text/plain": [
       "count    17763.000000\n",
       "mean      1990.263694\n",
       "std         16.507891\n",
       "min       1896.000000\n",
       "25%       1985.000000\n",
       "50%       1997.000000\n",
       "75%       2002.000000\n",
       "max       2005.000000\n",
       "Name: year, dtype: float64"
      ]
     },
     "execution_count": 4,
     "metadata": {},
     "output_type": "execute_result"
    }
   ],
   "source": [
    "content['year'].describe()"
   ]
  },
  {
   "cell_type": "code",
   "execution_count": 5,
   "id": "70f7312c",
   "metadata": {},
   "outputs": [
    {
     "name": "stdout",
     "output_type": "stream",
     "text": [
      "<class 'pandas.core.frame.DataFrame'>\n",
      "RangeIndex: 17770 entries, 0 to 17769\n",
      "Data columns (total 3 columns):\n",
      " #   Column  Non-Null Count  Dtype  \n",
      "---  ------  --------------  -----  \n",
      " 0   id      17770 non-null  int64  \n",
      " 1   year    17763 non-null  float64\n",
      " 2   title   17770 non-null  object \n",
      "dtypes: float64(1), int64(1), object(1)\n",
      "memory usage: 416.6+ KB\n"
     ]
    }
   ],
   "source": [
    "content.info()"
   ]
  },
  {
   "cell_type": "markdown",
   "id": "9a457642",
   "metadata": {},
   "source": [
    "# Year Release\n",
    "\n",
    "There are a few missing years - adding those in.\n",
    "\n",
    "I'm assuming that people identify heavily with the content that they grew up with or a certain styles of content. For that reason, I'm going to bin films by decade.\n",
    "\n",
    "However, considering the low outliers anything before 1960 will be binned together. Q1 - 1.5IQR"
   ]
  },
  {
   "cell_type": "code",
   "execution_count": 6,
   "id": "a7089a26",
   "metadata": {
    "scrolled": true
   },
   "outputs": [
    {
     "data": {
      "text/html": [
       "<div>\n",
       "<style scoped>\n",
       "    .dataframe tbody tr th:only-of-type {\n",
       "        vertical-align: middle;\n",
       "    }\n",
       "\n",
       "    .dataframe tbody tr th {\n",
       "        vertical-align: top;\n",
       "    }\n",
       "\n",
       "    .dataframe thead th {\n",
       "        text-align: right;\n",
       "    }\n",
       "</style>\n",
       "<table border=\"1\" class=\"dataframe\">\n",
       "  <thead>\n",
       "    <tr style=\"text-align: right;\">\n",
       "      <th></th>\n",
       "      <th>id</th>\n",
       "      <th>year</th>\n",
       "      <th>title</th>\n",
       "    </tr>\n",
       "  </thead>\n",
       "  <tbody>\n",
       "    <tr>\n",
       "      <th>4387</th>\n",
       "      <td>4388</td>\n",
       "      <td>NaN</td>\n",
       "      <td>Ancient Civilizations: Rome and Pompeii</td>\n",
       "    </tr>\n",
       "    <tr>\n",
       "      <th>4793</th>\n",
       "      <td>4794</td>\n",
       "      <td>NaN</td>\n",
       "      <td>Ancient Civilizations: Land of the Pharaohs</td>\n",
       "    </tr>\n",
       "    <tr>\n",
       "      <th>7240</th>\n",
       "      <td>7241</td>\n",
       "      <td>NaN</td>\n",
       "      <td>Ancient Civilizations: Athens and Greece</td>\n",
       "    </tr>\n",
       "    <tr>\n",
       "      <th>10781</th>\n",
       "      <td>10782</td>\n",
       "      <td>NaN</td>\n",
       "      <td>Roti Kapada Aur Makaan</td>\n",
       "    </tr>\n",
       "    <tr>\n",
       "      <th>15917</th>\n",
       "      <td>15918</td>\n",
       "      <td>NaN</td>\n",
       "      <td>Hote Hote Pyaar Ho Gaya</td>\n",
       "    </tr>\n",
       "    <tr>\n",
       "      <th>16677</th>\n",
       "      <td>16678</td>\n",
       "      <td>NaN</td>\n",
       "      <td>Jimmy Hollywood</td>\n",
       "    </tr>\n",
       "    <tr>\n",
       "      <th>17666</th>\n",
       "      <td>17667</td>\n",
       "      <td>NaN</td>\n",
       "      <td>Eros Dance Dhamaka</td>\n",
       "    </tr>\n",
       "  </tbody>\n",
       "</table>\n",
       "</div>"
      ],
      "text/plain": [
       "          id  year                                        title\n",
       "4387    4388   NaN      Ancient Civilizations: Rome and Pompeii\n",
       "4793    4794   NaN  Ancient Civilizations: Land of the Pharaohs\n",
       "7240    7241   NaN     Ancient Civilizations: Athens and Greece\n",
       "10781  10782   NaN                       Roti Kapada Aur Makaan\n",
       "15917  15918   NaN                      Hote Hote Pyaar Ho Gaya\n",
       "16677  16678   NaN                              Jimmy Hollywood\n",
       "17666  17667   NaN                           Eros Dance Dhamaka"
      ]
     },
     "execution_count": 6,
     "metadata": {},
     "output_type": "execute_result"
    }
   ],
   "source": [
    "content[content['year'].isna()]"
   ]
  },
  {
   "cell_type": "code",
   "execution_count": 7,
   "id": "1cc5af99",
   "metadata": {},
   "outputs": [
    {
     "data": {
      "text/html": [
       "<div>\n",
       "<style scoped>\n",
       "    .dataframe tbody tr th:only-of-type {\n",
       "        vertical-align: middle;\n",
       "    }\n",
       "\n",
       "    .dataframe tbody tr th {\n",
       "        vertical-align: top;\n",
       "    }\n",
       "\n",
       "    .dataframe thead th {\n",
       "        text-align: right;\n",
       "    }\n",
       "</style>\n",
       "<table border=\"1\" class=\"dataframe\">\n",
       "  <thead>\n",
       "    <tr style=\"text-align: right;\">\n",
       "      <th></th>\n",
       "      <th>id</th>\n",
       "      <th>year</th>\n",
       "      <th>title</th>\n",
       "    </tr>\n",
       "  </thead>\n",
       "  <tbody>\n",
       "  </tbody>\n",
       "</table>\n",
       "</div>"
      ],
      "text/plain": [
       "Empty DataFrame\n",
       "Columns: [id, year, title]\n",
       "Index: []"
      ]
     },
     "execution_count": 7,
     "metadata": {},
     "output_type": "execute_result"
    }
   ],
   "source": [
    "#fix year\n",
    "content.at[4387,'year']=2002\n",
    "content.at[4793,'year']=2002\n",
    "content.at[7240,'year']=2002\n",
    "content.at[10781,'year']=1974\n",
    "content.at[15917,'year']=1999\n",
    "content.at[16677,'year']=1994\n",
    "content.at[17666,'year']=1999\n",
    "\n",
    "#check\n",
    "content[content['year'].isna()]"
   ]
  },
  {
   "cell_type": "code",
   "execution_count": 8,
   "id": "0066fd7f",
   "metadata": {},
   "outputs": [],
   "source": [
    "def decade(row):\n",
    "    \n",
    "    \"\"\"\n",
    "    bins years by decade, 1959 and before are binned together\n",
    "    \"\"\"\n",
    "    if row['year'] <= 1959:\n",
    "        return 0\n",
    "    elif 1960 <= row['year'] < 1969:\n",
    "        return 1\n",
    "    elif 1970 <= row['year'] < 1979:\n",
    "        return 2\n",
    "    elif 1980 <= row['year'] < 1989:\n",
    "        return 3\n",
    "    elif 1990 <= row['year'] < 1999:\n",
    "        return 4\n",
    "    else:\n",
    "        return 5"
   ]
  },
  {
   "cell_type": "code",
   "execution_count": 9,
   "id": "13667d22",
   "metadata": {},
   "outputs": [
    {
     "data": {
      "text/html": [
       "<div>\n",
       "<style scoped>\n",
       "    .dataframe tbody tr th:only-of-type {\n",
       "        vertical-align: middle;\n",
       "    }\n",
       "\n",
       "    .dataframe tbody tr th {\n",
       "        vertical-align: top;\n",
       "    }\n",
       "\n",
       "    .dataframe thead th {\n",
       "        text-align: right;\n",
       "    }\n",
       "</style>\n",
       "<table border=\"1\" class=\"dataframe\">\n",
       "  <thead>\n",
       "    <tr style=\"text-align: right;\">\n",
       "      <th></th>\n",
       "      <th>id</th>\n",
       "      <th>year</th>\n",
       "      <th>title</th>\n",
       "      <th>decade</th>\n",
       "    </tr>\n",
       "  </thead>\n",
       "  <tbody>\n",
       "    <tr>\n",
       "      <th>0</th>\n",
       "      <td>1</td>\n",
       "      <td>2003.0</td>\n",
       "      <td>Dinosaur Planet</td>\n",
       "      <td>5</td>\n",
       "    </tr>\n",
       "    <tr>\n",
       "      <th>1</th>\n",
       "      <td>2</td>\n",
       "      <td>2004.0</td>\n",
       "      <td>Isle of Man TT 2004 Review</td>\n",
       "      <td>5</td>\n",
       "    </tr>\n",
       "    <tr>\n",
       "      <th>2</th>\n",
       "      <td>3</td>\n",
       "      <td>1997.0</td>\n",
       "      <td>Character</td>\n",
       "      <td>4</td>\n",
       "    </tr>\n",
       "    <tr>\n",
       "      <th>3</th>\n",
       "      <td>4</td>\n",
       "      <td>1994.0</td>\n",
       "      <td>Paula Abdul's Get Up &amp; Dance</td>\n",
       "      <td>4</td>\n",
       "    </tr>\n",
       "    <tr>\n",
       "      <th>4</th>\n",
       "      <td>5</td>\n",
       "      <td>2004.0</td>\n",
       "      <td>The Rise and Fall of ECW</td>\n",
       "      <td>5</td>\n",
       "    </tr>\n",
       "    <tr>\n",
       "      <th>...</th>\n",
       "      <td>...</td>\n",
       "      <td>...</td>\n",
       "      <td>...</td>\n",
       "      <td>...</td>\n",
       "    </tr>\n",
       "    <tr>\n",
       "      <th>17765</th>\n",
       "      <td>17766</td>\n",
       "      <td>2002.0</td>\n",
       "      <td>Where the Wild Things Are and Other Maurice Se...</td>\n",
       "      <td>5</td>\n",
       "    </tr>\n",
       "    <tr>\n",
       "      <th>17766</th>\n",
       "      <td>17767</td>\n",
       "      <td>2004.0</td>\n",
       "      <td>Fidel Castro: American Experience</td>\n",
       "      <td>5</td>\n",
       "    </tr>\n",
       "    <tr>\n",
       "      <th>17767</th>\n",
       "      <td>17768</td>\n",
       "      <td>2000.0</td>\n",
       "      <td>Epoch</td>\n",
       "      <td>5</td>\n",
       "    </tr>\n",
       "    <tr>\n",
       "      <th>17768</th>\n",
       "      <td>17769</td>\n",
       "      <td>2003.0</td>\n",
       "      <td>The Company</td>\n",
       "      <td>5</td>\n",
       "    </tr>\n",
       "    <tr>\n",
       "      <th>17769</th>\n",
       "      <td>17770</td>\n",
       "      <td>2003.0</td>\n",
       "      <td>Alien Hunter</td>\n",
       "      <td>5</td>\n",
       "    </tr>\n",
       "  </tbody>\n",
       "</table>\n",
       "<p>17770 rows × 4 columns</p>\n",
       "</div>"
      ],
      "text/plain": [
       "          id    year                                              title   \n",
       "0          1  2003.0                                    Dinosaur Planet  \\\n",
       "1          2  2004.0                         Isle of Man TT 2004 Review   \n",
       "2          3  1997.0                                          Character   \n",
       "3          4  1994.0                       Paula Abdul's Get Up & Dance   \n",
       "4          5  2004.0                           The Rise and Fall of ECW   \n",
       "...      ...     ...                                                ...   \n",
       "17765  17766  2002.0  Where the Wild Things Are and Other Maurice Se...   \n",
       "17766  17767  2004.0                  Fidel Castro: American Experience   \n",
       "17767  17768  2000.0                                              Epoch   \n",
       "17768  17769  2003.0                                        The Company   \n",
       "17769  17770  2003.0                                       Alien Hunter   \n",
       "\n",
       "       decade  \n",
       "0           5  \n",
       "1           5  \n",
       "2           4  \n",
       "3           4  \n",
       "4           5  \n",
       "...       ...  \n",
       "17765       5  \n",
       "17766       5  \n",
       "17767       5  \n",
       "17768       5  \n",
       "17769       5  \n",
       "\n",
       "[17770 rows x 4 columns]"
      ]
     },
     "execution_count": 9,
     "metadata": {},
     "output_type": "execute_result"
    }
   ],
   "source": [
    "#bin years\n",
    "\n",
    "content['decade'] = content.apply(decade, axis=1)\n",
    "content"
   ]
  },
  {
   "cell_type": "code",
   "execution_count": 10,
   "id": "44d495ec",
   "metadata": {},
   "outputs": [
    {
     "name": "stdout",
     "output_type": "stream",
     "text": [
      "<class 'pandas.core.frame.DataFrame'>\n",
      "RangeIndex: 17770 entries, 0 to 17769\n",
      "Data columns (total 4 columns):\n",
      " #   Column  Non-Null Count  Dtype  \n",
      "---  ------  --------------  -----  \n",
      " 0   id      17770 non-null  int64  \n",
      " 1   year    17770 non-null  float64\n",
      " 2   title   17770 non-null  object \n",
      " 3   decade  17770 non-null  int64  \n",
      "dtypes: float64(1), int64(2), object(1)\n",
      "memory usage: 555.4+ KB\n"
     ]
    }
   ],
   "source": [
    "content.info()"
   ]
  },
  {
   "cell_type": "code",
   "execution_count": 11,
   "id": "c919ef78",
   "metadata": {},
   "outputs": [
    {
     "data": {
      "text/plain": [
       "decade\n",
       "5    8457\n",
       "4    4209\n",
       "3    1860\n",
       "0    1246\n",
       "2    1152\n",
       "1     846\n",
       "Name: count, dtype: int64"
      ]
     },
     "execution_count": 11,
     "metadata": {},
     "output_type": "execute_result"
    }
   ],
   "source": [
    "# decade counts\n",
    "content['decade'].value_counts(sort=True)"
   ]
  },
  {
   "cell_type": "code",
   "execution_count": 12,
   "id": "8772f176",
   "metadata": {},
   "outputs": [
    {
     "data": {
      "text/plain": [
       "<BarContainer object of 6 artists>"
      ]
     },
     "execution_count": 12,
     "metadata": {},
     "output_type": "execute_result"
    },
    {
     "data": {
      "image/png": "[encoded data removed]",
      "text/plain": [
       "<Figure size 640x480 with 1 Axes>"
      ]
     },
     "metadata": {},
     "output_type": "display_data"
    }
   ],
   "source": [
    "plt.bar((content['decade'].value_counts(sort=True).index), (content['decade'].value_counts(sort=True).values))"
   ]
  },
  {
   "cell_type": "markdown",
   "id": "c92a02a7",
   "metadata": {},
   "source": [
    "# content feature selection\n",
    "\n",
    "to minimize bias, i'm only going to add the decade column to the data i will use for modeling."
   ]
  },
  {
   "cell_type": "code",
   "execution_count": 13,
   "id": "32eba9ea",
   "metadata": {},
   "outputs": [
    {
     "name": "stdout",
     "output_type": "stream",
     "text": [
      "<class 'pandas.core.frame.DataFrame'>\n",
      "RangeIndex: 17770 entries, 0 to 17769\n",
      "Data columns (total 2 columns):\n",
      " #   Column    Non-Null Count  Dtype\n",
      "---  ------    --------------  -----\n",
      " 0   mid       17770 non-null  int64\n",
      " 1   m_decade  17770 non-null  int64\n",
      "dtypes: int64(2)\n",
      "memory usage: 277.8 KB\n"
     ]
    }
   ],
   "source": [
    "decade = content[['id', 'decade']]\n",
    "decade = decade.rename(columns = {'id': 'mid', 'decade': 'm_decade'})\n",
    "decade.info()"
   ]
  },
  {
   "cell_type": "markdown",
   "id": "a0ccabac",
   "metadata": {},
   "source": [
    "# ratings\n",
    "\n",
    "importing partial datasets as csvs for ease of use"
   ]
  },
  {
   "cell_type": "code",
   "execution_count": 14,
   "id": "a00c4a29",
   "metadata": {},
   "outputs": [],
   "source": [
    "d1 = pd.read_csv('data/d1_clean.csv')\n",
    "d1 = d1.drop(['Unnamed: 0'], axis=1)\n",
    "\n",
    "d2 = pd.read_csv('data/d2_clean.csv')\n",
    "d2 = d2.drop(['Unnamed: 0'], axis=1)\n",
    "\n",
    "d3 = pd.read_csv('data/d3_clean.csv')\n",
    "d3 = d3.drop(['Unnamed: 0'], axis = 1)\n",
    "\n",
    "d4 = pd.read_csv('data/d4_clean.csv')\n",
    "d4 = d4.drop(['Unnamed: 0'], axis =1)"
   ]
  },
  {
   "cell_type": "code",
   "execution_count": 15,
   "id": "317883c6",
   "metadata": {},
   "outputs": [
    {
     "name": "stdout",
     "output_type": "stream",
     "text": [
      "<class 'pandas.core.frame.DataFrame'>\n",
      "RangeIndex: 100480507 entries, 0 to 100480506\n",
      "Data columns (total 8 columns):\n",
      " #   Column   Dtype  \n",
      "---  ------   -----  \n",
      " 0   mid      int64  \n",
      " 1   cust_id  int64  \n",
      " 2   rating   float64\n",
      " 3   date     object \n",
      " 4   year     int64  \n",
      " 5   month    int64  \n",
      " 6   day      int64  \n",
      " 7   fisc_Q   int64  \n",
      "dtypes: float64(1), int64(6), object(1)\n",
      "memory usage: 6.0+ GB\n"
     ]
    }
   ],
   "source": [
    "df = pd.concat([d1, d2, d3, d4], axis =0, ignore_index=True)\n",
    "df.info()"
   ]
  },
  {
   "cell_type": "code",
   "execution_count": 16,
   "id": "44ef997f",
   "metadata": {},
   "outputs": [
    {
     "data": {
      "text/plain": [
       "mid              9210\n",
       "cust_id        627867\n",
       "rating            3.0\n",
       "date       2005-05-02\n",
       "year             2005\n",
       "month               5\n",
       "day                 2\n",
       "fisc_Q              2\n",
       "Name: 51031354, dtype: object"
      ]
     },
     "execution_count": 16,
     "metadata": {},
     "output_type": "execute_result"
    }
   ],
   "source": [
    "#sanity check: where d1 and d2 end, making sure the index is correct\n",
    "#mid 9210, cust id 627867, rating 3\n",
    "df.iloc[51031354]"
   ]
  },
  {
   "cell_type": "code",
   "execution_count": 46,
   "id": "0b8efef6",
   "metadata": {},
   "outputs": [
    {
     "data": {
      "application/javascript": [
       "$(document).ready(\n",
       "    function() {\n",
       "        function appendUniqueDiv(){\n",
       "            // append a div with our uuid so we can check that it's already\n",
       "            // been sent and avoid duplicates on page reload\n",
       "            var notifiedDiv = document.createElement(\"div\")\n",
       "            notifiedDiv.id = \"06ebaee6-28e8-4824-908c-b339975819a4\"\n",
       "            element.append(notifiedDiv)\n",
       "        }\n",
       "\n",
       "        // only send notifications if the pageload is complete; this will\n",
       "        // help stop extra notifications when a saved notebook is loaded,\n",
       "        // which during testing gives us state \"interactive\", not \"complete\"\n",
       "        if (document.readyState === 'complete') {\n",
       "            // check for the div that signifies that the notification\n",
       "            // was already sent\n",
       "            if (document.getElementById(\"06ebaee6-28e8-4824-908c-b339975819a4\") === null) {\n",
       "                var notificationPayload = {\"requireInteraction\": false, \"icon\": \"/static/base/images/favicon.ico\", \"body\": \"Cell execution has finished!\"};\n",
       "                if (Notification.permission !== 'denied') {\n",
       "                    if (Notification.permission !== 'granted') { \n",
       "                        Notification.requestPermission(function (permission) {\n",
       "                            if(!('permission' in Notification)) {\n",
       "                                Notification.permission = permission\n",
       "                            }\n",
       "                        })\n",
       "                    }\n",
       "                    if (Notification.permission === 'granted') {\n",
       "                    var notification = new Notification(\"Jupyter Notebook\", notificationPayload)\n",
       "                    appendUniqueDiv()\n",
       "                    notification.onclick = function () {\n",
       "                        window.focus();\n",
       "                        this.close();\n",
       "                        };\n",
       "                    } \n",
       "                }     \n",
       "            }\n",
       "        }\n",
       "    }\n",
       ")\n"
      ],
      "text/plain": [
       "<IPython.core.display.Javascript object>"
      ]
     },
     "metadata": {},
     "output_type": "display_data"
    }
   ],
   "source": [
    "%notify"
   ]
  },
  {
   "cell_type": "code",
   "execution_count": 17,
   "id": "a5299589",
   "metadata": {},
   "outputs": [],
   "source": [
    "df = df.sample(n=50000000, random_state=1)"
   ]
  },
  {
   "cell_type": "code",
   "execution_count": 18,
   "id": "0cfe0a3c",
   "metadata": {},
   "outputs": [
    {
     "data": {
      "application/javascript": [
       "$(document).ready(\n",
       "    function() {\n",
       "        function appendUniqueDiv(){\n",
       "            // append a div with our uuid so we can check that it's already\n",
       "            // been sent and avoid duplicates on page reload\n",
       "            var notifiedDiv = document.createElement(\"div\")\n",
       "            notifiedDiv.id = \"de179908-e44b-47f4-a11a-8f508d865a45\"\n",
       "            element.append(notifiedDiv)\n",
       "        }\n",
       "\n",
       "        // only send notifications if the pageload is complete; this will\n",
       "        // help stop extra notifications when a saved notebook is loaded,\n",
       "        // which during testing gives us state \"interactive\", not \"complete\"\n",
       "        if (document.readyState === 'complete') {\n",
       "            // check for the div that signifies that the notification\n",
       "            // was already sent\n",
       "            if (document.getElementById(\"de179908-e44b-47f4-a11a-8f508d865a45\") === null) {\n",
       "                var notificationPayload = {\"requireInteraction\": false, \"icon\": \"/static/base/images/favicon.ico\", \"body\": \"Cell execution has finished!\"};\n",
       "                if (Notification.permission !== 'denied') {\n",
       "                    if (Notification.permission !== 'granted') { \n",
       "                        Notification.requestPermission(function (permission) {\n",
       "                            if(!('permission' in Notification)) {\n",
       "                                Notification.permission = permission\n",
       "                            }\n",
       "                        })\n",
       "                    }\n",
       "                    if (Notification.permission === 'granted') {\n",
       "                    var notification = new Notification(\"Jupyter Notebook\", notificationPayload)\n",
       "                    appendUniqueDiv()\n",
       "                    notification.onclick = function () {\n",
       "                        window.focus();\n",
       "                        this.close();\n",
       "                        };\n",
       "                    } \n",
       "                }     \n",
       "            }\n",
       "        }\n",
       "    }\n",
       ")\n"
      ],
      "text/plain": [
       "<IPython.core.display.Javascript object>"
      ]
     },
     "metadata": {},
     "output_type": "display_data"
    }
   ],
   "source": [
    "%notify"
   ]
  },
  {
   "cell_type": "code",
   "execution_count": 19,
   "id": "90be3fd6",
   "metadata": {},
   "outputs": [
    {
     "data": {
      "text/html": [
       "<div>\n",
       "<style scoped>\n",
       "    .dataframe tbody tr th:only-of-type {\n",
       "        vertical-align: middle;\n",
       "    }\n",
       "\n",
       "    .dataframe tbody tr th {\n",
       "        vertical-align: top;\n",
       "    }\n",
       "\n",
       "    .dataframe thead th {\n",
       "        text-align: right;\n",
       "    }\n",
       "</style>\n",
       "<table border=\"1\" class=\"dataframe\">\n",
       "  <thead>\n",
       "    <tr style=\"text-align: right;\">\n",
       "      <th></th>\n",
       "      <th>mid</th>\n",
       "      <th>cust_id</th>\n",
       "      <th>rating</th>\n",
       "      <th>date</th>\n",
       "      <th>year</th>\n",
       "      <th>month</th>\n",
       "      <th>day</th>\n",
       "      <th>fisc_Q</th>\n",
       "    </tr>\n",
       "  </thead>\n",
       "  <tbody>\n",
       "    <tr>\n",
       "      <th>66892855</th>\n",
       "      <td>12221</td>\n",
       "      <td>2380329</td>\n",
       "      <td>4.0</td>\n",
       "      <td>2004-11-05</td>\n",
       "      <td>2004</td>\n",
       "      <td>11</td>\n",
       "      <td>5</td>\n",
       "      <td>4</td>\n",
       "    </tr>\n",
       "    <tr>\n",
       "      <th>68718197</th>\n",
       "      <td>12473</td>\n",
       "      <td>1340872</td>\n",
       "      <td>3.0</td>\n",
       "      <td>2003-05-16</td>\n",
       "      <td>2003</td>\n",
       "      <td>5</td>\n",
       "      <td>16</td>\n",
       "      <td>2</td>\n",
       "    </tr>\n",
       "    <tr>\n",
       "      <th>26523041</th>\n",
       "      <td>4943</td>\n",
       "      <td>2552315</td>\n",
       "      <td>3.0</td>\n",
       "      <td>2002-02-21</td>\n",
       "      <td>2002</td>\n",
       "      <td>2</td>\n",
       "      <td>21</td>\n",
       "      <td>1</td>\n",
       "    </tr>\n",
       "    <tr>\n",
       "      <th>8709708</th>\n",
       "      <td>1744</td>\n",
       "      <td>1728377</td>\n",
       "      <td>4.0</td>\n",
       "      <td>2003-02-20</td>\n",
       "      <td>2003</td>\n",
       "      <td>2</td>\n",
       "      <td>20</td>\n",
       "      <td>1</td>\n",
       "    </tr>\n",
       "    <tr>\n",
       "      <th>66709759</th>\n",
       "      <td>12181</td>\n",
       "      <td>2275381</td>\n",
       "      <td>3.0</td>\n",
       "      <td>2004-08-27</td>\n",
       "      <td>2004</td>\n",
       "      <td>8</td>\n",
       "      <td>27</td>\n",
       "      <td>3</td>\n",
       "    </tr>\n",
       "  </tbody>\n",
       "</table>\n",
       "</div>"
      ],
      "text/plain": [
       "            mid  cust_id  rating        date  year  month  day  fisc_Q\n",
       "66892855  12221  2380329     4.0  2004-11-05  2004     11    5       4\n",
       "68718197  12473  1340872     3.0  2003-05-16  2003      5   16       2\n",
       "26523041   4943  2552315     3.0  2002-02-21  2002      2   21       1\n",
       "8709708    1744  1728377     4.0  2003-02-20  2003      2   20       1\n",
       "66709759  12181  2275381     3.0  2004-08-27  2004      8   27       3"
      ]
     },
     "execution_count": 19,
     "metadata": {},
     "output_type": "execute_result"
    }
   ],
   "source": [
    "df.head()"
   ]
  },
  {
   "cell_type": "code",
   "execution_count": 20,
   "id": "95f9571e",
   "metadata": {},
   "outputs": [
    {
     "name": "stdout",
     "output_type": "stream",
     "text": [
      "<class 'pandas.core.frame.DataFrame'>\n",
      "Index: 50000000 entries, 66892855 to 98785310\n",
      "Data columns (total 8 columns):\n",
      " #   Column   Dtype  \n",
      "---  ------   -----  \n",
      " 0   mid      int64  \n",
      " 1   cust_id  int64  \n",
      " 2   rating   float64\n",
      " 3   date     object \n",
      " 4   year     int64  \n",
      " 5   month    int64  \n",
      " 6   day      int64  \n",
      " 7   fisc_Q   int64  \n",
      "dtypes: float64(1), int64(6), object(1)\n",
      "memory usage: 3.4+ GB\n"
     ]
    }
   ],
   "source": [
    "df.info()"
   ]
  },
  {
   "cell_type": "code",
   "execution_count": 21,
   "id": "a885f3fd",
   "metadata": {},
   "outputs": [],
   "source": [
    "#dropping day and month because i changed my mind\n",
    "df = df.drop(['day', 'month', 'fisc_Q', 'year'], axis=1)"
   ]
  },
  {
   "cell_type": "code",
   "execution_count": 22,
   "id": "ef9cfa03",
   "metadata": {},
   "outputs": [
    {
     "data": {
      "text/html": [
       "<div>\n",
       "<style scoped>\n",
       "    .dataframe tbody tr th:only-of-type {\n",
       "        vertical-align: middle;\n",
       "    }\n",
       "\n",
       "    .dataframe tbody tr th {\n",
       "        vertical-align: top;\n",
       "    }\n",
       "\n",
       "    .dataframe thead th {\n",
       "        text-align: right;\n",
       "    }\n",
       "</style>\n",
       "<table border=\"1\" class=\"dataframe\">\n",
       "  <thead>\n",
       "    <tr style=\"text-align: right;\">\n",
       "      <th></th>\n",
       "      <th>mid</th>\n",
       "      <th>cust_id</th>\n",
       "      <th>rating</th>\n",
       "      <th>r_date</th>\n",
       "    </tr>\n",
       "  </thead>\n",
       "  <tbody>\n",
       "    <tr>\n",
       "      <th>66892855</th>\n",
       "      <td>12221</td>\n",
       "      <td>2380329</td>\n",
       "      <td>4.0</td>\n",
       "      <td>2004-11-05</td>\n",
       "    </tr>\n",
       "    <tr>\n",
       "      <th>68718197</th>\n",
       "      <td>12473</td>\n",
       "      <td>1340872</td>\n",
       "      <td>3.0</td>\n",
       "      <td>2003-05-16</td>\n",
       "    </tr>\n",
       "    <tr>\n",
       "      <th>26523041</th>\n",
       "      <td>4943</td>\n",
       "      <td>2552315</td>\n",
       "      <td>3.0</td>\n",
       "      <td>2002-02-21</td>\n",
       "    </tr>\n",
       "    <tr>\n",
       "      <th>8709708</th>\n",
       "      <td>1744</td>\n",
       "      <td>1728377</td>\n",
       "      <td>4.0</td>\n",
       "      <td>2003-02-20</td>\n",
       "    </tr>\n",
       "    <tr>\n",
       "      <th>66709759</th>\n",
       "      <td>12181</td>\n",
       "      <td>2275381</td>\n",
       "      <td>3.0</td>\n",
       "      <td>2004-08-27</td>\n",
       "    </tr>\n",
       "  </tbody>\n",
       "</table>\n",
       "</div>"
      ],
      "text/plain": [
       "            mid  cust_id  rating      r_date\n",
       "66892855  12221  2380329     4.0  2004-11-05\n",
       "68718197  12473  1340872     3.0  2003-05-16\n",
       "26523041   4943  2552315     3.0  2002-02-21\n",
       "8709708    1744  1728377     4.0  2003-02-20\n",
       "66709759  12181  2275381     3.0  2004-08-27"
      ]
     },
     "execution_count": 22,
     "metadata": {},
     "output_type": "execute_result"
    }
   ],
   "source": [
    "#rename columns to avoid 'm_decade' confusion\n",
    "df = df.rename(columns = {'date': 'r_date'})\n",
    "df.head()"
   ]
  },
  {
   "cell_type": "code",
   "execution_count": 53,
   "id": "379bf321",
   "metadata": {},
   "outputs": [
    {
     "name": "stdout",
     "output_type": "stream",
     "text": [
      "<class 'pandas.core.frame.DataFrame'>\n",
      "Index: 1000000 entries, 66892855 to 8511746\n",
      "Data columns (total 4 columns):\n",
      " #   Column   Non-Null Count    Dtype         \n",
      "---  ------   --------------    -----         \n",
      " 0   mid      1000000 non-null  int64         \n",
      " 1   cust_id  1000000 non-null  int64         \n",
      " 2   rating   1000000 non-null  float64       \n",
      " 3   r_date   1000000 non-null  datetime64[ns]\n",
      "dtypes: datetime64[ns](1), float64(1), int64(2)\n",
      "memory usage: 38.1 MB\n"
     ]
    }
   ],
   "source": [
    "df['r_date'] = df['r_date'].astype('datetime64[ns]')\n",
    "df.info()"
   ]
  },
  {
   "cell_type": "code",
   "execution_count": 54,
   "id": "3719d824",
   "metadata": {},
   "outputs": [
    {
     "data": {
      "text/html": [
       "<div>\n",
       "<style scoped>\n",
       "    .dataframe tbody tr th:only-of-type {\n",
       "        vertical-align: middle;\n",
       "    }\n",
       "\n",
       "    .dataframe tbody tr th {\n",
       "        vertical-align: top;\n",
       "    }\n",
       "\n",
       "    .dataframe thead th {\n",
       "        text-align: right;\n",
       "    }\n",
       "</style>\n",
       "<table border=\"1\" class=\"dataframe\">\n",
       "  <thead>\n",
       "    <tr style=\"text-align: right;\">\n",
       "      <th></th>\n",
       "      <th>mid</th>\n",
       "      <th>cust_id</th>\n",
       "      <th>rating</th>\n",
       "      <th>r_date</th>\n",
       "    </tr>\n",
       "  </thead>\n",
       "  <tbody>\n",
       "    <tr>\n",
       "      <th>16070838</th>\n",
       "      <td>3113</td>\n",
       "      <td>510180</td>\n",
       "      <td>3.0</td>\n",
       "      <td>1999-12-12</td>\n",
       "    </tr>\n",
       "    <tr>\n",
       "      <th>15389684</th>\n",
       "      <td>2953</td>\n",
       "      <td>510180</td>\n",
       "      <td>5.0</td>\n",
       "      <td>1999-12-16</td>\n",
       "    </tr>\n",
       "    <tr>\n",
       "      <th>61711419</th>\n",
       "      <td>11242</td>\n",
       "      <td>830363</td>\n",
       "      <td>3.0</td>\n",
       "      <td>1999-12-21</td>\n",
       "    </tr>\n",
       "    <tr>\n",
       "      <th>46278330</th>\n",
       "      <td>8327</td>\n",
       "      <td>1435350</td>\n",
       "      <td>5.0</td>\n",
       "      <td>1999-12-27</td>\n",
       "    </tr>\n",
       "    <tr>\n",
       "      <th>55472684</th>\n",
       "      <td>10152</td>\n",
       "      <td>1435350</td>\n",
       "      <td>5.0</td>\n",
       "      <td>1999-12-27</td>\n",
       "    </tr>\n",
       "    <tr>\n",
       "      <th>...</th>\n",
       "      <td>...</td>\n",
       "      <td>...</td>\n",
       "      <td>...</td>\n",
       "      <td>...</td>\n",
       "    </tr>\n",
       "    <tr>\n",
       "      <th>8137925</th>\n",
       "      <td>1629</td>\n",
       "      <td>2190800</td>\n",
       "      <td>2.0</td>\n",
       "      <td>2005-12-31</td>\n",
       "    </tr>\n",
       "    <tr>\n",
       "      <th>19205037</th>\n",
       "      <td>3643</td>\n",
       "      <td>125392</td>\n",
       "      <td>4.0</td>\n",
       "      <td>2005-12-31</td>\n",
       "    </tr>\n",
       "    <tr>\n",
       "      <th>52088122</th>\n",
       "      <td>9458</td>\n",
       "      <td>1992864</td>\n",
       "      <td>5.0</td>\n",
       "      <td>2005-12-31</td>\n",
       "    </tr>\n",
       "    <tr>\n",
       "      <th>59741404</th>\n",
       "      <td>10986</td>\n",
       "      <td>1784540</td>\n",
       "      <td>3.0</td>\n",
       "      <td>2005-12-31</td>\n",
       "    </tr>\n",
       "    <tr>\n",
       "      <th>63109105</th>\n",
       "      <td>11485</td>\n",
       "      <td>594259</td>\n",
       "      <td>2.0</td>\n",
       "      <td>2005-12-31</td>\n",
       "    </tr>\n",
       "  </tbody>\n",
       "</table>\n",
       "<p>1000000 rows × 4 columns</p>\n",
       "</div>"
      ],
      "text/plain": [
       "            mid  cust_id  rating     r_date\n",
       "16070838   3113   510180     3.0 1999-12-12\n",
       "15389684   2953   510180     5.0 1999-12-16\n",
       "61711419  11242   830363     3.0 1999-12-21\n",
       "46278330   8327  1435350     5.0 1999-12-27\n",
       "55472684  10152  1435350     5.0 1999-12-27\n",
       "...         ...      ...     ...        ...\n",
       "8137925    1629  2190800     2.0 2005-12-31\n",
       "19205037   3643   125392     4.0 2005-12-31\n",
       "52088122   9458  1992864     5.0 2005-12-31\n",
       "59741404  10986  1784540     3.0 2005-12-31\n",
       "63109105  11485   594259     2.0 2005-12-31\n",
       "\n",
       "[1000000 rows x 4 columns]"
      ]
     },
     "execution_count": 54,
     "metadata": {},
     "output_type": "execute_result"
    }
   ],
   "source": [
    "df = df.sort_values(by=['r_date'])\n",
    "df"
   ]
  },
  {
   "cell_type": "code",
   "execution_count": 23,
   "id": "8fc2283c",
   "metadata": {},
   "outputs": [
    {
     "data": {
      "text/plain": [
       "mid\n",
       "5317     116299\n",
       "15124    107748\n",
       "14313     99457\n",
       "15205     98021\n",
       "1905      96451\n",
       "          ...  \n",
       "8146          7\n",
       "11344         5\n",
       "6256          5\n",
       "13755         2\n",
       "11148         2\n",
       "Name: count, Length: 17770, dtype: int64"
      ]
     },
     "execution_count": 23,
     "metadata": {},
     "output_type": "execute_result"
    }
   ],
   "source": [
    "df['mid'].value_counts()"
   ]
  },
  {
   "cell_type": "code",
   "execution_count": 24,
   "id": "c0c9dd4d",
   "metadata": {},
   "outputs": [
    {
     "data": {
      "text/plain": [
       "pandas.core.frame.DataFrame"
      ]
     },
     "execution_count": 24,
     "metadata": {},
     "output_type": "execute_result"
    }
   ],
   "source": [
    "type(df)"
   ]
  },
  {
   "cell_type": "code",
   "execution_count": 25,
   "id": "de381b85",
   "metadata": {},
   "outputs": [
    {
     "data": {
      "text/html": [
       "<div>\n",
       "<style scoped>\n",
       "    .dataframe tbody tr th:only-of-type {\n",
       "        vertical-align: middle;\n",
       "    }\n",
       "\n",
       "    .dataframe tbody tr th {\n",
       "        vertical-align: top;\n",
       "    }\n",
       "\n",
       "    .dataframe thead th {\n",
       "        text-align: right;\n",
       "    }\n",
       "</style>\n",
       "<table border=\"1\" class=\"dataframe\">\n",
       "  <thead>\n",
       "    <tr style=\"text-align: right;\">\n",
       "      <th></th>\n",
       "      <th>mid</th>\n",
       "      <th>cust_id</th>\n",
       "      <th>rating</th>\n",
       "      <th>r_date</th>\n",
       "      <th>m_decade</th>\n",
       "    </tr>\n",
       "  </thead>\n",
       "  <tbody>\n",
       "    <tr>\n",
       "      <th>0</th>\n",
       "      <td>12221</td>\n",
       "      <td>2380329</td>\n",
       "      <td>4.0</td>\n",
       "      <td>2004-11-05</td>\n",
       "      <td>3</td>\n",
       "    </tr>\n",
       "    <tr>\n",
       "      <th>1</th>\n",
       "      <td>12221</td>\n",
       "      <td>836701</td>\n",
       "      <td>5.0</td>\n",
       "      <td>2004-08-27</td>\n",
       "      <td>3</td>\n",
       "    </tr>\n",
       "    <tr>\n",
       "      <th>2</th>\n",
       "      <td>12221</td>\n",
       "      <td>190111</td>\n",
       "      <td>2.0</td>\n",
       "      <td>2005-10-10</td>\n",
       "      <td>3</td>\n",
       "    </tr>\n",
       "    <tr>\n",
       "      <th>3</th>\n",
       "      <td>12221</td>\n",
       "      <td>279477</td>\n",
       "      <td>5.0</td>\n",
       "      <td>2004-07-17</td>\n",
       "      <td>3</td>\n",
       "    </tr>\n",
       "    <tr>\n",
       "      <th>4</th>\n",
       "      <td>12221</td>\n",
       "      <td>1046137</td>\n",
       "      <td>4.0</td>\n",
       "      <td>2002-10-01</td>\n",
       "      <td>3</td>\n",
       "    </tr>\n",
       "  </tbody>\n",
       "</table>\n",
       "</div>"
      ],
      "text/plain": [
       "     mid  cust_id  rating      r_date  m_decade\n",
       "0  12221  2380329     4.0  2004-11-05         3\n",
       "1  12221   836701     5.0  2004-08-27         3\n",
       "2  12221   190111     2.0  2005-10-10         3\n",
       "3  12221   279477     5.0  2004-07-17         3\n",
       "4  12221  1046137     4.0  2002-10-01         3"
      ]
     },
     "execution_count": 25,
     "metadata": {},
     "output_type": "execute_result"
    }
   ],
   "source": [
    "data = df.merge(decade)\n",
    "data.head()"
   ]
  },
  {
   "cell_type": "code",
   "execution_count": 26,
   "id": "52ad4dce",
   "metadata": {},
   "outputs": [
    {
     "data": {
      "text/plain": [
       "mid\n",
       "5317     116299\n",
       "15124    107748\n",
       "14313     99457\n",
       "15205     98021\n",
       "1905      96451\n",
       "          ...  \n",
       "8146          7\n",
       "11344         5\n",
       "6256          5\n",
       "13755         2\n",
       "11148         2\n",
       "Name: count, Length: 17770, dtype: int64"
      ]
     },
     "execution_count": 26,
     "metadata": {},
     "output_type": "execute_result"
    }
   ],
   "source": [
    "data['mid'].value_counts()"
   ]
  },
  {
   "cell_type": "code",
   "execution_count": 27,
   "id": "07532a3d",
   "metadata": {},
   "outputs": [
    {
     "name": "stdout",
     "output_type": "stream",
     "text": [
      "<class 'pandas.core.frame.DataFrame'>\n",
      "RangeIndex: 50000000 entries, 0 to 49999999\n",
      "Data columns (total 5 columns):\n",
      " #   Column    Dtype  \n",
      "---  ------    -----  \n",
      " 0   mid       int64  \n",
      " 1   cust_id   int64  \n",
      " 2   rating    float64\n",
      " 3   r_date    object \n",
      " 4   m_decade  int64  \n",
      "dtypes: float64(1), int64(3), object(1)\n",
      "memory usage: 1.9+ GB\n"
     ]
    }
   ],
   "source": [
    "data.info()"
   ]
  },
  {
   "cell_type": "code",
   "execution_count": 28,
   "id": "674c29e6",
   "metadata": {},
   "outputs": [],
   "source": [
    "#data.to_csv('data/50mdf.csv', index=False)"
   ]
  },
  {
   "cell_type": "markdown",
   "id": "9ab2e1e7",
   "metadata": {},
   "source": [
    "# Ready for EDA"
   ]
  },
  {
   "cell_type": "code",
   "execution_count": 62,
   "id": "1a9a3f77",
   "metadata": {},
   "outputs": [
    {
     "data": {
      "text/html": [
       "<div>\n",
       "<style scoped>\n",
       "    .dataframe tbody tr th:only-of-type {\n",
       "        vertical-align: middle;\n",
       "    }\n",
       "\n",
       "    .dataframe tbody tr th {\n",
       "        vertical-align: top;\n",
       "    }\n",
       "\n",
       "    .dataframe thead th {\n",
       "        text-align: right;\n",
       "    }\n",
       "</style>\n",
       "<table border=\"1\" class=\"dataframe\">\n",
       "  <thead>\n",
       "    <tr style=\"text-align: right;\">\n",
       "      <th></th>\n",
       "      <th>mid</th>\n",
       "      <th>cust_id</th>\n",
       "      <th>rating</th>\n",
       "      <th>r_date</th>\n",
       "      <th>m_decade</th>\n",
       "    </tr>\n",
       "  </thead>\n",
       "  <tbody>\n",
       "    <tr>\n",
       "      <th>0</th>\n",
       "      <td>3113</td>\n",
       "      <td>510180</td>\n",
       "      <td>3.0</td>\n",
       "      <td>1999-12-12</td>\n",
       "      <td>4</td>\n",
       "    </tr>\n",
       "    <tr>\n",
       "      <th>1</th>\n",
       "      <td>3113</td>\n",
       "      <td>1589382</td>\n",
       "      <td>4.0</td>\n",
       "      <td>2000-03-11</td>\n",
       "      <td>4</td>\n",
       "    </tr>\n",
       "    <tr>\n",
       "      <th>2</th>\n",
       "      <td>3113</td>\n",
       "      <td>1878798</td>\n",
       "      <td>2.0</td>\n",
       "      <td>2000-08-08</td>\n",
       "      <td>4</td>\n",
       "    </tr>\n",
       "    <tr>\n",
       "      <th>3</th>\n",
       "      <td>3113</td>\n",
       "      <td>1259176</td>\n",
       "      <td>4.0</td>\n",
       "      <td>2000-11-10</td>\n",
       "      <td>4</td>\n",
       "    </tr>\n",
       "    <tr>\n",
       "      <th>4</th>\n",
       "      <td>3113</td>\n",
       "      <td>873369</td>\n",
       "      <td>3.0</td>\n",
       "      <td>2000-11-20</td>\n",
       "      <td>4</td>\n",
       "    </tr>\n",
       "  </tbody>\n",
       "</table>\n",
       "</div>"
      ],
      "text/plain": [
       "    mid  cust_id  rating     r_date  m_decade\n",
       "0  3113   510180     3.0 1999-12-12         4\n",
       "1  3113  1589382     4.0 2000-03-11         4\n",
       "2  3113  1878798     2.0 2000-08-08         4\n",
       "3  3113  1259176     4.0 2000-11-10         4\n",
       "4  3113   873369     3.0 2000-11-20         4"
      ]
     },
     "execution_count": 62,
     "metadata": {},
     "output_type": "execute_result"
    }
   ],
   "source": [
    "data.head()"
   ]
  },
  {
   "cell_type": "markdown",
   "id": "3f31bb9f",
   "metadata": {},
   "source": [
    "## Exploring content attributes\n",
    "\n",
    "- highest rated content (content quality)\n",
    "- most rated content (popularity)\n",
    "- decade frequency distribution\n",
    "\n",
    "### Decade Frequency Distribution"
   ]
  },
  {
   "cell_type": "code",
   "execution_count": 64,
   "id": "12c7f2ee",
   "metadata": {},
   "outputs": [
    {
     "data": {
      "text/plain": [
       "<BarContainer object of 6 artists>"
      ]
     },
     "execution_count": 64,
     "metadata": {},
     "output_type": "execute_result"
    },
    {
     "data": {
      "image/png": "[encoded data removed]",
      "text/plain": [
       "<Figure size 640x480 with 1 Axes>"
      ]
     },
     "metadata": {},
     "output_type": "display_data"
    }
   ],
   "source": [
    "plt.bar((data['m_decade'].value_counts(sort=True).index), (data['m_decade'].value_counts(sort=True).values))"
   ]
  },
  {
   "cell_type": "code",
   "execution_count": 66,
   "id": "f7766c11",
   "metadata": {},
   "outputs": [
    {
     "data": {
      "text/plain": [
       "m_decade\n",
       "5    0.528246\n",
       "4    0.261975\n",
       "3    0.113831\n",
       "2    0.039405\n",
       "0    0.030192\n",
       "1    0.026351\n",
       "Name: proportion, dtype: float64"
      ]
     },
     "execution_count": 66,
     "metadata": {},
     "output_type": "execute_result"
    }
   ],
   "source": [
    "data['m_decade'].value_counts(normalize=True)"
   ]
  },
  {
   "cell_type": "markdown",
   "id": "596f18ea",
   "metadata": {},
   "source": [
    "### Looking at rating as a popularity metric - speaks to the perceived quality of the content"
   ]
  },
  {
   "cell_type": "code",
   "execution_count": 67,
   "id": "e2cbb5b4",
   "metadata": {},
   "outputs": [
    {
     "data": {
      "text/html": [
       "<div>\n",
       "<style scoped>\n",
       "    .dataframe tbody tr th:only-of-type {\n",
       "        vertical-align: middle;\n",
       "    }\n",
       "\n",
       "    .dataframe tbody tr th {\n",
       "        vertical-align: top;\n",
       "    }\n",
       "\n",
       "    .dataframe thead th {\n",
       "        text-align: right;\n",
       "    }\n",
       "</style>\n",
       "<table border=\"1\" class=\"dataframe\">\n",
       "  <thead>\n",
       "    <tr style=\"text-align: right;\">\n",
       "      <th></th>\n",
       "      <th>mid</th>\n",
       "      <th>m_avg_rating</th>\n",
       "    </tr>\n",
       "  </thead>\n",
       "  <tbody>\n",
       "    <tr>\n",
       "      <th>0</th>\n",
       "      <td>12972</td>\n",
       "      <td>5.0</td>\n",
       "    </tr>\n",
       "    <tr>\n",
       "      <th>1</th>\n",
       "      <td>9158</td>\n",
       "      <td>5.0</td>\n",
       "    </tr>\n",
       "    <tr>\n",
       "      <th>2</th>\n",
       "      <td>9162</td>\n",
       "      <td>5.0</td>\n",
       "    </tr>\n",
       "    <tr>\n",
       "      <th>3</th>\n",
       "      <td>9173</td>\n",
       "      <td>5.0</td>\n",
       "    </tr>\n",
       "    <tr>\n",
       "      <th>4</th>\n",
       "      <td>2648</td>\n",
       "      <td>5.0</td>\n",
       "    </tr>\n",
       "    <tr>\n",
       "      <th>...</th>\n",
       "      <td>...</td>\n",
       "      <td>...</td>\n",
       "    </tr>\n",
       "    <tr>\n",
       "      <th>16216</th>\n",
       "      <td>17284</td>\n",
       "      <td>1.0</td>\n",
       "    </tr>\n",
       "    <tr>\n",
       "      <th>16217</th>\n",
       "      <td>16549</td>\n",
       "      <td>1.0</td>\n",
       "    </tr>\n",
       "    <tr>\n",
       "      <th>16218</th>\n",
       "      <td>6496</td>\n",
       "      <td>1.0</td>\n",
       "    </tr>\n",
       "    <tr>\n",
       "      <th>16219</th>\n",
       "      <td>16073</td>\n",
       "      <td>1.0</td>\n",
       "    </tr>\n",
       "    <tr>\n",
       "      <th>16220</th>\n",
       "      <td>820</td>\n",
       "      <td>1.0</td>\n",
       "    </tr>\n",
       "  </tbody>\n",
       "</table>\n",
       "<p>16221 rows × 2 columns</p>\n",
       "</div>"
      ],
      "text/plain": [
       "         mid  m_avg_rating\n",
       "0      12972           5.0\n",
       "1       9158           5.0\n",
       "2       9162           5.0\n",
       "3       9173           5.0\n",
       "4       2648           5.0\n",
       "...      ...           ...\n",
       "16216  17284           1.0\n",
       "16217  16549           1.0\n",
       "16218   6496           1.0\n",
       "16219  16073           1.0\n",
       "16220    820           1.0\n",
       "\n",
       "[16221 rows x 2 columns]"
      ]
     },
     "execution_count": 67,
     "metadata": {},
     "output_type": "execute_result"
    }
   ],
   "source": [
    "#average rating for each content piece\n",
    "avgrating = data.groupby('mid')['rating'].mean().sort_values(ascending=False).to_frame()\n",
    "avgrating = avgrating.rename(columns = {'rating': 'm_avg_rating'}).reset_index()\n",
    "avgrating"
   ]
  },
  {
   "cell_type": "markdown",
   "id": "832590da",
   "metadata": {},
   "source": [
    "**1. What is the distribution of content ratings?**"
   ]
  },
  {
   "cell_type": "code",
   "execution_count": 68,
   "id": "b2b89f06",
   "metadata": {},
   "outputs": [
    {
     "data": {
      "text/plain": [
       "count    16221.000000\n",
       "mean         3.263065\n",
       "std          0.787667\n",
       "min          1.000000\n",
       "25%          2.947368\n",
       "50%          3.333333\n",
       "75%          3.800000\n",
       "max          5.000000\n",
       "Name: m_avg_rating, dtype: float64"
      ]
     },
     "execution_count": 68,
     "metadata": {},
     "output_type": "execute_result"
    }
   ],
   "source": [
    "avgrating['m_avg_rating'].describe()"
   ]
  },
  {
   "cell_type": "code",
   "execution_count": 69,
   "id": "088d35b9",
   "metadata": {},
   "outputs": [
    {
     "data": {
      "image/png": "[encoded data removed]",
      "text/plain": [
       "<Figure size 640x480 with 1 Axes>"
      ]
     },
     "metadata": {},
     "output_type": "display_data"
    }
   ],
   "source": [
    "#looks at distribution of avg rating per movie\n",
    "avgrating['m_avg_rating'].plot(kind='hist');"
   ]
  },
  {
   "cell_type": "markdown",
   "id": "aa948215",
   "metadata": {},
   "source": [
    "Skewed to the left. Users tend to rate content above average. \n",
    "\n",
    "Binning based on average rating. This doesn't necessarily speak to the quality of the content however it does show that our users tend to enjoy it. I'll be labeling this feature quality for ease of use, but ***note that this is a metric solely simplifying how users perceive the piece of content's quality compared to other options that are available.***"
   ]
  },
  {
   "cell_type": "code",
   "execution_count": 70,
   "id": "00ee51a0",
   "metadata": {},
   "outputs": [],
   "source": [
    "#distribution is pretty normal, going to bin into 'quality grade' quartiles\n",
    "\n",
    "def quality(row):\n",
    "    \"\"\"\n",
    "    bins content based on their average ratings\n",
    "    \"\"\"\n",
    "    if row['m_avg_rating'] < 2.9:\n",
    "        return 1\n",
    "    elif 2.9 <= row['m_avg_rating'] < 3.3:\n",
    "        return 2\n",
    "    elif 3.3 <= row['m_avg_rating'] < 3.7:\n",
    "        return 3\n",
    "    else:\n",
    "        return 4"
   ]
  },
  {
   "cell_type": "code",
   "execution_count": 71,
   "id": "6f3ed827",
   "metadata": {},
   "outputs": [
    {
     "data": {
      "text/html": [
       "<div>\n",
       "<style scoped>\n",
       "    .dataframe tbody tr th:only-of-type {\n",
       "        vertical-align: middle;\n",
       "    }\n",
       "\n",
       "    .dataframe tbody tr th {\n",
       "        vertical-align: top;\n",
       "    }\n",
       "\n",
       "    .dataframe thead th {\n",
       "        text-align: right;\n",
       "    }\n",
       "</style>\n",
       "<table border=\"1\" class=\"dataframe\">\n",
       "  <thead>\n",
       "    <tr style=\"text-align: right;\">\n",
       "      <th></th>\n",
       "      <th>mid</th>\n",
       "      <th>m_avg_rating</th>\n",
       "      <th>m_quality</th>\n",
       "    </tr>\n",
       "  </thead>\n",
       "  <tbody>\n",
       "    <tr>\n",
       "      <th>0</th>\n",
       "      <td>12972</td>\n",
       "      <td>5.0</td>\n",
       "      <td>4</td>\n",
       "    </tr>\n",
       "    <tr>\n",
       "      <th>1</th>\n",
       "      <td>9158</td>\n",
       "      <td>5.0</td>\n",
       "      <td>4</td>\n",
       "    </tr>\n",
       "    <tr>\n",
       "      <th>2</th>\n",
       "      <td>9162</td>\n",
       "      <td>5.0</td>\n",
       "      <td>4</td>\n",
       "    </tr>\n",
       "    <tr>\n",
       "      <th>3</th>\n",
       "      <td>9173</td>\n",
       "      <td>5.0</td>\n",
       "      <td>4</td>\n",
       "    </tr>\n",
       "    <tr>\n",
       "      <th>4</th>\n",
       "      <td>2648</td>\n",
       "      <td>5.0</td>\n",
       "      <td>4</td>\n",
       "    </tr>\n",
       "    <tr>\n",
       "      <th>...</th>\n",
       "      <td>...</td>\n",
       "      <td>...</td>\n",
       "      <td>...</td>\n",
       "    </tr>\n",
       "    <tr>\n",
       "      <th>16216</th>\n",
       "      <td>17284</td>\n",
       "      <td>1.0</td>\n",
       "      <td>1</td>\n",
       "    </tr>\n",
       "    <tr>\n",
       "      <th>16217</th>\n",
       "      <td>16549</td>\n",
       "      <td>1.0</td>\n",
       "      <td>1</td>\n",
       "    </tr>\n",
       "    <tr>\n",
       "      <th>16218</th>\n",
       "      <td>6496</td>\n",
       "      <td>1.0</td>\n",
       "      <td>1</td>\n",
       "    </tr>\n",
       "    <tr>\n",
       "      <th>16219</th>\n",
       "      <td>16073</td>\n",
       "      <td>1.0</td>\n",
       "      <td>1</td>\n",
       "    </tr>\n",
       "    <tr>\n",
       "      <th>16220</th>\n",
       "      <td>820</td>\n",
       "      <td>1.0</td>\n",
       "      <td>1</td>\n",
       "    </tr>\n",
       "  </tbody>\n",
       "</table>\n",
       "<p>16221 rows × 3 columns</p>\n",
       "</div>"
      ],
      "text/plain": [
       "         mid  m_avg_rating  m_quality\n",
       "0      12972           5.0          4\n",
       "1       9158           5.0          4\n",
       "2       9162           5.0          4\n",
       "3       9173           5.0          4\n",
       "4       2648           5.0          4\n",
       "...      ...           ...        ...\n",
       "16216  17284           1.0          1\n",
       "16217  16549           1.0          1\n",
       "16218   6496           1.0          1\n",
       "16219  16073           1.0          1\n",
       "16220    820           1.0          1\n",
       "\n",
       "[16221 rows x 3 columns]"
      ]
     },
     "execution_count": 71,
     "metadata": {},
     "output_type": "execute_result"
    }
   ],
   "source": [
    "avgrating['m_quality'] = avgrating.apply(quality, axis=1)\n",
    "avgrating"
   ]
  },
  {
   "cell_type": "code",
   "execution_count": 72,
   "id": "67dc5a88",
   "metadata": {},
   "outputs": [
    {
     "data": {
      "text/html": [
       "<div>\n",
       "<style scoped>\n",
       "    .dataframe tbody tr th:only-of-type {\n",
       "        vertical-align: middle;\n",
       "    }\n",
       "\n",
       "    .dataframe tbody tr th {\n",
       "        vertical-align: top;\n",
       "    }\n",
       "\n",
       "    .dataframe thead th {\n",
       "        text-align: right;\n",
       "    }\n",
       "</style>\n",
       "<table border=\"1\" class=\"dataframe\">\n",
       "  <thead>\n",
       "    <tr style=\"text-align: right;\">\n",
       "      <th></th>\n",
       "      <th>mid</th>\n",
       "      <th>cust_id</th>\n",
       "      <th>rating</th>\n",
       "      <th>r_date</th>\n",
       "      <th>m_decade</th>\n",
       "      <th>m_avg_rating</th>\n",
       "      <th>m_quality</th>\n",
       "    </tr>\n",
       "  </thead>\n",
       "  <tbody>\n",
       "    <tr>\n",
       "      <th>0</th>\n",
       "      <td>3113</td>\n",
       "      <td>510180</td>\n",
       "      <td>3.0</td>\n",
       "      <td>1999-12-12</td>\n",
       "      <td>4</td>\n",
       "      <td>3.187192</td>\n",
       "      <td>2</td>\n",
       "    </tr>\n",
       "    <tr>\n",
       "      <th>1</th>\n",
       "      <td>3113</td>\n",
       "      <td>1589382</td>\n",
       "      <td>4.0</td>\n",
       "      <td>2000-03-11</td>\n",
       "      <td>4</td>\n",
       "      <td>3.187192</td>\n",
       "      <td>2</td>\n",
       "    </tr>\n",
       "    <tr>\n",
       "      <th>2</th>\n",
       "      <td>3113</td>\n",
       "      <td>1878798</td>\n",
       "      <td>2.0</td>\n",
       "      <td>2000-08-08</td>\n",
       "      <td>4</td>\n",
       "      <td>3.187192</td>\n",
       "      <td>2</td>\n",
       "    </tr>\n",
       "    <tr>\n",
       "      <th>3</th>\n",
       "      <td>3113</td>\n",
       "      <td>1259176</td>\n",
       "      <td>4.0</td>\n",
       "      <td>2000-11-10</td>\n",
       "      <td>4</td>\n",
       "      <td>3.187192</td>\n",
       "      <td>2</td>\n",
       "    </tr>\n",
       "    <tr>\n",
       "      <th>4</th>\n",
       "      <td>3113</td>\n",
       "      <td>873369</td>\n",
       "      <td>3.0</td>\n",
       "      <td>2000-11-20</td>\n",
       "      <td>4</td>\n",
       "      <td>3.187192</td>\n",
       "      <td>2</td>\n",
       "    </tr>\n",
       "  </tbody>\n",
       "</table>\n",
       "</div>"
      ],
      "text/plain": [
       "    mid  cust_id  rating     r_date  m_decade  m_avg_rating  m_quality\n",
       "0  3113   510180     3.0 1999-12-12         4      3.187192          2\n",
       "1  3113  1589382     4.0 2000-03-11         4      3.187192          2\n",
       "2  3113  1878798     2.0 2000-08-08         4      3.187192          2\n",
       "3  3113  1259176     4.0 2000-11-10         4      3.187192          2\n",
       "4  3113   873369     3.0 2000-11-20         4      3.187192          2"
      ]
     },
     "execution_count": 72,
     "metadata": {},
     "output_type": "execute_result"
    }
   ],
   "source": [
    "#adding quality and avg rating as a feature\n",
    "data = data.merge(avgrating)\n",
    "data.head()"
   ]
  },
  {
   "cell_type": "markdown",
   "id": "51b98078",
   "metadata": {},
   "source": [
    "**2. On average, do users enjoy a specific decade more than others?**"
   ]
  },
  {
   "cell_type": "code",
   "execution_count": 73,
   "id": "bc8d5e34",
   "metadata": {},
   "outputs": [
    {
     "data": {
      "text/plain": [
       "<AxesSubplot:xlabel='m_decade', ylabel='m_avg_rating'>"
      ]
     },
     "execution_count": 73,
     "metadata": {},
     "output_type": "execute_result"
    },
    {
     "data": {
      "image/png": "[encoded data removed]",
      "text/plain": [
       "<Figure size 640x480 with 1 Axes>"
      ]
     },
     "metadata": {},
     "output_type": "display_data"
    }
   ],
   "source": [
    "sns.violinplot(\n",
    "    y=\"m_avg_rating\", \n",
    "    x=\"m_decade\", \n",
    "    data=data, \n",
    "    color='aqua',\n",
    "    inner=\"quartile\",  # Seeing the mean and quartiles\n",
    ")\n"
   ]
  },
  {
   "cell_type": "code",
   "execution_count": 74,
   "id": "c5b25ad0",
   "metadata": {},
   "outputs": [
    {
     "data": {
      "text/plain": [
       "m_decade\n",
       "0    3.849364\n",
       "1    3.836780\n",
       "2    3.774851\n",
       "3    3.681291\n",
       "4    3.623350\n",
       "5    3.542565\n",
       "Name: rating, dtype: float64"
      ]
     },
     "execution_count": 74,
     "metadata": {},
     "output_type": "execute_result"
    }
   ],
   "source": [
    "data.groupby('m_decade')['rating'].mean().sort_values(ascending=False)"
   ]
  },
  {
   "cell_type": "markdown",
   "id": "8486e0be",
   "metadata": {},
   "source": [
    "On average, users may tend to rate older content slightly higher.\n",
    "\n",
    "**3. What is the distribution of rating count? Does higher rating count indicate higher quality?**"
   ]
  },
  {
   "cell_type": "code",
   "execution_count": 76,
   "id": "a374e3ab",
   "metadata": {},
   "outputs": [
    {
     "data": {
      "text/html": [
       "<div>\n",
       "<style scoped>\n",
       "    .dataframe tbody tr th:only-of-type {\n",
       "        vertical-align: middle;\n",
       "    }\n",
       "\n",
       "    .dataframe tbody tr th {\n",
       "        vertical-align: top;\n",
       "    }\n",
       "\n",
       "    .dataframe thead th {\n",
       "        text-align: right;\n",
       "    }\n",
       "</style>\n",
       "<table border=\"1\" class=\"dataframe\">\n",
       "  <thead>\n",
       "    <tr style=\"text-align: right;\">\n",
       "      <th></th>\n",
       "      <th>mid</th>\n",
       "      <th>m_avg_rating</th>\n",
       "      <th>m_quality</th>\n",
       "      <th>r_count</th>\n",
       "    </tr>\n",
       "  </thead>\n",
       "  <tbody>\n",
       "    <tr>\n",
       "      <th>count</th>\n",
       "      <td>16221.000000</td>\n",
       "      <td>16221.000000</td>\n",
       "      <td>16221.000000</td>\n",
       "      <td>16221.000000</td>\n",
       "    </tr>\n",
       "    <tr>\n",
       "      <th>mean</th>\n",
       "      <td>8889.624499</td>\n",
       "      <td>3.263065</td>\n",
       "      <td>2.586030</td>\n",
       "      <td>61.648480</td>\n",
       "    </tr>\n",
       "    <tr>\n",
       "      <th>std</th>\n",
       "      <td>5138.947282</td>\n",
       "      <td>0.787667</td>\n",
       "      <td>1.150167</td>\n",
       "      <td>175.357348</td>\n",
       "    </tr>\n",
       "    <tr>\n",
       "      <th>min</th>\n",
       "      <td>1.000000</td>\n",
       "      <td>1.000000</td>\n",
       "      <td>1.000000</td>\n",
       "      <td>1.000000</td>\n",
       "    </tr>\n",
       "    <tr>\n",
       "      <th>25%</th>\n",
       "      <td>4439.000000</td>\n",
       "      <td>2.947368</td>\n",
       "      <td>2.000000</td>\n",
       "      <td>2.000000</td>\n",
       "    </tr>\n",
       "    <tr>\n",
       "      <th>50%</th>\n",
       "      <td>8878.000000</td>\n",
       "      <td>3.333333</td>\n",
       "      <td>3.000000</td>\n",
       "      <td>7.000000</td>\n",
       "    </tr>\n",
       "    <tr>\n",
       "      <th>75%</th>\n",
       "      <td>13346.000000</td>\n",
       "      <td>3.800000</td>\n",
       "      <td>4.000000</td>\n",
       "      <td>32.000000</td>\n",
       "    </tr>\n",
       "    <tr>\n",
       "      <th>max</th>\n",
       "      <td>17770.000000</td>\n",
       "      <td>5.000000</td>\n",
       "      <td>4.000000</td>\n",
       "      <td>2269.000000</td>\n",
       "    </tr>\n",
       "  </tbody>\n",
       "</table>\n",
       "</div>"
      ],
      "text/plain": [
       "                mid  m_avg_rating     m_quality       r_count\n",
       "count  16221.000000  16221.000000  16221.000000  16221.000000\n",
       "mean    8889.624499      3.263065      2.586030     61.648480\n",
       "std     5138.947282      0.787667      1.150167    175.357348\n",
       "min        1.000000      1.000000      1.000000      1.000000\n",
       "25%     4439.000000      2.947368      2.000000      2.000000\n",
       "50%     8878.000000      3.333333      3.000000      7.000000\n",
       "75%    13346.000000      3.800000      4.000000     32.000000\n",
       "max    17770.000000      5.000000      4.000000   2269.000000"
      ]
     },
     "execution_count": 76,
     "metadata": {},
     "output_type": "execute_result"
    }
   ],
   "source": [
    "popularity = data.groupby('mid')['rating'].count().sort_values(ascending=False).to_frame()\n",
    "popularity = popularity.rename(columns = {'rating': 'r_count'}).reset_index()\n",
    "avgrating = avgrating.merge(popularity)\n",
    "avgrating.describe()"
   ]
  },
  {
   "cell_type": "code",
   "execution_count": 77,
   "id": "e3bd346c",
   "metadata": {},
   "outputs": [
    {
     "data": {
      "image/png": "[encoded data removed]",
      "text/plain": [
       "<Figure size 640x480 with 1 Axes>"
      ]
     },
     "metadata": {},
     "output_type": "display_data"
    }
   ],
   "source": [
    "#looks at distribution of rating count per content\n",
    "avgrating['r_count'].plot(kind='hist');"
   ]
  },
  {
   "cell_type": "code",
   "execution_count": 78,
   "id": "c214c60b",
   "metadata": {},
   "outputs": [
    {
     "data": {
      "image/png": "[encoded data removed]",
      "text/plain": [
       "<Figure size 640x480 with 1 Axes>"
      ]
     },
     "metadata": {},
     "output_type": "display_data"
    }
   ],
   "source": [
    "sns.scatterplot(x=avgrating['r_count'],y=avgrating['m_avg_rating']);"
   ]
  },
  {
   "cell_type": "code",
   "execution_count": 79,
   "id": "0666189c",
   "metadata": {},
   "outputs": [
    {
     "data": {
      "text/plain": [
       "<AxesSubplot:xlabel='r_count', ylabel='m_avg_rating'>"
      ]
     },
     "execution_count": 79,
     "metadata": {},
     "output_type": "execute_result"
    },
    {
     "data": {
      "image/png": "[encoded data removed]",
      "text/plain": [
       "<Figure size 640x480 with 1 Axes>"
      ]
     },
     "metadata": {},
     "output_type": "display_data"
    }
   ],
   "source": [
    "sns.regplot(data = avgrating, x='r_count', y='m_avg_rating')"
   ]
  },
  {
   "cell_type": "markdown",
   "id": "aff44edd",
   "metadata": {},
   "source": [
    "### Thoughts on content attributes\n",
    "\n",
    "- Popularity: content pieces on avg have 12 ratings, though it can range up to 4606 ratings. More popular content has an above average rating. I'll address popularity bias in my models\n",
    "\n",
    "- Quality: I'm certain that quality directly impacts consumer experience so I made it a feature I'd like to keep an eye on\n",
    "\n",
    "- Decade: grouping by decade rather than year released is more meaningful in that it also describes potential stylistic preferences or nostalgia/emotional attachments\n",
    "\n",
    "\n",
    "## User behavior\n",
    "\n",
    "**1. Most active users**"
   ]
  },
  {
   "cell_type": "code",
   "execution_count": null,
   "id": "9b97c80b",
   "metadata": {},
   "outputs": [],
   "source": [
    "users = data.groupby('cust_id')['rating'].count().sort_values(ascending=False).to_frame()\n",
    "users = users.rename(columns = {'rating': 'user_engagement'}).reset_index()\n",
    "users.describe()"
   ]
  },
  {
   "cell_type": "code",
   "execution_count": null,
   "id": "2cb93c11",
   "metadata": {},
   "outputs": [],
   "source": [
    "#looks at distribution of avg # of ratings per user\n",
    "users['user_engagement'].plot(kind='hist');"
   ]
  },
  {
   "cell_type": "code",
   "execution_count": null,
   "id": "92af8d2f",
   "metadata": {},
   "outputs": [],
   "source": [
    "def activity(row):\n",
    "    \n",
    "    \"\"\"\n",
    "    bins users by activity level\n",
    "    \"\"\"\n",
    "    if row['user_engagement'] == 1:\n",
    "        return 1\n",
    "    elif row['user_engagement'] == 2:\n",
    "        return 2\n",
    "    elif 3 <= row['user_engagement'] <= 4:\n",
    "        return 3\n",
    "    elif 5 <= row['user_engagement'] <= 10:\n",
    "        return 4\n",
    "    else:\n",
    "        #these are super users\n",
    "        return 5"
   ]
  },
  {
   "cell_type": "code",
   "execution_count": null,
   "id": "660e585d",
   "metadata": {},
   "outputs": [],
   "source": [
    "users['cust_act_rank'] = users.apply(activity, axis=1)\n",
    "users.head()"
   ]
  },
  {
   "cell_type": "code",
   "execution_count": null,
   "id": "1f7e397e",
   "metadata": {},
   "outputs": [],
   "source": [
    "users['cust_act_rank'].value_counts() "
   ]
  },
  {
   "cell_type": "code",
   "execution_count": null,
   "id": "be5cbca0",
   "metadata": {},
   "outputs": [],
   "source": [
    "plt.bar((users['cust_act_rank'].value_counts(sort=True).index), \n",
    "        (users['cust_act_rank'].value_counts(sort=True).values))"
   ]
  },
  {
   "cell_type": "code",
   "execution_count": null,
   "id": "a47167ab",
   "metadata": {},
   "outputs": [],
   "source": [
    "data.head()"
   ]
  },
  {
   "cell_type": "code",
   "execution_count": null,
   "id": "9e193ec8",
   "metadata": {},
   "outputs": [],
   "source": [
    "data.to_csv('data/final_df.csv')"
   ]
  },
  {
   "cell_type": "code",
   "execution_count": null,
   "id": "824c3162",
   "metadata": {},
   "outputs": [],
   "source": [
    "series = data[['r_date', 'rating']]"
   ]
  },
  {
   "cell_type": "code",
   "execution_count": null,
   "id": "0767446b",
   "metadata": {},
   "outputs": [],
   "source": [
    "series['Month_Year'] = series['r_date'].dt.to_period('M')\n"
   ]
  },
  {
   "cell_type": "code",
   "execution_count": null,
   "id": "0414afde",
   "metadata": {},
   "outputs": [],
   "source": [
    "series_my = series.groupby('Month_Year')['rating'].count().sort_values(ascending=False).to_frame()\n",
    "series_my.head()"
   ]
  },
  {
   "cell_type": "code",
   "execution_count": null,
   "id": "095927c5",
   "metadata": {},
   "outputs": [],
   "source": [
    "series_my.info()"
   ]
  },
  {
   "cell_type": "code",
   "execution_count": null,
   "id": "26790885",
   "metadata": {},
   "outputs": [],
   "source": [
    "series_my.plot(figsize = (16,6));"
   ]
  },
  {
   "cell_type": "code",
   "execution_count": null,
   "id": "d42fa3e1",
   "metadata": {},
   "outputs": [],
   "source": [
    "year_groups = series_my.groupby(pd.Grouper(freq='A'))\n",
    "year_groups.head()"
   ]
  },
  {
   "cell_type": "code",
   "execution_count": null,
   "id": "a00f3f27",
   "metadata": {},
   "outputs": [],
   "source": [
    "series_my_df = pd.DataFrame()\n",
    "\n",
    "for yr, group in year_groups:\n",
    "    series_my_df[yr.year] = group.values.ravel()\n",
    "    \n",
    "series_my_df.plot(subplots=True, legend=True)"
   ]
  },
  {
   "cell_type": "code",
   "execution_count": null,
   "id": "73512cd8",
   "metadata": {},
   "outputs": [],
   "source": []
  }
 ],
 "metadata": {
  "kernelspec": {
   "display_name": "Python 3 (ipykernel)",
   "language": "python",
   "name": "python3"
  },
  "language_info": {
   "codemirror_mode": {
    "name": "ipython",
    "version": 3
   },
   "file_extension": ".py",
   "mimetype": "text/x-python",
   "name": "python",
   "nbconvert_exporter": "python",
   "pygments_lexer": "ipython3",
   "version": "3.9.13"
  }
 },
 "nbformat": 4,
 "nbformat_minor": 5
}
