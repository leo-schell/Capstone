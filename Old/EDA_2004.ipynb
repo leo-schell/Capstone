{
 "cells": [
  {
   "cell_type": "code",
   "execution_count": 1,
   "id": "9a78b02e",
   "metadata": {},
   "outputs": [
    {
     "data": {
      "application/javascript": [
       "if (!(\"Notification\" in window)) {\n",
       "    alert(\"This browser does not support desktop notifications, so the %%notify magic will not work.\");\n",
       "} else if (Notification.permission !== 'granted' && Notification.permission !== 'denied') {\n",
       "    Notification.requestPermission(function (permission) {\n",
       "        if(!('permission' in Notification)) {\n",
       "            Notification.permission = permission;\n",
       "        }\n",
       "    })\n",
       "}\n"
      ],
      "text/plain": [
       "<IPython.core.display.Javascript object>"
      ]
     },
     "metadata": {},
     "output_type": "display_data"
    }
   ],
   "source": [
    "import pandas as pd\n",
    "import numpy as np\n",
    "import matplotlib.pyplot as plt\n",
    "%matplotlib inline\n",
    "import seaborn as sns\n",
    "\n",
    "#notify me when a long running cell is complete\n",
    "%load_ext jupyternotify\n",
    "import time"
   ]
  },
  {
   "cell_type": "code",
   "execution_count": 22,
   "id": "0370b072",
   "metadata": {},
   "outputs": [
    {
     "name": "stderr",
     "output_type": "stream",
     "text": [
      "/var/folders/xc/4fn08svj2dgdk_3wj3xkp_rr0000gn/T/ipykernel_9369/3666075594.py:1: ParserWarning: Length of header or names does not match length of data. This leads to a loss of data with index_col=False.\n",
      "  content = pd.read_csv('data/movie_titles3.csv', index_col=False, names = ['id', 'year', 'title'])\n"
     ]
    },
    {
     "data": {
      "text/html": [
       "<div>\n",
       "<style scoped>\n",
       "    .dataframe tbody tr th:only-of-type {\n",
       "        vertical-align: middle;\n",
       "    }\n",
       "\n",
       "    .dataframe tbody tr th {\n",
       "        vertical-align: top;\n",
       "    }\n",
       "\n",
       "    .dataframe thead th {\n",
       "        text-align: right;\n",
       "    }\n",
       "</style>\n",
       "<table border=\"1\" class=\"dataframe\">\n",
       "  <thead>\n",
       "    <tr style=\"text-align: right;\">\n",
       "      <th></th>\n",
       "      <th>id</th>\n",
       "      <th>year</th>\n",
       "      <th>title</th>\n",
       "    </tr>\n",
       "  </thead>\n",
       "  <tbody>\n",
       "    <tr>\n",
       "      <th>0</th>\n",
       "      <td>1</td>\n",
       "      <td>2003.0</td>\n",
       "      <td>Dinosaur Planet</td>\n",
       "    </tr>\n",
       "    <tr>\n",
       "      <th>1</th>\n",
       "      <td>2</td>\n",
       "      <td>2004.0</td>\n",
       "      <td>Isle of Man TT 2004 Review</td>\n",
       "    </tr>\n",
       "    <tr>\n",
       "      <th>2</th>\n",
       "      <td>3</td>\n",
       "      <td>1997.0</td>\n",
       "      <td>Character</td>\n",
       "    </tr>\n",
       "    <tr>\n",
       "      <th>3</th>\n",
       "      <td>4</td>\n",
       "      <td>1994.0</td>\n",
       "      <td>Paula Abdul's Get Up &amp; Dance</td>\n",
       "    </tr>\n",
       "    <tr>\n",
       "      <th>4</th>\n",
       "      <td>5</td>\n",
       "      <td>2004.0</td>\n",
       "      <td>The Rise and Fall of ECW</td>\n",
       "    </tr>\n",
       "  </tbody>\n",
       "</table>\n",
       "</div>"
      ],
      "text/plain": [
       "   id    year                         title\n",
       "0   1  2003.0               Dinosaur Planet\n",
       "1   2  2004.0    Isle of Man TT 2004 Review\n",
       "2   3  1997.0                     Character\n",
       "3   4  1994.0  Paula Abdul's Get Up & Dance\n",
       "4   5  2004.0      The Rise and Fall of ECW"
      ]
     },
     "execution_count": 22,
     "metadata": {},
     "output_type": "execute_result"
    }
   ],
   "source": [
    "content = pd.read_csv('data/movie_titles3.csv', index_col=False, names = ['id', 'year', 'title'])\n",
    "content.head()"
   ]
  },
  {
   "cell_type": "code",
   "execution_count": 23,
   "id": "9349adc0",
   "metadata": {},
   "outputs": [
    {
     "data": {
      "text/plain": [
       "count    17763.000000\n",
       "mean      1990.263694\n",
       "std         16.507891\n",
       "min       1896.000000\n",
       "25%       1985.000000\n",
       "50%       1997.000000\n",
       "75%       2002.000000\n",
       "max       2005.000000\n",
       "Name: year, dtype: float64"
      ]
     },
     "execution_count": 23,
     "metadata": {},
     "output_type": "execute_result"
    }
   ],
   "source": [
    "content['year'].describe()"
   ]
  },
  {
   "cell_type": "code",
   "execution_count": 24,
   "id": "70f7312c",
   "metadata": {},
   "outputs": [
    {
     "name": "stdout",
     "output_type": "stream",
     "text": [
      "<class 'pandas.core.frame.DataFrame'>\n",
      "RangeIndex: 17770 entries, 0 to 17769\n",
      "Data columns (total 3 columns):\n",
      " #   Column  Non-Null Count  Dtype  \n",
      "---  ------  --------------  -----  \n",
      " 0   id      17770 non-null  int64  \n",
      " 1   year    17763 non-null  float64\n",
      " 2   title   17770 non-null  object \n",
      "dtypes: float64(1), int64(1), object(1)\n",
      "memory usage: 416.6+ KB\n"
     ]
    }
   ],
   "source": [
    "content.info()"
   ]
  },
  {
   "cell_type": "markdown",
   "id": "9a457642",
   "metadata": {},
   "source": [
    "# Year Release\n",
    "\n",
    "There are a few missing years - adding those in.\n",
    "\n",
    "I'm assuming that people identify heavily with the content that they grew up with or a certain styles of content. For that reason, I'm going to bin films by decade.\n",
    "\n",
    "However, considering the low outliers anything before 1960 will be binned together. Q1 - 1.5IQR"
   ]
  },
  {
   "cell_type": "code",
   "execution_count": 25,
   "id": "a7089a26",
   "metadata": {
    "scrolled": true
   },
   "outputs": [
    {
     "data": {
      "text/html": [
       "<div>\n",
       "<style scoped>\n",
       "    .dataframe tbody tr th:only-of-type {\n",
       "        vertical-align: middle;\n",
       "    }\n",
       "\n",
       "    .dataframe tbody tr th {\n",
       "        vertical-align: top;\n",
       "    }\n",
       "\n",
       "    .dataframe thead th {\n",
       "        text-align: right;\n",
       "    }\n",
       "</style>\n",
       "<table border=\"1\" class=\"dataframe\">\n",
       "  <thead>\n",
       "    <tr style=\"text-align: right;\">\n",
       "      <th></th>\n",
       "      <th>id</th>\n",
       "      <th>year</th>\n",
       "      <th>title</th>\n",
       "    </tr>\n",
       "  </thead>\n",
       "  <tbody>\n",
       "    <tr>\n",
       "      <th>4387</th>\n",
       "      <td>4388</td>\n",
       "      <td>NaN</td>\n",
       "      <td>Ancient Civilizations: Rome and Pompeii</td>\n",
       "    </tr>\n",
       "    <tr>\n",
       "      <th>4793</th>\n",
       "      <td>4794</td>\n",
       "      <td>NaN</td>\n",
       "      <td>Ancient Civilizations: Land of the Pharaohs</td>\n",
       "    </tr>\n",
       "    <tr>\n",
       "      <th>7240</th>\n",
       "      <td>7241</td>\n",
       "      <td>NaN</td>\n",
       "      <td>Ancient Civilizations: Athens and Greece</td>\n",
       "    </tr>\n",
       "    <tr>\n",
       "      <th>10781</th>\n",
       "      <td>10782</td>\n",
       "      <td>NaN</td>\n",
       "      <td>Roti Kapada Aur Makaan</td>\n",
       "    </tr>\n",
       "    <tr>\n",
       "      <th>15917</th>\n",
       "      <td>15918</td>\n",
       "      <td>NaN</td>\n",
       "      <td>Hote Hote Pyaar Ho Gaya</td>\n",
       "    </tr>\n",
       "    <tr>\n",
       "      <th>16677</th>\n",
       "      <td>16678</td>\n",
       "      <td>NaN</td>\n",
       "      <td>Jimmy Hollywood</td>\n",
       "    </tr>\n",
       "    <tr>\n",
       "      <th>17666</th>\n",
       "      <td>17667</td>\n",
       "      <td>NaN</td>\n",
       "      <td>Eros Dance Dhamaka</td>\n",
       "    </tr>\n",
       "  </tbody>\n",
       "</table>\n",
       "</div>"
      ],
      "text/plain": [
       "          id  year                                        title\n",
       "4387    4388   NaN      Ancient Civilizations: Rome and Pompeii\n",
       "4793    4794   NaN  Ancient Civilizations: Land of the Pharaohs\n",
       "7240    7241   NaN     Ancient Civilizations: Athens and Greece\n",
       "10781  10782   NaN                       Roti Kapada Aur Makaan\n",
       "15917  15918   NaN                      Hote Hote Pyaar Ho Gaya\n",
       "16677  16678   NaN                              Jimmy Hollywood\n",
       "17666  17667   NaN                           Eros Dance Dhamaka"
      ]
     },
     "execution_count": 25,
     "metadata": {},
     "output_type": "execute_result"
    }
   ],
   "source": [
    "content[content['year'].isna()]"
   ]
  },
  {
   "cell_type": "code",
   "execution_count": 26,
   "id": "1cc5af99",
   "metadata": {},
   "outputs": [
    {
     "data": {
      "text/html": [
       "<div>\n",
       "<style scoped>\n",
       "    .dataframe tbody tr th:only-of-type {\n",
       "        vertical-align: middle;\n",
       "    }\n",
       "\n",
       "    .dataframe tbody tr th {\n",
       "        vertical-align: top;\n",
       "    }\n",
       "\n",
       "    .dataframe thead th {\n",
       "        text-align: right;\n",
       "    }\n",
       "</style>\n",
       "<table border=\"1\" class=\"dataframe\">\n",
       "  <thead>\n",
       "    <tr style=\"text-align: right;\">\n",
       "      <th></th>\n",
       "      <th>id</th>\n",
       "      <th>year</th>\n",
       "      <th>title</th>\n",
       "    </tr>\n",
       "  </thead>\n",
       "  <tbody>\n",
       "  </tbody>\n",
       "</table>\n",
       "</div>"
      ],
      "text/plain": [
       "Empty DataFrame\n",
       "Columns: [id, year, title]\n",
       "Index: []"
      ]
     },
     "execution_count": 26,
     "metadata": {},
     "output_type": "execute_result"
    }
   ],
   "source": [
    "#fix year\n",
    "content.at[4387,'year']=2002\n",
    "content.at[4793,'year']=2002\n",
    "content.at[7240,'year']=2002\n",
    "content.at[10781,'year']=1974\n",
    "content.at[15917,'year']=1999\n",
    "content.at[16677,'year']=1994\n",
    "content.at[17666,'year']=1999\n",
    "\n",
    "#check\n",
    "content[content['year'].isna()]"
   ]
  },
  {
   "cell_type": "code",
   "execution_count": 27,
   "id": "0066fd7f",
   "metadata": {},
   "outputs": [],
   "source": [
    "def decade(row):\n",
    "    \n",
    "    \"\"\"\n",
    "    bins years by decade, 1959 and before are binned together\n",
    "    \"\"\"\n",
    "    if row['year'] <= 1959:\n",
    "        return str(0)\n",
    "    elif 1960 <= row['year'] < 1969:\n",
    "        return str(1960)\n",
    "    elif 1970 <= row['year'] < 1979:\n",
    "        return str(1970)\n",
    "    elif 1980 <= row['year'] < 1989:\n",
    "        return str(1980)\n",
    "    elif 1990 <= row['year'] < 1999:\n",
    "        return str(1990)\n",
    "    else:\n",
    "        return str(2000)"
   ]
  },
  {
   "cell_type": "code",
   "execution_count": 28,
   "id": "13667d22",
   "metadata": {},
   "outputs": [
    {
     "data": {
      "text/html": [
       "<div>\n",
       "<style scoped>\n",
       "    .dataframe tbody tr th:only-of-type {\n",
       "        vertical-align: middle;\n",
       "    }\n",
       "\n",
       "    .dataframe tbody tr th {\n",
       "        vertical-align: top;\n",
       "    }\n",
       "\n",
       "    .dataframe thead th {\n",
       "        text-align: right;\n",
       "    }\n",
       "</style>\n",
       "<table border=\"1\" class=\"dataframe\">\n",
       "  <thead>\n",
       "    <tr style=\"text-align: right;\">\n",
       "      <th></th>\n",
       "      <th>id</th>\n",
       "      <th>year</th>\n",
       "      <th>title</th>\n",
       "      <th>decade</th>\n",
       "    </tr>\n",
       "  </thead>\n",
       "  <tbody>\n",
       "    <tr>\n",
       "      <th>0</th>\n",
       "      <td>1</td>\n",
       "      <td>2003.0</td>\n",
       "      <td>Dinosaur Planet</td>\n",
       "      <td>2000</td>\n",
       "    </tr>\n",
       "    <tr>\n",
       "      <th>1</th>\n",
       "      <td>2</td>\n",
       "      <td>2004.0</td>\n",
       "      <td>Isle of Man TT 2004 Review</td>\n",
       "      <td>2000</td>\n",
       "    </tr>\n",
       "    <tr>\n",
       "      <th>2</th>\n",
       "      <td>3</td>\n",
       "      <td>1997.0</td>\n",
       "      <td>Character</td>\n",
       "      <td>1990</td>\n",
       "    </tr>\n",
       "    <tr>\n",
       "      <th>3</th>\n",
       "      <td>4</td>\n",
       "      <td>1994.0</td>\n",
       "      <td>Paula Abdul's Get Up &amp; Dance</td>\n",
       "      <td>1990</td>\n",
       "    </tr>\n",
       "    <tr>\n",
       "      <th>4</th>\n",
       "      <td>5</td>\n",
       "      <td>2004.0</td>\n",
       "      <td>The Rise and Fall of ECW</td>\n",
       "      <td>2000</td>\n",
       "    </tr>\n",
       "    <tr>\n",
       "      <th>...</th>\n",
       "      <td>...</td>\n",
       "      <td>...</td>\n",
       "      <td>...</td>\n",
       "      <td>...</td>\n",
       "    </tr>\n",
       "    <tr>\n",
       "      <th>17765</th>\n",
       "      <td>17766</td>\n",
       "      <td>2002.0</td>\n",
       "      <td>Where the Wild Things Are and Other Maurice Se...</td>\n",
       "      <td>2000</td>\n",
       "    </tr>\n",
       "    <tr>\n",
       "      <th>17766</th>\n",
       "      <td>17767</td>\n",
       "      <td>2004.0</td>\n",
       "      <td>Fidel Castro: American Experience</td>\n",
       "      <td>2000</td>\n",
       "    </tr>\n",
       "    <tr>\n",
       "      <th>17767</th>\n",
       "      <td>17768</td>\n",
       "      <td>2000.0</td>\n",
       "      <td>Epoch</td>\n",
       "      <td>2000</td>\n",
       "    </tr>\n",
       "    <tr>\n",
       "      <th>17768</th>\n",
       "      <td>17769</td>\n",
       "      <td>2003.0</td>\n",
       "      <td>The Company</td>\n",
       "      <td>2000</td>\n",
       "    </tr>\n",
       "    <tr>\n",
       "      <th>17769</th>\n",
       "      <td>17770</td>\n",
       "      <td>2003.0</td>\n",
       "      <td>Alien Hunter</td>\n",
       "      <td>2000</td>\n",
       "    </tr>\n",
       "  </tbody>\n",
       "</table>\n",
       "<p>17770 rows × 4 columns</p>\n",
       "</div>"
      ],
      "text/plain": [
       "          id    year                                              title decade\n",
       "0          1  2003.0                                    Dinosaur Planet   2000\n",
       "1          2  2004.0                         Isle of Man TT 2004 Review   2000\n",
       "2          3  1997.0                                          Character   1990\n",
       "3          4  1994.0                       Paula Abdul's Get Up & Dance   1990\n",
       "4          5  2004.0                           The Rise and Fall of ECW   2000\n",
       "...      ...     ...                                                ...    ...\n",
       "17765  17766  2002.0  Where the Wild Things Are and Other Maurice Se...   2000\n",
       "17766  17767  2004.0                  Fidel Castro: American Experience   2000\n",
       "17767  17768  2000.0                                              Epoch   2000\n",
       "17768  17769  2003.0                                        The Company   2000\n",
       "17769  17770  2003.0                                       Alien Hunter   2000\n",
       "\n",
       "[17770 rows x 4 columns]"
      ]
     },
     "execution_count": 28,
     "metadata": {},
     "output_type": "execute_result"
    }
   ],
   "source": [
    "#bin years\n",
    "\n",
    "content['decade'] = content.apply(decade, axis=1)\n",
    "content"
   ]
  },
  {
   "cell_type": "code",
   "execution_count": 29,
   "id": "44d495ec",
   "metadata": {},
   "outputs": [
    {
     "name": "stdout",
     "output_type": "stream",
     "text": [
      "<class 'pandas.core.frame.DataFrame'>\n",
      "RangeIndex: 17770 entries, 0 to 17769\n",
      "Data columns (total 4 columns):\n",
      " #   Column  Non-Null Count  Dtype  \n",
      "---  ------  --------------  -----  \n",
      " 0   id      17770 non-null  int64  \n",
      " 1   year    17770 non-null  float64\n",
      " 2   title   17770 non-null  object \n",
      " 3   decade  17770 non-null  object \n",
      "dtypes: float64(1), int64(1), object(2)\n",
      "memory usage: 555.4+ KB\n"
     ]
    }
   ],
   "source": [
    "content.info()"
   ]
  },
  {
   "cell_type": "code",
   "execution_count": 30,
   "id": "c919ef78",
   "metadata": {},
   "outputs": [
    {
     "data": {
      "text/plain": [
       "decade\n",
       "2000    8457\n",
       "1990    4209\n",
       "1980    1860\n",
       "0       1246\n",
       "1970    1152\n",
       "1960     846\n",
       "Name: count, dtype: int64"
      ]
     },
     "execution_count": 30,
     "metadata": {},
     "output_type": "execute_result"
    }
   ],
   "source": [
    "# decade counts\n",
    "content['decade'].value_counts(sort=True)"
   ]
  },
  {
   "cell_type": "code",
   "execution_count": 31,
   "id": "8772f176",
   "metadata": {},
   "outputs": [
    {
     "data": {
      "text/plain": [
       "<BarContainer object of 6 artists>"
      ]
     },
     "execution_count": 31,
     "metadata": {},
     "output_type": "execute_result"
    },
    {
     "data": {
      "image/png": "[encoded data removed]",
      "text/plain": [
       "<Figure size 640x480 with 1 Axes>"
      ]
     },
     "metadata": {},
     "output_type": "display_data"
    }
   ],
   "source": [
    "plt.bar((content['decade'].value_counts(sort=True).index), (content['decade'].value_counts(sort=True).values))"
   ]
  },
  {
   "cell_type": "markdown",
   "id": "c92a02a7",
   "metadata": {},
   "source": [
    "# content feature selection\n",
    "\n",
    "to minimize bias, i'm only going to add the decade column to the data i will use for modeling."
   ]
  },
  {
   "cell_type": "code",
   "execution_count": 32,
   "id": "32eba9ea",
   "metadata": {},
   "outputs": [
    {
     "name": "stdout",
     "output_type": "stream",
     "text": [
      "<class 'pandas.core.frame.DataFrame'>\n",
      "RangeIndex: 17770 entries, 0 to 17769\n",
      "Data columns (total 2 columns):\n",
      " #   Column    Non-Null Count  Dtype \n",
      "---  ------    --------------  ----- \n",
      " 0   mid       17770 non-null  int64 \n",
      " 1   m_decade  17770 non-null  object\n",
      "dtypes: int64(1), object(1)\n",
      "memory usage: 277.8+ KB\n"
     ]
    }
   ],
   "source": [
    "decade = content[['id', 'decade']]\n",
    "decade = decade.rename(columns = {'id': 'mid', 'decade': 'm_decade'})\n",
    "decade.info()"
   ]
  },
  {
   "cell_type": "markdown",
   "id": "a0ccabac",
   "metadata": {},
   "source": [
    "# ratings\n",
    "\n",
    "importing partial datasets as csvs for ease of use"
   ]
  },
  {
   "cell_type": "code",
   "execution_count": 2,
   "id": "a00c4a29",
   "metadata": {},
   "outputs": [],
   "source": [
    "d1 = pd.read_csv('data/d1_clean.csv')\n",
    "d1 = d1.drop(['Unnamed: 0'], axis=1)\n",
    "\n",
    "d2 = pd.read_csv('data/d2_clean.csv')\n",
    "d2 = d2.drop(['Unnamed: 0'], axis=1)\n",
    "\n",
    "d3 = pd.read_csv('data/d3_clean.csv')\n",
    "d3 = d3.drop(['Unnamed: 0'], axis = 1)\n",
    "\n",
    "d4 = pd.read_csv('data/d4_clean.csv')\n",
    "d4 = d4.drop(['Unnamed: 0'], axis =1)"
   ]
  },
  {
   "cell_type": "code",
   "execution_count": 3,
   "id": "0b8efef6",
   "metadata": {},
   "outputs": [
    {
     "data": {
      "application/javascript": [
       "$(document).ready(\n",
       "    function() {\n",
       "        function appendUniqueDiv(){\n",
       "            // append a div with our uuid so we can check that it's already\n",
       "            // been sent and avoid duplicates on page reload\n",
       "            var notifiedDiv = document.createElement(\"div\")\n",
       "            notifiedDiv.id = \"1cfd0f0f-d7c3-48da-a57e-f464186f0a73\"\n",
       "            element.append(notifiedDiv)\n",
       "        }\n",
       "\n",
       "        // only send notifications if the pageload is complete; this will\n",
       "        // help stop extra notifications when a saved notebook is loaded,\n",
       "        // which during testing gives us state \"interactive\", not \"complete\"\n",
       "        if (document.readyState === 'complete') {\n",
       "            // check for the div that signifies that the notification\n",
       "            // was already sent\n",
       "            if (document.getElementById(\"1cfd0f0f-d7c3-48da-a57e-f464186f0a73\") === null) {\n",
       "                var notificationPayload = {\"requireInteraction\": false, \"icon\": \"/static/base/images/favicon.ico\", \"body\": \"Cell execution has finished!\"};\n",
       "                if (Notification.permission !== 'denied') {\n",
       "                    if (Notification.permission !== 'granted') { \n",
       "                        Notification.requestPermission(function (permission) {\n",
       "                            if(!('permission' in Notification)) {\n",
       "                                Notification.permission = permission\n",
       "                            }\n",
       "                        })\n",
       "                    }\n",
       "                    if (Notification.permission === 'granted') {\n",
       "                    var notification = new Notification(\"Jupyter Notebook\", notificationPayload)\n",
       "                    appendUniqueDiv()\n",
       "                    notification.onclick = function () {\n",
       "                        window.focus();\n",
       "                        this.close();\n",
       "                        };\n",
       "                    } \n",
       "                }     \n",
       "            }\n",
       "        }\n",
       "    }\n",
       ")\n"
      ],
      "text/plain": [
       "<IPython.core.display.Javascript object>"
      ]
     },
     "metadata": {},
     "output_type": "display_data"
    }
   ],
   "source": [
    "%notify"
   ]
  },
  {
   "cell_type": "code",
   "execution_count": 4,
   "id": "317883c6",
   "metadata": {},
   "outputs": [
    {
     "name": "stdout",
     "output_type": "stream",
     "text": [
      "<class 'pandas.core.frame.DataFrame'>\n",
      "RangeIndex: 100480507 entries, 0 to 100480506\n",
      "Data columns (total 8 columns):\n",
      " #   Column   Dtype  \n",
      "---  ------   -----  \n",
      " 0   mid      int64  \n",
      " 1   cust_id  int64  \n",
      " 2   rating   float64\n",
      " 3   date     object \n",
      " 4   year     int64  \n",
      " 5   month    int64  \n",
      " 6   day      int64  \n",
      " 7   fisc_Q   int64  \n",
      "dtypes: float64(1), int64(6), object(1)\n",
      "memory usage: 6.0+ GB\n"
     ]
    }
   ],
   "source": [
    "df = pd.concat([d1, d2, d3, d4], axis =0, ignore_index=True)\n",
    "df.info()"
   ]
  },
  {
   "cell_type": "code",
   "execution_count": 5,
   "id": "0cfe0a3c",
   "metadata": {},
   "outputs": [
    {
     "data": {
      "application/javascript": [
       "$(document).ready(\n",
       "    function() {\n",
       "        function appendUniqueDiv(){\n",
       "            // append a div with our uuid so we can check that it's already\n",
       "            // been sent and avoid duplicates on page reload\n",
       "            var notifiedDiv = document.createElement(\"div\")\n",
       "            notifiedDiv.id = \"26c51e07-a8cb-4291-a252-1ed5a7b79340\"\n",
       "            element.append(notifiedDiv)\n",
       "        }\n",
       "\n",
       "        // only send notifications if the pageload is complete; this will\n",
       "        // help stop extra notifications when a saved notebook is loaded,\n",
       "        // which during testing gives us state \"interactive\", not \"complete\"\n",
       "        if (document.readyState === 'complete') {\n",
       "            // check for the div that signifies that the notification\n",
       "            // was already sent\n",
       "            if (document.getElementById(\"26c51e07-a8cb-4291-a252-1ed5a7b79340\") === null) {\n",
       "                var notificationPayload = {\"requireInteraction\": false, \"icon\": \"/static/base/images/favicon.ico\", \"body\": \"Cell execution has finished!\"};\n",
       "                if (Notification.permission !== 'denied') {\n",
       "                    if (Notification.permission !== 'granted') { \n",
       "                        Notification.requestPermission(function (permission) {\n",
       "                            if(!('permission' in Notification)) {\n",
       "                                Notification.permission = permission\n",
       "                            }\n",
       "                        })\n",
       "                    }\n",
       "                    if (Notification.permission === 'granted') {\n",
       "                    var notification = new Notification(\"Jupyter Notebook\", notificationPayload)\n",
       "                    appendUniqueDiv()\n",
       "                    notification.onclick = function () {\n",
       "                        window.focus();\n",
       "                        this.close();\n",
       "                        };\n",
       "                    } \n",
       "                }     \n",
       "            }\n",
       "        }\n",
       "    }\n",
       ")\n"
      ],
      "text/plain": [
       "<IPython.core.display.Javascript object>"
      ]
     },
     "metadata": {},
     "output_type": "display_data"
    }
   ],
   "source": [
    "%notify"
   ]
  },
  {
   "cell_type": "code",
   "execution_count": 6,
   "id": "90be3fd6",
   "metadata": {},
   "outputs": [
    {
     "data": {
      "text/html": [
       "<div>\n",
       "<style scoped>\n",
       "    .dataframe tbody tr th:only-of-type {\n",
       "        vertical-align: middle;\n",
       "    }\n",
       "\n",
       "    .dataframe tbody tr th {\n",
       "        vertical-align: top;\n",
       "    }\n",
       "\n",
       "    .dataframe thead th {\n",
       "        text-align: right;\n",
       "    }\n",
       "</style>\n",
       "<table border=\"1\" class=\"dataframe\">\n",
       "  <thead>\n",
       "    <tr style=\"text-align: right;\">\n",
       "      <th></th>\n",
       "      <th>mid</th>\n",
       "      <th>cust_id</th>\n",
       "      <th>rating</th>\n",
       "      <th>date</th>\n",
       "      <th>year</th>\n",
       "      <th>month</th>\n",
       "      <th>day</th>\n",
       "      <th>fisc_Q</th>\n",
       "    </tr>\n",
       "  </thead>\n",
       "  <tbody>\n",
       "    <tr>\n",
       "      <th>0</th>\n",
       "      <td>1</td>\n",
       "      <td>1488844</td>\n",
       "      <td>3.0</td>\n",
       "      <td>2005-09-06</td>\n",
       "      <td>2005</td>\n",
       "      <td>9</td>\n",
       "      <td>6</td>\n",
       "      <td>4</td>\n",
       "    </tr>\n",
       "    <tr>\n",
       "      <th>1</th>\n",
       "      <td>1</td>\n",
       "      <td>822109</td>\n",
       "      <td>5.0</td>\n",
       "      <td>2005-05-13</td>\n",
       "      <td>2005</td>\n",
       "      <td>5</td>\n",
       "      <td>13</td>\n",
       "      <td>2</td>\n",
       "    </tr>\n",
       "    <tr>\n",
       "      <th>2</th>\n",
       "      <td>1</td>\n",
       "      <td>885013</td>\n",
       "      <td>4.0</td>\n",
       "      <td>2005-10-19</td>\n",
       "      <td>2005</td>\n",
       "      <td>10</td>\n",
       "      <td>19</td>\n",
       "      <td>4</td>\n",
       "    </tr>\n",
       "    <tr>\n",
       "      <th>3</th>\n",
       "      <td>1</td>\n",
       "      <td>30878</td>\n",
       "      <td>4.0</td>\n",
       "      <td>2005-12-26</td>\n",
       "      <td>2005</td>\n",
       "      <td>12</td>\n",
       "      <td>26</td>\n",
       "      <td>4</td>\n",
       "    </tr>\n",
       "    <tr>\n",
       "      <th>4</th>\n",
       "      <td>1</td>\n",
       "      <td>823519</td>\n",
       "      <td>3.0</td>\n",
       "      <td>2004-05-03</td>\n",
       "      <td>2004</td>\n",
       "      <td>5</td>\n",
       "      <td>3</td>\n",
       "      <td>2</td>\n",
       "    </tr>\n",
       "  </tbody>\n",
       "</table>\n",
       "</div>"
      ],
      "text/plain": [
       "   mid  cust_id  rating        date  year  month  day  fisc_Q\n",
       "0    1  1488844     3.0  2005-09-06  2005      9    6       4\n",
       "1    1   822109     5.0  2005-05-13  2005      5   13       2\n",
       "2    1   885013     4.0  2005-10-19  2005     10   19       4\n",
       "3    1    30878     4.0  2005-12-26  2005     12   26       4\n",
       "4    1   823519     3.0  2004-05-03  2004      5    3       2"
      ]
     },
     "execution_count": 6,
     "metadata": {},
     "output_type": "execute_result"
    }
   ],
   "source": [
    "df.head()"
   ]
  },
  {
   "cell_type": "code",
   "execution_count": 7,
   "id": "44ef997f",
   "metadata": {},
   "outputs": [
    {
     "data": {
      "text/plain": [
       "mid              9210\n",
       "cust_id        627867\n",
       "rating            3.0\n",
       "date       2005-05-02\n",
       "year             2005\n",
       "month               5\n",
       "day                 2\n",
       "fisc_Q              2\n",
       "Name: 51031354, dtype: object"
      ]
     },
     "execution_count": 7,
     "metadata": {},
     "output_type": "execute_result"
    }
   ],
   "source": [
    "#sanity check: where d1 and d2 end, making sure the index is correct\n",
    "#mid 9210, cust id 627867, rating 3\n",
    "df.iloc[51031354]"
   ]
  },
  {
   "cell_type": "code",
   "execution_count": 8,
   "id": "a885f3fd",
   "metadata": {},
   "outputs": [
    {
     "data": {
      "text/html": [
       "<div>\n",
       "<style scoped>\n",
       "    .dataframe tbody tr th:only-of-type {\n",
       "        vertical-align: middle;\n",
       "    }\n",
       "\n",
       "    .dataframe tbody tr th {\n",
       "        vertical-align: top;\n",
       "    }\n",
       "\n",
       "    .dataframe thead th {\n",
       "        text-align: right;\n",
       "    }\n",
       "</style>\n",
       "<table border=\"1\" class=\"dataframe\">\n",
       "  <thead>\n",
       "    <tr style=\"text-align: right;\">\n",
       "      <th></th>\n",
       "      <th>mid</th>\n",
       "      <th>cust_id</th>\n",
       "      <th>rating</th>\n",
       "      <th>r_date</th>\n",
       "      <th>r_year</th>\n",
       "      <th>r_fiscQ</th>\n",
       "    </tr>\n",
       "  </thead>\n",
       "  <tbody>\n",
       "    <tr>\n",
       "      <th>0</th>\n",
       "      <td>1</td>\n",
       "      <td>1488844</td>\n",
       "      <td>3.0</td>\n",
       "      <td>2005-09-06</td>\n",
       "      <td>2005</td>\n",
       "      <td>4</td>\n",
       "    </tr>\n",
       "    <tr>\n",
       "      <th>1</th>\n",
       "      <td>1</td>\n",
       "      <td>822109</td>\n",
       "      <td>5.0</td>\n",
       "      <td>2005-05-13</td>\n",
       "      <td>2005</td>\n",
       "      <td>2</td>\n",
       "    </tr>\n",
       "    <tr>\n",
       "      <th>2</th>\n",
       "      <td>1</td>\n",
       "      <td>885013</td>\n",
       "      <td>4.0</td>\n",
       "      <td>2005-10-19</td>\n",
       "      <td>2005</td>\n",
       "      <td>4</td>\n",
       "    </tr>\n",
       "    <tr>\n",
       "      <th>3</th>\n",
       "      <td>1</td>\n",
       "      <td>30878</td>\n",
       "      <td>4.0</td>\n",
       "      <td>2005-12-26</td>\n",
       "      <td>2005</td>\n",
       "      <td>4</td>\n",
       "    </tr>\n",
       "    <tr>\n",
       "      <th>4</th>\n",
       "      <td>1</td>\n",
       "      <td>823519</td>\n",
       "      <td>3.0</td>\n",
       "      <td>2004-05-03</td>\n",
       "      <td>2004</td>\n",
       "      <td>2</td>\n",
       "    </tr>\n",
       "  </tbody>\n",
       "</table>\n",
       "</div>"
      ],
      "text/plain": [
       "   mid  cust_id  rating      r_date  r_year  r_fiscQ\n",
       "0    1  1488844     3.0  2005-09-06    2005        4\n",
       "1    1   822109     5.0  2005-05-13    2005        2\n",
       "2    1   885013     4.0  2005-10-19    2005        4\n",
       "3    1    30878     4.0  2005-12-26    2005        4\n",
       "4    1   823519     3.0  2004-05-03    2004        2"
      ]
     },
     "execution_count": 8,
     "metadata": {},
     "output_type": "execute_result"
    }
   ],
   "source": [
    "#dropping day and month because i changed my mind\n",
    "df = df.drop(['day', 'month'], axis=1)\n",
    "\n",
    "#rename columns to avoid 'm_decade' confusion\n",
    "df = df.rename(columns = {'date': 'r_date', 'year': 'r_year', 'fisc_Q': 'r_fiscQ'})\n",
    "df.head()"
   ]
  },
  {
   "cell_type": "code",
   "execution_count": 10,
   "id": "fba1abe7",
   "metadata": {},
   "outputs": [
    {
     "name": "stdout",
     "output_type": "stream",
     "text": [
      "<class 'pandas.core.frame.DataFrame'>\n",
      "RangeIndex: 100480507 entries, 0 to 100480506\n",
      "Data columns (total 6 columns):\n",
      " #   Column   Dtype  \n",
      "---  ------   -----  \n",
      " 0   mid      int64  \n",
      " 1   cust_id  int64  \n",
      " 2   rating   float64\n",
      " 3   r_date   object \n",
      " 4   r_year   int64  \n",
      " 5   r_fiscQ  int64  \n",
      "dtypes: float64(1), int64(4), object(1)\n",
      "memory usage: 4.5+ GB\n"
     ]
    }
   ],
   "source": [
    "df.info()"
   ]
  },
  {
   "cell_type": "code",
   "execution_count": 12,
   "id": "379bf321",
   "metadata": {},
   "outputs": [
    {
     "name": "stdout",
     "output_type": "stream",
     "text": [
      "<class 'pandas.core.frame.DataFrame'>\n",
      "RangeIndex: 100480507 entries, 0 to 100480506\n",
      "Data columns (total 6 columns):\n",
      " #   Column   Dtype         \n",
      "---  ------   -----         \n",
      " 0   mid      int64         \n",
      " 1   cust_id  int64         \n",
      " 2   rating   float64       \n",
      " 3   r_date   datetime64[ns]\n",
      " 4   r_year   int64         \n",
      " 5   r_fiscQ  int64         \n",
      "dtypes: datetime64[ns](1), float64(1), int64(4)\n",
      "memory usage: 4.5 GB\n"
     ]
    }
   ],
   "source": [
    "df['r_date'] = df['r_date'].astype('datetime64[ns]')\n",
    "df.info()"
   ]
  },
  {
   "cell_type": "code",
   "execution_count": 13,
   "id": "3719d824",
   "metadata": {},
   "outputs": [
    {
     "data": {
      "text/html": [
       "<div>\n",
       "<style scoped>\n",
       "    .dataframe tbody tr th:only-of-type {\n",
       "        vertical-align: middle;\n",
       "    }\n",
       "\n",
       "    .dataframe tbody tr th {\n",
       "        vertical-align: top;\n",
       "    }\n",
       "\n",
       "    .dataframe thead th {\n",
       "        text-align: right;\n",
       "    }\n",
       "</style>\n",
       "<table border=\"1\" class=\"dataframe\">\n",
       "  <thead>\n",
       "    <tr style=\"text-align: right;\">\n",
       "      <th></th>\n",
       "      <th>mid</th>\n",
       "      <th>cust_id</th>\n",
       "      <th>rating</th>\n",
       "      <th>r_date</th>\n",
       "      <th>r_year</th>\n",
       "      <th>r_fiscQ</th>\n",
       "    </tr>\n",
       "  </thead>\n",
       "  <tbody>\n",
       "    <tr>\n",
       "      <th>56431994</th>\n",
       "      <td>10341</td>\n",
       "      <td>510180</td>\n",
       "      <td>4.0</td>\n",
       "      <td>1999-11-11</td>\n",
       "      <td>1999</td>\n",
       "      <td>4</td>\n",
       "    </tr>\n",
       "    <tr>\n",
       "      <th>9056171</th>\n",
       "      <td>1798</td>\n",
       "      <td>510180</td>\n",
       "      <td>5.0</td>\n",
       "      <td>1999-11-11</td>\n",
       "      <td>1999</td>\n",
       "      <td>4</td>\n",
       "    </tr>\n",
       "    <tr>\n",
       "      <th>58698779</th>\n",
       "      <td>10774</td>\n",
       "      <td>510180</td>\n",
       "      <td>3.0</td>\n",
       "      <td>1999-11-11</td>\n",
       "      <td>1999</td>\n",
       "      <td>4</td>\n",
       "    </tr>\n",
       "    <tr>\n",
       "      <th>48101611</th>\n",
       "      <td>8651</td>\n",
       "      <td>510180</td>\n",
       "      <td>2.0</td>\n",
       "      <td>1999-11-11</td>\n",
       "      <td>1999</td>\n",
       "      <td>4</td>\n",
       "    </tr>\n",
       "    <tr>\n",
       "      <th>81893208</th>\n",
       "      <td>14660</td>\n",
       "      <td>510180</td>\n",
       "      <td>2.0</td>\n",
       "      <td>1999-11-11</td>\n",
       "      <td>1999</td>\n",
       "      <td>4</td>\n",
       "    </tr>\n",
       "    <tr>\n",
       "      <th>...</th>\n",
       "      <td>...</td>\n",
       "      <td>...</td>\n",
       "      <td>...</td>\n",
       "      <td>...</td>\n",
       "      <td>...</td>\n",
       "      <td>...</td>\n",
       "    </tr>\n",
       "    <tr>\n",
       "      <th>49939086</th>\n",
       "      <td>8993</td>\n",
       "      <td>2183787</td>\n",
       "      <td>4.0</td>\n",
       "      <td>2005-12-31</td>\n",
       "      <td>2005</td>\n",
       "      <td>4</td>\n",
       "    </tr>\n",
       "    <tr>\n",
       "      <th>42072268</th>\n",
       "      <td>7430</td>\n",
       "      <td>258170</td>\n",
       "      <td>4.0</td>\n",
       "      <td>2005-12-31</td>\n",
       "      <td>2005</td>\n",
       "      <td>4</td>\n",
       "    </tr>\n",
       "    <tr>\n",
       "      <th>47098649</th>\n",
       "      <td>8467</td>\n",
       "      <td>1534359</td>\n",
       "      <td>5.0</td>\n",
       "      <td>2005-12-31</td>\n",
       "      <td>2005</td>\n",
       "      <td>4</td>\n",
       "    </tr>\n",
       "    <tr>\n",
       "      <th>55621336</th>\n",
       "      <td>10168</td>\n",
       "      <td>2543295</td>\n",
       "      <td>2.0</td>\n",
       "      <td>2005-12-31</td>\n",
       "      <td>2005</td>\n",
       "      <td>4</td>\n",
       "    </tr>\n",
       "    <tr>\n",
       "      <th>25464092</th>\n",
       "      <td>4736</td>\n",
       "      <td>1346243</td>\n",
       "      <td>5.0</td>\n",
       "      <td>2005-12-31</td>\n",
       "      <td>2005</td>\n",
       "      <td>4</td>\n",
       "    </tr>\n",
       "  </tbody>\n",
       "</table>\n",
       "<p>100480507 rows × 6 columns</p>\n",
       "</div>"
      ],
      "text/plain": [
       "            mid  cust_id  rating     r_date  r_year  r_fiscQ\n",
       "56431994  10341   510180     4.0 1999-11-11    1999        4\n",
       "9056171    1798   510180     5.0 1999-11-11    1999        4\n",
       "58698779  10774   510180     3.0 1999-11-11    1999        4\n",
       "48101611   8651   510180     2.0 1999-11-11    1999        4\n",
       "81893208  14660   510180     2.0 1999-11-11    1999        4\n",
       "...         ...      ...     ...        ...     ...      ...\n",
       "49939086   8993  2183787     4.0 2005-12-31    2005        4\n",
       "42072268   7430   258170     4.0 2005-12-31    2005        4\n",
       "47098649   8467  1534359     5.0 2005-12-31    2005        4\n",
       "55621336  10168  2543295     2.0 2005-12-31    2005        4\n",
       "25464092   4736  1346243     5.0 2005-12-31    2005        4\n",
       "\n",
       "[100480507 rows x 6 columns]"
      ]
     },
     "execution_count": 13,
     "metadata": {},
     "output_type": "execute_result"
    }
   ],
   "source": [
    "df = df.sort_values(by=['r_date'])\n",
    "df"
   ]
  },
  {
   "cell_type": "code",
   "execution_count": 14,
   "id": "6bc85640",
   "metadata": {},
   "outputs": [
    {
     "data": {
      "application/javascript": [
       "$(document).ready(\n",
       "    function() {\n",
       "        function appendUniqueDiv(){\n",
       "            // append a div with our uuid so we can check that it's already\n",
       "            // been sent and avoid duplicates on page reload\n",
       "            var notifiedDiv = document.createElement(\"div\")\n",
       "            notifiedDiv.id = \"fffc2ec2-33bd-43f8-bc61-32c7870ecd3a\"\n",
       "            element.append(notifiedDiv)\n",
       "        }\n",
       "\n",
       "        // only send notifications if the pageload is complete; this will\n",
       "        // help stop extra notifications when a saved notebook is loaded,\n",
       "        // which during testing gives us state \"interactive\", not \"complete\"\n",
       "        if (document.readyState === 'complete') {\n",
       "            // check for the div that signifies that the notification\n",
       "            // was already sent\n",
       "            if (document.getElementById(\"fffc2ec2-33bd-43f8-bc61-32c7870ecd3a\") === null) {\n",
       "                var notificationPayload = {\"requireInteraction\": false, \"icon\": \"/static/base/images/favicon.ico\", \"body\": \"Cell execution has finished!\"};\n",
       "                if (Notification.permission !== 'denied') {\n",
       "                    if (Notification.permission !== 'granted') { \n",
       "                        Notification.requestPermission(function (permission) {\n",
       "                            if(!('permission' in Notification)) {\n",
       "                                Notification.permission = permission\n",
       "                            }\n",
       "                        })\n",
       "                    }\n",
       "                    if (Notification.permission === 'granted') {\n",
       "                    var notification = new Notification(\"Jupyter Notebook\", notificationPayload)\n",
       "                    appendUniqueDiv()\n",
       "                    notification.onclick = function () {\n",
       "                        window.focus();\n",
       "                        this.close();\n",
       "                        };\n",
       "                    } \n",
       "                }     \n",
       "            }\n",
       "        }\n",
       "    }\n",
       ")\n"
      ],
      "text/plain": [
       "<IPython.core.display.Javascript object>"
      ]
     },
     "metadata": {},
     "output_type": "display_data"
    }
   ],
   "source": [
    "%notify"
   ]
  },
  {
   "cell_type": "code",
   "execution_count": 16,
   "id": "7d2fbd04",
   "metadata": {},
   "outputs": [
    {
     "data": {
      "text/plain": [
       "r_year\n",
       "2005    53250073\n",
       "2004    30206574\n",
       "2003     9985337\n",
       "2002     4342871\n",
       "2001     1769031\n",
       "2000      924443\n",
       "1999        2178\n",
       "Name: count, dtype: int64"
      ]
     },
     "execution_count": 16,
     "metadata": {},
     "output_type": "execute_result"
    }
   ],
   "source": [
    "df['r_year'].value_counts()"
   ]
  },
  {
   "cell_type": "code",
   "execution_count": 64,
   "id": "06cfdd11",
   "metadata": {},
   "outputs": [],
   "source": [
    "df = df[(df['r_year'] >= 2004)]"
   ]
  },
  {
   "cell_type": "code",
   "execution_count": 18,
   "id": "984a1ca4",
   "metadata": {},
   "outputs": [
    {
     "data": {
      "application/javascript": [
       "$(document).ready(\n",
       "    function() {\n",
       "        function appendUniqueDiv(){\n",
       "            // append a div with our uuid so we can check that it's already\n",
       "            // been sent and avoid duplicates on page reload\n",
       "            var notifiedDiv = document.createElement(\"div\")\n",
       "            notifiedDiv.id = \"87d221cf-78ed-42fe-a832-92140c4d955c\"\n",
       "            element.append(notifiedDiv)\n",
       "        }\n",
       "\n",
       "        // only send notifications if the pageload is complete; this will\n",
       "        // help stop extra notifications when a saved notebook is loaded,\n",
       "        // which during testing gives us state \"interactive\", not \"complete\"\n",
       "        if (document.readyState === 'complete') {\n",
       "            // check for the div that signifies that the notification\n",
       "            // was already sent\n",
       "            if (document.getElementById(\"87d221cf-78ed-42fe-a832-92140c4d955c\") === null) {\n",
       "                var notificationPayload = {\"requireInteraction\": false, \"icon\": \"/static/base/images/favicon.ico\", \"body\": \"Cell execution has finished!\"};\n",
       "                if (Notification.permission !== 'denied') {\n",
       "                    if (Notification.permission !== 'granted') { \n",
       "                        Notification.requestPermission(function (permission) {\n",
       "                            if(!('permission' in Notification)) {\n",
       "                                Notification.permission = permission\n",
       "                            }\n",
       "                        })\n",
       "                    }\n",
       "                    if (Notification.permission === 'granted') {\n",
       "                    var notification = new Notification(\"Jupyter Notebook\", notificationPayload)\n",
       "                    appendUniqueDiv()\n",
       "                    notification.onclick = function () {\n",
       "                        window.focus();\n",
       "                        this.close();\n",
       "                        };\n",
       "                    } \n",
       "                }     \n",
       "            }\n",
       "        }\n",
       "    }\n",
       ")\n"
      ],
      "text/plain": [
       "<IPython.core.display.Javascript object>"
      ]
     },
     "metadata": {},
     "output_type": "display_data"
    }
   ],
   "source": [
    "%notify"
   ]
  },
  {
   "cell_type": "code",
   "execution_count": 65,
   "id": "a742bafc",
   "metadata": {},
   "outputs": [
    {
     "name": "stdout",
     "output_type": "stream",
     "text": [
      "<class 'pandas.core.frame.DataFrame'>\n",
      "Index: 83456647 entries, 34867501 to 25464092\n",
      "Data columns (total 6 columns):\n",
      " #   Column   Dtype         \n",
      "---  ------   -----         \n",
      " 0   mid      int64         \n",
      " 1   cust_id  int64         \n",
      " 2   rating   float64       \n",
      " 3   r_date   datetime64[ns]\n",
      " 4   r_year   int64         \n",
      " 5   r_fiscQ  int64         \n",
      "dtypes: datetime64[ns](1), float64(1), int64(4)\n",
      "memory usage: 4.4 GB\n"
     ]
    }
   ],
   "source": [
    "df.info()"
   ]
  },
  {
   "cell_type": "code",
   "execution_count": 66,
   "id": "8fc2283c",
   "metadata": {},
   "outputs": [
    {
     "data": {
      "text/plain": [
       "mid\n",
       "15205    196397\n",
       "1905     186107\n",
       "5317     183465\n",
       "15124    171416\n",
       "6287     158851\n",
       "          ...  \n",
       "13755         3\n",
       "5429          2\n",
       "3100          2\n",
       "6998          2\n",
       "7700          1\n",
       "Name: count, Length: 17769, dtype: int64"
      ]
     },
     "execution_count": 66,
     "metadata": {},
     "output_type": "execute_result"
    }
   ],
   "source": [
    "df['mid'].value_counts()"
   ]
  },
  {
   "cell_type": "code",
   "execution_count": 67,
   "id": "de381b85",
   "metadata": {},
   "outputs": [
    {
     "data": {
      "text/html": [
       "<div>\n",
       "<style scoped>\n",
       "    .dataframe tbody tr th:only-of-type {\n",
       "        vertical-align: middle;\n",
       "    }\n",
       "\n",
       "    .dataframe tbody tr th {\n",
       "        vertical-align: top;\n",
       "    }\n",
       "\n",
       "    .dataframe thead th {\n",
       "        text-align: right;\n",
       "    }\n",
       "</style>\n",
       "<table border=\"1\" class=\"dataframe\">\n",
       "  <thead>\n",
       "    <tr style=\"text-align: right;\">\n",
       "      <th></th>\n",
       "      <th>mid</th>\n",
       "      <th>cust_id</th>\n",
       "      <th>rating</th>\n",
       "      <th>r_date</th>\n",
       "      <th>r_year</th>\n",
       "      <th>r_fiscQ</th>\n",
       "      <th>m_decade</th>\n",
       "    </tr>\n",
       "  </thead>\n",
       "  <tbody>\n",
       "    <tr>\n",
       "      <th>0</th>\n",
       "      <td>6249</td>\n",
       "      <td>1110911</td>\n",
       "      <td>5.0</td>\n",
       "      <td>2004-01-01</td>\n",
       "      <td>2004</td>\n",
       "      <td>1</td>\n",
       "      <td>1990</td>\n",
       "    </tr>\n",
       "    <tr>\n",
       "      <th>1</th>\n",
       "      <td>6249</td>\n",
       "      <td>2040249</td>\n",
       "      <td>4.0</td>\n",
       "      <td>2004-01-02</td>\n",
       "      <td>2004</td>\n",
       "      <td>1</td>\n",
       "      <td>1990</td>\n",
       "    </tr>\n",
       "    <tr>\n",
       "      <th>2</th>\n",
       "      <td>6249</td>\n",
       "      <td>223533</td>\n",
       "      <td>4.0</td>\n",
       "      <td>2004-01-02</td>\n",
       "      <td>2004</td>\n",
       "      <td>1</td>\n",
       "      <td>1990</td>\n",
       "    </tr>\n",
       "    <tr>\n",
       "      <th>3</th>\n",
       "      <td>6249</td>\n",
       "      <td>1092005</td>\n",
       "      <td>4.0</td>\n",
       "      <td>2004-01-04</td>\n",
       "      <td>2004</td>\n",
       "      <td>1</td>\n",
       "      <td>1990</td>\n",
       "    </tr>\n",
       "    <tr>\n",
       "      <th>4</th>\n",
       "      <td>6249</td>\n",
       "      <td>808435</td>\n",
       "      <td>4.0</td>\n",
       "      <td>2004-01-04</td>\n",
       "      <td>2004</td>\n",
       "      <td>1</td>\n",
       "      <td>1990</td>\n",
       "    </tr>\n",
       "  </tbody>\n",
       "</table>\n",
       "</div>"
      ],
      "text/plain": [
       "    mid  cust_id  rating     r_date  r_year  r_fiscQ m_decade\n",
       "0  6249  1110911     5.0 2004-01-01    2004        1     1990\n",
       "1  6249  2040249     4.0 2004-01-02    2004        1     1990\n",
       "2  6249   223533     4.0 2004-01-02    2004        1     1990\n",
       "3  6249  1092005     4.0 2004-01-04    2004        1     1990\n",
       "4  6249   808435     4.0 2004-01-04    2004        1     1990"
      ]
     },
     "execution_count": 67,
     "metadata": {},
     "output_type": "execute_result"
    }
   ],
   "source": [
    "data = df.merge(decade)\n",
    "data.head()"
   ]
  },
  {
   "cell_type": "code",
   "execution_count": 68,
   "id": "52ad4dce",
   "metadata": {},
   "outputs": [
    {
     "data": {
      "text/plain": [
       "mid\n",
       "15205    196397\n",
       "1905     186107\n",
       "5317     183465\n",
       "15124    171416\n",
       "6287     158851\n",
       "          ...  \n",
       "13755         3\n",
       "5429          2\n",
       "3100          2\n",
       "6998          2\n",
       "7700          1\n",
       "Name: count, Length: 17769, dtype: int64"
      ]
     },
     "execution_count": 68,
     "metadata": {},
     "output_type": "execute_result"
    }
   ],
   "source": [
    "data['mid'].value_counts()"
   ]
  },
  {
   "cell_type": "markdown",
   "id": "9ab2e1e7",
   "metadata": {},
   "source": [
    "# Ready for EDA"
   ]
  },
  {
   "cell_type": "code",
   "execution_count": 38,
   "id": "1a9a3f77",
   "metadata": {},
   "outputs": [
    {
     "data": {
      "text/html": [
       "<div>\n",
       "<style scoped>\n",
       "    .dataframe tbody tr th:only-of-type {\n",
       "        vertical-align: middle;\n",
       "    }\n",
       "\n",
       "    .dataframe tbody tr th {\n",
       "        vertical-align: top;\n",
       "    }\n",
       "\n",
       "    .dataframe thead th {\n",
       "        text-align: right;\n",
       "    }\n",
       "</style>\n",
       "<table border=\"1\" class=\"dataframe\">\n",
       "  <thead>\n",
       "    <tr style=\"text-align: right;\">\n",
       "      <th></th>\n",
       "      <th>mid</th>\n",
       "      <th>cust_id</th>\n",
       "      <th>rating</th>\n",
       "      <th>r_date</th>\n",
       "      <th>r_year</th>\n",
       "      <th>r_fiscQ</th>\n",
       "      <th>m_decade</th>\n",
       "    </tr>\n",
       "  </thead>\n",
       "  <tbody>\n",
       "    <tr>\n",
       "      <th>0</th>\n",
       "      <td>14943</td>\n",
       "      <td>2278539</td>\n",
       "      <td>3.0</td>\n",
       "      <td>2003-01-01</td>\n",
       "      <td>2003</td>\n",
       "      <td>1</td>\n",
       "      <td>1970</td>\n",
       "    </tr>\n",
       "    <tr>\n",
       "      <th>1</th>\n",
       "      <td>14943</td>\n",
       "      <td>1208452</td>\n",
       "      <td>1.0</td>\n",
       "      <td>2003-01-01</td>\n",
       "      <td>2003</td>\n",
       "      <td>1</td>\n",
       "      <td>1970</td>\n",
       "    </tr>\n",
       "    <tr>\n",
       "      <th>2</th>\n",
       "      <td>14943</td>\n",
       "      <td>460006</td>\n",
       "      <td>4.0</td>\n",
       "      <td>2003-01-02</td>\n",
       "      <td>2003</td>\n",
       "      <td>1</td>\n",
       "      <td>1970</td>\n",
       "    </tr>\n",
       "    <tr>\n",
       "      <th>3</th>\n",
       "      <td>14943</td>\n",
       "      <td>525945</td>\n",
       "      <td>3.0</td>\n",
       "      <td>2003-01-02</td>\n",
       "      <td>2003</td>\n",
       "      <td>1</td>\n",
       "      <td>1970</td>\n",
       "    </tr>\n",
       "    <tr>\n",
       "      <th>4</th>\n",
       "      <td>14943</td>\n",
       "      <td>2131029</td>\n",
       "      <td>3.0</td>\n",
       "      <td>2003-01-02</td>\n",
       "      <td>2003</td>\n",
       "      <td>1</td>\n",
       "      <td>1970</td>\n",
       "    </tr>\n",
       "  </tbody>\n",
       "</table>\n",
       "</div>"
      ],
      "text/plain": [
       "     mid  cust_id  rating     r_date  r_year  r_fiscQ m_decade\n",
       "0  14943  2278539     3.0 2003-01-01    2003        1     1970\n",
       "1  14943  1208452     1.0 2003-01-01    2003        1     1970\n",
       "2  14943   460006     4.0 2003-01-02    2003        1     1970\n",
       "3  14943   525945     3.0 2003-01-02    2003        1     1970\n",
       "4  14943  2131029     3.0 2003-01-02    2003        1     1970"
      ]
     },
     "execution_count": 38,
     "metadata": {},
     "output_type": "execute_result"
    }
   ],
   "source": [
    "data.head()"
   ]
  },
  {
   "cell_type": "markdown",
   "id": "3f31bb9f",
   "metadata": {},
   "source": [
    "## Exploring content attributes\n",
    "\n",
    "- highest rated content (content quality)\n",
    "- most rated content (popularity)\n",
    "- decade frequency distribution SEEN ABOVE\n",
    "\n",
    "### Looking at rating as a popularity metric - speaks to the perceived quality of the content\n",
    "\n",
    "**1. Does rating correlate with decade of release?**"
   ]
  },
  {
   "cell_type": "code",
   "execution_count": 39,
   "id": "5f60379f",
   "metadata": {},
   "outputs": [],
   "source": [
    "contenteda = data.copy()\n",
    "avgrating = contenteda.groupby('mid')['rating'].mean().sort_values(ascending=False).to_frame()"
   ]
  },
  {
   "cell_type": "code",
   "execution_count": 40,
   "id": "e2cbb5b4",
   "metadata": {},
   "outputs": [
    {
     "data": {
      "text/html": [
       "<div>\n",
       "<style scoped>\n",
       "    .dataframe tbody tr th:only-of-type {\n",
       "        vertical-align: middle;\n",
       "    }\n",
       "\n",
       "    .dataframe tbody tr th {\n",
       "        vertical-align: top;\n",
       "    }\n",
       "\n",
       "    .dataframe thead th {\n",
       "        text-align: right;\n",
       "    }\n",
       "</style>\n",
       "<table border=\"1\" class=\"dataframe\">\n",
       "  <thead>\n",
       "    <tr style=\"text-align: right;\">\n",
       "      <th></th>\n",
       "      <th>mid</th>\n",
       "      <th>m_avg_rating</th>\n",
       "    </tr>\n",
       "  </thead>\n",
       "  <tbody>\n",
       "    <tr>\n",
       "      <th>0</th>\n",
       "      <td>14961</td>\n",
       "      <td>4.723270</td>\n",
       "    </tr>\n",
       "    <tr>\n",
       "      <th>1</th>\n",
       "      <td>7230</td>\n",
       "      <td>4.716611</td>\n",
       "    </tr>\n",
       "    <tr>\n",
       "      <th>2</th>\n",
       "      <td>7057</td>\n",
       "      <td>4.702611</td>\n",
       "    </tr>\n",
       "    <tr>\n",
       "      <th>3</th>\n",
       "      <td>3456</td>\n",
       "      <td>4.670989</td>\n",
       "    </tr>\n",
       "    <tr>\n",
       "      <th>4</th>\n",
       "      <td>9864</td>\n",
       "      <td>4.638809</td>\n",
       "    </tr>\n",
       "    <tr>\n",
       "      <th>...</th>\n",
       "      <td>...</td>\n",
       "      <td>...</td>\n",
       "    </tr>\n",
       "    <tr>\n",
       "      <th>17764</th>\n",
       "      <td>17577</td>\n",
       "      <td>1.400000</td>\n",
       "    </tr>\n",
       "    <tr>\n",
       "      <th>17765</th>\n",
       "      <td>17429</td>\n",
       "      <td>1.396761</td>\n",
       "    </tr>\n",
       "    <tr>\n",
       "      <th>17766</th>\n",
       "      <td>11768</td>\n",
       "      <td>1.375610</td>\n",
       "    </tr>\n",
       "    <tr>\n",
       "      <th>17767</th>\n",
       "      <td>16487</td>\n",
       "      <td>1.346021</td>\n",
       "    </tr>\n",
       "    <tr>\n",
       "      <th>17768</th>\n",
       "      <td>515</td>\n",
       "      <td>1.287879</td>\n",
       "    </tr>\n",
       "  </tbody>\n",
       "</table>\n",
       "<p>17769 rows × 2 columns</p>\n",
       "</div>"
      ],
      "text/plain": [
       "         mid  m_avg_rating\n",
       "0      14961      4.723270\n",
       "1       7230      4.716611\n",
       "2       7057      4.702611\n",
       "3       3456      4.670989\n",
       "4       9864      4.638809\n",
       "...      ...           ...\n",
       "17764  17577      1.400000\n",
       "17765  17429      1.396761\n",
       "17766  11768      1.375610\n",
       "17767  16487      1.346021\n",
       "17768    515      1.287879\n",
       "\n",
       "[17769 rows x 2 columns]"
      ]
     },
     "execution_count": 40,
     "metadata": {},
     "output_type": "execute_result"
    }
   ],
   "source": [
    "#average rating for each content piece\n",
    "avgrating = avgrating.rename(columns = {'rating': 'm_avg_rating'}).reset_index()\n",
    "avgrating"
   ]
  },
  {
   "cell_type": "code",
   "execution_count": 41,
   "id": "67dc5a88",
   "metadata": {},
   "outputs": [
    {
     "data": {
      "text/html": [
       "<div>\n",
       "<style scoped>\n",
       "    .dataframe tbody tr th:only-of-type {\n",
       "        vertical-align: middle;\n",
       "    }\n",
       "\n",
       "    .dataframe tbody tr th {\n",
       "        vertical-align: top;\n",
       "    }\n",
       "\n",
       "    .dataframe thead th {\n",
       "        text-align: right;\n",
       "    }\n",
       "</style>\n",
       "<table border=\"1\" class=\"dataframe\">\n",
       "  <thead>\n",
       "    <tr style=\"text-align: right;\">\n",
       "      <th></th>\n",
       "      <th>mid</th>\n",
       "      <th>cust_id</th>\n",
       "      <th>rating</th>\n",
       "      <th>r_date</th>\n",
       "      <th>r_year</th>\n",
       "      <th>r_fiscQ</th>\n",
       "      <th>m_decade</th>\n",
       "      <th>m_avg_rating</th>\n",
       "    </tr>\n",
       "  </thead>\n",
       "  <tbody>\n",
       "    <tr>\n",
       "      <th>0</th>\n",
       "      <td>14943</td>\n",
       "      <td>2278539</td>\n",
       "      <td>3.0</td>\n",
       "      <td>2003-01-01</td>\n",
       "      <td>2003</td>\n",
       "      <td>1</td>\n",
       "      <td>1970</td>\n",
       "      <td>3.57735</td>\n",
       "    </tr>\n",
       "    <tr>\n",
       "      <th>1</th>\n",
       "      <td>14943</td>\n",
       "      <td>1208452</td>\n",
       "      <td>1.0</td>\n",
       "      <td>2003-01-01</td>\n",
       "      <td>2003</td>\n",
       "      <td>1</td>\n",
       "      <td>1970</td>\n",
       "      <td>3.57735</td>\n",
       "    </tr>\n",
       "    <tr>\n",
       "      <th>2</th>\n",
       "      <td>14943</td>\n",
       "      <td>460006</td>\n",
       "      <td>4.0</td>\n",
       "      <td>2003-01-02</td>\n",
       "      <td>2003</td>\n",
       "      <td>1</td>\n",
       "      <td>1970</td>\n",
       "      <td>3.57735</td>\n",
       "    </tr>\n",
       "    <tr>\n",
       "      <th>3</th>\n",
       "      <td>14943</td>\n",
       "      <td>525945</td>\n",
       "      <td>3.0</td>\n",
       "      <td>2003-01-02</td>\n",
       "      <td>2003</td>\n",
       "      <td>1</td>\n",
       "      <td>1970</td>\n",
       "      <td>3.57735</td>\n",
       "    </tr>\n",
       "    <tr>\n",
       "      <th>4</th>\n",
       "      <td>14943</td>\n",
       "      <td>2131029</td>\n",
       "      <td>3.0</td>\n",
       "      <td>2003-01-02</td>\n",
       "      <td>2003</td>\n",
       "      <td>1</td>\n",
       "      <td>1970</td>\n",
       "      <td>3.57735</td>\n",
       "    </tr>\n",
       "  </tbody>\n",
       "</table>\n",
       "</div>"
      ],
      "text/plain": [
       "     mid  cust_id  rating     r_date  r_year  r_fiscQ m_decade  m_avg_rating\n",
       "0  14943  2278539     3.0 2003-01-01    2003        1     1970       3.57735\n",
       "1  14943  1208452     1.0 2003-01-01    2003        1     1970       3.57735\n",
       "2  14943   460006     4.0 2003-01-02    2003        1     1970       3.57735\n",
       "3  14943   525945     3.0 2003-01-02    2003        1     1970       3.57735\n",
       "4  14943  2131029     3.0 2003-01-02    2003        1     1970       3.57735"
      ]
     },
     "execution_count": 41,
     "metadata": {},
     "output_type": "execute_result"
    }
   ],
   "source": [
    "contenteda = contenteda.merge(avgrating, how = 'outer')\n",
    "contenteda.head()"
   ]
  },
  {
   "cell_type": "code",
   "execution_count": 42,
   "id": "87b7df8a",
   "metadata": {},
   "outputs": [
    {
     "data": {
      "application/javascript": [
       "$(document).ready(\n",
       "    function() {\n",
       "        function appendUniqueDiv(){\n",
       "            // append a div with our uuid so we can check that it's already\n",
       "            // been sent and avoid duplicates on page reload\n",
       "            var notifiedDiv = document.createElement(\"div\")\n",
       "            notifiedDiv.id = \"70205239-75e3-4e28-bdd0-e50661f7fdc0\"\n",
       "            element.append(notifiedDiv)\n",
       "        }\n",
       "\n",
       "        // only send notifications if the pageload is complete; this will\n",
       "        // help stop extra notifications when a saved notebook is loaded,\n",
       "        // which during testing gives us state \"interactive\", not \"complete\"\n",
       "        if (document.readyState === 'complete') {\n",
       "            // check for the div that signifies that the notification\n",
       "            // was already sent\n",
       "            if (document.getElementById(\"70205239-75e3-4e28-bdd0-e50661f7fdc0\") === null) {\n",
       "                var notificationPayload = {\"requireInteraction\": false, \"icon\": \"/static/base/images/favicon.ico\", \"body\": \"Cell execution has finished!\"};\n",
       "                if (Notification.permission !== 'denied') {\n",
       "                    if (Notification.permission !== 'granted') { \n",
       "                        Notification.requestPermission(function (permission) {\n",
       "                            if(!('permission' in Notification)) {\n",
       "                                Notification.permission = permission\n",
       "                            }\n",
       "                        })\n",
       "                    }\n",
       "                    if (Notification.permission === 'granted') {\n",
       "                    var notification = new Notification(\"Jupyter Notebook\", notificationPayload)\n",
       "                    appendUniqueDiv()\n",
       "                    notification.onclick = function () {\n",
       "                        window.focus();\n",
       "                        this.close();\n",
       "                        };\n",
       "                    } \n",
       "                }     \n",
       "            }\n",
       "        }\n",
       "    }\n",
       ")\n"
      ],
      "text/plain": [
       "<IPython.core.display.Javascript object>"
      ]
     },
     "metadata": {},
     "output_type": "display_data"
    }
   ],
   "source": [
    "%notify"
   ]
  },
  {
   "cell_type": "code",
   "execution_count": 43,
   "id": "bc8d5e34",
   "metadata": {},
   "outputs": [
    {
     "data": {
      "text/plain": [
       "<AxesSubplot:xlabel='m_decade', ylabel='m_avg_rating'>"
      ]
     },
     "execution_count": 43,
     "metadata": {},
     "output_type": "execute_result"
    },
    {
     "data": {
      "image/png": "[encoded data removed]",
      "text/plain": [
       "<Figure size 640x480 with 1 Axes>"
      ]
     },
     "metadata": {},
     "output_type": "display_data"
    }
   ],
   "source": [
    "sns.violinplot(\n",
    "    y=\"m_avg_rating\", \n",
    "    x=\"m_decade\", \n",
    "    data=contenteda, \n",
    "    color='aqua',\n",
    "    inner=\"quartile\",  # Seeing the mean and quartiles\n",
    ")\n"
   ]
  },
  {
   "cell_type": "code",
   "execution_count": 44,
   "id": "c5b25ad0",
   "metadata": {},
   "outputs": [
    {
     "data": {
      "text/plain": [
       "m_decade\n",
       "0       3.863781\n",
       "1960    3.840272\n",
       "1970    3.794723\n",
       "1980    3.706411\n",
       "1990    3.647955\n",
       "2000    3.553521\n",
       "Name: rating, dtype: float64"
      ]
     },
     "execution_count": 44,
     "metadata": {},
     "output_type": "execute_result"
    }
   ],
   "source": [
    "contenteda.groupby('m_decade')['rating'].mean().sort_values(ascending=False)"
   ]
  },
  {
   "cell_type": "markdown",
   "id": "832590da",
   "metadata": {},
   "source": [
    "There's not a signigicant difference in the way that users enjoy content from a particular decade.\n",
    "\n",
    "**2. What is the distribution of content ratings?**"
   ]
  },
  {
   "cell_type": "code",
   "execution_count": 47,
   "id": "6f915208",
   "metadata": {},
   "outputs": [
    {
     "data": {
      "text/html": [
       "<div>\n",
       "<style scoped>\n",
       "    .dataframe tbody tr th:only-of-type {\n",
       "        vertical-align: middle;\n",
       "    }\n",
       "\n",
       "    .dataframe tbody tr th {\n",
       "        vertical-align: top;\n",
       "    }\n",
       "\n",
       "    .dataframe thead th {\n",
       "        text-align: right;\n",
       "    }\n",
       "</style>\n",
       "<table border=\"1\" class=\"dataframe\">\n",
       "  <thead>\n",
       "    <tr style=\"text-align: right;\">\n",
       "      <th></th>\n",
       "      <th>mid</th>\n",
       "      <th>m_avg_rating</th>\n",
       "    </tr>\n",
       "  </thead>\n",
       "  <tbody>\n",
       "    <tr>\n",
       "      <th>count</th>\n",
       "      <td>17769.000000</td>\n",
       "      <td>17769.000000</td>\n",
       "    </tr>\n",
       "    <tr>\n",
       "      <th>mean</th>\n",
       "      <td>8885.214981</td>\n",
       "      <td>3.246409</td>\n",
       "    </tr>\n",
       "    <tr>\n",
       "      <th>std</th>\n",
       "      <td>5129.905127</td>\n",
       "      <td>0.519625</td>\n",
       "    </tr>\n",
       "    <tr>\n",
       "      <th>min</th>\n",
       "      <td>1.000000</td>\n",
       "      <td>1.287879</td>\n",
       "    </tr>\n",
       "    <tr>\n",
       "      <th>25%</th>\n",
       "      <td>4443.000000</td>\n",
       "      <td>2.919173</td>\n",
       "    </tr>\n",
       "    <tr>\n",
       "      <th>50%</th>\n",
       "      <td>8885.000000</td>\n",
       "      <td>3.273103</td>\n",
       "    </tr>\n",
       "    <tr>\n",
       "      <th>75%</th>\n",
       "      <td>13327.000000</td>\n",
       "      <td>3.627735</td>\n",
       "    </tr>\n",
       "    <tr>\n",
       "      <th>max</th>\n",
       "      <td>17770.000000</td>\n",
       "      <td>4.723270</td>\n",
       "    </tr>\n",
       "  </tbody>\n",
       "</table>\n",
       "</div>"
      ],
      "text/plain": [
       "                mid  m_avg_rating\n",
       "count  17769.000000  17769.000000\n",
       "mean    8885.214981      3.246409\n",
       "std     5129.905127      0.519625\n",
       "min        1.000000      1.287879\n",
       "25%     4443.000000      2.919173\n",
       "50%     8885.000000      3.273103\n",
       "75%    13327.000000      3.627735\n",
       "max    17770.000000      4.723270"
      ]
     },
     "execution_count": 47,
     "metadata": {},
     "output_type": "execute_result"
    }
   ],
   "source": [
    "avgrating.describe()"
   ]
  },
  {
   "cell_type": "code",
   "execution_count": 48,
   "id": "088d35b9",
   "metadata": {},
   "outputs": [
    {
     "data": {
      "image/png": "[encoded data removed]",
      "text/plain": [
       "<Figure size 640x480 with 1 Axes>"
      ]
     },
     "metadata": {},
     "output_type": "display_data"
    }
   ],
   "source": [
    "#looks at distribution of avg rating per movie\n",
    "avgrating['m_avg_rating'].plot(kind='hist');"
   ]
  },
  {
   "cell_type": "markdown",
   "id": "2634028d",
   "metadata": {},
   "source": [
    "Average rating skews slightly to the left. Average rating of 3.2 out of 5 for a content is a good sign.\n",
    "\n",
    "Binning content quality."
   ]
  },
  {
   "cell_type": "code",
   "execution_count": 49,
   "id": "00ee51a0",
   "metadata": {},
   "outputs": [],
   "source": [
    "#distribution is pretty normal, going to bin into 'quality grade' quartiles\n",
    "\n",
    "def quality(row):\n",
    "    \"\"\"\n",
    "    bins content based on their average ratings\n",
    "    \"\"\"\n",
    "    if row['m_avg_rating'] < 2.9:\n",
    "        return 1\n",
    "    elif 2.9 <= row['m_avg_rating'] < 3.3:\n",
    "        return 2\n",
    "    elif 3.3 <= row['m_avg_rating'] < 3.6:\n",
    "        return 3\n",
    "    else:\n",
    "        return 4"
   ]
  },
  {
   "cell_type": "code",
   "execution_count": 50,
   "id": "6f3ed827",
   "metadata": {},
   "outputs": [
    {
     "data": {
      "text/html": [
       "<div>\n",
       "<style scoped>\n",
       "    .dataframe tbody tr th:only-of-type {\n",
       "        vertical-align: middle;\n",
       "    }\n",
       "\n",
       "    .dataframe tbody tr th {\n",
       "        vertical-align: top;\n",
       "    }\n",
       "\n",
       "    .dataframe thead th {\n",
       "        text-align: right;\n",
       "    }\n",
       "</style>\n",
       "<table border=\"1\" class=\"dataframe\">\n",
       "  <thead>\n",
       "    <tr style=\"text-align: right;\">\n",
       "      <th></th>\n",
       "      <th>mid</th>\n",
       "      <th>m_avg_rating</th>\n",
       "      <th>m_quality</th>\n",
       "    </tr>\n",
       "  </thead>\n",
       "  <tbody>\n",
       "    <tr>\n",
       "      <th>0</th>\n",
       "      <td>14961</td>\n",
       "      <td>4.723270</td>\n",
       "      <td>4</td>\n",
       "    </tr>\n",
       "    <tr>\n",
       "      <th>1</th>\n",
       "      <td>7230</td>\n",
       "      <td>4.716611</td>\n",
       "      <td>4</td>\n",
       "    </tr>\n",
       "    <tr>\n",
       "      <th>2</th>\n",
       "      <td>7057</td>\n",
       "      <td>4.702611</td>\n",
       "      <td>4</td>\n",
       "    </tr>\n",
       "    <tr>\n",
       "      <th>3</th>\n",
       "      <td>3456</td>\n",
       "      <td>4.670989</td>\n",
       "      <td>4</td>\n",
       "    </tr>\n",
       "    <tr>\n",
       "      <th>4</th>\n",
       "      <td>9864</td>\n",
       "      <td>4.638809</td>\n",
       "      <td>4</td>\n",
       "    </tr>\n",
       "    <tr>\n",
       "      <th>...</th>\n",
       "      <td>...</td>\n",
       "      <td>...</td>\n",
       "      <td>...</td>\n",
       "    </tr>\n",
       "    <tr>\n",
       "      <th>17764</th>\n",
       "      <td>17577</td>\n",
       "      <td>1.400000</td>\n",
       "      <td>1</td>\n",
       "    </tr>\n",
       "    <tr>\n",
       "      <th>17765</th>\n",
       "      <td>17429</td>\n",
       "      <td>1.396761</td>\n",
       "      <td>1</td>\n",
       "    </tr>\n",
       "    <tr>\n",
       "      <th>17766</th>\n",
       "      <td>11768</td>\n",
       "      <td>1.375610</td>\n",
       "      <td>1</td>\n",
       "    </tr>\n",
       "    <tr>\n",
       "      <th>17767</th>\n",
       "      <td>16487</td>\n",
       "      <td>1.346021</td>\n",
       "      <td>1</td>\n",
       "    </tr>\n",
       "    <tr>\n",
       "      <th>17768</th>\n",
       "      <td>515</td>\n",
       "      <td>1.287879</td>\n",
       "      <td>1</td>\n",
       "    </tr>\n",
       "  </tbody>\n",
       "</table>\n",
       "<p>17769 rows × 3 columns</p>\n",
       "</div>"
      ],
      "text/plain": [
       "         mid  m_avg_rating  m_quality\n",
       "0      14961      4.723270          4\n",
       "1       7230      4.716611          4\n",
       "2       7057      4.702611          4\n",
       "3       3456      4.670989          4\n",
       "4       9864      4.638809          4\n",
       "...      ...           ...        ...\n",
       "17764  17577      1.400000          1\n",
       "17765  17429      1.396761          1\n",
       "17766  11768      1.375610          1\n",
       "17767  16487      1.346021          1\n",
       "17768    515      1.287879          1\n",
       "\n",
       "[17769 rows x 3 columns]"
      ]
     },
     "execution_count": 50,
     "metadata": {},
     "output_type": "execute_result"
    }
   ],
   "source": [
    "avgrating['m_quality'] = avgrating.apply(quality, axis=1)\n",
    "avgrating"
   ]
  },
  {
   "cell_type": "code",
   "execution_count": 51,
   "id": "e25f5b95",
   "metadata": {},
   "outputs": [
    {
     "data": {
      "text/html": [
       "<div>\n",
       "<style scoped>\n",
       "    .dataframe tbody tr th:only-of-type {\n",
       "        vertical-align: middle;\n",
       "    }\n",
       "\n",
       "    .dataframe tbody tr th {\n",
       "        vertical-align: top;\n",
       "    }\n",
       "\n",
       "    .dataframe thead th {\n",
       "        text-align: right;\n",
       "    }\n",
       "</style>\n",
       "<table border=\"1\" class=\"dataframe\">\n",
       "  <thead>\n",
       "    <tr style=\"text-align: right;\">\n",
       "      <th></th>\n",
       "      <th>mid</th>\n",
       "      <th>cust_id</th>\n",
       "      <th>rating</th>\n",
       "      <th>r_date</th>\n",
       "      <th>r_year</th>\n",
       "      <th>r_fiscQ</th>\n",
       "      <th>m_decade</th>\n",
       "      <th>m_quality</th>\n",
       "    </tr>\n",
       "  </thead>\n",
       "  <tbody>\n",
       "    <tr>\n",
       "      <th>0</th>\n",
       "      <td>14943</td>\n",
       "      <td>2278539</td>\n",
       "      <td>3.0</td>\n",
       "      <td>2003-01-01</td>\n",
       "      <td>2003</td>\n",
       "      <td>1</td>\n",
       "      <td>1970</td>\n",
       "      <td>3</td>\n",
       "    </tr>\n",
       "    <tr>\n",
       "      <th>1</th>\n",
       "      <td>14943</td>\n",
       "      <td>1208452</td>\n",
       "      <td>1.0</td>\n",
       "      <td>2003-01-01</td>\n",
       "      <td>2003</td>\n",
       "      <td>1</td>\n",
       "      <td>1970</td>\n",
       "      <td>3</td>\n",
       "    </tr>\n",
       "    <tr>\n",
       "      <th>2</th>\n",
       "      <td>14943</td>\n",
       "      <td>460006</td>\n",
       "      <td>4.0</td>\n",
       "      <td>2003-01-02</td>\n",
       "      <td>2003</td>\n",
       "      <td>1</td>\n",
       "      <td>1970</td>\n",
       "      <td>3</td>\n",
       "    </tr>\n",
       "    <tr>\n",
       "      <th>3</th>\n",
       "      <td>14943</td>\n",
       "      <td>525945</td>\n",
       "      <td>3.0</td>\n",
       "      <td>2003-01-02</td>\n",
       "      <td>2003</td>\n",
       "      <td>1</td>\n",
       "      <td>1970</td>\n",
       "      <td>3</td>\n",
       "    </tr>\n",
       "    <tr>\n",
       "      <th>4</th>\n",
       "      <td>14943</td>\n",
       "      <td>2131029</td>\n",
       "      <td>3.0</td>\n",
       "      <td>2003-01-02</td>\n",
       "      <td>2003</td>\n",
       "      <td>1</td>\n",
       "      <td>1970</td>\n",
       "      <td>3</td>\n",
       "    </tr>\n",
       "  </tbody>\n",
       "</table>\n",
       "</div>"
      ],
      "text/plain": [
       "     mid  cust_id  rating     r_date  r_year  r_fiscQ m_decade  m_quality\n",
       "0  14943  2278539     3.0 2003-01-01    2003        1     1970          3\n",
       "1  14943  1208452     1.0 2003-01-01    2003        1     1970          3\n",
       "2  14943   460006     4.0 2003-01-02    2003        1     1970          3\n",
       "3  14943   525945     3.0 2003-01-02    2003        1     1970          3\n",
       "4  14943  2131029     3.0 2003-01-02    2003        1     1970          3"
      ]
     },
     "execution_count": 51,
     "metadata": {},
     "output_type": "execute_result"
    }
   ],
   "source": [
    "# adding content quality as a feature\n",
    "data = data.merge(avgrating[['mid', 'm_quality']], how='outer')\n",
    "data.head()"
   ]
  },
  {
   "cell_type": "code",
   "execution_count": 53,
   "id": "7be5d1c9",
   "metadata": {},
   "outputs": [
    {
     "data": {
      "text/html": [
       "<div>\n",
       "<style scoped>\n",
       "    .dataframe tbody tr th:only-of-type {\n",
       "        vertical-align: middle;\n",
       "    }\n",
       "\n",
       "    .dataframe tbody tr th {\n",
       "        vertical-align: top;\n",
       "    }\n",
       "\n",
       "    .dataframe thead th {\n",
       "        text-align: right;\n",
       "    }\n",
       "</style>\n",
       "<table border=\"1\" class=\"dataframe\">\n",
       "  <thead>\n",
       "    <tr style=\"text-align: right;\">\n",
       "      <th></th>\n",
       "      <th>mid</th>\n",
       "      <th>cust_id</th>\n",
       "      <th>rating</th>\n",
       "      <th>r_date</th>\n",
       "      <th>r_year</th>\n",
       "      <th>r_fiscQ</th>\n",
       "      <th>m_decade</th>\n",
       "      <th>m_quality</th>\n",
       "    </tr>\n",
       "  </thead>\n",
       "  <tbody>\n",
       "    <tr>\n",
       "      <th>0</th>\n",
       "      <td>14943</td>\n",
       "      <td>2278539</td>\n",
       "      <td>3.0</td>\n",
       "      <td>2003-01-01</td>\n",
       "      <td>2003</td>\n",
       "      <td>1</td>\n",
       "      <td>1970</td>\n",
       "      <td>3</td>\n",
       "    </tr>\n",
       "    <tr>\n",
       "      <th>1</th>\n",
       "      <td>14943</td>\n",
       "      <td>1208452</td>\n",
       "      <td>1.0</td>\n",
       "      <td>2003-01-01</td>\n",
       "      <td>2003</td>\n",
       "      <td>1</td>\n",
       "      <td>1970</td>\n",
       "      <td>3</td>\n",
       "    </tr>\n",
       "    <tr>\n",
       "      <th>2</th>\n",
       "      <td>14943</td>\n",
       "      <td>460006</td>\n",
       "      <td>4.0</td>\n",
       "      <td>2003-01-02</td>\n",
       "      <td>2003</td>\n",
       "      <td>1</td>\n",
       "      <td>1970</td>\n",
       "      <td>3</td>\n",
       "    </tr>\n",
       "    <tr>\n",
       "      <th>3</th>\n",
       "      <td>14943</td>\n",
       "      <td>525945</td>\n",
       "      <td>3.0</td>\n",
       "      <td>2003-01-02</td>\n",
       "      <td>2003</td>\n",
       "      <td>1</td>\n",
       "      <td>1970</td>\n",
       "      <td>3</td>\n",
       "    </tr>\n",
       "    <tr>\n",
       "      <th>4</th>\n",
       "      <td>14943</td>\n",
       "      <td>2131029</td>\n",
       "      <td>3.0</td>\n",
       "      <td>2003-01-02</td>\n",
       "      <td>2003</td>\n",
       "      <td>1</td>\n",
       "      <td>1970</td>\n",
       "      <td>3</td>\n",
       "    </tr>\n",
       "    <tr>\n",
       "      <th>...</th>\n",
       "      <td>...</td>\n",
       "      <td>...</td>\n",
       "      <td>...</td>\n",
       "      <td>...</td>\n",
       "      <td>...</td>\n",
       "      <td>...</td>\n",
       "      <td>...</td>\n",
       "      <td>...</td>\n",
       "    </tr>\n",
       "    <tr>\n",
       "      <th>93441979</th>\n",
       "      <td>6256</td>\n",
       "      <td>1227322</td>\n",
       "      <td>1.0</td>\n",
       "      <td>2005-12-16</td>\n",
       "      <td>2005</td>\n",
       "      <td>4</td>\n",
       "      <td>2000</td>\n",
       "      <td>1</td>\n",
       "    </tr>\n",
       "    <tr>\n",
       "      <th>93441980</th>\n",
       "      <td>6256</td>\n",
       "      <td>2439493</td>\n",
       "      <td>2.0</td>\n",
       "      <td>2005-12-19</td>\n",
       "      <td>2005</td>\n",
       "      <td>4</td>\n",
       "      <td>2000</td>\n",
       "      <td>1</td>\n",
       "    </tr>\n",
       "    <tr>\n",
       "      <th>93441981</th>\n",
       "      <td>6256</td>\n",
       "      <td>2460347</td>\n",
       "      <td>1.0</td>\n",
       "      <td>2005-12-19</td>\n",
       "      <td>2005</td>\n",
       "      <td>4</td>\n",
       "      <td>2000</td>\n",
       "      <td>1</td>\n",
       "    </tr>\n",
       "    <tr>\n",
       "      <th>93441982</th>\n",
       "      <td>6256</td>\n",
       "      <td>2118461</td>\n",
       "      <td>3.0</td>\n",
       "      <td>2005-12-20</td>\n",
       "      <td>2005</td>\n",
       "      <td>4</td>\n",
       "      <td>2000</td>\n",
       "      <td>1</td>\n",
       "    </tr>\n",
       "    <tr>\n",
       "      <th>93441983</th>\n",
       "      <td>6256</td>\n",
       "      <td>1603364</td>\n",
       "      <td>3.0</td>\n",
       "      <td>2005-12-24</td>\n",
       "      <td>2005</td>\n",
       "      <td>4</td>\n",
       "      <td>2000</td>\n",
       "      <td>1</td>\n",
       "    </tr>\n",
       "  </tbody>\n",
       "</table>\n",
       "<p>93441984 rows × 8 columns</p>\n",
       "</div>"
      ],
      "text/plain": [
       "            mid  cust_id  rating     r_date  r_year  r_fiscQ m_decade   \n",
       "0         14943  2278539     3.0 2003-01-01    2003        1     1970  \\\n",
       "1         14943  1208452     1.0 2003-01-01    2003        1     1970   \n",
       "2         14943   460006     4.0 2003-01-02    2003        1     1970   \n",
       "3         14943   525945     3.0 2003-01-02    2003        1     1970   \n",
       "4         14943  2131029     3.0 2003-01-02    2003        1     1970   \n",
       "...         ...      ...     ...        ...     ...      ...      ...   \n",
       "93441979   6256  1227322     1.0 2005-12-16    2005        4     2000   \n",
       "93441980   6256  2439493     2.0 2005-12-19    2005        4     2000   \n",
       "93441981   6256  2460347     1.0 2005-12-19    2005        4     2000   \n",
       "93441982   6256  2118461     3.0 2005-12-20    2005        4     2000   \n",
       "93441983   6256  1603364     3.0 2005-12-24    2005        4     2000   \n",
       "\n",
       "          m_quality  \n",
       "0                 3  \n",
       "1                 3  \n",
       "2                 3  \n",
       "3                 3  \n",
       "4                 3  \n",
       "...             ...  \n",
       "93441979          1  \n",
       "93441980          1  \n",
       "93441981          1  \n",
       "93441982          1  \n",
       "93441983          1  \n",
       "\n",
       "[93441984 rows x 8 columns]"
      ]
     },
     "execution_count": 53,
     "metadata": {},
     "output_type": "execute_result"
    }
   ],
   "source": [
    "data"
   ]
  },
  {
   "cell_type": "markdown",
   "id": "8486e0be",
   "metadata": {},
   "source": [
    "**3. What is the distribution of rating count? Does higher rating count indicate higher quality?**"
   ]
  },
  {
   "cell_type": "code",
   "execution_count": 54,
   "id": "a374e3ab",
   "metadata": {},
   "outputs": [
    {
     "data": {
      "text/html": [
       "<div>\n",
       "<style scoped>\n",
       "    .dataframe tbody tr th:only-of-type {\n",
       "        vertical-align: middle;\n",
       "    }\n",
       "\n",
       "    .dataframe tbody tr th {\n",
       "        vertical-align: top;\n",
       "    }\n",
       "\n",
       "    .dataframe thead th {\n",
       "        text-align: right;\n",
       "    }\n",
       "</style>\n",
       "<table border=\"1\" class=\"dataframe\">\n",
       "  <thead>\n",
       "    <tr style=\"text-align: right;\">\n",
       "      <th></th>\n",
       "      <th>rating</th>\n",
       "    </tr>\n",
       "  </thead>\n",
       "  <tbody>\n",
       "    <tr>\n",
       "      <th>count</th>\n",
       "      <td>17769.000000</td>\n",
       "    </tr>\n",
       "    <tr>\n",
       "      <th>mean</th>\n",
       "      <td>5258.708087</td>\n",
       "    </tr>\n",
       "    <tr>\n",
       "      <th>std</th>\n",
       "      <td>15854.681713</td>\n",
       "    </tr>\n",
       "    <tr>\n",
       "      <th>min</th>\n",
       "      <td>3.000000</td>\n",
       "    </tr>\n",
       "    <tr>\n",
       "      <th>25%</th>\n",
       "      <td>178.000000</td>\n",
       "    </tr>\n",
       "    <tr>\n",
       "      <th>50%</th>\n",
       "      <td>534.000000</td>\n",
       "    </tr>\n",
       "    <tr>\n",
       "      <th>75%</th>\n",
       "      <td>2494.000000</td>\n",
       "    </tr>\n",
       "    <tr>\n",
       "      <th>max</th>\n",
       "      <td>212333.000000</td>\n",
       "    </tr>\n",
       "  </tbody>\n",
       "</table>\n",
       "</div>"
      ],
      "text/plain": [
       "              rating\n",
       "count   17769.000000\n",
       "mean     5258.708087\n",
       "std     15854.681713\n",
       "min         3.000000\n",
       "25%       178.000000\n",
       "50%       534.000000\n",
       "75%      2494.000000\n",
       "max    212333.000000"
      ]
     },
     "execution_count": 54,
     "metadata": {},
     "output_type": "execute_result"
    }
   ],
   "source": [
    "popularity = data.groupby('mid')['rating'].count().sort_values(ascending=False).to_frame()\n",
    "popularity.describe()"
   ]
  },
  {
   "cell_type": "code",
   "execution_count": 55,
   "id": "e3bd346c",
   "metadata": {},
   "outputs": [
    {
     "data": {
      "image/png": "[encoded data removed]",
      "text/plain": [
       "<Figure size 640x480 with 1 Axes>"
      ]
     },
     "metadata": {},
     "output_type": "display_data"
    }
   ],
   "source": [
    "#looks at distribution of avg # of ratings per content\n",
    "popularity['rating'].plot(kind='hist');"
   ]
  },
  {
   "cell_type": "code",
   "execution_count": null,
   "id": "c214c60b",
   "metadata": {},
   "outputs": [],
   "source": []
  },
  {
   "cell_type": "markdown",
   "id": "aff44edd",
   "metadata": {},
   "source": [
    "### thoughts on content attributes\n",
    "\n",
    "- popularity: the avg content had 561 ratings, though it can range up to 233k ratings. will have to address popularity bias in my models\n",
    "\n",
    "- quality: i'm certain that quality directly impacts consumer experience so I made it a feature i'd like to keep an eye on\n",
    "\n",
    "- decade: grouping by decade rather than year released is more meaningful in that it also describes potential stylistic preferences or nostalgia/emotional attachments\n",
    "\n",
    "\n",
    "## user behavior\n",
    "\n",
    "most active users"
   ]
  },
  {
   "cell_type": "code",
   "execution_count": 56,
   "id": "9b97c80b",
   "metadata": {},
   "outputs": [
    {
     "data": {
      "text/html": [
       "<div>\n",
       "<style scoped>\n",
       "    .dataframe tbody tr th:only-of-type {\n",
       "        vertical-align: middle;\n",
       "    }\n",
       "\n",
       "    .dataframe tbody tr th {\n",
       "        vertical-align: top;\n",
       "    }\n",
       "\n",
       "    .dataframe thead th {\n",
       "        text-align: right;\n",
       "    }\n",
       "</style>\n",
       "<table border=\"1\" class=\"dataframe\">\n",
       "  <thead>\n",
       "    <tr style=\"text-align: right;\">\n",
       "      <th></th>\n",
       "      <th>rating</th>\n",
       "    </tr>\n",
       "  </thead>\n",
       "  <tbody>\n",
       "    <tr>\n",
       "      <th>count</th>\n",
       "      <td>479100.000000</td>\n",
       "    </tr>\n",
       "    <tr>\n",
       "      <th>mean</th>\n",
       "      <td>195.036493</td>\n",
       "    </tr>\n",
       "    <tr>\n",
       "      <th>std</th>\n",
       "      <td>280.371848</td>\n",
       "    </tr>\n",
       "    <tr>\n",
       "      <th>min</th>\n",
       "      <td>1.000000</td>\n",
       "    </tr>\n",
       "    <tr>\n",
       "      <th>25%</th>\n",
       "      <td>37.000000</td>\n",
       "    </tr>\n",
       "    <tr>\n",
       "      <th>50%</th>\n",
       "      <td>91.000000</td>\n",
       "    </tr>\n",
       "    <tr>\n",
       "      <th>75%</th>\n",
       "      <td>243.000000</td>\n",
       "    </tr>\n",
       "    <tr>\n",
       "      <th>max</th>\n",
       "      <td>17436.000000</td>\n",
       "    </tr>\n",
       "  </tbody>\n",
       "</table>\n",
       "</div>"
      ],
      "text/plain": [
       "              rating\n",
       "count  479100.000000\n",
       "mean      195.036493\n",
       "std       280.371848\n",
       "min         1.000000\n",
       "25%        37.000000\n",
       "50%        91.000000\n",
       "75%       243.000000\n",
       "max     17436.000000"
      ]
     },
     "execution_count": 56,
     "metadata": {},
     "output_type": "execute_result"
    }
   ],
   "source": [
    "users = data.groupby('cust_id')['rating'].count().sort_values(ascending=False).to_frame()\n",
    "users.describe()"
   ]
  },
  {
   "cell_type": "code",
   "execution_count": 57,
   "id": "2cb93c11",
   "metadata": {},
   "outputs": [
    {
     "data": {
      "image/png": "[encoded data removed]",
      "text/plain": [
       "<Figure size 640x480 with 1 Axes>"
      ]
     },
     "metadata": {},
     "output_type": "display_data"
    }
   ],
   "source": [
    "#looks at distribution of avg # of ratings per user\n",
    "users['rating'].plot(kind='hist');"
   ]
  },
  {
   "cell_type": "code",
   "execution_count": 58,
   "id": "92af8d2f",
   "metadata": {},
   "outputs": [],
   "source": [
    "def activity(row):\n",
    "    \n",
    "    \"\"\"\n",
    "    bins users by activity level\n",
    "    \"\"\"\n",
    "    if row['rating'] < 39:\n",
    "        return 1\n",
    "    elif 39 <= row['rating'] < 96:\n",
    "        return 2\n",
    "    elif 96 <= row['rating'] < 259:\n",
    "        return 3\n",
    "    elif 259 <= row['rating'] < 17653:\n",
    "        return 4\n",
    "    else:\n",
    "        return 5"
   ]
  },
  {
   "cell_type": "code",
   "execution_count": 59,
   "id": "660e585d",
   "metadata": {},
   "outputs": [
    {
     "data": {
      "text/html": [
       "<div>\n",
       "<style scoped>\n",
       "    .dataframe tbody tr th:only-of-type {\n",
       "        vertical-align: middle;\n",
       "    }\n",
       "\n",
       "    .dataframe tbody tr th {\n",
       "        vertical-align: top;\n",
       "    }\n",
       "\n",
       "    .dataframe thead th {\n",
       "        text-align: right;\n",
       "    }\n",
       "</style>\n",
       "<table border=\"1\" class=\"dataframe\">\n",
       "  <thead>\n",
       "    <tr style=\"text-align: right;\">\n",
       "      <th></th>\n",
       "      <th>rating</th>\n",
       "      <th>cust_act_rank</th>\n",
       "    </tr>\n",
       "    <tr>\n",
       "      <th>cust_id</th>\n",
       "      <th></th>\n",
       "      <th></th>\n",
       "    </tr>\n",
       "  </thead>\n",
       "  <tbody>\n",
       "    <tr>\n",
       "      <th>387418</th>\n",
       "      <td>17436</td>\n",
       "      <td>4</td>\n",
       "    </tr>\n",
       "    <tr>\n",
       "      <th>305344</th>\n",
       "      <td>16425</td>\n",
       "      <td>4</td>\n",
       "    </tr>\n",
       "    <tr>\n",
       "      <th>2439493</th>\n",
       "      <td>15891</td>\n",
       "      <td>4</td>\n",
       "    </tr>\n",
       "    <tr>\n",
       "      <th>1664010</th>\n",
       "      <td>15813</td>\n",
       "      <td>4</td>\n",
       "    </tr>\n",
       "    <tr>\n",
       "      <th>2118461</th>\n",
       "      <td>14831</td>\n",
       "      <td>4</td>\n",
       "    </tr>\n",
       "  </tbody>\n",
       "</table>\n",
       "</div>"
      ],
      "text/plain": [
       "         rating  cust_act_rank\n",
       "cust_id                       \n",
       "387418    17436              4\n",
       "305344    16425              4\n",
       "2439493   15891              4\n",
       "1664010   15813              4\n",
       "2118461   14831              4"
      ]
     },
     "execution_count": 59,
     "metadata": {},
     "output_type": "execute_result"
    }
   ],
   "source": [
    "users['cust_act_rank'] = users.apply(activity, axis=1)\n",
    "users.head()"
   ]
  },
  {
   "cell_type": "code",
   "execution_count": 60,
   "id": "1f7e397e",
   "metadata": {},
   "outputs": [
    {
     "data": {
      "text/plain": [
       "cust_act_rank\n",
       "1    125225\n",
       "3    121731\n",
       "2    119772\n",
       "4    112372\n",
       "Name: count, dtype: int64"
      ]
     },
     "execution_count": 60,
     "metadata": {},
     "output_type": "execute_result"
    }
   ],
   "source": [
    "users['cust_act_rank'].value_counts()"
   ]
  },
  {
   "cell_type": "code",
   "execution_count": 61,
   "id": "be5cbca0",
   "metadata": {},
   "outputs": [
    {
     "data": {
      "text/plain": [
       "<BarContainer object of 4 artists>"
      ]
     },
     "execution_count": 61,
     "metadata": {},
     "output_type": "execute_result"
    },
    {
     "data": {
      "image/png": "[encoded data removed]",
      "text/plain": [
       "<Figure size 640x480 with 1 Axes>"
      ]
     },
     "metadata": {},
     "output_type": "display_data"
    }
   ],
   "source": [
    "plt.bar((users['cust_act_rank'].value_counts(sort=True).index), \n",
    "        (users['cust_act_rank'].value_counts(sort=True).values))"
   ]
  },
  {
   "cell_type": "code",
   "execution_count": null,
   "id": "6c494db1",
   "metadata": {},
   "outputs": [],
   "source": []
  },
  {
   "cell_type": "code",
   "execution_count": 62,
   "id": "a47167ab",
   "metadata": {},
   "outputs": [
    {
     "data": {
      "text/html": [
       "<div>\n",
       "<style scoped>\n",
       "    .dataframe tbody tr th:only-of-type {\n",
       "        vertical-align: middle;\n",
       "    }\n",
       "\n",
       "    .dataframe tbody tr th {\n",
       "        vertical-align: top;\n",
       "    }\n",
       "\n",
       "    .dataframe thead th {\n",
       "        text-align: right;\n",
       "    }\n",
       "</style>\n",
       "<table border=\"1\" class=\"dataframe\">\n",
       "  <thead>\n",
       "    <tr style=\"text-align: right;\">\n",
       "      <th></th>\n",
       "      <th>mid</th>\n",
       "      <th>cust_id</th>\n",
       "      <th>rating</th>\n",
       "      <th>r_date</th>\n",
       "      <th>r_year</th>\n",
       "      <th>r_fiscQ</th>\n",
       "      <th>m_decade</th>\n",
       "      <th>m_quality</th>\n",
       "    </tr>\n",
       "  </thead>\n",
       "  <tbody>\n",
       "    <tr>\n",
       "      <th>0</th>\n",
       "      <td>14943</td>\n",
       "      <td>2278539</td>\n",
       "      <td>3.0</td>\n",
       "      <td>2003-01-01</td>\n",
       "      <td>2003</td>\n",
       "      <td>1</td>\n",
       "      <td>1970</td>\n",
       "      <td>3</td>\n",
       "    </tr>\n",
       "    <tr>\n",
       "      <th>1</th>\n",
       "      <td>14943</td>\n",
       "      <td>1208452</td>\n",
       "      <td>1.0</td>\n",
       "      <td>2003-01-01</td>\n",
       "      <td>2003</td>\n",
       "      <td>1</td>\n",
       "      <td>1970</td>\n",
       "      <td>3</td>\n",
       "    </tr>\n",
       "    <tr>\n",
       "      <th>2</th>\n",
       "      <td>14943</td>\n",
       "      <td>460006</td>\n",
       "      <td>4.0</td>\n",
       "      <td>2003-01-02</td>\n",
       "      <td>2003</td>\n",
       "      <td>1</td>\n",
       "      <td>1970</td>\n",
       "      <td>3</td>\n",
       "    </tr>\n",
       "    <tr>\n",
       "      <th>3</th>\n",
       "      <td>14943</td>\n",
       "      <td>525945</td>\n",
       "      <td>3.0</td>\n",
       "      <td>2003-01-02</td>\n",
       "      <td>2003</td>\n",
       "      <td>1</td>\n",
       "      <td>1970</td>\n",
       "      <td>3</td>\n",
       "    </tr>\n",
       "    <tr>\n",
       "      <th>4</th>\n",
       "      <td>14943</td>\n",
       "      <td>2131029</td>\n",
       "      <td>3.0</td>\n",
       "      <td>2003-01-02</td>\n",
       "      <td>2003</td>\n",
       "      <td>1</td>\n",
       "      <td>1970</td>\n",
       "      <td>3</td>\n",
       "    </tr>\n",
       "  </tbody>\n",
       "</table>\n",
       "</div>"
      ],
      "text/plain": [
       "     mid  cust_id  rating     r_date  r_year  r_fiscQ m_decade  m_quality\n",
       "0  14943  2278539     3.0 2003-01-01    2003        1     1970          3\n",
       "1  14943  1208452     1.0 2003-01-01    2003        1     1970          3\n",
       "2  14943   460006     4.0 2003-01-02    2003        1     1970          3\n",
       "3  14943   525945     3.0 2003-01-02    2003        1     1970          3\n",
       "4  14943  2131029     3.0 2003-01-02    2003        1     1970          3"
      ]
     },
     "execution_count": 62,
     "metadata": {},
     "output_type": "execute_result"
    }
   ],
   "source": [
    "data.head()"
   ]
  },
  {
   "cell_type": "code",
   "execution_count": 63,
   "id": "5a186c64",
   "metadata": {},
   "outputs": [
    {
     "name": "stdout",
     "output_type": "stream",
     "text": [
      "<class 'pandas.core.frame.DataFrame'>\n",
      "RangeIndex: 93441984 entries, 0 to 93441983\n",
      "Data columns (total 8 columns):\n",
      " #   Column     Dtype         \n",
      "---  ------     -----         \n",
      " 0   mid        int64         \n",
      " 1   cust_id    int64         \n",
      " 2   rating     float64       \n",
      " 3   r_date     datetime64[ns]\n",
      " 4   r_year     int64         \n",
      " 5   r_fiscQ    int64         \n",
      " 6   m_decade   object        \n",
      " 7   m_quality  int64         \n",
      "dtypes: datetime64[ns](1), float64(1), int64(5), object(1)\n",
      "memory usage: 5.6+ GB\n"
     ]
    }
   ],
   "source": [
    "data.info()"
   ]
  },
  {
   "cell_type": "code",
   "execution_count": 76,
   "id": "8a9b9ff6",
   "metadata": {},
   "outputs": [
    {
     "data": {
      "text/html": [
       "<div>\n",
       "<style scoped>\n",
       "    .dataframe tbody tr th:only-of-type {\n",
       "        vertical-align: middle;\n",
       "    }\n",
       "\n",
       "    .dataframe tbody tr th {\n",
       "        vertical-align: top;\n",
       "    }\n",
       "\n",
       "    .dataframe thead th {\n",
       "        text-align: right;\n",
       "    }\n",
       "</style>\n",
       "<table border=\"1\" class=\"dataframe\">\n",
       "  <thead>\n",
       "    <tr style=\"text-align: right;\">\n",
       "      <th></th>\n",
       "      <th>mid</th>\n",
       "      <th>cust_id</th>\n",
       "      <th>rating</th>\n",
       "      <th>r_date</th>\n",
       "      <th>r_fiscQ</th>\n",
       "      <th>m_decade</th>\n",
       "      <th>m_quality</th>\n",
       "    </tr>\n",
       "  </thead>\n",
       "  <tbody>\n",
       "    <tr>\n",
       "      <th>0</th>\n",
       "      <td>1</td>\n",
       "      <td>1488844</td>\n",
       "      <td>3.0</td>\n",
       "      <td>2005-09-06</td>\n",
       "      <td>4</td>\n",
       "      <td>2000</td>\n",
       "      <td>a</td>\n",
       "    </tr>\n",
       "    <tr>\n",
       "      <th>1</th>\n",
       "      <td>1</td>\n",
       "      <td>822109</td>\n",
       "      <td>5.0</td>\n",
       "      <td>2005-05-13</td>\n",
       "      <td>2</td>\n",
       "      <td>2000</td>\n",
       "      <td>a</td>\n",
       "    </tr>\n",
       "    <tr>\n",
       "      <th>2</th>\n",
       "      <td>1</td>\n",
       "      <td>885013</td>\n",
       "      <td>4.0</td>\n",
       "      <td>2005-10-19</td>\n",
       "      <td>4</td>\n",
       "      <td>2000</td>\n",
       "      <td>a</td>\n",
       "    </tr>\n",
       "    <tr>\n",
       "      <th>3</th>\n",
       "      <td>1</td>\n",
       "      <td>30878</td>\n",
       "      <td>4.0</td>\n",
       "      <td>2005-12-26</td>\n",
       "      <td>4</td>\n",
       "      <td>2000</td>\n",
       "      <td>a</td>\n",
       "    </tr>\n",
       "    <tr>\n",
       "      <th>4</th>\n",
       "      <td>1</td>\n",
       "      <td>823519</td>\n",
       "      <td>3.0</td>\n",
       "      <td>2004-05-03</td>\n",
       "      <td>2</td>\n",
       "      <td>2000</td>\n",
       "      <td>a</td>\n",
       "    </tr>\n",
       "  </tbody>\n",
       "</table>\n",
       "</div>"
      ],
      "text/plain": [
       "   mid  cust_id  rating      r_date  r_fiscQ m_decade m_quality\n",
       "0    1  1488844     3.0  2005-09-06        4     2000         a\n",
       "1    1   822109     5.0  2005-05-13        2     2000         a\n",
       "2    1   885013     4.0  2005-10-19        4     2000         a\n",
       "3    1    30878     4.0  2005-12-26        4     2000         a\n",
       "4    1   823519     3.0  2004-05-03        2     2000         a"
      ]
     },
     "execution_count": 76,
     "metadata": {},
     "output_type": "execute_result"
    }
   ],
   "source": [
    "data = data.drop(['r_year'], axis=1)\n",
    "data.head()"
   ]
  },
  {
   "cell_type": "code",
   "execution_count": 78,
   "id": "1ac1c7fa",
   "metadata": {},
   "outputs": [
    {
     "name": "stdout",
     "output_type": "stream",
     "text": [
      "<class 'pandas.core.frame.DataFrame'>\n",
      "RangeIndex: 100480507 entries, 0 to 100480506\n",
      "Data columns (total 7 columns):\n",
      " #   Column     Dtype         \n",
      "---  ------     -----         \n",
      " 0   mid        int64         \n",
      " 1   cust_id    int64         \n",
      " 2   rating     float64       \n",
      " 3   r_date     datetime64[ns]\n",
      " 4   r_fiscQ    int64         \n",
      " 5   m_decade   object        \n",
      " 6   m_quality  object        \n",
      "dtypes: datetime64[ns](1), float64(1), int64(3), object(2)\n",
      "memory usage: 5.2+ GB\n"
     ]
    }
   ],
   "source": [
    "data['r_date'] = data['r_date'].astype('datetime64[ns]')\n",
    "data.info()"
   ]
  },
  {
   "cell_type": "code",
   "execution_count": 79,
   "id": "9e193ec8",
   "metadata": {},
   "outputs": [],
   "source": [
    "data.to_csv('data/final_df.csv')"
   ]
  },
  {
   "cell_type": "code",
   "execution_count": 80,
   "id": "a48f8e15",
   "metadata": {},
   "outputs": [
    {
     "data": {
      "application/javascript": [
       "$(document).ready(\n",
       "    function() {\n",
       "        function appendUniqueDiv(){\n",
       "            // append a div with our uuid so we can check that it's already\n",
       "            // been sent and avoid duplicates on page reload\n",
       "            var notifiedDiv = document.createElement(\"div\")\n",
       "            notifiedDiv.id = \"b9eab7ca-55da-440e-b433-f41b4f4d49cd\"\n",
       "            element.append(notifiedDiv)\n",
       "        }\n",
       "\n",
       "        // only send notifications if the pageload is complete; this will\n",
       "        // help stop extra notifications when a saved notebook is loaded,\n",
       "        // which during testing gives us state \"interactive\", not \"complete\"\n",
       "        if (document.readyState === 'complete') {\n",
       "            // check for the div that signifies that the notification\n",
       "            // was already sent\n",
       "            if (document.getElementById(\"b9eab7ca-55da-440e-b433-f41b4f4d49cd\") === null) {\n",
       "                var notificationPayload = {\"requireInteraction\": false, \"icon\": \"/static/base/images/favicon.ico\", \"body\": \"Cell execution has finished!\"};\n",
       "                if (Notification.permission !== 'denied') {\n",
       "                    if (Notification.permission !== 'granted') { \n",
       "                        Notification.requestPermission(function (permission) {\n",
       "                            if(!('permission' in Notification)) {\n",
       "                                Notification.permission = permission\n",
       "                            }\n",
       "                        })\n",
       "                    }\n",
       "                    if (Notification.permission === 'granted') {\n",
       "                    var notification = new Notification(\"Jupyter Notebook\", notificationPayload)\n",
       "                    appendUniqueDiv()\n",
       "                    notification.onclick = function () {\n",
       "                        window.focus();\n",
       "                        this.close();\n",
       "                        };\n",
       "                    } \n",
       "                }     \n",
       "            }\n",
       "        }\n",
       "    }\n",
       ")\n"
      ],
      "text/plain": [
       "<IPython.core.display.Javascript object>"
      ]
     },
     "metadata": {},
     "output_type": "display_data"
    }
   ],
   "source": [
    "%notify"
   ]
  },
  {
   "cell_type": "code",
   "execution_count": null,
   "id": "c495b088",
   "metadata": {},
   "outputs": [],
   "source": [
    "d['month_year'] = df['r_date'].dt.to_period('M')\n",
    "df.head()"
   ]
  },
  {
   "cell_type": "code",
   "execution_count": null,
   "id": "6a0c0c78",
   "metadata": {},
   "outputs": [],
   "source": [
    "ratings_monthly = df[['month_year', 'rating']]\n",
    "ratings_monthly.head()"
   ]
  },
  {
   "cell_type": "code",
   "execution_count": null,
   "id": "e96e6a6a",
   "metadata": {},
   "outputs": [],
   "source": []
  },
  {
   "cell_type": "code",
   "execution_count": null,
   "id": "16e23c49",
   "metadata": {},
   "outputs": [],
   "source": []
  },
  {
   "cell_type": "code",
   "execution_count": null,
   "id": "434ea19e",
   "metadata": {},
   "outputs": [],
   "source": []
  },
  {
   "cell_type": "code",
   "execution_count": null,
   "id": "b1737613",
   "metadata": {},
   "outputs": [],
   "source": []
  },
  {
   "cell_type": "code",
   "execution_count": null,
   "id": "1b903875",
   "metadata": {},
   "outputs": [],
   "source": []
  },
  {
   "cell_type": "code",
   "execution_count": null,
   "id": "998f1deb",
   "metadata": {},
   "outputs": [],
   "source": []
  },
  {
   "cell_type": "code",
   "execution_count": null,
   "id": "f5177ea5",
   "metadata": {},
   "outputs": [],
   "source": []
  },
  {
   "cell_type": "code",
   "execution_count": 64,
   "id": "117174de",
   "metadata": {},
   "outputs": [
    {
     "ename": "SyntaxError",
     "evalue": "unexpected EOF while parsing (338409898.py, line 2)",
     "output_type": "error",
     "traceback": [
      "\u001b[0;36m  File \u001b[0;32m\"/var/folders/xc/4fn08svj2dgdk_3wj3xkp_rr0000gn/T/ipykernel_14063/338409898.py\"\u001b[0;36m, line \u001b[0;32m2\u001b[0m\n\u001b[0;31m    \u001b[0m\n\u001b[0m    ^\u001b[0m\n\u001b[0;31mSyntaxError\u001b[0m\u001b[0;31m:\u001b[0m unexpected EOF while parsing\n"
     ]
    }
   ],
   "source": [
    "plt.bar((users['cust_act_rank'].value_counts(sort=True).index), (users['cust_act_rank'].value_counts(sort=True).values"
   ]
  },
  {
   "cell_type": "code",
   "execution_count": null,
   "id": "c776774b",
   "metadata": {},
   "outputs": [],
   "source": [
    "data = data.merge(users[['cust_activity_rank']])"
   ]
  },
  {
   "cell_type": "code",
   "execution_count": null,
   "id": "22f85aad",
   "metadata": {},
   "outputs": [],
   "source": [
    "plt.bar((data['r_year'].value_counts(sort=True).index), (data['r_year'].value_counts(sort=True).values))"
   ]
  },
  {
   "cell_type": "code",
   "execution_count": null,
   "id": "08e55b06",
   "metadata": {},
   "outputs": [],
   "source": [
    "plt.bar((df['r_fiscQ'].value_counts(sort=True).index), (df['r_fiscQ'].value_counts(sort=True).values))"
   ]
  },
  {
   "cell_type": "code",
   "execution_count": null,
   "id": "fcb7cede",
   "metadata": {},
   "outputs": [],
   "source": [
    "y05 = df[(df['r_year'] == 2005)]\n",
    "y05['r_month'].value_counts()"
   ]
  },
  {
   "cell_type": "code",
   "execution_count": null,
   "id": "08dd4d3f",
   "metadata": {},
   "outputs": [],
   "source": [
    "plt.bar((y05['r_month'].value_counts(sort=True).index), (y05['r_month'].value_counts(sort=True).values))"
   ]
  },
  {
   "cell_type": "code",
   "execution_count": null,
   "id": "5a36db23",
   "metadata": {},
   "outputs": [],
   "source": [
    "y03 = df[(df['r_year'] == 2003)]\n",
    "y03['r_month'].value_counts()"
   ]
  },
  {
   "cell_type": "code",
   "execution_count": null,
   "id": "d631d199",
   "metadata": {},
   "outputs": [],
   "source": [
    "plt.bar((y03['r_month'].value_counts(sort=True).index), (y03['r_month'].value_counts(sort=True).values))"
   ]
  },
  {
   "cell_type": "code",
   "execution_count": null,
   "id": "0c86e1b5",
   "metadata": {},
   "outputs": [],
   "source": [
    "y0 = df[(df['r_year'] == 1999)]\n",
    "y0['r_month'].value_counts()"
   ]
  },
  {
   "cell_type": "code",
   "execution_count": 44,
   "id": "d3add57c",
   "metadata": {},
   "outputs": [
    {
     "data": {
      "application/javascript": [
       "$(document).ready(\n",
       "    function() {\n",
       "        function appendUniqueDiv(){\n",
       "            // append a div with our uuid so we can check that it's already\n",
       "            // been sent and avoid duplicates on page reload\n",
       "            var notifiedDiv = document.createElement(\"div\")\n",
       "            notifiedDiv.id = \"82c293ea-434f-4809-a401-4c27e9319d90\"\n",
       "            element.append(notifiedDiv)\n",
       "        }\n",
       "\n",
       "        // only send notifications if the pageload is complete; this will\n",
       "        // help stop extra notifications when a saved notebook is loaded,\n",
       "        // which during testing gives us state \"interactive\", not \"complete\"\n",
       "        if (document.readyState === 'complete') {\n",
       "            // check for the div that signifies that the notification\n",
       "            // was already sent\n",
       "            if (document.getElementById(\"82c293ea-434f-4809-a401-4c27e9319d90\") === null) {\n",
       "                var notificationPayload = {\"requireInteraction\": false, \"icon\": \"/static/base/images/favicon.ico\", \"body\": \"Cell execution has finished!\"};\n",
       "                if (Notification.permission !== 'denied') {\n",
       "                    if (Notification.permission !== 'granted') { \n",
       "                        Notification.requestPermission(function (permission) {\n",
       "                            if(!('permission' in Notification)) {\n",
       "                                Notification.permission = permission\n",
       "                            }\n",
       "                        })\n",
       "                    }\n",
       "                    if (Notification.permission === 'granted') {\n",
       "                    var notification = new Notification(\"Jupyter Notebook\", notificationPayload)\n",
       "                    appendUniqueDiv()\n",
       "                    notification.onclick = function () {\n",
       "                        window.focus();\n",
       "                        this.close();\n",
       "                        };\n",
       "                    } \n",
       "                }     \n",
       "            }\n",
       "        }\n",
       "    }\n",
       ")\n"
      ],
      "text/plain": [
       "<IPython.core.display.Javascript object>"
      ]
     },
     "metadata": {},
     "output_type": "display_data"
    }
   ],
   "source": [
    "%notify"
   ]
  },
  {
   "cell_type": "code",
   "execution_count": null,
   "id": "9e4c396f",
   "metadata": {},
   "outputs": [],
   "source": [
    "y02 = df[(df['r_year'] == 2002)]\n",
    "y02['r_month'].value_counts()"
   ]
  },
  {
   "cell_type": "code",
   "execution_count": null,
   "id": "eeff8b34",
   "metadata": {},
   "outputs": [],
   "source": [
    "plt.bar((y02['r_month'].value_counts(sort=True).index), (y02['r_month'].value_counts(sort=True).values))"
   ]
  },
  {
   "cell_type": "markdown",
   "id": "134bf7f9",
   "metadata": {},
   "source": [
    "# thoughts on time\n",
    "\n",
    "After looking at the data, it seems like using time periods to cluster customers might be unreliable. First, these are randomly chosen so it might not represent accurately the distribution of time watched. \n",
    "\n",
    "Also, I can't tell from this data whether someone rated the movie at the time of watch or whether they rated it having already watched it. \n",
    "\n",
    "I'll leave year and fiscal quarters in because it does provide some context into seasonality. "
   ]
  },
  {
   "cell_type": "code",
   "execution_count": null,
   "id": "824c3162",
   "metadata": {},
   "outputs": [],
   "source": []
  }
 ],
 "metadata": {
  "kernelspec": {
   "display_name": "Python 3 (ipykernel)",
   "language": "python",
   "name": "python3"
  },
  "language_info": {
   "codemirror_mode": {
    "name": "ipython",
    "version": 3
   },
   "file_extension": ".py",
   "mimetype": "text/x-python",
   "name": "python",
   "nbconvert_exporter": "python",
   "pygments_lexer": "ipython3",
   "version": "3.9.13"
  }
 },
 "nbformat": 4,
 "nbformat_minor": 5
}
