{
 "cells": [
  {
   "cell_type": "code",
   "execution_count": 73,
   "id": "9a78b02e",
   "metadata": {},
   "outputs": [],
   "source": [
    "import pandas as pd\n",
    "from pandas import Grouper\n",
    "import numpy as np\n",
    "import matplotlib.pyplot as plt\n",
    "%matplotlib inline\n",
    "import seaborn as sns\n",
    "\n",
    "import random\n",
    "from random import sample"
   ]
  },
  {
   "cell_type": "code",
   "execution_count": 2,
   "id": "83d761ac",
   "metadata": {},
   "outputs": [
    {
     "data": {
      "application/javascript": [
       "if (!(\"Notification\" in window)) {\n",
       "    alert(\"This browser does not support desktop notifications, so the %%notify magic will not work.\");\n",
       "} else if (Notification.permission !== 'granted' && Notification.permission !== 'denied') {\n",
       "    Notification.requestPermission(function (permission) {\n",
       "        if(!('permission' in Notification)) {\n",
       "            Notification.permission = permission;\n",
       "        }\n",
       "    })\n",
       "}\n"
      ],
      "text/plain": [
       "<IPython.core.display.Javascript object>"
      ]
     },
     "metadata": {},
     "output_type": "display_data"
    }
   ],
   "source": [
    "\n",
    "#notify me when a long running cell is complete\n",
    "%load_ext jupyternotify\n",
    "import time"
   ]
  },
  {
   "cell_type": "code",
   "execution_count": 3,
   "id": "0370b072",
   "metadata": {},
   "outputs": [
    {
     "name": "stderr",
     "output_type": "stream",
     "text": [
      "/var/folders/xc/4fn08svj2dgdk_3wj3xkp_rr0000gn/T/ipykernel_4932/3666075594.py:1: ParserWarning: Length of header or names does not match length of data. This leads to a loss of data with index_col=False.\n",
      "  content = pd.read_csv('data/movie_titles3.csv', index_col=False, names = ['id', 'year', 'title'])\n"
     ]
    },
    {
     "data": {
      "text/html": [
       "<div>\n",
       "<style scoped>\n",
       "    .dataframe tbody tr th:only-of-type {\n",
       "        vertical-align: middle;\n",
       "    }\n",
       "\n",
       "    .dataframe tbody tr th {\n",
       "        vertical-align: top;\n",
       "    }\n",
       "\n",
       "    .dataframe thead th {\n",
       "        text-align: right;\n",
       "    }\n",
       "</style>\n",
       "<table border=\"1\" class=\"dataframe\">\n",
       "  <thead>\n",
       "    <tr style=\"text-align: right;\">\n",
       "      <th></th>\n",
       "      <th>id</th>\n",
       "      <th>year</th>\n",
       "      <th>title</th>\n",
       "    </tr>\n",
       "  </thead>\n",
       "  <tbody>\n",
       "    <tr>\n",
       "      <th>0</th>\n",
       "      <td>1</td>\n",
       "      <td>2003.0</td>\n",
       "      <td>Dinosaur Planet</td>\n",
       "    </tr>\n",
       "    <tr>\n",
       "      <th>1</th>\n",
       "      <td>2</td>\n",
       "      <td>2004.0</td>\n",
       "      <td>Isle of Man TT 2004 Review</td>\n",
       "    </tr>\n",
       "    <tr>\n",
       "      <th>2</th>\n",
       "      <td>3</td>\n",
       "      <td>1997.0</td>\n",
       "      <td>Character</td>\n",
       "    </tr>\n",
       "    <tr>\n",
       "      <th>3</th>\n",
       "      <td>4</td>\n",
       "      <td>1994.0</td>\n",
       "      <td>Paula Abdul's Get Up &amp; Dance</td>\n",
       "    </tr>\n",
       "    <tr>\n",
       "      <th>4</th>\n",
       "      <td>5</td>\n",
       "      <td>2004.0</td>\n",
       "      <td>The Rise and Fall of ECW</td>\n",
       "    </tr>\n",
       "  </tbody>\n",
       "</table>\n",
       "</div>"
      ],
      "text/plain": [
       "   id    year                         title\n",
       "0   1  2003.0               Dinosaur Planet\n",
       "1   2  2004.0    Isle of Man TT 2004 Review\n",
       "2   3  1997.0                     Character\n",
       "3   4  1994.0  Paula Abdul's Get Up & Dance\n",
       "4   5  2004.0      The Rise and Fall of ECW"
      ]
     },
     "execution_count": 3,
     "metadata": {},
     "output_type": "execute_result"
    }
   ],
   "source": [
    "content = pd.read_csv('data/movie_titles3.csv', index_col=False, names = ['id', 'year', 'title'])\n",
    "content.head()"
   ]
  },
  {
   "cell_type": "code",
   "execution_count": 4,
   "id": "9349adc0",
   "metadata": {},
   "outputs": [
    {
     "data": {
      "text/plain": [
       "count    17763.000000\n",
       "mean      1990.263694\n",
       "std         16.507891\n",
       "min       1896.000000\n",
       "25%       1985.000000\n",
       "50%       1997.000000\n",
       "75%       2002.000000\n",
       "max       2005.000000\n",
       "Name: year, dtype: float64"
      ]
     },
     "execution_count": 4,
     "metadata": {},
     "output_type": "execute_result"
    }
   ],
   "source": [
    "content['year'].describe()"
   ]
  },
  {
   "cell_type": "code",
   "execution_count": 5,
   "id": "70f7312c",
   "metadata": {},
   "outputs": [
    {
     "name": "stdout",
     "output_type": "stream",
     "text": [
      "<class 'pandas.core.frame.DataFrame'>\n",
      "RangeIndex: 17770 entries, 0 to 17769\n",
      "Data columns (total 3 columns):\n",
      " #   Column  Non-Null Count  Dtype  \n",
      "---  ------  --------------  -----  \n",
      " 0   id      17770 non-null  int64  \n",
      " 1   year    17763 non-null  float64\n",
      " 2   title   17770 non-null  object \n",
      "dtypes: float64(1), int64(1), object(1)\n",
      "memory usage: 416.6+ KB\n"
     ]
    }
   ],
   "source": [
    "content.info()"
   ]
  },
  {
   "cell_type": "markdown",
   "id": "9a457642",
   "metadata": {},
   "source": [
    "# Year Release\n",
    "\n",
    "There are a few missing years - adding those in.\n",
    "\n",
    "I'm assuming that people identify heavily with the content that they grew up with or a certain styles of content. For that reason, I'm going to bin films by decade.\n",
    "\n",
    "However, considering the low outliers anything before 1960 will be binned together. Q1 - 1.5IQR"
   ]
  },
  {
   "cell_type": "code",
   "execution_count": 6,
   "id": "a7089a26",
   "metadata": {
    "scrolled": true
   },
   "outputs": [
    {
     "data": {
      "text/html": [
       "<div>\n",
       "<style scoped>\n",
       "    .dataframe tbody tr th:only-of-type {\n",
       "        vertical-align: middle;\n",
       "    }\n",
       "\n",
       "    .dataframe tbody tr th {\n",
       "        vertical-align: top;\n",
       "    }\n",
       "\n",
       "    .dataframe thead th {\n",
       "        text-align: right;\n",
       "    }\n",
       "</style>\n",
       "<table border=\"1\" class=\"dataframe\">\n",
       "  <thead>\n",
       "    <tr style=\"text-align: right;\">\n",
       "      <th></th>\n",
       "      <th>id</th>\n",
       "      <th>year</th>\n",
       "      <th>title</th>\n",
       "    </tr>\n",
       "  </thead>\n",
       "  <tbody>\n",
       "    <tr>\n",
       "      <th>4387</th>\n",
       "      <td>4388</td>\n",
       "      <td>NaN</td>\n",
       "      <td>Ancient Civilizations: Rome and Pompeii</td>\n",
       "    </tr>\n",
       "    <tr>\n",
       "      <th>4793</th>\n",
       "      <td>4794</td>\n",
       "      <td>NaN</td>\n",
       "      <td>Ancient Civilizations: Land of the Pharaohs</td>\n",
       "    </tr>\n",
       "    <tr>\n",
       "      <th>7240</th>\n",
       "      <td>7241</td>\n",
       "      <td>NaN</td>\n",
       "      <td>Ancient Civilizations: Athens and Greece</td>\n",
       "    </tr>\n",
       "    <tr>\n",
       "      <th>10781</th>\n",
       "      <td>10782</td>\n",
       "      <td>NaN</td>\n",
       "      <td>Roti Kapada Aur Makaan</td>\n",
       "    </tr>\n",
       "    <tr>\n",
       "      <th>15917</th>\n",
       "      <td>15918</td>\n",
       "      <td>NaN</td>\n",
       "      <td>Hote Hote Pyaar Ho Gaya</td>\n",
       "    </tr>\n",
       "    <tr>\n",
       "      <th>16677</th>\n",
       "      <td>16678</td>\n",
       "      <td>NaN</td>\n",
       "      <td>Jimmy Hollywood</td>\n",
       "    </tr>\n",
       "    <tr>\n",
       "      <th>17666</th>\n",
       "      <td>17667</td>\n",
       "      <td>NaN</td>\n",
       "      <td>Eros Dance Dhamaka</td>\n",
       "    </tr>\n",
       "  </tbody>\n",
       "</table>\n",
       "</div>"
      ],
      "text/plain": [
       "          id  year                                        title\n",
       "4387    4388   NaN      Ancient Civilizations: Rome and Pompeii\n",
       "4793    4794   NaN  Ancient Civilizations: Land of the Pharaohs\n",
       "7240    7241   NaN     Ancient Civilizations: Athens and Greece\n",
       "10781  10782   NaN                       Roti Kapada Aur Makaan\n",
       "15917  15918   NaN                      Hote Hote Pyaar Ho Gaya\n",
       "16677  16678   NaN                              Jimmy Hollywood\n",
       "17666  17667   NaN                           Eros Dance Dhamaka"
      ]
     },
     "execution_count": 6,
     "metadata": {},
     "output_type": "execute_result"
    }
   ],
   "source": [
    "content[content['year'].isna()]"
   ]
  },
  {
   "cell_type": "code",
   "execution_count": 7,
   "id": "1cc5af99",
   "metadata": {},
   "outputs": [
    {
     "data": {
      "text/html": [
       "<div>\n",
       "<style scoped>\n",
       "    .dataframe tbody tr th:only-of-type {\n",
       "        vertical-align: middle;\n",
       "    }\n",
       "\n",
       "    .dataframe tbody tr th {\n",
       "        vertical-align: top;\n",
       "    }\n",
       "\n",
       "    .dataframe thead th {\n",
       "        text-align: right;\n",
       "    }\n",
       "</style>\n",
       "<table border=\"1\" class=\"dataframe\">\n",
       "  <thead>\n",
       "    <tr style=\"text-align: right;\">\n",
       "      <th></th>\n",
       "      <th>id</th>\n",
       "      <th>year</th>\n",
       "      <th>title</th>\n",
       "    </tr>\n",
       "  </thead>\n",
       "  <tbody>\n",
       "  </tbody>\n",
       "</table>\n",
       "</div>"
      ],
      "text/plain": [
       "Empty DataFrame\n",
       "Columns: [id, year, title]\n",
       "Index: []"
      ]
     },
     "execution_count": 7,
     "metadata": {},
     "output_type": "execute_result"
    }
   ],
   "source": [
    "#fix year\n",
    "content.at[4387,'year']=2002\n",
    "content.at[4793,'year']=2002\n",
    "content.at[7240,'year']=2002\n",
    "content.at[10781,'year']=1974\n",
    "content.at[15917,'year']=1999\n",
    "content.at[16677,'year']=1994\n",
    "content.at[17666,'year']=1999\n",
    "\n",
    "#check\n",
    "content[content['year'].isna()]"
   ]
  },
  {
   "cell_type": "code",
   "execution_count": 8,
   "id": "0066fd7f",
   "metadata": {},
   "outputs": [],
   "source": [
    "def decade(row):\n",
    "    \n",
    "    \"\"\"\n",
    "    bins years by decade, 1959 and before are binned together\n",
    "    \"\"\"\n",
    "    if row['year'] <= 1959:\n",
    "        return str(0)\n",
    "    elif 1960 <= row['year'] < 1969:\n",
    "        return str(1960)\n",
    "    elif 1970 <= row['year'] < 1979:\n",
    "        return str(1970)\n",
    "    elif 1980 <= row['year'] < 1989:\n",
    "        return str(1980)\n",
    "    elif 1990 <= row['year'] < 1999:\n",
    "        return str(1990)\n",
    "    else:\n",
    "        return str(2000)"
   ]
  },
  {
   "cell_type": "code",
   "execution_count": 9,
   "id": "13667d22",
   "metadata": {},
   "outputs": [
    {
     "data": {
      "text/html": [
       "<div>\n",
       "<style scoped>\n",
       "    .dataframe tbody tr th:only-of-type {\n",
       "        vertical-align: middle;\n",
       "    }\n",
       "\n",
       "    .dataframe tbody tr th {\n",
       "        vertical-align: top;\n",
       "    }\n",
       "\n",
       "    .dataframe thead th {\n",
       "        text-align: right;\n",
       "    }\n",
       "</style>\n",
       "<table border=\"1\" class=\"dataframe\">\n",
       "  <thead>\n",
       "    <tr style=\"text-align: right;\">\n",
       "      <th></th>\n",
       "      <th>id</th>\n",
       "      <th>year</th>\n",
       "      <th>title</th>\n",
       "      <th>decade</th>\n",
       "    </tr>\n",
       "  </thead>\n",
       "  <tbody>\n",
       "    <tr>\n",
       "      <th>0</th>\n",
       "      <td>1</td>\n",
       "      <td>2003.0</td>\n",
       "      <td>Dinosaur Planet</td>\n",
       "      <td>2000</td>\n",
       "    </tr>\n",
       "    <tr>\n",
       "      <th>1</th>\n",
       "      <td>2</td>\n",
       "      <td>2004.0</td>\n",
       "      <td>Isle of Man TT 2004 Review</td>\n",
       "      <td>2000</td>\n",
       "    </tr>\n",
       "    <tr>\n",
       "      <th>2</th>\n",
       "      <td>3</td>\n",
       "      <td>1997.0</td>\n",
       "      <td>Character</td>\n",
       "      <td>1990</td>\n",
       "    </tr>\n",
       "    <tr>\n",
       "      <th>3</th>\n",
       "      <td>4</td>\n",
       "      <td>1994.0</td>\n",
       "      <td>Paula Abdul's Get Up &amp; Dance</td>\n",
       "      <td>1990</td>\n",
       "    </tr>\n",
       "    <tr>\n",
       "      <th>4</th>\n",
       "      <td>5</td>\n",
       "      <td>2004.0</td>\n",
       "      <td>The Rise and Fall of ECW</td>\n",
       "      <td>2000</td>\n",
       "    </tr>\n",
       "    <tr>\n",
       "      <th>...</th>\n",
       "      <td>...</td>\n",
       "      <td>...</td>\n",
       "      <td>...</td>\n",
       "      <td>...</td>\n",
       "    </tr>\n",
       "    <tr>\n",
       "      <th>17765</th>\n",
       "      <td>17766</td>\n",
       "      <td>2002.0</td>\n",
       "      <td>Where the Wild Things Are and Other Maurice Se...</td>\n",
       "      <td>2000</td>\n",
       "    </tr>\n",
       "    <tr>\n",
       "      <th>17766</th>\n",
       "      <td>17767</td>\n",
       "      <td>2004.0</td>\n",
       "      <td>Fidel Castro: American Experience</td>\n",
       "      <td>2000</td>\n",
       "    </tr>\n",
       "    <tr>\n",
       "      <th>17767</th>\n",
       "      <td>17768</td>\n",
       "      <td>2000.0</td>\n",
       "      <td>Epoch</td>\n",
       "      <td>2000</td>\n",
       "    </tr>\n",
       "    <tr>\n",
       "      <th>17768</th>\n",
       "      <td>17769</td>\n",
       "      <td>2003.0</td>\n",
       "      <td>The Company</td>\n",
       "      <td>2000</td>\n",
       "    </tr>\n",
       "    <tr>\n",
       "      <th>17769</th>\n",
       "      <td>17770</td>\n",
       "      <td>2003.0</td>\n",
       "      <td>Alien Hunter</td>\n",
       "      <td>2000</td>\n",
       "    </tr>\n",
       "  </tbody>\n",
       "</table>\n",
       "<p>17770 rows × 4 columns</p>\n",
       "</div>"
      ],
      "text/plain": [
       "          id    year                                              title decade\n",
       "0          1  2003.0                                    Dinosaur Planet   2000\n",
       "1          2  2004.0                         Isle of Man TT 2004 Review   2000\n",
       "2          3  1997.0                                          Character   1990\n",
       "3          4  1994.0                       Paula Abdul's Get Up & Dance   1990\n",
       "4          5  2004.0                           The Rise and Fall of ECW   2000\n",
       "...      ...     ...                                                ...    ...\n",
       "17765  17766  2002.0  Where the Wild Things Are and Other Maurice Se...   2000\n",
       "17766  17767  2004.0                  Fidel Castro: American Experience   2000\n",
       "17767  17768  2000.0                                              Epoch   2000\n",
       "17768  17769  2003.0                                        The Company   2000\n",
       "17769  17770  2003.0                                       Alien Hunter   2000\n",
       "\n",
       "[17770 rows x 4 columns]"
      ]
     },
     "execution_count": 9,
     "metadata": {},
     "output_type": "execute_result"
    }
   ],
   "source": [
    "#bin years\n",
    "\n",
    "content['decade'] = content.apply(decade, axis=1)\n",
    "content"
   ]
  },
  {
   "cell_type": "code",
   "execution_count": 10,
   "id": "44d495ec",
   "metadata": {},
   "outputs": [
    {
     "name": "stdout",
     "output_type": "stream",
     "text": [
      "<class 'pandas.core.frame.DataFrame'>\n",
      "RangeIndex: 17770 entries, 0 to 17769\n",
      "Data columns (total 4 columns):\n",
      " #   Column  Non-Null Count  Dtype  \n",
      "---  ------  --------------  -----  \n",
      " 0   id      17770 non-null  int64  \n",
      " 1   year    17770 non-null  float64\n",
      " 2   title   17770 non-null  object \n",
      " 3   decade  17770 non-null  object \n",
      "dtypes: float64(1), int64(1), object(2)\n",
      "memory usage: 555.4+ KB\n"
     ]
    }
   ],
   "source": [
    "content.info()"
   ]
  },
  {
   "cell_type": "code",
   "execution_count": 11,
   "id": "c919ef78",
   "metadata": {},
   "outputs": [
    {
     "data": {
      "text/plain": [
       "decade\n",
       "2000    8457\n",
       "1990    4209\n",
       "1980    1860\n",
       "0       1246\n",
       "1970    1152\n",
       "1960     846\n",
       "Name: count, dtype: int64"
      ]
     },
     "execution_count": 11,
     "metadata": {},
     "output_type": "execute_result"
    }
   ],
   "source": [
    "# decade counts\n",
    "content['decade'].value_counts(sort=True)"
   ]
  },
  {
   "cell_type": "code",
   "execution_count": 12,
   "id": "8772f176",
   "metadata": {},
   "outputs": [
    {
     "data": {
      "text/plain": [
       "<BarContainer object of 6 artists>"
      ]
     },
     "execution_count": 12,
     "metadata": {},
     "output_type": "execute_result"
    },
    {
     "data": {
      "image/png": "[encoded data removed]",
      "text/plain": [
       "<Figure size 640x480 with 1 Axes>"
      ]
     },
     "metadata": {},
     "output_type": "display_data"
    }
   ],
   "source": [
    "plt.bar((content['decade'].value_counts(sort=True).index), (content['decade'].value_counts(sort=True).values))"
   ]
  },
  {
   "cell_type": "markdown",
   "id": "c92a02a7",
   "metadata": {},
   "source": [
    "# content feature selection\n",
    "\n",
    "to minimize bias, i'm only going to add the decade column to the data i will use for modeling."
   ]
  },
  {
   "cell_type": "code",
   "execution_count": 13,
   "id": "32eba9ea",
   "metadata": {},
   "outputs": [
    {
     "name": "stdout",
     "output_type": "stream",
     "text": [
      "<class 'pandas.core.frame.DataFrame'>\n",
      "RangeIndex: 17770 entries, 0 to 17769\n",
      "Data columns (total 2 columns):\n",
      " #   Column    Non-Null Count  Dtype \n",
      "---  ------    --------------  ----- \n",
      " 0   mid       17770 non-null  int64 \n",
      " 1   m_decade  17770 non-null  object\n",
      "dtypes: int64(1), object(1)\n",
      "memory usage: 277.8+ KB\n"
     ]
    }
   ],
   "source": [
    "decade = content[['id', 'decade']]\n",
    "decade = decade.rename(columns = {'id': 'mid', 'decade': 'm_decade'})\n",
    "decade.info()"
   ]
  },
  {
   "cell_type": "markdown",
   "id": "a0ccabac",
   "metadata": {},
   "source": [
    "# ratings\n",
    "\n",
    "importing partial datasets as csvs for ease of use"
   ]
  },
  {
   "cell_type": "code",
   "execution_count": 14,
   "id": "a00c4a29",
   "metadata": {},
   "outputs": [],
   "source": [
    "d1 = pd.read_csv('data/d1_clean.csv')\n",
    "d1 = d1.drop(['Unnamed: 0'], axis=1)\n",
    "\n",
    "d2 = pd.read_csv('data/d2_clean.csv')\n",
    "d2 = d2.drop(['Unnamed: 0'], axis=1)\n",
    "\n",
    "d3 = pd.read_csv('data/d3_clean.csv')\n",
    "d3 = d3.drop(['Unnamed: 0'], axis = 1)\n",
    "\n",
    "d4 = pd.read_csv('data/d4_clean.csv')\n",
    "d4 = d4.drop(['Unnamed: 0'], axis =1)"
   ]
  },
  {
   "cell_type": "code",
   "execution_count": 15,
   "id": "317883c6",
   "metadata": {},
   "outputs": [
    {
     "name": "stdout",
     "output_type": "stream",
     "text": [
      "<class 'pandas.core.frame.DataFrame'>\n",
      "RangeIndex: 100480507 entries, 0 to 100480506\n",
      "Data columns (total 8 columns):\n",
      " #   Column   Dtype  \n",
      "---  ------   -----  \n",
      " 0   mid      int64  \n",
      " 1   cust_id  int64  \n",
      " 2   rating   float64\n",
      " 3   date     object \n",
      " 4   year     int64  \n",
      " 5   month    int64  \n",
      " 6   day      int64  \n",
      " 7   fisc_Q   int64  \n",
      "dtypes: float64(1), int64(6), object(1)\n",
      "memory usage: 6.0+ GB\n"
     ]
    }
   ],
   "source": [
    "df = pd.concat([d1, d2, d3, d4], axis =0, ignore_index=True)\n",
    "df.info()"
   ]
  },
  {
   "cell_type": "code",
   "execution_count": 16,
   "id": "44ef997f",
   "metadata": {},
   "outputs": [
    {
     "data": {
      "text/plain": [
       "mid              9210\n",
       "cust_id        627867\n",
       "rating            3.0\n",
       "date       2005-05-02\n",
       "year             2005\n",
       "month               5\n",
       "day                 2\n",
       "fisc_Q              2\n",
       "Name: 51031354, dtype: object"
      ]
     },
     "execution_count": 16,
     "metadata": {},
     "output_type": "execute_result"
    }
   ],
   "source": [
    "#sanity check: where d1 and d2 end, making sure the index is correct\n",
    "#mid 9210, cust id 627867, rating 3\n",
    "df.iloc[51031354]"
   ]
  },
  {
   "cell_type": "code",
   "execution_count": 17,
   "id": "0b8efef6",
   "metadata": {},
   "outputs": [
    {
     "data": {
      "application/javascript": [
       "$(document).ready(\n",
       "    function() {\n",
       "        function appendUniqueDiv(){\n",
       "            // append a div with our uuid so we can check that it's already\n",
       "            // been sent and avoid duplicates on page reload\n",
       "            var notifiedDiv = document.createElement(\"div\")\n",
       "            notifiedDiv.id = \"021740ec-647b-4d35-93db-60cf658cc3fe\"\n",
       "            element.append(notifiedDiv)\n",
       "        }\n",
       "\n",
       "        // only send notifications if the pageload is complete; this will\n",
       "        // help stop extra notifications when a saved notebook is loaded,\n",
       "        // which during testing gives us state \"interactive\", not \"complete\"\n",
       "        if (document.readyState === 'complete') {\n",
       "            // check for the div that signifies that the notification\n",
       "            // was already sent\n",
       "            if (document.getElementById(\"021740ec-647b-4d35-93db-60cf658cc3fe\") === null) {\n",
       "                var notificationPayload = {\"requireInteraction\": false, \"icon\": \"/static/base/images/favicon.ico\", \"body\": \"Cell execution has finished!\"};\n",
       "                if (Notification.permission !== 'denied') {\n",
       "                    if (Notification.permission !== 'granted') { \n",
       "                        Notification.requestPermission(function (permission) {\n",
       "                            if(!('permission' in Notification)) {\n",
       "                                Notification.permission = permission\n",
       "                            }\n",
       "                        })\n",
       "                    }\n",
       "                    if (Notification.permission === 'granted') {\n",
       "                    var notification = new Notification(\"Jupyter Notebook\", notificationPayload)\n",
       "                    appendUniqueDiv()\n",
       "                    notification.onclick = function () {\n",
       "                        window.focus();\n",
       "                        this.close();\n",
       "                        };\n",
       "                    } \n",
       "                }     \n",
       "            }\n",
       "        }\n",
       "    }\n",
       ")\n"
      ],
      "text/plain": [
       "<IPython.core.display.Javascript object>"
      ]
     },
     "metadata": {},
     "output_type": "display_data"
    }
   ],
   "source": [
    "%notify"
   ]
  },
  {
   "cell_type": "code",
   "execution_count": 18,
   "id": "a5299589",
   "metadata": {},
   "outputs": [],
   "source": [
    "df = df.sample(n=2000000, random_state=1)"
   ]
  },
  {
   "cell_type": "code",
   "execution_count": 19,
   "id": "0cfe0a3c",
   "metadata": {},
   "outputs": [
    {
     "data": {
      "application/javascript": [
       "$(document).ready(\n",
       "    function() {\n",
       "        function appendUniqueDiv(){\n",
       "            // append a div with our uuid so we can check that it's already\n",
       "            // been sent and avoid duplicates on page reload\n",
       "            var notifiedDiv = document.createElement(\"div\")\n",
       "            notifiedDiv.id = \"89ba12da-7a10-4c5f-b9ce-3f7af48edb7f\"\n",
       "            element.append(notifiedDiv)\n",
       "        }\n",
       "\n",
       "        // only send notifications if the pageload is complete; this will\n",
       "        // help stop extra notifications when a saved notebook is loaded,\n",
       "        // which during testing gives us state \"interactive\", not \"complete\"\n",
       "        if (document.readyState === 'complete') {\n",
       "            // check for the div that signifies that the notification\n",
       "            // was already sent\n",
       "            if (document.getElementById(\"89ba12da-7a10-4c5f-b9ce-3f7af48edb7f\") === null) {\n",
       "                var notificationPayload = {\"requireInteraction\": false, \"icon\": \"/static/base/images/favicon.ico\", \"body\": \"Cell execution has finished!\"};\n",
       "                if (Notification.permission !== 'denied') {\n",
       "                    if (Notification.permission !== 'granted') { \n",
       "                        Notification.requestPermission(function (permission) {\n",
       "                            if(!('permission' in Notification)) {\n",
       "                                Notification.permission = permission\n",
       "                            }\n",
       "                        })\n",
       "                    }\n",
       "                    if (Notification.permission === 'granted') {\n",
       "                    var notification = new Notification(\"Jupyter Notebook\", notificationPayload)\n",
       "                    appendUniqueDiv()\n",
       "                    notification.onclick = function () {\n",
       "                        window.focus();\n",
       "                        this.close();\n",
       "                        };\n",
       "                    } \n",
       "                }     \n",
       "            }\n",
       "        }\n",
       "    }\n",
       ")\n"
      ],
      "text/plain": [
       "<IPython.core.display.Javascript object>"
      ]
     },
     "metadata": {},
     "output_type": "display_data"
    }
   ],
   "source": [
    "%notify"
   ]
  },
  {
   "cell_type": "code",
   "execution_count": 20,
   "id": "90be3fd6",
   "metadata": {},
   "outputs": [
    {
     "data": {
      "text/html": [
       "<div>\n",
       "<style scoped>\n",
       "    .dataframe tbody tr th:only-of-type {\n",
       "        vertical-align: middle;\n",
       "    }\n",
       "\n",
       "    .dataframe tbody tr th {\n",
       "        vertical-align: top;\n",
       "    }\n",
       "\n",
       "    .dataframe thead th {\n",
       "        text-align: right;\n",
       "    }\n",
       "</style>\n",
       "<table border=\"1\" class=\"dataframe\">\n",
       "  <thead>\n",
       "    <tr style=\"text-align: right;\">\n",
       "      <th></th>\n",
       "      <th>mid</th>\n",
       "      <th>cust_id</th>\n",
       "      <th>rating</th>\n",
       "      <th>date</th>\n",
       "      <th>year</th>\n",
       "      <th>month</th>\n",
       "      <th>day</th>\n",
       "      <th>fisc_Q</th>\n",
       "    </tr>\n",
       "  </thead>\n",
       "  <tbody>\n",
       "    <tr>\n",
       "      <th>66892855</th>\n",
       "      <td>12221</td>\n",
       "      <td>2380329</td>\n",
       "      <td>4.0</td>\n",
       "      <td>2004-11-05</td>\n",
       "      <td>2004</td>\n",
       "      <td>11</td>\n",
       "      <td>5</td>\n",
       "      <td>4</td>\n",
       "    </tr>\n",
       "    <tr>\n",
       "      <th>68718197</th>\n",
       "      <td>12473</td>\n",
       "      <td>1340872</td>\n",
       "      <td>3.0</td>\n",
       "      <td>2003-05-16</td>\n",
       "      <td>2003</td>\n",
       "      <td>5</td>\n",
       "      <td>16</td>\n",
       "      <td>2</td>\n",
       "    </tr>\n",
       "    <tr>\n",
       "      <th>26523041</th>\n",
       "      <td>4943</td>\n",
       "      <td>2552315</td>\n",
       "      <td>3.0</td>\n",
       "      <td>2002-02-21</td>\n",
       "      <td>2002</td>\n",
       "      <td>2</td>\n",
       "      <td>21</td>\n",
       "      <td>1</td>\n",
       "    </tr>\n",
       "    <tr>\n",
       "      <th>8709708</th>\n",
       "      <td>1744</td>\n",
       "      <td>1728377</td>\n",
       "      <td>4.0</td>\n",
       "      <td>2003-02-20</td>\n",
       "      <td>2003</td>\n",
       "      <td>2</td>\n",
       "      <td>20</td>\n",
       "      <td>1</td>\n",
       "    </tr>\n",
       "    <tr>\n",
       "      <th>66709759</th>\n",
       "      <td>12181</td>\n",
       "      <td>2275381</td>\n",
       "      <td>3.0</td>\n",
       "      <td>2004-08-27</td>\n",
       "      <td>2004</td>\n",
       "      <td>8</td>\n",
       "      <td>27</td>\n",
       "      <td>3</td>\n",
       "    </tr>\n",
       "  </tbody>\n",
       "</table>\n",
       "</div>"
      ],
      "text/plain": [
       "            mid  cust_id  rating        date  year  month  day  fisc_Q\n",
       "66892855  12221  2380329     4.0  2004-11-05  2004     11    5       4\n",
       "68718197  12473  1340872     3.0  2003-05-16  2003      5   16       2\n",
       "26523041   4943  2552315     3.0  2002-02-21  2002      2   21       1\n",
       "8709708    1744  1728377     4.0  2003-02-20  2003      2   20       1\n",
       "66709759  12181  2275381     3.0  2004-08-27  2004      8   27       3"
      ]
     },
     "execution_count": 20,
     "metadata": {},
     "output_type": "execute_result"
    }
   ],
   "source": [
    "df.head()"
   ]
  },
  {
   "cell_type": "code",
   "execution_count": 21,
   "id": "95f9571e",
   "metadata": {},
   "outputs": [
    {
     "name": "stdout",
     "output_type": "stream",
     "text": [
      "<class 'pandas.core.frame.DataFrame'>\n",
      "Index: 2000000 entries, 66892855 to 25545909\n",
      "Data columns (total 8 columns):\n",
      " #   Column   Dtype  \n",
      "---  ------   -----  \n",
      " 0   mid      int64  \n",
      " 1   cust_id  int64  \n",
      " 2   rating   float64\n",
      " 3   date     object \n",
      " 4   year     int64  \n",
      " 5   month    int64  \n",
      " 6   day      int64  \n",
      " 7   fisc_Q   int64  \n",
      "dtypes: float64(1), int64(6), object(1)\n",
      "memory usage: 137.3+ MB\n"
     ]
    }
   ],
   "source": [
    "df.info()"
   ]
  },
  {
   "cell_type": "code",
   "execution_count": 22,
   "id": "a885f3fd",
   "metadata": {},
   "outputs": [
    {
     "data": {
      "text/html": [
       "<div>\n",
       "<style scoped>\n",
       "    .dataframe tbody tr th:only-of-type {\n",
       "        vertical-align: middle;\n",
       "    }\n",
       "\n",
       "    .dataframe tbody tr th {\n",
       "        vertical-align: top;\n",
       "    }\n",
       "\n",
       "    .dataframe thead th {\n",
       "        text-align: right;\n",
       "    }\n",
       "</style>\n",
       "<table border=\"1\" class=\"dataframe\">\n",
       "  <thead>\n",
       "    <tr style=\"text-align: right;\">\n",
       "      <th></th>\n",
       "      <th>mid</th>\n",
       "      <th>cust_id</th>\n",
       "      <th>rating</th>\n",
       "      <th>r_date</th>\n",
       "      <th>r_year</th>\n",
       "      <th>r_fiscQ</th>\n",
       "    </tr>\n",
       "  </thead>\n",
       "  <tbody>\n",
       "    <tr>\n",
       "      <th>66892855</th>\n",
       "      <td>12221</td>\n",
       "      <td>2380329</td>\n",
       "      <td>4.0</td>\n",
       "      <td>2004-11-05</td>\n",
       "      <td>2004</td>\n",
       "      <td>4</td>\n",
       "    </tr>\n",
       "    <tr>\n",
       "      <th>68718197</th>\n",
       "      <td>12473</td>\n",
       "      <td>1340872</td>\n",
       "      <td>3.0</td>\n",
       "      <td>2003-05-16</td>\n",
       "      <td>2003</td>\n",
       "      <td>2</td>\n",
       "    </tr>\n",
       "    <tr>\n",
       "      <th>26523041</th>\n",
       "      <td>4943</td>\n",
       "      <td>2552315</td>\n",
       "      <td>3.0</td>\n",
       "      <td>2002-02-21</td>\n",
       "      <td>2002</td>\n",
       "      <td>1</td>\n",
       "    </tr>\n",
       "    <tr>\n",
       "      <th>8709708</th>\n",
       "      <td>1744</td>\n",
       "      <td>1728377</td>\n",
       "      <td>4.0</td>\n",
       "      <td>2003-02-20</td>\n",
       "      <td>2003</td>\n",
       "      <td>1</td>\n",
       "    </tr>\n",
       "    <tr>\n",
       "      <th>66709759</th>\n",
       "      <td>12181</td>\n",
       "      <td>2275381</td>\n",
       "      <td>3.0</td>\n",
       "      <td>2004-08-27</td>\n",
       "      <td>2004</td>\n",
       "      <td>3</td>\n",
       "    </tr>\n",
       "  </tbody>\n",
       "</table>\n",
       "</div>"
      ],
      "text/plain": [
       "            mid  cust_id  rating      r_date  r_year  r_fiscQ\n",
       "66892855  12221  2380329     4.0  2004-11-05    2004        4\n",
       "68718197  12473  1340872     3.0  2003-05-16    2003        2\n",
       "26523041   4943  2552315     3.0  2002-02-21    2002        1\n",
       "8709708    1744  1728377     4.0  2003-02-20    2003        1\n",
       "66709759  12181  2275381     3.0  2004-08-27    2004        3"
      ]
     },
     "execution_count": 22,
     "metadata": {},
     "output_type": "execute_result"
    }
   ],
   "source": [
    "#dropping day and month because i changed my mind\n",
    "df = df.drop(['day', 'month'], axis=1)\n",
    "\n",
    "#rename columns to avoid 'm_decade' confusion\n",
    "df = df.rename(columns = {'date': 'r_date', 'year': 'r_year', 'fisc_Q': 'r_fiscQ'})\n",
    "df.head()"
   ]
  },
  {
   "cell_type": "code",
   "execution_count": 23,
   "id": "379bf321",
   "metadata": {},
   "outputs": [
    {
     "name": "stdout",
     "output_type": "stream",
     "text": [
      "<class 'pandas.core.frame.DataFrame'>\n",
      "Index: 2000000 entries, 66892855 to 25545909\n",
      "Data columns (total 6 columns):\n",
      " #   Column   Dtype         \n",
      "---  ------   -----         \n",
      " 0   mid      int64         \n",
      " 1   cust_id  int64         \n",
      " 2   rating   float64       \n",
      " 3   r_date   datetime64[ns]\n",
      " 4   r_year   int64         \n",
      " 5   r_fiscQ  int64         \n",
      "dtypes: datetime64[ns](1), float64(1), int64(4)\n",
      "memory usage: 106.8 MB\n"
     ]
    }
   ],
   "source": [
    "df['r_date'] = df['r_date'].astype('datetime64[ns]')\n",
    "df.info()"
   ]
  },
  {
   "cell_type": "code",
   "execution_count": 24,
   "id": "3719d824",
   "metadata": {},
   "outputs": [
    {
     "data": {
      "text/html": [
       "<div>\n",
       "<style scoped>\n",
       "    .dataframe tbody tr th:only-of-type {\n",
       "        vertical-align: middle;\n",
       "    }\n",
       "\n",
       "    .dataframe tbody tr th {\n",
       "        vertical-align: top;\n",
       "    }\n",
       "\n",
       "    .dataframe thead th {\n",
       "        text-align: right;\n",
       "    }\n",
       "</style>\n",
       "<table border=\"1\" class=\"dataframe\">\n",
       "  <thead>\n",
       "    <tr style=\"text-align: right;\">\n",
       "      <th></th>\n",
       "      <th>mid</th>\n",
       "      <th>cust_id</th>\n",
       "      <th>rating</th>\n",
       "      <th>r_date</th>\n",
       "      <th>r_year</th>\n",
       "      <th>r_fiscQ</th>\n",
       "    </tr>\n",
       "  </thead>\n",
       "  <tbody>\n",
       "    <tr>\n",
       "      <th>80142487</th>\n",
       "      <td>14455</td>\n",
       "      <td>510180</td>\n",
       "      <td>3.0</td>\n",
       "      <td>1999-12-06</td>\n",
       "      <td>1999</td>\n",
       "      <td>4</td>\n",
       "    </tr>\n",
       "    <tr>\n",
       "      <th>82736746</th>\n",
       "      <td>14753</td>\n",
       "      <td>1972971</td>\n",
       "      <td>4.0</td>\n",
       "      <td>1999-12-09</td>\n",
       "      <td>1999</td>\n",
       "      <td>4</td>\n",
       "    </tr>\n",
       "    <tr>\n",
       "      <th>16070838</th>\n",
       "      <td>3113</td>\n",
       "      <td>510180</td>\n",
       "      <td>3.0</td>\n",
       "      <td>1999-12-12</td>\n",
       "      <td>1999</td>\n",
       "      <td>4</td>\n",
       "    </tr>\n",
       "    <tr>\n",
       "      <th>15389684</th>\n",
       "      <td>2953</td>\n",
       "      <td>510180</td>\n",
       "      <td>5.0</td>\n",
       "      <td>1999-12-16</td>\n",
       "      <td>1999</td>\n",
       "      <td>4</td>\n",
       "    </tr>\n",
       "    <tr>\n",
       "      <th>41691206</th>\n",
       "      <td>7364</td>\n",
       "      <td>510180</td>\n",
       "      <td>3.0</td>\n",
       "      <td>1999-12-20</td>\n",
       "      <td>1999</td>\n",
       "      <td>4</td>\n",
       "    </tr>\n",
       "    <tr>\n",
       "      <th>...</th>\n",
       "      <td>...</td>\n",
       "      <td>...</td>\n",
       "      <td>...</td>\n",
       "      <td>...</td>\n",
       "      <td>...</td>\n",
       "      <td>...</td>\n",
       "    </tr>\n",
       "    <tr>\n",
       "      <th>22447853</th>\n",
       "      <td>4262</td>\n",
       "      <td>1369931</td>\n",
       "      <td>1.0</td>\n",
       "      <td>2005-12-31</td>\n",
       "      <td>2005</td>\n",
       "      <td>4</td>\n",
       "    </tr>\n",
       "    <tr>\n",
       "      <th>64508120</th>\n",
       "      <td>11781</td>\n",
       "      <td>2580964</td>\n",
       "      <td>4.0</td>\n",
       "      <td>2005-12-31</td>\n",
       "      <td>2005</td>\n",
       "      <td>4</td>\n",
       "    </tr>\n",
       "    <tr>\n",
       "      <th>66271746</th>\n",
       "      <td>12126</td>\n",
       "      <td>1207868</td>\n",
       "      <td>5.0</td>\n",
       "      <td>2005-12-31</td>\n",
       "      <td>2005</td>\n",
       "      <td>4</td>\n",
       "    </tr>\n",
       "    <tr>\n",
       "      <th>12290179</th>\n",
       "      <td>2372</td>\n",
       "      <td>2283803</td>\n",
       "      <td>4.0</td>\n",
       "      <td>2005-12-31</td>\n",
       "      <td>2005</td>\n",
       "      <td>4</td>\n",
       "    </tr>\n",
       "    <tr>\n",
       "      <th>39569650</th>\n",
       "      <td>6983</td>\n",
       "      <td>563705</td>\n",
       "      <td>1.0</td>\n",
       "      <td>2005-12-31</td>\n",
       "      <td>2005</td>\n",
       "      <td>4</td>\n",
       "    </tr>\n",
       "  </tbody>\n",
       "</table>\n",
       "<p>2000000 rows × 6 columns</p>\n",
       "</div>"
      ],
      "text/plain": [
       "            mid  cust_id  rating     r_date  r_year  r_fiscQ\n",
       "80142487  14455   510180     3.0 1999-12-06    1999        4\n",
       "82736746  14753  1972971     4.0 1999-12-09    1999        4\n",
       "16070838   3113   510180     3.0 1999-12-12    1999        4\n",
       "15389684   2953   510180     5.0 1999-12-16    1999        4\n",
       "41691206   7364   510180     3.0 1999-12-20    1999        4\n",
       "...         ...      ...     ...        ...     ...      ...\n",
       "22447853   4262  1369931     1.0 2005-12-31    2005        4\n",
       "64508120  11781  2580964     4.0 2005-12-31    2005        4\n",
       "66271746  12126  1207868     5.0 2005-12-31    2005        4\n",
       "12290179   2372  2283803     4.0 2005-12-31    2005        4\n",
       "39569650   6983   563705     1.0 2005-12-31    2005        4\n",
       "\n",
       "[2000000 rows x 6 columns]"
      ]
     },
     "execution_count": 24,
     "metadata": {},
     "output_type": "execute_result"
    }
   ],
   "source": [
    "df = df.sort_values(by=['r_date'])\n",
    "df"
   ]
  },
  {
   "cell_type": "code",
   "execution_count": 25,
   "id": "8fc2283c",
   "metadata": {},
   "outputs": [
    {
     "data": {
      "text/plain": [
       "mid\n",
       "5317     4606\n",
       "15124    4385\n",
       "14313    3975\n",
       "1905     3942\n",
       "15205    3863\n",
       "         ... \n",
       "16837       1\n",
       "1649        1\n",
       "12164       1\n",
       "3259        1\n",
       "17336       1\n",
       "Name: count, Length: 17317, dtype: int64"
      ]
     },
     "execution_count": 25,
     "metadata": {},
     "output_type": "execute_result"
    }
   ],
   "source": [
    "df['mid'].value_counts()"
   ]
  },
  {
   "cell_type": "code",
   "execution_count": 26,
   "id": "c0c9dd4d",
   "metadata": {},
   "outputs": [
    {
     "data": {
      "text/plain": [
       "pandas.core.frame.DataFrame"
      ]
     },
     "execution_count": 26,
     "metadata": {},
     "output_type": "execute_result"
    }
   ],
   "source": [
    "type(df)"
   ]
  },
  {
   "cell_type": "code",
   "execution_count": 27,
   "id": "de381b85",
   "metadata": {},
   "outputs": [
    {
     "data": {
      "text/html": [
       "<div>\n",
       "<style scoped>\n",
       "    .dataframe tbody tr th:only-of-type {\n",
       "        vertical-align: middle;\n",
       "    }\n",
       "\n",
       "    .dataframe tbody tr th {\n",
       "        vertical-align: top;\n",
       "    }\n",
       "\n",
       "    .dataframe thead th {\n",
       "        text-align: right;\n",
       "    }\n",
       "</style>\n",
       "<table border=\"1\" class=\"dataframe\">\n",
       "  <thead>\n",
       "    <tr style=\"text-align: right;\">\n",
       "      <th></th>\n",
       "      <th>mid</th>\n",
       "      <th>cust_id</th>\n",
       "      <th>rating</th>\n",
       "      <th>r_date</th>\n",
       "      <th>r_year</th>\n",
       "      <th>r_fiscQ</th>\n",
       "      <th>m_decade</th>\n",
       "    </tr>\n",
       "  </thead>\n",
       "  <tbody>\n",
       "    <tr>\n",
       "      <th>0</th>\n",
       "      <td>14455</td>\n",
       "      <td>510180</td>\n",
       "      <td>3.0</td>\n",
       "      <td>1999-12-06</td>\n",
       "      <td>1999</td>\n",
       "      <td>4</td>\n",
       "      <td>1990</td>\n",
       "    </tr>\n",
       "    <tr>\n",
       "      <th>1</th>\n",
       "      <td>14455</td>\n",
       "      <td>2030141</td>\n",
       "      <td>2.0</td>\n",
       "      <td>2005-07-19</td>\n",
       "      <td>2005</td>\n",
       "      <td>3</td>\n",
       "      <td>1990</td>\n",
       "    </tr>\n",
       "    <tr>\n",
       "      <th>2</th>\n",
       "      <td>14753</td>\n",
       "      <td>1972971</td>\n",
       "      <td>4.0</td>\n",
       "      <td>1999-12-09</td>\n",
       "      <td>1999</td>\n",
       "      <td>4</td>\n",
       "      <td>1990</td>\n",
       "    </tr>\n",
       "    <tr>\n",
       "      <th>3</th>\n",
       "      <td>14753</td>\n",
       "      <td>2439493</td>\n",
       "      <td>1.0</td>\n",
       "      <td>2003-02-21</td>\n",
       "      <td>2003</td>\n",
       "      <td>1</td>\n",
       "      <td>1990</td>\n",
       "    </tr>\n",
       "    <tr>\n",
       "      <th>4</th>\n",
       "      <td>14753</td>\n",
       "      <td>642384</td>\n",
       "      <td>5.0</td>\n",
       "      <td>2004-02-16</td>\n",
       "      <td>2004</td>\n",
       "      <td>1</td>\n",
       "      <td>1990</td>\n",
       "    </tr>\n",
       "  </tbody>\n",
       "</table>\n",
       "</div>"
      ],
      "text/plain": [
       "     mid  cust_id  rating     r_date  r_year  r_fiscQ m_decade\n",
       "0  14455   510180     3.0 1999-12-06    1999        4     1990\n",
       "1  14455  2030141     2.0 2005-07-19    2005        3     1990\n",
       "2  14753  1972971     4.0 1999-12-09    1999        4     1990\n",
       "3  14753  2439493     1.0 2003-02-21    2003        1     1990\n",
       "4  14753   642384     5.0 2004-02-16    2004        1     1990"
      ]
     },
     "execution_count": 27,
     "metadata": {},
     "output_type": "execute_result"
    }
   ],
   "source": [
    "data = df.merge(decade)\n",
    "data.head()"
   ]
  },
  {
   "cell_type": "code",
   "execution_count": 28,
   "id": "52ad4dce",
   "metadata": {},
   "outputs": [
    {
     "data": {
      "text/plain": [
       "mid\n",
       "5317     4606\n",
       "15124    4385\n",
       "14313    3975\n",
       "1905     3942\n",
       "15205    3863\n",
       "         ... \n",
       "16837       1\n",
       "1649        1\n",
       "12164       1\n",
       "3259        1\n",
       "17336       1\n",
       "Name: count, Length: 17317, dtype: int64"
      ]
     },
     "execution_count": 28,
     "metadata": {},
     "output_type": "execute_result"
    }
   ],
   "source": [
    "data['mid'].value_counts()"
   ]
  },
  {
   "cell_type": "markdown",
   "id": "9ab2e1e7",
   "metadata": {},
   "source": [
    "# Ready for EDA"
   ]
  },
  {
   "cell_type": "code",
   "execution_count": 29,
   "id": "1a9a3f77",
   "metadata": {},
   "outputs": [
    {
     "data": {
      "text/html": [
       "<div>\n",
       "<style scoped>\n",
       "    .dataframe tbody tr th:only-of-type {\n",
       "        vertical-align: middle;\n",
       "    }\n",
       "\n",
       "    .dataframe tbody tr th {\n",
       "        vertical-align: top;\n",
       "    }\n",
       "\n",
       "    .dataframe thead th {\n",
       "        text-align: right;\n",
       "    }\n",
       "</style>\n",
       "<table border=\"1\" class=\"dataframe\">\n",
       "  <thead>\n",
       "    <tr style=\"text-align: right;\">\n",
       "      <th></th>\n",
       "      <th>mid</th>\n",
       "      <th>cust_id</th>\n",
       "      <th>rating</th>\n",
       "      <th>r_date</th>\n",
       "      <th>r_year</th>\n",
       "      <th>r_fiscQ</th>\n",
       "      <th>m_decade</th>\n",
       "    </tr>\n",
       "  </thead>\n",
       "  <tbody>\n",
       "    <tr>\n",
       "      <th>0</th>\n",
       "      <td>14455</td>\n",
       "      <td>510180</td>\n",
       "      <td>3.0</td>\n",
       "      <td>1999-12-06</td>\n",
       "      <td>1999</td>\n",
       "      <td>4</td>\n",
       "      <td>1990</td>\n",
       "    </tr>\n",
       "    <tr>\n",
       "      <th>1</th>\n",
       "      <td>14455</td>\n",
       "      <td>2030141</td>\n",
       "      <td>2.0</td>\n",
       "      <td>2005-07-19</td>\n",
       "      <td>2005</td>\n",
       "      <td>3</td>\n",
       "      <td>1990</td>\n",
       "    </tr>\n",
       "    <tr>\n",
       "      <th>2</th>\n",
       "      <td>14753</td>\n",
       "      <td>1972971</td>\n",
       "      <td>4.0</td>\n",
       "      <td>1999-12-09</td>\n",
       "      <td>1999</td>\n",
       "      <td>4</td>\n",
       "      <td>1990</td>\n",
       "    </tr>\n",
       "    <tr>\n",
       "      <th>3</th>\n",
       "      <td>14753</td>\n",
       "      <td>2439493</td>\n",
       "      <td>1.0</td>\n",
       "      <td>2003-02-21</td>\n",
       "      <td>2003</td>\n",
       "      <td>1</td>\n",
       "      <td>1990</td>\n",
       "    </tr>\n",
       "    <tr>\n",
       "      <th>4</th>\n",
       "      <td>14753</td>\n",
       "      <td>642384</td>\n",
       "      <td>5.0</td>\n",
       "      <td>2004-02-16</td>\n",
       "      <td>2004</td>\n",
       "      <td>1</td>\n",
       "      <td>1990</td>\n",
       "    </tr>\n",
       "  </tbody>\n",
       "</table>\n",
       "</div>"
      ],
      "text/plain": [
       "     mid  cust_id  rating     r_date  r_year  r_fiscQ m_decade\n",
       "0  14455   510180     3.0 1999-12-06    1999        4     1990\n",
       "1  14455  2030141     2.0 2005-07-19    2005        3     1990\n",
       "2  14753  1972971     4.0 1999-12-09    1999        4     1990\n",
       "3  14753  2439493     1.0 2003-02-21    2003        1     1990\n",
       "4  14753   642384     5.0 2004-02-16    2004        1     1990"
      ]
     },
     "execution_count": 29,
     "metadata": {},
     "output_type": "execute_result"
    }
   ],
   "source": [
    "data.head()"
   ]
  },
  {
   "cell_type": "markdown",
   "id": "3f31bb9f",
   "metadata": {},
   "source": [
    "## Exploring content attributes\n",
    "\n",
    "- highest rated content (content quality)\n",
    "- most rated content (popularity)\n",
    "- decade frequency distribution SEEN ABOVE\n",
    "\n",
    "### Looking at rating as a popularity metric - speaks to the perceived quality of the content"
   ]
  },
  {
   "cell_type": "code",
   "execution_count": 30,
   "id": "e2cbb5b4",
   "metadata": {},
   "outputs": [
    {
     "data": {
      "text/html": [
       "<div>\n",
       "<style scoped>\n",
       "    .dataframe tbody tr th:only-of-type {\n",
       "        vertical-align: middle;\n",
       "    }\n",
       "\n",
       "    .dataframe tbody tr th {\n",
       "        vertical-align: top;\n",
       "    }\n",
       "\n",
       "    .dataframe thead th {\n",
       "        text-align: right;\n",
       "    }\n",
       "</style>\n",
       "<table border=\"1\" class=\"dataframe\">\n",
       "  <thead>\n",
       "    <tr style=\"text-align: right;\">\n",
       "      <th></th>\n",
       "      <th>mid</th>\n",
       "      <th>m_avg_rating</th>\n",
       "    </tr>\n",
       "  </thead>\n",
       "  <tbody>\n",
       "    <tr>\n",
       "      <th>0</th>\n",
       "      <td>4018</td>\n",
       "      <td>5.0</td>\n",
       "    </tr>\n",
       "    <tr>\n",
       "      <th>1</th>\n",
       "      <td>14204</td>\n",
       "      <td>5.0</td>\n",
       "    </tr>\n",
       "    <tr>\n",
       "      <th>2</th>\n",
       "      <td>3499</td>\n",
       "      <td>5.0</td>\n",
       "    </tr>\n",
       "    <tr>\n",
       "      <th>3</th>\n",
       "      <td>13668</td>\n",
       "      <td>5.0</td>\n",
       "    </tr>\n",
       "    <tr>\n",
       "      <th>4</th>\n",
       "      <td>13679</td>\n",
       "      <td>5.0</td>\n",
       "    </tr>\n",
       "    <tr>\n",
       "      <th>...</th>\n",
       "      <td>...</td>\n",
       "      <td>...</td>\n",
       "    </tr>\n",
       "    <tr>\n",
       "      <th>17312</th>\n",
       "      <td>5165</td>\n",
       "      <td>1.0</td>\n",
       "    </tr>\n",
       "    <tr>\n",
       "      <th>17313</th>\n",
       "      <td>8690</td>\n",
       "      <td>1.0</td>\n",
       "    </tr>\n",
       "    <tr>\n",
       "      <th>17314</th>\n",
       "      <td>11556</td>\n",
       "      <td>1.0</td>\n",
       "    </tr>\n",
       "    <tr>\n",
       "      <th>17315</th>\n",
       "      <td>1177</td>\n",
       "      <td>1.0</td>\n",
       "    </tr>\n",
       "    <tr>\n",
       "      <th>17316</th>\n",
       "      <td>8032</td>\n",
       "      <td>1.0</td>\n",
       "    </tr>\n",
       "  </tbody>\n",
       "</table>\n",
       "<p>17317 rows × 2 columns</p>\n",
       "</div>"
      ],
      "text/plain": [
       "         mid  m_avg_rating\n",
       "0       4018           5.0\n",
       "1      14204           5.0\n",
       "2       3499           5.0\n",
       "3      13668           5.0\n",
       "4      13679           5.0\n",
       "...      ...           ...\n",
       "17312   5165           1.0\n",
       "17313   8690           1.0\n",
       "17314  11556           1.0\n",
       "17315   1177           1.0\n",
       "17316   8032           1.0\n",
       "\n",
       "[17317 rows x 2 columns]"
      ]
     },
     "execution_count": 30,
     "metadata": {},
     "output_type": "execute_result"
    }
   ],
   "source": [
    "#average rating for each content piece\n",
    "avgrating = data.groupby('mid')['rating'].mean().sort_values(ascending=False).to_frame()\n",
    "avgrating = avgrating.rename(columns = {'rating': 'm_avg_rating'}).reset_index()\n",
    "avgrating"
   ]
  },
  {
   "cell_type": "markdown",
   "id": "832590da",
   "metadata": {},
   "source": [
    "**1. What is the distribution of content ratings?**"
   ]
  },
  {
   "cell_type": "code",
   "execution_count": 31,
   "id": "b2b89f06",
   "metadata": {},
   "outputs": [
    {
     "data": {
      "text/plain": [
       "count    17317.000000\n",
       "mean         3.234079\n",
       "std          0.719985\n",
       "min          1.000000\n",
       "25%          2.871795\n",
       "50%          3.328875\n",
       "75%          3.727273\n",
       "max          5.000000\n",
       "Name: m_avg_rating, dtype: float64"
      ]
     },
     "execution_count": 31,
     "metadata": {},
     "output_type": "execute_result"
    }
   ],
   "source": [
    "avgrating['m_avg_rating'].describe()"
   ]
  },
  {
   "cell_type": "code",
   "execution_count": 32,
   "id": "088d35b9",
   "metadata": {},
   "outputs": [
    {
     "data": {
      "image/png": "[encoded data removed]",
      "text/plain": [
       "<Figure size 640x480 with 1 Axes>"
      ]
     },
     "metadata": {},
     "output_type": "display_data"
    }
   ],
   "source": [
    "#looks at distribution of avg rating per movie\n",
    "avgrating['m_avg_rating'].plot(kind='hist');"
   ]
  },
  {
   "cell_type": "markdown",
   "id": "aa948215",
   "metadata": {},
   "source": [
    "Skewed to the left. Users tend to rate content above average. \n",
    "\n",
    "Binning based on average rating. This doesn't necessarily speak to the quality of the content however it does show that our users tend to enjoy it. I'll be labeling this feature quality for ease of use, but ***note that this is a metric solely simplifying how users perceive the piece of content's quality compared to other options that are available.***"
   ]
  },
  {
   "cell_type": "code",
   "execution_count": 33,
   "id": "00ee51a0",
   "metadata": {},
   "outputs": [],
   "source": [
    "#distribution is pretty normal, going to bin into 'quality grade' quartiles\n",
    "\n",
    "def quality(row):\n",
    "    \"\"\"\n",
    "    bins content based on their average ratings\n",
    "    \"\"\"\n",
    "    if row['m_avg_rating'] < 2.9:\n",
    "        return 1\n",
    "    elif 2.9 <= row['m_avg_rating'] < 3.3:\n",
    "        return 2\n",
    "    elif 3.3 <= row['m_avg_rating'] < 3.7:\n",
    "        return 3\n",
    "    else:\n",
    "        return 4"
   ]
  },
  {
   "cell_type": "code",
   "execution_count": 34,
   "id": "6f3ed827",
   "metadata": {},
   "outputs": [
    {
     "data": {
      "text/html": [
       "<div>\n",
       "<style scoped>\n",
       "    .dataframe tbody tr th:only-of-type {\n",
       "        vertical-align: middle;\n",
       "    }\n",
       "\n",
       "    .dataframe tbody tr th {\n",
       "        vertical-align: top;\n",
       "    }\n",
       "\n",
       "    .dataframe thead th {\n",
       "        text-align: right;\n",
       "    }\n",
       "</style>\n",
       "<table border=\"1\" class=\"dataframe\">\n",
       "  <thead>\n",
       "    <tr style=\"text-align: right;\">\n",
       "      <th></th>\n",
       "      <th>mid</th>\n",
       "      <th>m_avg_rating</th>\n",
       "      <th>m_quality</th>\n",
       "    </tr>\n",
       "  </thead>\n",
       "  <tbody>\n",
       "    <tr>\n",
       "      <th>0</th>\n",
       "      <td>4018</td>\n",
       "      <td>5.0</td>\n",
       "      <td>4</td>\n",
       "    </tr>\n",
       "    <tr>\n",
       "      <th>1</th>\n",
       "      <td>14204</td>\n",
       "      <td>5.0</td>\n",
       "      <td>4</td>\n",
       "    </tr>\n",
       "    <tr>\n",
       "      <th>2</th>\n",
       "      <td>3499</td>\n",
       "      <td>5.0</td>\n",
       "      <td>4</td>\n",
       "    </tr>\n",
       "    <tr>\n",
       "      <th>3</th>\n",
       "      <td>13668</td>\n",
       "      <td>5.0</td>\n",
       "      <td>4</td>\n",
       "    </tr>\n",
       "    <tr>\n",
       "      <th>4</th>\n",
       "      <td>13679</td>\n",
       "      <td>5.0</td>\n",
       "      <td>4</td>\n",
       "    </tr>\n",
       "    <tr>\n",
       "      <th>...</th>\n",
       "      <td>...</td>\n",
       "      <td>...</td>\n",
       "      <td>...</td>\n",
       "    </tr>\n",
       "    <tr>\n",
       "      <th>17312</th>\n",
       "      <td>5165</td>\n",
       "      <td>1.0</td>\n",
       "      <td>1</td>\n",
       "    </tr>\n",
       "    <tr>\n",
       "      <th>17313</th>\n",
       "      <td>8690</td>\n",
       "      <td>1.0</td>\n",
       "      <td>1</td>\n",
       "    </tr>\n",
       "    <tr>\n",
       "      <th>17314</th>\n",
       "      <td>11556</td>\n",
       "      <td>1.0</td>\n",
       "      <td>1</td>\n",
       "    </tr>\n",
       "    <tr>\n",
       "      <th>17315</th>\n",
       "      <td>1177</td>\n",
       "      <td>1.0</td>\n",
       "      <td>1</td>\n",
       "    </tr>\n",
       "    <tr>\n",
       "      <th>17316</th>\n",
       "      <td>8032</td>\n",
       "      <td>1.0</td>\n",
       "      <td>1</td>\n",
       "    </tr>\n",
       "  </tbody>\n",
       "</table>\n",
       "<p>17317 rows × 3 columns</p>\n",
       "</div>"
      ],
      "text/plain": [
       "         mid  m_avg_rating  m_quality\n",
       "0       4018           5.0          4\n",
       "1      14204           5.0          4\n",
       "2       3499           5.0          4\n",
       "3      13668           5.0          4\n",
       "4      13679           5.0          4\n",
       "...      ...           ...        ...\n",
       "17312   5165           1.0          1\n",
       "17313   8690           1.0          1\n",
       "17314  11556           1.0          1\n",
       "17315   1177           1.0          1\n",
       "17316   8032           1.0          1\n",
       "\n",
       "[17317 rows x 3 columns]"
      ]
     },
     "execution_count": 34,
     "metadata": {},
     "output_type": "execute_result"
    }
   ],
   "source": [
    "avgrating['m_quality'] = avgrating.apply(quality, axis=1)\n",
    "avgrating"
   ]
  },
  {
   "cell_type": "code",
   "execution_count": 35,
   "id": "67dc5a88",
   "metadata": {},
   "outputs": [
    {
     "data": {
      "text/html": [
       "<div>\n",
       "<style scoped>\n",
       "    .dataframe tbody tr th:only-of-type {\n",
       "        vertical-align: middle;\n",
       "    }\n",
       "\n",
       "    .dataframe tbody tr th {\n",
       "        vertical-align: top;\n",
       "    }\n",
       "\n",
       "    .dataframe thead th {\n",
       "        text-align: right;\n",
       "    }\n",
       "</style>\n",
       "<table border=\"1\" class=\"dataframe\">\n",
       "  <thead>\n",
       "    <tr style=\"text-align: right;\">\n",
       "      <th></th>\n",
       "      <th>mid</th>\n",
       "      <th>cust_id</th>\n",
       "      <th>rating</th>\n",
       "      <th>r_date</th>\n",
       "      <th>r_year</th>\n",
       "      <th>r_fiscQ</th>\n",
       "      <th>m_decade</th>\n",
       "      <th>m_avg_rating</th>\n",
       "      <th>m_quality</th>\n",
       "    </tr>\n",
       "  </thead>\n",
       "  <tbody>\n",
       "    <tr>\n",
       "      <th>0</th>\n",
       "      <td>14455</td>\n",
       "      <td>510180</td>\n",
       "      <td>3.0</td>\n",
       "      <td>1999-12-06</td>\n",
       "      <td>1999</td>\n",
       "      <td>4</td>\n",
       "      <td>1990</td>\n",
       "      <td>2.5</td>\n",
       "      <td>1</td>\n",
       "    </tr>\n",
       "    <tr>\n",
       "      <th>1</th>\n",
       "      <td>14455</td>\n",
       "      <td>2030141</td>\n",
       "      <td>2.0</td>\n",
       "      <td>2005-07-19</td>\n",
       "      <td>2005</td>\n",
       "      <td>3</td>\n",
       "      <td>1990</td>\n",
       "      <td>2.5</td>\n",
       "      <td>1</td>\n",
       "    </tr>\n",
       "    <tr>\n",
       "      <th>2</th>\n",
       "      <td>14753</td>\n",
       "      <td>1972971</td>\n",
       "      <td>4.0</td>\n",
       "      <td>1999-12-09</td>\n",
       "      <td>1999</td>\n",
       "      <td>4</td>\n",
       "      <td>1990</td>\n",
       "      <td>3.5</td>\n",
       "      <td>3</td>\n",
       "    </tr>\n",
       "    <tr>\n",
       "      <th>3</th>\n",
       "      <td>14753</td>\n",
       "      <td>2439493</td>\n",
       "      <td>1.0</td>\n",
       "      <td>2003-02-21</td>\n",
       "      <td>2003</td>\n",
       "      <td>1</td>\n",
       "      <td>1990</td>\n",
       "      <td>3.5</td>\n",
       "      <td>3</td>\n",
       "    </tr>\n",
       "    <tr>\n",
       "      <th>4</th>\n",
       "      <td>14753</td>\n",
       "      <td>642384</td>\n",
       "      <td>5.0</td>\n",
       "      <td>2004-02-16</td>\n",
       "      <td>2004</td>\n",
       "      <td>1</td>\n",
       "      <td>1990</td>\n",
       "      <td>3.5</td>\n",
       "      <td>3</td>\n",
       "    </tr>\n",
       "  </tbody>\n",
       "</table>\n",
       "</div>"
      ],
      "text/plain": [
       "     mid  cust_id  rating     r_date  r_year  r_fiscQ m_decade  m_avg_rating   \n",
       "0  14455   510180     3.0 1999-12-06    1999        4     1990           2.5  \\\n",
       "1  14455  2030141     2.0 2005-07-19    2005        3     1990           2.5   \n",
       "2  14753  1972971     4.0 1999-12-09    1999        4     1990           3.5   \n",
       "3  14753  2439493     1.0 2003-02-21    2003        1     1990           3.5   \n",
       "4  14753   642384     5.0 2004-02-16    2004        1     1990           3.5   \n",
       "\n",
       "   m_quality  \n",
       "0          1  \n",
       "1          1  \n",
       "2          3  \n",
       "3          3  \n",
       "4          3  "
      ]
     },
     "execution_count": 35,
     "metadata": {},
     "output_type": "execute_result"
    }
   ],
   "source": [
    "#adding quality and avg rating as a feature\n",
    "data = data.merge(avgrating)\n",
    "data.head()"
   ]
  },
  {
   "cell_type": "markdown",
   "id": "51b98078",
   "metadata": {},
   "source": [
    "**2. On average, do users enjoy a specific decade more than others?**"
   ]
  },
  {
   "cell_type": "code",
   "execution_count": 36,
   "id": "bc8d5e34",
   "metadata": {},
   "outputs": [
    {
     "data": {
      "text/plain": [
       "<AxesSubplot:xlabel='m_decade', ylabel='m_avg_rating'>"
      ]
     },
     "execution_count": 36,
     "metadata": {},
     "output_type": "execute_result"
    },
    {
     "data": {
      "image/png": "[encoded data removed]",
      "text/plain": [
       "<Figure size 640x480 with 1 Axes>"
      ]
     },
     "metadata": {},
     "output_type": "display_data"
    }
   ],
   "source": [
    "sns.violinplot(\n",
    "    y=\"m_avg_rating\", \n",
    "    x=\"m_decade\", \n",
    "    data=data, \n",
    "    color='aqua',\n",
    "    inner=\"quartile\",  # Seeing the mean and quartiles\n",
    ")\n"
   ]
  },
  {
   "cell_type": "code",
   "execution_count": 37,
   "id": "c5b25ad0",
   "metadata": {},
   "outputs": [
    {
     "data": {
      "text/plain": [
       "m_decade\n",
       "0       3.848681\n",
       "1960    3.829562\n",
       "1970    3.777371\n",
       "1980    3.682092\n",
       "1990    3.621587\n",
       "2000    3.541095\n",
       "Name: rating, dtype: float64"
      ]
     },
     "execution_count": 37,
     "metadata": {},
     "output_type": "execute_result"
    }
   ],
   "source": [
    "data.groupby('m_decade')['rating'].mean().sort_values(ascending=False)"
   ]
  },
  {
   "cell_type": "markdown",
   "id": "8486e0be",
   "metadata": {},
   "source": [
    "Users do significanlty favor a specific decade over another.\n",
    "\n",
    "**3. What is the distribution of rating count? Does higher rating count indicate higher quality?**"
   ]
  },
  {
   "cell_type": "code",
   "execution_count": 38,
   "id": "a374e3ab",
   "metadata": {},
   "outputs": [
    {
     "data": {
      "text/html": [
       "<div>\n",
       "<style scoped>\n",
       "    .dataframe tbody tr th:only-of-type {\n",
       "        vertical-align: middle;\n",
       "    }\n",
       "\n",
       "    .dataframe tbody tr th {\n",
       "        vertical-align: top;\n",
       "    }\n",
       "\n",
       "    .dataframe thead th {\n",
       "        text-align: right;\n",
       "    }\n",
       "</style>\n",
       "<table border=\"1\" class=\"dataframe\">\n",
       "  <thead>\n",
       "    <tr style=\"text-align: right;\">\n",
       "      <th></th>\n",
       "      <th>mid</th>\n",
       "      <th>m_avg_rating</th>\n",
       "      <th>m_quality</th>\n",
       "      <th>r_count</th>\n",
       "    </tr>\n",
       "  </thead>\n",
       "  <tbody>\n",
       "    <tr>\n",
       "      <th>count</th>\n",
       "      <td>17317.000000</td>\n",
       "      <td>17317.000000</td>\n",
       "      <td>17317.000000</td>\n",
       "      <td>17317.000000</td>\n",
       "    </tr>\n",
       "    <tr>\n",
       "      <th>mean</th>\n",
       "      <td>8892.052954</td>\n",
       "      <td>3.234079</td>\n",
       "      <td>2.517873</td>\n",
       "      <td>115.493446</td>\n",
       "    </tr>\n",
       "    <tr>\n",
       "      <th>std</th>\n",
       "      <td>5138.678481</td>\n",
       "      <td>0.719985</td>\n",
       "      <td>1.139388</td>\n",
       "      <td>340.532776</td>\n",
       "    </tr>\n",
       "    <tr>\n",
       "      <th>min</th>\n",
       "      <td>1.000000</td>\n",
       "      <td>1.000000</td>\n",
       "      <td>1.000000</td>\n",
       "      <td>1.000000</td>\n",
       "    </tr>\n",
       "    <tr>\n",
       "      <th>25%</th>\n",
       "      <td>4434.000000</td>\n",
       "      <td>2.871795</td>\n",
       "      <td>1.000000</td>\n",
       "      <td>4.000000</td>\n",
       "    </tr>\n",
       "    <tr>\n",
       "      <th>50%</th>\n",
       "      <td>8895.000000</td>\n",
       "      <td>3.328875</td>\n",
       "      <td>3.000000</td>\n",
       "      <td>12.000000</td>\n",
       "    </tr>\n",
       "    <tr>\n",
       "      <th>75%</th>\n",
       "      <td>13349.000000</td>\n",
       "      <td>3.727273</td>\n",
       "      <td>4.000000</td>\n",
       "      <td>57.000000</td>\n",
       "    </tr>\n",
       "    <tr>\n",
       "      <th>max</th>\n",
       "      <td>17770.000000</td>\n",
       "      <td>5.000000</td>\n",
       "      <td>4.000000</td>\n",
       "      <td>4606.000000</td>\n",
       "    </tr>\n",
       "  </tbody>\n",
       "</table>\n",
       "</div>"
      ],
      "text/plain": [
       "                mid  m_avg_rating     m_quality       r_count\n",
       "count  17317.000000  17317.000000  17317.000000  17317.000000\n",
       "mean    8892.052954      3.234079      2.517873    115.493446\n",
       "std     5138.678481      0.719985      1.139388    340.532776\n",
       "min        1.000000      1.000000      1.000000      1.000000\n",
       "25%     4434.000000      2.871795      1.000000      4.000000\n",
       "50%     8895.000000      3.328875      3.000000     12.000000\n",
       "75%    13349.000000      3.727273      4.000000     57.000000\n",
       "max    17770.000000      5.000000      4.000000   4606.000000"
      ]
     },
     "execution_count": 38,
     "metadata": {},
     "output_type": "execute_result"
    }
   ],
   "source": [
    "popularity = data.groupby('mid')['rating'].count().sort_values(ascending=False).to_frame()\n",
    "popularity = popularity.rename(columns = {'rating': 'r_count'}).reset_index()\n",
    "avgrating = avgrating.merge(popularity)\n",
    "avgrating.describe()"
   ]
  },
  {
   "cell_type": "code",
   "execution_count": 39,
   "id": "e3bd346c",
   "metadata": {},
   "outputs": [
    {
     "data": {
      "image/png": "[encoded data removed]",
      "text/plain": [
       "<Figure size 640x480 with 1 Axes>"
      ]
     },
     "metadata": {},
     "output_type": "display_data"
    }
   ],
   "source": [
    "#looks at distribution of rating count per content\n",
    "avgrating['r_count'].plot(kind='hist');"
   ]
  },
  {
   "cell_type": "code",
   "execution_count": 40,
   "id": "c214c60b",
   "metadata": {},
   "outputs": [
    {
     "data": {
      "image/png": "[encoded data removed]",
      "text/plain": [
       "<Figure size 640x480 with 1 Axes>"
      ]
     },
     "metadata": {},
     "output_type": "display_data"
    }
   ],
   "source": [
    "sns.scatterplot(x=avgrating['r_count'],y=avgrating['m_avg_rating']);"
   ]
  },
  {
   "cell_type": "code",
   "execution_count": 41,
   "id": "0666189c",
   "metadata": {},
   "outputs": [
    {
     "data": {
      "text/plain": [
       "<AxesSubplot:xlabel='r_count', ylabel='m_avg_rating'>"
      ]
     },
     "execution_count": 41,
     "metadata": {},
     "output_type": "execute_result"
    },
    {
     "data": {
      "image/png": "[encoded data removed]",
      "text/plain": [
       "<Figure size 640x480 with 1 Axes>"
      ]
     },
     "metadata": {},
     "output_type": "display_data"
    }
   ],
   "source": [
    "sns.regplot(data = avgrating, x='r_count', y='m_avg_rating')"
   ]
  },
  {
   "cell_type": "markdown",
   "id": "aff44edd",
   "metadata": {},
   "source": [
    "### Thoughts on content attributes\n",
    "\n",
    "- Popularity: content pieces on avg have 12 ratings, though it can range up to 4606 ratings. More popular content has an above average rating. I'll address popularity bias in my models\n",
    "\n",
    "- Quality: I'm certain that quality directly impacts consumer experience so I made it a feature I'd like to keep an eye on\n",
    "\n",
    "- Decade: grouping by decade rather than year released is more meaningful in that it also describes potential stylistic preferences or nostalgia/emotional attachments\n",
    "\n",
    "\n",
    "## User behavior\n",
    "\n",
    "**1. Most active users**"
   ]
  },
  {
   "cell_type": "code",
   "execution_count": 60,
   "id": "9b97c80b",
   "metadata": {},
   "outputs": [
    {
     "data": {
      "text/html": [
       "<div>\n",
       "<style scoped>\n",
       "    .dataframe tbody tr th:only-of-type {\n",
       "        vertical-align: middle;\n",
       "    }\n",
       "\n",
       "    .dataframe tbody tr th {\n",
       "        vertical-align: top;\n",
       "    }\n",
       "\n",
       "    .dataframe thead th {\n",
       "        text-align: right;\n",
       "    }\n",
       "</style>\n",
       "<table border=\"1\" class=\"dataframe\">\n",
       "  <thead>\n",
       "    <tr style=\"text-align: right;\">\n",
       "      <th></th>\n",
       "      <th>cust_id</th>\n",
       "      <th>user_engagement</th>\n",
       "    </tr>\n",
       "  </thead>\n",
       "  <tbody>\n",
       "    <tr>\n",
       "      <th>count</th>\n",
       "      <td>3.583810e+05</td>\n",
       "      <td>358381.000000</td>\n",
       "    </tr>\n",
       "    <tr>\n",
       "      <th>mean</th>\n",
       "      <td>1.323034e+06</td>\n",
       "      <td>5.580653</td>\n",
       "    </tr>\n",
       "    <tr>\n",
       "      <th>std</th>\n",
       "      <td>7.651307e+05</td>\n",
       "      <td>6.774286</td>\n",
       "    </tr>\n",
       "    <tr>\n",
       "      <th>min</th>\n",
       "      <td>6.000000e+00</td>\n",
       "      <td>1.000000</td>\n",
       "    </tr>\n",
       "    <tr>\n",
       "      <th>25%</th>\n",
       "      <td>6.598120e+05</td>\n",
       "      <td>1.000000</td>\n",
       "    </tr>\n",
       "    <tr>\n",
       "      <th>50%</th>\n",
       "      <td>1.320871e+06</td>\n",
       "      <td>3.000000</td>\n",
       "    </tr>\n",
       "    <tr>\n",
       "      <th>75%</th>\n",
       "      <td>1.985395e+06</td>\n",
       "      <td>7.000000</td>\n",
       "    </tr>\n",
       "    <tr>\n",
       "      <th>max</th>\n",
       "      <td>2.649429e+06</td>\n",
       "      <td>365.000000</td>\n",
       "    </tr>\n",
       "  </tbody>\n",
       "</table>\n",
       "</div>"
      ],
      "text/plain": [
       "            cust_id  user_engagement\n",
       "count  3.583810e+05    358381.000000\n",
       "mean   1.323034e+06         5.580653\n",
       "std    7.651307e+05         6.774286\n",
       "min    6.000000e+00         1.000000\n",
       "25%    6.598120e+05         1.000000\n",
       "50%    1.320871e+06         3.000000\n",
       "75%    1.985395e+06         7.000000\n",
       "max    2.649429e+06       365.000000"
      ]
     },
     "execution_count": 60,
     "metadata": {},
     "output_type": "execute_result"
    }
   ],
   "source": [
    "users = data.groupby('cust_id')['rating'].count().sort_values(ascending=False).to_frame()\n",
    "users = users.rename(columns = {'rating': 'user_engagement'}).reset_index()\n",
    "users.describe()"
   ]
  },
  {
   "cell_type": "code",
   "execution_count": 61,
   "id": "2cb93c11",
   "metadata": {},
   "outputs": [
    {
     "data": {
      "image/png": "[encoded data removed]",
      "text/plain": [
       "<Figure size 640x480 with 1 Axes>"
      ]
     },
     "metadata": {},
     "output_type": "display_data"
    }
   ],
   "source": [
    "#looks at distribution of avg # of ratings per user\n",
    "users['user_engagement'].plot(kind='hist');"
   ]
  },
  {
   "cell_type": "code",
   "execution_count": 63,
   "id": "92af8d2f",
   "metadata": {},
   "outputs": [],
   "source": [
    "def activity(row):\n",
    "    \n",
    "    \"\"\"\n",
    "    bins users by activity level\n",
    "    \"\"\"\n",
    "    if row['user_engagement'] <= 1:\n",
    "        return 1\n",
    "    elif 2 <= row['user_engagement'] <= 3:\n",
    "        return 2\n",
    "    elif 4 <= row['user_engagement'] <= 7:\n",
    "        return 3\n",
    "    elif 8 <= row['user_engagement'] < 9.5:\n",
    "        return 4\n",
    "    else:\n",
    "        #these are super users\n",
    "        return 5"
   ]
  },
  {
   "cell_type": "code",
   "execution_count": 64,
   "id": "660e585d",
   "metadata": {},
   "outputs": [
    {
     "data": {
      "text/html": [
       "<div>\n",
       "<style scoped>\n",
       "    .dataframe tbody tr th:only-of-type {\n",
       "        vertical-align: middle;\n",
       "    }\n",
       "\n",
       "    .dataframe tbody tr th {\n",
       "        vertical-align: top;\n",
       "    }\n",
       "\n",
       "    .dataframe thead th {\n",
       "        text-align: right;\n",
       "    }\n",
       "</style>\n",
       "<table border=\"1\" class=\"dataframe\">\n",
       "  <thead>\n",
       "    <tr style=\"text-align: right;\">\n",
       "      <th></th>\n",
       "      <th>cust_id</th>\n",
       "      <th>user_engagement</th>\n",
       "      <th>cust_act_rank</th>\n",
       "    </tr>\n",
       "  </thead>\n",
       "  <tbody>\n",
       "    <tr>\n",
       "      <th>0</th>\n",
       "      <td>305344</td>\n",
       "      <td>365</td>\n",
       "      <td>5</td>\n",
       "    </tr>\n",
       "    <tr>\n",
       "      <th>1</th>\n",
       "      <td>387418</td>\n",
       "      <td>337</td>\n",
       "      <td>5</td>\n",
       "    </tr>\n",
       "    <tr>\n",
       "      <th>2</th>\n",
       "      <td>2439493</td>\n",
       "      <td>336</td>\n",
       "      <td>5</td>\n",
       "    </tr>\n",
       "    <tr>\n",
       "      <th>3</th>\n",
       "      <td>1664010</td>\n",
       "      <td>314</td>\n",
       "      <td>5</td>\n",
       "    </tr>\n",
       "    <tr>\n",
       "      <th>4</th>\n",
       "      <td>2118461</td>\n",
       "      <td>299</td>\n",
       "      <td>5</td>\n",
       "    </tr>\n",
       "  </tbody>\n",
       "</table>\n",
       "</div>"
      ],
      "text/plain": [
       "   cust_id  user_engagement  cust_act_rank\n",
       "0   305344              365              5\n",
       "1   387418              337              5\n",
       "2  2439493              336              5\n",
       "3  1664010              314              5\n",
       "4  2118461              299              5"
      ]
     },
     "execution_count": 64,
     "metadata": {},
     "output_type": "execute_result"
    }
   ],
   "source": [
    "users['cust_act_rank'] = users.apply(activity, axis=1)\n",
    "users.head()"
   ]
  },
  {
   "cell_type": "code",
   "execution_count": 65,
   "id": "1f7e397e",
   "metadata": {},
   "outputs": [
    {
     "data": {
      "text/plain": [
       "cust_act_rank\n",
       "2    99549\n",
       "1    91306\n",
       "3    84407\n",
       "5    61099\n",
       "4    22020\n",
       "Name: count, dtype: int64"
      ]
     },
     "execution_count": 65,
     "metadata": {},
     "output_type": "execute_result"
    }
   ],
   "source": [
    "users['cust_act_rank'].value_counts() "
   ]
  },
  {
   "cell_type": "code",
   "execution_count": 66,
   "id": "be5cbca0",
   "metadata": {},
   "outputs": [
    {
     "data": {
      "text/plain": [
       "<BarContainer object of 5 artists>"
      ]
     },
     "execution_count": 66,
     "metadata": {},
     "output_type": "execute_result"
    },
    {
     "data": {
      "image/png": "[encoded data removed]",
      "text/plain": [
       "<Figure size 640x480 with 1 Axes>"
      ]
     },
     "metadata": {},
     "output_type": "display_data"
    }
   ],
   "source": [
    "plt.bar((users['cust_act_rank'].value_counts(sort=True).index), \n",
    "        (users['cust_act_rank'].value_counts(sort=True).values))"
   ]
  },
  {
   "cell_type": "code",
   "execution_count": 68,
   "id": "a47167ab",
   "metadata": {},
   "outputs": [
    {
     "data": {
      "text/html": [
       "<div>\n",
       "<style scoped>\n",
       "    .dataframe tbody tr th:only-of-type {\n",
       "        vertical-align: middle;\n",
       "    }\n",
       "\n",
       "    .dataframe tbody tr th {\n",
       "        vertical-align: top;\n",
       "    }\n",
       "\n",
       "    .dataframe thead th {\n",
       "        text-align: right;\n",
       "    }\n",
       "</style>\n",
       "<table border=\"1\" class=\"dataframe\">\n",
       "  <thead>\n",
       "    <tr style=\"text-align: right;\">\n",
       "      <th></th>\n",
       "      <th>mid</th>\n",
       "      <th>cust_id</th>\n",
       "      <th>rating</th>\n",
       "      <th>r_date</th>\n",
       "      <th>r_year</th>\n",
       "      <th>r_fiscQ</th>\n",
       "      <th>m_decade</th>\n",
       "      <th>m_avg_rating</th>\n",
       "      <th>m_quality</th>\n",
       "    </tr>\n",
       "  </thead>\n",
       "  <tbody>\n",
       "    <tr>\n",
       "      <th>0</th>\n",
       "      <td>14455</td>\n",
       "      <td>510180</td>\n",
       "      <td>3.0</td>\n",
       "      <td>1999-12-06</td>\n",
       "      <td>1999</td>\n",
       "      <td>4</td>\n",
       "      <td>1990</td>\n",
       "      <td>2.5</td>\n",
       "      <td>1</td>\n",
       "    </tr>\n",
       "    <tr>\n",
       "      <th>1</th>\n",
       "      <td>14455</td>\n",
       "      <td>2030141</td>\n",
       "      <td>2.0</td>\n",
       "      <td>2005-07-19</td>\n",
       "      <td>2005</td>\n",
       "      <td>3</td>\n",
       "      <td>1990</td>\n",
       "      <td>2.5</td>\n",
       "      <td>1</td>\n",
       "    </tr>\n",
       "    <tr>\n",
       "      <th>2</th>\n",
       "      <td>14753</td>\n",
       "      <td>1972971</td>\n",
       "      <td>4.0</td>\n",
       "      <td>1999-12-09</td>\n",
       "      <td>1999</td>\n",
       "      <td>4</td>\n",
       "      <td>1990</td>\n",
       "      <td>3.5</td>\n",
       "      <td>3</td>\n",
       "    </tr>\n",
       "    <tr>\n",
       "      <th>3</th>\n",
       "      <td>14753</td>\n",
       "      <td>2439493</td>\n",
       "      <td>1.0</td>\n",
       "      <td>2003-02-21</td>\n",
       "      <td>2003</td>\n",
       "      <td>1</td>\n",
       "      <td>1990</td>\n",
       "      <td>3.5</td>\n",
       "      <td>3</td>\n",
       "    </tr>\n",
       "    <tr>\n",
       "      <th>4</th>\n",
       "      <td>14753</td>\n",
       "      <td>642384</td>\n",
       "      <td>5.0</td>\n",
       "      <td>2004-02-16</td>\n",
       "      <td>2004</td>\n",
       "      <td>1</td>\n",
       "      <td>1990</td>\n",
       "      <td>3.5</td>\n",
       "      <td>3</td>\n",
       "    </tr>\n",
       "  </tbody>\n",
       "</table>\n",
       "</div>"
      ],
      "text/plain": [
       "     mid  cust_id  rating     r_date  r_year  r_fiscQ m_decade  m_avg_rating   \n",
       "0  14455   510180     3.0 1999-12-06    1999        4     1990           2.5  \\\n",
       "1  14455  2030141     2.0 2005-07-19    2005        3     1990           2.5   \n",
       "2  14753  1972971     4.0 1999-12-09    1999        4     1990           3.5   \n",
       "3  14753  2439493     1.0 2003-02-21    2003        1     1990           3.5   \n",
       "4  14753   642384     5.0 2004-02-16    2004        1     1990           3.5   \n",
       "\n",
       "   m_quality  \n",
       "0          1  \n",
       "1          1  \n",
       "2          3  \n",
       "3          3  \n",
       "4          3  "
      ]
     },
     "execution_count": 68,
     "metadata": {},
     "output_type": "execute_result"
    }
   ],
   "source": [
    "data.head()"
   ]
  },
  {
   "cell_type": "code",
   "execution_count": 69,
   "id": "9e193ec8",
   "metadata": {},
   "outputs": [],
   "source": [
    "data.to_csv('data/final_df.csv')"
   ]
  },
  {
   "cell_type": "code",
   "execution_count": 81,
   "id": "824c3162",
   "metadata": {},
   "outputs": [],
   "source": [
    "series = data[['r_date', 'rating']]"
   ]
  },
  {
   "cell_type": "code",
   "execution_count": 82,
   "id": "0767446b",
   "metadata": {},
   "outputs": [
    {
     "name": "stderr",
     "output_type": "stream",
     "text": [
      "/var/folders/xc/4fn08svj2dgdk_3wj3xkp_rr0000gn/T/ipykernel_4932/1531882836.py:1: SettingWithCopyWarning: \n",
      "A value is trying to be set on a copy of a slice from a DataFrame.\n",
      "Try using .loc[row_indexer,col_indexer] = value instead\n",
      "\n",
      "See the caveats in the documentation: https://pandas.pydata.org/pandas-docs/stable/user_guide/indexing.html#returning-a-view-versus-a-copy\n",
      "  series['Month_Year'] = series['r_date'].dt.to_period('M')\n"
     ]
    }
   ],
   "source": [
    "series['Month_Year'] = series['r_date'].dt.to_period('M')\n"
   ]
  },
  {
   "cell_type": "code",
   "execution_count": 93,
   "id": "0414afde",
   "metadata": {},
   "outputs": [
    {
     "data": {
      "text/html": [
       "<div>\n",
       "<style scoped>\n",
       "    .dataframe tbody tr th:only-of-type {\n",
       "        vertical-align: middle;\n",
       "    }\n",
       "\n",
       "    .dataframe tbody tr th {\n",
       "        vertical-align: top;\n",
       "    }\n",
       "\n",
       "    .dataframe thead th {\n",
       "        text-align: right;\n",
       "    }\n",
       "</style>\n",
       "<table border=\"1\" class=\"dataframe\">\n",
       "  <thead>\n",
       "    <tr style=\"text-align: right;\">\n",
       "      <th></th>\n",
       "      <th>rating</th>\n",
       "    </tr>\n",
       "    <tr>\n",
       "      <th>Month_Year</th>\n",
       "      <th></th>\n",
       "    </tr>\n",
       "  </thead>\n",
       "  <tbody>\n",
       "    <tr>\n",
       "      <th>2005-06</th>\n",
       "      <td>105644</td>\n",
       "    </tr>\n",
       "    <tr>\n",
       "      <th>2005-08</th>\n",
       "      <td>104357</td>\n",
       "    </tr>\n",
       "    <tr>\n",
       "      <th>2005-10</th>\n",
       "      <td>102158</td>\n",
       "    </tr>\n",
       "    <tr>\n",
       "      <th>2005-09</th>\n",
       "      <td>98521</td>\n",
       "    </tr>\n",
       "    <tr>\n",
       "      <th>2005-07</th>\n",
       "      <td>97975</td>\n",
       "    </tr>\n",
       "  </tbody>\n",
       "</table>\n",
       "</div>"
      ],
      "text/plain": [
       "            rating\n",
       "Month_Year        \n",
       "2005-06     105644\n",
       "2005-08     104357\n",
       "2005-10     102158\n",
       "2005-09      98521\n",
       "2005-07      97975"
      ]
     },
     "execution_count": 93,
     "metadata": {},
     "output_type": "execute_result"
    }
   ],
   "source": [
    "series_my = series.groupby('Month_Year')['rating'].count().sort_values(ascending=False).to_frame()\n",
    "series_my.head()"
   ]
  },
  {
   "cell_type": "code",
   "execution_count": 98,
   "id": "095927c5",
   "metadata": {},
   "outputs": [
    {
     "name": "stdout",
     "output_type": "stream",
     "text": [
      "<class 'pandas.core.frame.DataFrame'>\n",
      "PeriodIndex: 73 entries, 2005-06 to 1999-12\n",
      "Freq: M\n",
      "Data columns (total 1 columns):\n",
      " #   Column  Non-Null Count  Dtype\n",
      "---  ------  --------------  -----\n",
      " 0   rating  73 non-null     int64\n",
      "dtypes: int64(1)\n",
      "memory usage: 1.1 KB\n"
     ]
    }
   ],
   "source": [
    "series_my.info()"
   ]
  },
  {
   "cell_type": "code",
   "execution_count": 99,
   "id": "26790885",
   "metadata": {},
   "outputs": [
    {
     "data": {
      "image/png": "[encoded data removed]",
      "text/plain": [
       "<Figure size 1600x600 with 1 Axes>"
      ]
     },
     "metadata": {},
     "output_type": "display_data"
    }
   ],
   "source": [
    "series_my.plot(figsize = (16,6));"
   ]
  },
  {
   "cell_type": "code",
   "execution_count": 101,
   "id": "d42fa3e1",
   "metadata": {},
   "outputs": [
    {
     "data": {
      "text/html": [
       "<div>\n",
       "<style scoped>\n",
       "    .dataframe tbody tr th:only-of-type {\n",
       "        vertical-align: middle;\n",
       "    }\n",
       "\n",
       "    .dataframe tbody tr th {\n",
       "        vertical-align: top;\n",
       "    }\n",
       "\n",
       "    .dataframe thead th {\n",
       "        text-align: right;\n",
       "    }\n",
       "</style>\n",
       "<table border=\"1\" class=\"dataframe\">\n",
       "  <thead>\n",
       "    <tr style=\"text-align: right;\">\n",
       "      <th></th>\n",
       "      <th>rating</th>\n",
       "    </tr>\n",
       "    <tr>\n",
       "      <th>Month_Year</th>\n",
       "      <th></th>\n",
       "    </tr>\n",
       "  </thead>\n",
       "  <tbody>\n",
       "    <tr>\n",
       "      <th>1999-12</th>\n",
       "      <td>39</td>\n",
       "    </tr>\n",
       "    <tr>\n",
       "      <th>2000-01</th>\n",
       "      <td>1830</td>\n",
       "    </tr>\n",
       "    <tr>\n",
       "      <th>2000-02</th>\n",
       "      <td>1914</td>\n",
       "    </tr>\n",
       "    <tr>\n",
       "      <th>2000-03</th>\n",
       "      <td>1750</td>\n",
       "    </tr>\n",
       "    <tr>\n",
       "      <th>2000-04</th>\n",
       "      <td>1368</td>\n",
       "    </tr>\n",
       "    <tr>\n",
       "      <th>2000-05</th>\n",
       "      <td>1161</td>\n",
       "    </tr>\n",
       "    <tr>\n",
       "      <th>2001-01</th>\n",
       "      <td>3071</td>\n",
       "    </tr>\n",
       "    <tr>\n",
       "      <th>2001-02</th>\n",
       "      <td>2927</td>\n",
       "    </tr>\n",
       "    <tr>\n",
       "      <th>2001-03</th>\n",
       "      <td>2524</td>\n",
       "    </tr>\n",
       "    <tr>\n",
       "      <th>2001-04</th>\n",
       "      <td>2134</td>\n",
       "    </tr>\n",
       "    <tr>\n",
       "      <th>2001-05</th>\n",
       "      <td>2474</td>\n",
       "    </tr>\n",
       "    <tr>\n",
       "      <th>2002-01</th>\n",
       "      <td>6201</td>\n",
       "    </tr>\n",
       "    <tr>\n",
       "      <th>2002-02</th>\n",
       "      <td>5197</td>\n",
       "    </tr>\n",
       "    <tr>\n",
       "      <th>2002-03</th>\n",
       "      <td>7287</td>\n",
       "    </tr>\n",
       "    <tr>\n",
       "      <th>2002-04</th>\n",
       "      <td>7005</td>\n",
       "    </tr>\n",
       "    <tr>\n",
       "      <th>2002-05</th>\n",
       "      <td>6461</td>\n",
       "    </tr>\n",
       "    <tr>\n",
       "      <th>2003-01</th>\n",
       "      <td>10093</td>\n",
       "    </tr>\n",
       "    <tr>\n",
       "      <th>2003-02</th>\n",
       "      <td>8878</td>\n",
       "    </tr>\n",
       "    <tr>\n",
       "      <th>2003-03</th>\n",
       "      <td>10298</td>\n",
       "    </tr>\n",
       "    <tr>\n",
       "      <th>2003-04</th>\n",
       "      <td>10977</td>\n",
       "    </tr>\n",
       "    <tr>\n",
       "      <th>2003-05</th>\n",
       "      <td>14605</td>\n",
       "    </tr>\n",
       "    <tr>\n",
       "      <th>2004-01</th>\n",
       "      <td>39031</td>\n",
       "    </tr>\n",
       "    <tr>\n",
       "      <th>2004-02</th>\n",
       "      <td>36129</td>\n",
       "    </tr>\n",
       "    <tr>\n",
       "      <th>2004-03</th>\n",
       "      <td>42384</td>\n",
       "    </tr>\n",
       "    <tr>\n",
       "      <th>2004-04</th>\n",
       "      <td>44489</td>\n",
       "    </tr>\n",
       "    <tr>\n",
       "      <th>2004-05</th>\n",
       "      <td>46217</td>\n",
       "    </tr>\n",
       "    <tr>\n",
       "      <th>2005-01</th>\n",
       "      <td>93770</td>\n",
       "    </tr>\n",
       "    <tr>\n",
       "      <th>2005-02</th>\n",
       "      <td>80969</td>\n",
       "    </tr>\n",
       "    <tr>\n",
       "      <th>2005-03</th>\n",
       "      <td>85297</td>\n",
       "    </tr>\n",
       "    <tr>\n",
       "      <th>2005-04</th>\n",
       "      <td>82951</td>\n",
       "    </tr>\n",
       "    <tr>\n",
       "      <th>2005-05</th>\n",
       "      <td>87846</td>\n",
       "    </tr>\n",
       "  </tbody>\n",
       "</table>\n",
       "</div>"
      ],
      "text/plain": [
       "            rating\n",
       "Month_Year        \n",
       "1999-12         39\n",
       "2000-01       1830\n",
       "2000-02       1914\n",
       "2000-03       1750\n",
       "2000-04       1368\n",
       "2000-05       1161\n",
       "2001-01       3071\n",
       "2001-02       2927\n",
       "2001-03       2524\n",
       "2001-04       2134\n",
       "2001-05       2474\n",
       "2002-01       6201\n",
       "2002-02       5197\n",
       "2002-03       7287\n",
       "2002-04       7005\n",
       "2002-05       6461\n",
       "2003-01      10093\n",
       "2003-02       8878\n",
       "2003-03      10298\n",
       "2003-04      10977\n",
       "2003-05      14605\n",
       "2004-01      39031\n",
       "2004-02      36129\n",
       "2004-03      42384\n",
       "2004-04      44489\n",
       "2004-05      46217\n",
       "2005-01      93770\n",
       "2005-02      80969\n",
       "2005-03      85297\n",
       "2005-04      82951\n",
       "2005-05      87846"
      ]
     },
     "execution_count": 101,
     "metadata": {},
     "output_type": "execute_result"
    }
   ],
   "source": [
    "year_groups = series_my.groupby(pd.Grouper(freq='A'))\n",
    "year_groups.head()"
   ]
  },
  {
   "cell_type": "code",
   "execution_count": 103,
   "id": "a00f3f27",
   "metadata": {},
   "outputs": [
    {
     "ename": "ValueError",
     "evalue": "Length of values (12) does not match length of index (1)",
     "output_type": "error",
     "traceback": [
      "\u001b[0;31m---------------------------------------------------------------------------\u001b[0m",
      "\u001b[0;31mValueError\u001b[0m                                Traceback (most recent call last)",
      "\u001b[0;32m/var/folders/xc/4fn08svj2dgdk_3wj3xkp_rr0000gn/T/ipykernel_4932/3754604530.py\u001b[0m in \u001b[0;36m<module>\u001b[0;34m\u001b[0m\n\u001b[1;32m      2\u001b[0m \u001b[0;34m\u001b[0m\u001b[0m\n\u001b[1;32m      3\u001b[0m \u001b[0;32mfor\u001b[0m \u001b[0myr\u001b[0m\u001b[0;34m,\u001b[0m \u001b[0mgroup\u001b[0m \u001b[0;32min\u001b[0m \u001b[0myear_groups\u001b[0m\u001b[0;34m:\u001b[0m\u001b[0;34m\u001b[0m\u001b[0;34m\u001b[0m\u001b[0m\n\u001b[0;32m----> 4\u001b[0;31m     \u001b[0mseries_my_df\u001b[0m\u001b[0;34m[\u001b[0m\u001b[0myr\u001b[0m\u001b[0;34m.\u001b[0m\u001b[0myear\u001b[0m\u001b[0;34m]\u001b[0m \u001b[0;34m=\u001b[0m \u001b[0mgroup\u001b[0m\u001b[0;34m.\u001b[0m\u001b[0mvalues\u001b[0m\u001b[0;34m.\u001b[0m\u001b[0mravel\u001b[0m\u001b[0;34m(\u001b[0m\u001b[0;34m)\u001b[0m\u001b[0;34m\u001b[0m\u001b[0;34m\u001b[0m\u001b[0m\n\u001b[0m\u001b[1;32m      5\u001b[0m \u001b[0;34m\u001b[0m\u001b[0m\n\u001b[1;32m      6\u001b[0m \u001b[0mseries_my_df\u001b[0m\u001b[0;34m.\u001b[0m\u001b[0mplot\u001b[0m\u001b[0;34m(\u001b[0m\u001b[0msubplots\u001b[0m\u001b[0;34m=\u001b[0m\u001b[0;32mTrue\u001b[0m\u001b[0;34m,\u001b[0m \u001b[0mlegend\u001b[0m\u001b[0;34m=\u001b[0m\u001b[0;32mTrue\u001b[0m\u001b[0;34m)\u001b[0m\u001b[0;34m\u001b[0m\u001b[0;34m\u001b[0m\u001b[0m\n",
      "\u001b[0;32m/opt/anaconda3/lib/python3.9/site-packages/pandas/core/frame.py\u001b[0m in \u001b[0;36m__setitem__\u001b[0;34m(self, key, value)\u001b[0m\n\u001b[1;32m   3957\u001b[0m         \u001b[0;32melse\u001b[0m\u001b[0;34m:\u001b[0m\u001b[0;34m\u001b[0m\u001b[0;34m\u001b[0m\u001b[0m\n\u001b[1;32m   3958\u001b[0m             \u001b[0;31m# set column\u001b[0m\u001b[0;34m\u001b[0m\u001b[0;34m\u001b[0m\u001b[0m\n\u001b[0;32m-> 3959\u001b[0;31m             \u001b[0mself\u001b[0m\u001b[0;34m.\u001b[0m\u001b[0m_set_item\u001b[0m\u001b[0;34m(\u001b[0m\u001b[0mkey\u001b[0m\u001b[0;34m,\u001b[0m \u001b[0mvalue\u001b[0m\u001b[0;34m)\u001b[0m\u001b[0;34m\u001b[0m\u001b[0;34m\u001b[0m\u001b[0m\n\u001b[0m\u001b[1;32m   3960\u001b[0m \u001b[0;34m\u001b[0m\u001b[0m\n\u001b[1;32m   3961\u001b[0m     \u001b[0;32mdef\u001b[0m \u001b[0m_setitem_slice\u001b[0m\u001b[0;34m(\u001b[0m\u001b[0mself\u001b[0m\u001b[0;34m,\u001b[0m \u001b[0mkey\u001b[0m\u001b[0;34m:\u001b[0m \u001b[0mslice\u001b[0m\u001b[0;34m,\u001b[0m \u001b[0mvalue\u001b[0m\u001b[0;34m)\u001b[0m \u001b[0;34m->\u001b[0m \u001b[0;32mNone\u001b[0m\u001b[0;34m:\u001b[0m\u001b[0;34m\u001b[0m\u001b[0;34m\u001b[0m\u001b[0m\n",
      "\u001b[0;32m/opt/anaconda3/lib/python3.9/site-packages/pandas/core/frame.py\u001b[0m in \u001b[0;36m_set_item\u001b[0;34m(self, key, value)\u001b[0m\n\u001b[1;32m   4150\u001b[0m         \u001b[0mensure\u001b[0m \u001b[0mhomogeneity\u001b[0m\u001b[0;34m.\u001b[0m\u001b[0;34m\u001b[0m\u001b[0;34m\u001b[0m\u001b[0m\n\u001b[1;32m   4151\u001b[0m         \"\"\"\n\u001b[0;32m-> 4152\u001b[0;31m         \u001b[0mvalue\u001b[0m \u001b[0;34m=\u001b[0m \u001b[0mself\u001b[0m\u001b[0;34m.\u001b[0m\u001b[0m_sanitize_column\u001b[0m\u001b[0;34m(\u001b[0m\u001b[0mvalue\u001b[0m\u001b[0;34m)\u001b[0m\u001b[0;34m\u001b[0m\u001b[0;34m\u001b[0m\u001b[0m\n\u001b[0m\u001b[1;32m   4153\u001b[0m \u001b[0;34m\u001b[0m\u001b[0m\n\u001b[1;32m   4154\u001b[0m         if (\n",
      "\u001b[0;32m/opt/anaconda3/lib/python3.9/site-packages/pandas/core/frame.py\u001b[0m in \u001b[0;36m_sanitize_column\u001b[0;34m(self, value)\u001b[0m\n\u001b[1;32m   4876\u001b[0m \u001b[0;34m\u001b[0m\u001b[0m\n\u001b[1;32m   4877\u001b[0m         \u001b[0;32mif\u001b[0m \u001b[0mis_list_like\u001b[0m\u001b[0;34m(\u001b[0m\u001b[0mvalue\u001b[0m\u001b[0;34m)\u001b[0m\u001b[0;34m:\u001b[0m\u001b[0;34m\u001b[0m\u001b[0;34m\u001b[0m\u001b[0m\n\u001b[0;32m-> 4878\u001b[0;31m             \u001b[0mcom\u001b[0m\u001b[0;34m.\u001b[0m\u001b[0mrequire_length_match\u001b[0m\u001b[0;34m(\u001b[0m\u001b[0mvalue\u001b[0m\u001b[0;34m,\u001b[0m \u001b[0mself\u001b[0m\u001b[0;34m.\u001b[0m\u001b[0mindex\u001b[0m\u001b[0;34m)\u001b[0m\u001b[0;34m\u001b[0m\u001b[0;34m\u001b[0m\u001b[0m\n\u001b[0m\u001b[1;32m   4879\u001b[0m         \u001b[0;32mreturn\u001b[0m \u001b[0msanitize_array\u001b[0m\u001b[0;34m(\u001b[0m\u001b[0mvalue\u001b[0m\u001b[0;34m,\u001b[0m \u001b[0mself\u001b[0m\u001b[0;34m.\u001b[0m\u001b[0mindex\u001b[0m\u001b[0;34m,\u001b[0m \u001b[0mcopy\u001b[0m\u001b[0;34m=\u001b[0m\u001b[0;32mTrue\u001b[0m\u001b[0;34m,\u001b[0m \u001b[0mallow_2d\u001b[0m\u001b[0;34m=\u001b[0m\u001b[0;32mTrue\u001b[0m\u001b[0;34m)\u001b[0m\u001b[0;34m\u001b[0m\u001b[0;34m\u001b[0m\u001b[0m\n\u001b[1;32m   4880\u001b[0m \u001b[0;34m\u001b[0m\u001b[0m\n",
      "\u001b[0;32m/opt/anaconda3/lib/python3.9/site-packages/pandas/core/common.py\u001b[0m in \u001b[0;36mrequire_length_match\u001b[0;34m(data, index)\u001b[0m\n\u001b[1;32m    574\u001b[0m     \"\"\"\n\u001b[1;32m    575\u001b[0m     \u001b[0;32mif\u001b[0m \u001b[0mlen\u001b[0m\u001b[0;34m(\u001b[0m\u001b[0mdata\u001b[0m\u001b[0;34m)\u001b[0m \u001b[0;34m!=\u001b[0m \u001b[0mlen\u001b[0m\u001b[0;34m(\u001b[0m\u001b[0mindex\u001b[0m\u001b[0;34m)\u001b[0m\u001b[0;34m:\u001b[0m\u001b[0;34m\u001b[0m\u001b[0;34m\u001b[0m\u001b[0m\n\u001b[0;32m--> 576\u001b[0;31m         raise ValueError(\n\u001b[0m\u001b[1;32m    577\u001b[0m             \u001b[0;34m\"Length of values \"\u001b[0m\u001b[0;34m\u001b[0m\u001b[0;34m\u001b[0m\u001b[0m\n\u001b[1;32m    578\u001b[0m             \u001b[0;34mf\"({len(data)}) \"\u001b[0m\u001b[0;34m\u001b[0m\u001b[0;34m\u001b[0m\u001b[0m\n",
      "\u001b[0;31mValueError\u001b[0m: Length of values (12) does not match length of index (1)"
     ]
    }
   ],
   "source": [
    "series_my_df = pd.DataFrame()\n",
    "\n",
    "for yr, group in year_groups:\n",
    "    series_my_df[yr.year] = group.values.ravel()\n",
    "    \n",
    "series_my_df.plot(subplots=True, legend=True)"
   ]
  },
  {
   "cell_type": "code",
   "execution_count": null,
   "id": "73512cd8",
   "metadata": {},
   "outputs": [],
   "source": []
  }
 ],
 "metadata": {
  "kernelspec": {
   "display_name": "Python 3 (ipykernel)",
   "language": "python",
   "name": "python3"
  },
  "language_info": {
   "codemirror_mode": {
    "name": "ipython",
    "version": 3
   },
   "file_extension": ".py",
   "mimetype": "text/x-python",
   "name": "python",
   "nbconvert_exporter": "python",
   "pygments_lexer": "ipython3",
   "version": "3.9.13"
  }
 },
 "nbformat": 4,
 "nbformat_minor": 5
}
