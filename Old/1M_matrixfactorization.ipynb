{
 "cells": [
  {
   "cell_type": "code",
   "execution_count": 37,
   "id": "97f1bfc7",
   "metadata": {},
   "outputs": [],
   "source": [
    "import pandas as pd\n",
    "import numpy as np\n",
    "import matplotlib.pyplot as plt\n",
    "%matplotlib inline\n",
    "import seaborn as sns\n",
    "\n",
    "import os\n",
    "from surprise import Dataset\n",
    "from surprise import Reader\n",
    "from surprise import BaselineOnly\n",
    "from surprise import accuracy\n",
    "from surprise import SVD\n",
    "from surprise import SVDpp\n",
    "from surprise.model_selection import cross_validate\n",
    "from surprise.model_selection import GridSearchCV\n",
    "from surprise.model_selection import RandomizedSearchCV\n"
   ]
  },
  {
   "cell_type": "code",
   "execution_count": 2,
   "id": "901f07bb",
   "metadata": {},
   "outputs": [
    {
     "data": {
      "application/javascript": [
       "if (!(\"Notification\" in window)) {\n",
       "    alert(\"This browser does not support desktop notifications, so the %%notify magic will not work.\");\n",
       "} else if (Notification.permission !== 'granted' && Notification.permission !== 'denied') {\n",
       "    Notification.requestPermission(function (permission) {\n",
       "        if(!('permission' in Notification)) {\n",
       "            Notification.permission = permission;\n",
       "        }\n",
       "    })\n",
       "}\n"
      ],
      "text/plain": [
       "<IPython.core.display.Javascript object>"
      ]
     },
     "metadata": {},
     "output_type": "display_data"
    }
   ],
   "source": [
    "#notify me when a long running cell is complete\n",
    "%load_ext jupyternotify\n",
    "import time"
   ]
  },
  {
   "cell_type": "code",
   "execution_count": 3,
   "id": "8a2d76bd",
   "metadata": {},
   "outputs": [
    {
     "name": "stdout",
     "output_type": "stream",
     "text": [
      "<class 'pandas.core.frame.DataFrame'>\n",
      "RangeIndex: 1000000 entries, 0 to 999999\n",
      "Data columns (total 4 columns):\n",
      " #   Column   Non-Null Count    Dtype         \n",
      "---  ------   --------------    -----         \n",
      " 0   mid      1000000 non-null  int64         \n",
      " 1   cust_id  1000000 non-null  int64         \n",
      " 2   rating   1000000 non-null  float64       \n",
      " 3   r_date   1000000 non-null  datetime64[ns]\n",
      "dtypes: datetime64[ns](1), float64(1), int64(2)\n",
      "memory usage: 30.5 MB\n"
     ]
    }
   ],
   "source": [
    "data = pd.read_csv('data/1mdf.csv')\n",
    "\n",
    "#only columns relevant to surprise\n",
    "data = data.drop(['m_decade'], axis=1)\n",
    "\n",
    "#for split\n",
    "data['r_date'] = data['r_date'].astype('datetime64[ns]')\n",
    "\n",
    "data.info()"
   ]
  },
  {
   "cell_type": "code",
   "execution_count": 4,
   "id": "de0c77e6",
   "metadata": {},
   "outputs": [
    {
     "data": {
      "text/html": [
       "<div>\n",
       "<style scoped>\n",
       "    .dataframe tbody tr th:only-of-type {\n",
       "        vertical-align: middle;\n",
       "    }\n",
       "\n",
       "    .dataframe tbody tr th {\n",
       "        vertical-align: top;\n",
       "    }\n",
       "\n",
       "    .dataframe thead th {\n",
       "        text-align: right;\n",
       "    }\n",
       "</style>\n",
       "<table border=\"1\" class=\"dataframe\">\n",
       "  <thead>\n",
       "    <tr style=\"text-align: right;\">\n",
       "      <th></th>\n",
       "      <th>cust_id</th>\n",
       "      <th>mid</th>\n",
       "      <th>rating</th>\n",
       "      <th>r_date</th>\n",
       "    </tr>\n",
       "  </thead>\n",
       "  <tbody>\n",
       "    <tr>\n",
       "      <th>0</th>\n",
       "      <td>510180</td>\n",
       "      <td>3113</td>\n",
       "      <td>3.0</td>\n",
       "      <td>1999-12-12</td>\n",
       "    </tr>\n",
       "    <tr>\n",
       "      <th>1</th>\n",
       "      <td>1589382</td>\n",
       "      <td>3113</td>\n",
       "      <td>4.0</td>\n",
       "      <td>2000-03-11</td>\n",
       "    </tr>\n",
       "    <tr>\n",
       "      <th>2</th>\n",
       "      <td>1878798</td>\n",
       "      <td>3113</td>\n",
       "      <td>2.0</td>\n",
       "      <td>2000-08-08</td>\n",
       "    </tr>\n",
       "    <tr>\n",
       "      <th>3</th>\n",
       "      <td>1259176</td>\n",
       "      <td>3113</td>\n",
       "      <td>4.0</td>\n",
       "      <td>2000-11-10</td>\n",
       "    </tr>\n",
       "    <tr>\n",
       "      <th>4</th>\n",
       "      <td>873369</td>\n",
       "      <td>3113</td>\n",
       "      <td>3.0</td>\n",
       "      <td>2000-11-20</td>\n",
       "    </tr>\n",
       "  </tbody>\n",
       "</table>\n",
       "</div>"
      ],
      "text/plain": [
       "   cust_id   mid  rating     r_date\n",
       "0   510180  3113     3.0 1999-12-12\n",
       "1  1589382  3113     4.0 2000-03-11\n",
       "2  1878798  3113     2.0 2000-08-08\n",
       "3  1259176  3113     4.0 2000-11-10\n",
       "4   873369  3113     3.0 2000-11-20"
      ]
     },
     "execution_count": 4,
     "metadata": {},
     "output_type": "execute_result"
    }
   ],
   "source": [
    "#reorder for suprise\n",
    "data = data[['cust_id', 'mid', 'rating', 'r_date']]\n",
    "data.head()"
   ]
  },
  {
   "cell_type": "markdown",
   "id": "66156209",
   "metadata": {},
   "source": [
    "# Train/Test Split: out of time approach"
   ]
  },
  {
   "cell_type": "code",
   "execution_count": 5,
   "id": "12a2183d",
   "metadata": {},
   "outputs": [
    {
     "data": {
      "text/plain": [
       "200000"
      ]
     },
     "execution_count": 5,
     "metadata": {},
     "output_type": "execute_result"
    }
   ],
   "source": [
    "testsize = round(len(data) * 0.2)\n",
    "testsize"
   ]
  },
  {
   "cell_type": "code",
   "execution_count": 6,
   "id": "4a257053",
   "metadata": {},
   "outputs": [
    {
     "data": {
      "text/plain": [
       "cust_id\n",
       "305344     192\n",
       "2439493    161\n",
       "1664010    155\n",
       "387418     154\n",
       "2118461    154\n",
       "          ... \n",
       "1933293      1\n",
       "834542       1\n",
       "834484       1\n",
       "461356       1\n",
       "360932       1\n",
       "Name: rating, Length: 290022, dtype: int64"
      ]
     },
     "execution_count": 6,
     "metadata": {},
     "output_type": "execute_result"
    }
   ],
   "source": [
    "data.groupby('cust_id')['rating'].count().sort_values(ascending=False)"
   ]
  },
  {
   "cell_type": "markdown",
   "id": "1dae8436",
   "metadata": {},
   "source": [
    "This would work better with more data and less users who don't only vote once"
   ]
  },
  {
   "cell_type": "code",
   "execution_count": 7,
   "id": "ee017557",
   "metadata": {},
   "outputs": [
    {
     "data": {
      "text/html": [
       "<div>\n",
       "<style scoped>\n",
       "    .dataframe tbody tr th:only-of-type {\n",
       "        vertical-align: middle;\n",
       "    }\n",
       "\n",
       "    .dataframe tbody tr th {\n",
       "        vertical-align: top;\n",
       "    }\n",
       "\n",
       "    .dataframe thead th {\n",
       "        text-align: right;\n",
       "    }\n",
       "</style>\n",
       "<table border=\"1\" class=\"dataframe\">\n",
       "  <thead>\n",
       "    <tr style=\"text-align: right;\">\n",
       "      <th></th>\n",
       "      <th>cust_id</th>\n",
       "      <th>mid</th>\n",
       "      <th>rating</th>\n",
       "      <th>r_date</th>\n",
       "    </tr>\n",
       "  </thead>\n",
       "  <tbody>\n",
       "    <tr>\n",
       "      <th>7258</th>\n",
       "      <td>6</td>\n",
       "      <td>13462</td>\n",
       "      <td>3.0</td>\n",
       "      <td>2004-11-13</td>\n",
       "    </tr>\n",
       "    <tr>\n",
       "      <th>361326</th>\n",
       "      <td>6</td>\n",
       "      <td>5112</td>\n",
       "      <td>3.0</td>\n",
       "      <td>2005-01-12</td>\n",
       "    </tr>\n",
       "    <tr>\n",
       "      <th>251023</th>\n",
       "      <td>6</td>\n",
       "      <td>6339</td>\n",
       "      <td>1.0</td>\n",
       "      <td>2004-09-25</td>\n",
       "    </tr>\n",
       "    <tr>\n",
       "      <th>173559</th>\n",
       "      <td>6</td>\n",
       "      <td>15105</td>\n",
       "      <td>3.0</td>\n",
       "      <td>2005-12-04</td>\n",
       "    </tr>\n",
       "    <tr>\n",
       "      <th>458082</th>\n",
       "      <td>6</td>\n",
       "      <td>14112</td>\n",
       "      <td>3.0</td>\n",
       "      <td>2005-10-26</td>\n",
       "    </tr>\n",
       "    <tr>\n",
       "      <th>...</th>\n",
       "      <td>...</td>\n",
       "      <td>...</td>\n",
       "      <td>...</td>\n",
       "      <td>...</td>\n",
       "    </tr>\n",
       "    <tr>\n",
       "      <th>829084</th>\n",
       "      <td>2649426</td>\n",
       "      <td>17207</td>\n",
       "      <td>3.0</td>\n",
       "      <td>2004-05-11</td>\n",
       "    </tr>\n",
       "    <tr>\n",
       "      <th>952614</th>\n",
       "      <td>2649426</td>\n",
       "      <td>5909</td>\n",
       "      <td>3.0</td>\n",
       "      <td>2005-07-13</td>\n",
       "    </tr>\n",
       "    <tr>\n",
       "      <th>756283</th>\n",
       "      <td>2649426</td>\n",
       "      <td>111</td>\n",
       "      <td>4.0</td>\n",
       "      <td>2004-05-25</td>\n",
       "    </tr>\n",
       "    <tr>\n",
       "      <th>458974</th>\n",
       "      <td>2649429</td>\n",
       "      <td>16792</td>\n",
       "      <td>5.0</td>\n",
       "      <td>2002-06-06</td>\n",
       "    </tr>\n",
       "    <tr>\n",
       "      <th>805510</th>\n",
       "      <td>2649429</td>\n",
       "      <td>7852</td>\n",
       "      <td>5.0</td>\n",
       "      <td>2004-05-17</td>\n",
       "    </tr>\n",
       "  </tbody>\n",
       "</table>\n",
       "<p>1000000 rows × 4 columns</p>\n",
       "</div>"
      ],
      "text/plain": [
       "        cust_id    mid  rating     r_date\n",
       "7258          6  13462     3.0 2004-11-13\n",
       "361326        6   5112     3.0 2005-01-12\n",
       "251023        6   6339     1.0 2004-09-25\n",
       "173559        6  15105     3.0 2005-12-04\n",
       "458082        6  14112     3.0 2005-10-26\n",
       "...         ...    ...     ...        ...\n",
       "829084  2649426  17207     3.0 2004-05-11\n",
       "952614  2649426   5909     3.0 2005-07-13\n",
       "756283  2649426    111     4.0 2004-05-25\n",
       "458974  2649429  16792     5.0 2002-06-06\n",
       "805510  2649429   7852     5.0 2004-05-17\n",
       "\n",
       "[1000000 rows x 4 columns]"
      ]
     },
     "execution_count": 7,
     "metadata": {},
     "output_type": "execute_result"
    }
   ],
   "source": [
    "data = data.sort_values(by=['cust_id'])\n",
    "data"
   ]
  },
  {
   "cell_type": "code",
   "execution_count": 8,
   "id": "061e0e68",
   "metadata": {},
   "outputs": [],
   "source": [
    "#splitting data into 3 groups based on how many reviews they've given\n",
    "for cust in data['cust_id'].unique():\n",
    "    i = data.index[data['cust_id'] == cust]\n",
    "    \n",
    "    #if more than 2, the final review will be in holdout, 2nd to last will be in the test\n",
    "    if len(i)> 2:\n",
    "        data.loc[i[-1], 'split'] = 3\n",
    "        data.loc[i[-2], 'split'] = 2\n",
    "        data.loc[i[:-2], 'split'] = 1\n",
    "        \n",
    "    #if 2, the final review will be in the test\n",
    "    if len(i) == 2:\n",
    "        data.loc[i[-1], 'split'] = 2\n",
    "        data.loc[i[0], 'split'] = 1\n",
    "        \n",
    "    #everyone with one review gets a linear temporal split\n",
    "    else:\n",
    "        data.loc[i[0], 'split'] = 1\n",
    "        \n",
    "holdout = data[(data['split'] == 3)]\n",
    "test = data[(data['split'] == 2)]\n",
    "train = data[(data['split'] == 1 )]"
   ]
  },
  {
   "cell_type": "code",
   "execution_count": 9,
   "id": "6bab07b6",
   "metadata": {},
   "outputs": [
    {
     "data": {
      "application/javascript": [
       "$(document).ready(\n",
       "    function() {\n",
       "        function appendUniqueDiv(){\n",
       "            // append a div with our uuid so we can check that it's already\n",
       "            // been sent and avoid duplicates on page reload\n",
       "            var notifiedDiv = document.createElement(\"div\")\n",
       "            notifiedDiv.id = \"e4d37933-7899-4ca2-902d-13bed1a3330b\"\n",
       "            element.append(notifiedDiv)\n",
       "        }\n",
       "\n",
       "        // only send notifications if the pageload is complete; this will\n",
       "        // help stop extra notifications when a saved notebook is loaded,\n",
       "        // which during testing gives us state \"interactive\", not \"complete\"\n",
       "        if (document.readyState === 'complete') {\n",
       "            // check for the div that signifies that the notification\n",
       "            // was already sent\n",
       "            if (document.getElementById(\"e4d37933-7899-4ca2-902d-13bed1a3330b\") === null) {\n",
       "                var notificationPayload = {\"requireInteraction\": false, \"icon\": \"/static/base/images/favicon.ico\", \"body\": \"Cell execution has finished!\"};\n",
       "                if (Notification.permission !== 'denied') {\n",
       "                    if (Notification.permission !== 'granted') { \n",
       "                        Notification.requestPermission(function (permission) {\n",
       "                            if(!('permission' in Notification)) {\n",
       "                                Notification.permission = permission\n",
       "                            }\n",
       "                        })\n",
       "                    }\n",
       "                    if (Notification.permission === 'granted') {\n",
       "                    var notification = new Notification(\"Jupyter Notebook\", notificationPayload)\n",
       "                    appendUniqueDiv()\n",
       "                    notification.onclick = function () {\n",
       "                        window.focus();\n",
       "                        this.close();\n",
       "                        };\n",
       "                    } \n",
       "                }     \n",
       "            }\n",
       "        }\n",
       "    }\n",
       ")\n"
      ],
      "text/plain": [
       "<IPython.core.display.Javascript object>"
      ]
     },
     "metadata": {},
     "output_type": "display_data"
    }
   ],
   "source": [
    "%notify"
   ]
  },
  {
   "cell_type": "code",
   "execution_count": 10,
   "id": "92aba5c8",
   "metadata": {},
   "outputs": [
    {
     "name": "stdout",
     "output_type": "stream",
     "text": [
      "holdout: (128183, 5)\n",
      "test: (185571, 5)\n",
      "train: (686246, 5)\n"
     ]
    }
   ],
   "source": [
    "print('holdout:', holdout.shape)\n",
    "print('test:', test.shape)\n",
    "print('train:', train.shape)"
   ]
  },
  {
   "cell_type": "code",
   "execution_count": 11,
   "id": "2a890639",
   "metadata": {},
   "outputs": [
    {
     "data": {
      "text/html": [
       "<div>\n",
       "<style scoped>\n",
       "    .dataframe tbody tr th:only-of-type {\n",
       "        vertical-align: middle;\n",
       "    }\n",
       "\n",
       "    .dataframe tbody tr th {\n",
       "        vertical-align: top;\n",
       "    }\n",
       "\n",
       "    .dataframe thead th {\n",
       "        text-align: right;\n",
       "    }\n",
       "</style>\n",
       "<table border=\"1\" class=\"dataframe\">\n",
       "  <thead>\n",
       "    <tr style=\"text-align: right;\">\n",
       "      <th></th>\n",
       "      <th>cust_id</th>\n",
       "      <th>mid</th>\n",
       "      <th>rating</th>\n",
       "      <th>r_date</th>\n",
       "      <th>split</th>\n",
       "    </tr>\n",
       "  </thead>\n",
       "  <tbody>\n",
       "    <tr>\n",
       "      <th>0</th>\n",
       "      <td>510180</td>\n",
       "      <td>3113</td>\n",
       "      <td>3.0</td>\n",
       "      <td>1999-12-12</td>\n",
       "      <td>1.0</td>\n",
       "    </tr>\n",
       "    <tr>\n",
       "      <th>731</th>\n",
       "      <td>830363</td>\n",
       "      <td>11242</td>\n",
       "      <td>3.0</td>\n",
       "      <td>1999-12-21</td>\n",
       "      <td>1.0</td>\n",
       "    </tr>\n",
       "    <tr>\n",
       "      <th>974</th>\n",
       "      <td>1435350</td>\n",
       "      <td>8327</td>\n",
       "      <td>5.0</td>\n",
       "      <td>1999-12-27</td>\n",
       "      <td>1.0</td>\n",
       "    </tr>\n",
       "    <tr>\n",
       "      <th>4106</th>\n",
       "      <td>1267764</td>\n",
       "      <td>4670</td>\n",
       "      <td>3.0</td>\n",
       "      <td>1999-12-30</td>\n",
       "      <td>1.0</td>\n",
       "    </tr>\n",
       "    <tr>\n",
       "      <th>4883</th>\n",
       "      <td>882798</td>\n",
       "      <td>16438</td>\n",
       "      <td>4.0</td>\n",
       "      <td>1999-12-30</td>\n",
       "      <td>1.0</td>\n",
       "    </tr>\n",
       "    <tr>\n",
       "      <th>...</th>\n",
       "      <td>...</td>\n",
       "      <td>...</td>\n",
       "      <td>...</td>\n",
       "      <td>...</td>\n",
       "      <td>...</td>\n",
       "    </tr>\n",
       "    <tr>\n",
       "      <th>678419</th>\n",
       "      <td>330800</td>\n",
       "      <td>5495</td>\n",
       "      <td>3.0</td>\n",
       "      <td>2005-12-31</td>\n",
       "      <td>1.0</td>\n",
       "    </tr>\n",
       "    <tr>\n",
       "      <th>747707</th>\n",
       "      <td>2536322</td>\n",
       "      <td>5919</td>\n",
       "      <td>4.0</td>\n",
       "      <td>2005-12-31</td>\n",
       "      <td>1.0</td>\n",
       "    </tr>\n",
       "    <tr>\n",
       "      <th>203960</th>\n",
       "      <td>2376301</td>\n",
       "      <td>2395</td>\n",
       "      <td>5.0</td>\n",
       "      <td>2005-12-31</td>\n",
       "      <td>1.0</td>\n",
       "    </tr>\n",
       "    <tr>\n",
       "      <th>427098</th>\n",
       "      <td>1125499</td>\n",
       "      <td>9591</td>\n",
       "      <td>4.0</td>\n",
       "      <td>2005-12-31</td>\n",
       "      <td>1.0</td>\n",
       "    </tr>\n",
       "    <tr>\n",
       "      <th>848549</th>\n",
       "      <td>2136204</td>\n",
       "      <td>12126</td>\n",
       "      <td>3.0</td>\n",
       "      <td>2005-12-31</td>\n",
       "      <td>1.0</td>\n",
       "    </tr>\n",
       "  </tbody>\n",
       "</table>\n",
       "<p>686246 rows × 5 columns</p>\n",
       "</div>"
      ],
      "text/plain": [
       "        cust_id    mid  rating     r_date  split\n",
       "0        510180   3113     3.0 1999-12-12    1.0\n",
       "731      830363  11242     3.0 1999-12-21    1.0\n",
       "974     1435350   8327     5.0 1999-12-27    1.0\n",
       "4106    1267764   4670     3.0 1999-12-30    1.0\n",
       "4883     882798  16438     4.0 1999-12-30    1.0\n",
       "...         ...    ...     ...        ...    ...\n",
       "678419   330800   5495     3.0 2005-12-31    1.0\n",
       "747707  2536322   5919     4.0 2005-12-31    1.0\n",
       "203960  2376301   2395     5.0 2005-12-31    1.0\n",
       "427098  1125499   9591     4.0 2005-12-31    1.0\n",
       "848549  2136204  12126     3.0 2005-12-31    1.0\n",
       "\n",
       "[686246 rows x 5 columns]"
      ]
     },
     "execution_count": 11,
     "metadata": {},
     "output_type": "execute_result"
    }
   ],
   "source": [
    "#sort vals by date, prep to split linearly\n",
    "train = train.sort_values(by=['r_date'])\n",
    "train"
   ]
  },
  {
   "cell_type": "code",
   "execution_count": 12,
   "id": "f554790b",
   "metadata": {},
   "outputs": [
    {
     "name": "stdout",
     "output_type": "stream",
     "text": [
      "(200000, 5)\n"
     ]
    },
    {
     "data": {
      "text/html": [
       "<div>\n",
       "<style scoped>\n",
       "    .dataframe tbody tr th:only-of-type {\n",
       "        vertical-align: middle;\n",
       "    }\n",
       "\n",
       "    .dataframe tbody tr th {\n",
       "        vertical-align: top;\n",
       "    }\n",
       "\n",
       "    .dataframe thead th {\n",
       "        text-align: right;\n",
       "    }\n",
       "</style>\n",
       "<table border=\"1\" class=\"dataframe\">\n",
       "  <thead>\n",
       "    <tr style=\"text-align: right;\">\n",
       "      <th></th>\n",
       "      <th>cust_id</th>\n",
       "      <th>mid</th>\n",
       "      <th>rating</th>\n",
       "      <th>r_date</th>\n",
       "      <th>split</th>\n",
       "    </tr>\n",
       "  </thead>\n",
       "  <tbody>\n",
       "    <tr>\n",
       "      <th>6318</th>\n",
       "      <td>2114455</td>\n",
       "      <td>17563</td>\n",
       "      <td>3.0</td>\n",
       "      <td>1999-12-30</td>\n",
       "      <td>3.0</td>\n",
       "    </tr>\n",
       "    <tr>\n",
       "      <th>3651</th>\n",
       "      <td>872963</td>\n",
       "      <td>1642</td>\n",
       "      <td>4.0</td>\n",
       "      <td>1999-12-30</td>\n",
       "      <td>3.0</td>\n",
       "    </tr>\n",
       "    <tr>\n",
       "      <th>14361</th>\n",
       "      <td>1192830</td>\n",
       "      <td>16788</td>\n",
       "      <td>4.0</td>\n",
       "      <td>2000-01-05</td>\n",
       "      <td>3.0</td>\n",
       "    </tr>\n",
       "    <tr>\n",
       "      <th>14511</th>\n",
       "      <td>1426824</td>\n",
       "      <td>3870</td>\n",
       "      <td>2.0</td>\n",
       "      <td>2000-01-05</td>\n",
       "      <td>3.0</td>\n",
       "    </tr>\n",
       "    <tr>\n",
       "      <th>13315</th>\n",
       "      <td>1972971</td>\n",
       "      <td>17560</td>\n",
       "      <td>3.0</td>\n",
       "      <td>2000-01-05</td>\n",
       "      <td>3.0</td>\n",
       "    </tr>\n",
       "    <tr>\n",
       "      <th>...</th>\n",
       "      <td>...</td>\n",
       "      <td>...</td>\n",
       "      <td>...</td>\n",
       "      <td>...</td>\n",
       "      <td>...</td>\n",
       "    </tr>\n",
       "    <tr>\n",
       "      <th>14810</th>\n",
       "      <td>28205</td>\n",
       "      <td>10371</td>\n",
       "      <td>4.0</td>\n",
       "      <td>2005-12-31</td>\n",
       "      <td>1.0</td>\n",
       "    </tr>\n",
       "    <tr>\n",
       "      <th>995954</th>\n",
       "      <td>2235350</td>\n",
       "      <td>8993</td>\n",
       "      <td>5.0</td>\n",
       "      <td>2005-12-31</td>\n",
       "      <td>1.0</td>\n",
       "    </tr>\n",
       "    <tr>\n",
       "      <th>771825</th>\n",
       "      <td>361630</td>\n",
       "      <td>17149</td>\n",
       "      <td>1.0</td>\n",
       "      <td>2005-12-31</td>\n",
       "      <td>1.0</td>\n",
       "    </tr>\n",
       "    <tr>\n",
       "      <th>81713</th>\n",
       "      <td>1662699</td>\n",
       "      <td>16242</td>\n",
       "      <td>4.0</td>\n",
       "      <td>2005-12-31</td>\n",
       "      <td>1.0</td>\n",
       "    </tr>\n",
       "    <tr>\n",
       "      <th>848549</th>\n",
       "      <td>2136204</td>\n",
       "      <td>12126</td>\n",
       "      <td>3.0</td>\n",
       "      <td>2005-12-31</td>\n",
       "      <td>1.0</td>\n",
       "    </tr>\n",
       "  </tbody>\n",
       "</table>\n",
       "<p>200000 rows × 5 columns</p>\n",
       "</div>"
      ],
      "text/plain": [
       "        cust_id    mid  rating     r_date  split\n",
       "6318    2114455  17563     3.0 1999-12-30    3.0\n",
       "3651     872963   1642     4.0 1999-12-30    3.0\n",
       "14361   1192830  16788     4.0 2000-01-05    3.0\n",
       "14511   1426824   3870     2.0 2000-01-05    3.0\n",
       "13315   1972971  17560     3.0 2000-01-05    3.0\n",
       "...         ...    ...     ...        ...    ...\n",
       "14810     28205  10371     4.0 2005-12-31    1.0\n",
       "995954  2235350   8993     5.0 2005-12-31    1.0\n",
       "771825   361630  17149     1.0 2005-12-31    1.0\n",
       "81713   1662699  16242     4.0 2005-12-31    1.0\n",
       "848549  2136204  12126     3.0 2005-12-31    1.0\n",
       "\n",
       "[200000 rows x 5 columns]"
      ]
     },
     "execution_count": 12,
     "metadata": {},
     "output_type": "execute_result"
    }
   ],
   "source": [
    "#adding only the end of training set to test\n",
    "holdout2 = train[-(testsize -len(holdout)):]\n",
    "holdout = pd.concat([holdout, holdout2])\n",
    "\n",
    "#200k\n",
    "print(holdout.shape)\n",
    "\n",
    "#sanity check\n",
    "holdout = holdout.sort_values(by=['r_date'])\n",
    "holdout"
   ]
  },
  {
   "cell_type": "code",
   "execution_count": 13,
   "id": "36b0fd10",
   "metadata": {},
   "outputs": [
    {
     "data": {
      "text/plain": [
       "(614429, 5)"
      ]
     },
     "execution_count": 13,
     "metadata": {},
     "output_type": "execute_result"
    }
   ],
   "source": [
    "#remove holdout rows\n",
    "train = train.loc[~train.index.isin(holdout.index)]\n",
    "train.shape"
   ]
  },
  {
   "cell_type": "code",
   "execution_count": 14,
   "id": "2f69272d",
   "metadata": {},
   "outputs": [
    {
     "data": {
      "text/plain": [
       "(200000, 5)"
      ]
     },
     "execution_count": 14,
     "metadata": {},
     "output_type": "execute_result"
    }
   ],
   "source": [
    "#fill in test with random samples\n",
    "test1 = train.sample(n=(200000-len(test)), replace=False, random_state=1)\n",
    "test = pd.concat([test, test1])\n",
    "\n",
    "#200k\n",
    "test.shape"
   ]
  },
  {
   "cell_type": "code",
   "execution_count": 15,
   "id": "fea24fb6",
   "metadata": {},
   "outputs": [
    {
     "data": {
      "text/plain": [
       "(600000, 5)"
      ]
     },
     "execution_count": 15,
     "metadata": {},
     "output_type": "execute_result"
    }
   ],
   "source": [
    "train = train.loc[~train.index.isin(test1.index)]\n",
    "train.shape"
   ]
  },
  {
   "cell_type": "code",
   "execution_count": 16,
   "id": "e5bbc1c9",
   "metadata": {},
   "outputs": [],
   "source": [
    "#train.to_csv('data/train_1M.csv', index = False)\n",
    "#test.to_csv('data/test_1M.csv', index=False)\n",
    "#holdout.to_csv('data/ho_1M.csv', index=False)"
   ]
  },
  {
   "cell_type": "code",
   "execution_count": 17,
   "id": "c34d6dd2",
   "metadata": {},
   "outputs": [
    {
     "data": {
      "application/javascript": [
       "$(document).ready(\n",
       "    function() {\n",
       "        function appendUniqueDiv(){\n",
       "            // append a div with our uuid so we can check that it's already\n",
       "            // been sent and avoid duplicates on page reload\n",
       "            var notifiedDiv = document.createElement(\"div\")\n",
       "            notifiedDiv.id = \"1d6e4464-715c-4e77-92f5-b39dc4387756\"\n",
       "            element.append(notifiedDiv)\n",
       "        }\n",
       "\n",
       "        // only send notifications if the pageload is complete; this will\n",
       "        // help stop extra notifications when a saved notebook is loaded,\n",
       "        // which during testing gives us state \"interactive\", not \"complete\"\n",
       "        if (document.readyState === 'complete') {\n",
       "            // check for the div that signifies that the notification\n",
       "            // was already sent\n",
       "            if (document.getElementById(\"1d6e4464-715c-4e77-92f5-b39dc4387756\") === null) {\n",
       "                var notificationPayload = {\"requireInteraction\": false, \"icon\": \"/static/base/images/favicon.ico\", \"body\": \"Cell execution has finished!\"};\n",
       "                if (Notification.permission !== 'denied') {\n",
       "                    if (Notification.permission !== 'granted') { \n",
       "                        Notification.requestPermission(function (permission) {\n",
       "                            if(!('permission' in Notification)) {\n",
       "                                Notification.permission = permission\n",
       "                            }\n",
       "                        })\n",
       "                    }\n",
       "                    if (Notification.permission === 'granted') {\n",
       "                    var notification = new Notification(\"Jupyter Notebook\", notificationPayload)\n",
       "                    appendUniqueDiv()\n",
       "                    notification.onclick = function () {\n",
       "                        window.focus();\n",
       "                        this.close();\n",
       "                        };\n",
       "                    } \n",
       "                }     \n",
       "            }\n",
       "        }\n",
       "    }\n",
       ")\n"
      ],
      "text/plain": [
       "<IPython.core.display.Javascript object>"
      ]
     },
     "metadata": {},
     "output_type": "display_data"
    }
   ],
   "source": [
    "%notify"
   ]
  },
  {
   "cell_type": "markdown",
   "id": "9832af65",
   "metadata": {},
   "source": [
    "# Baseline using Surprise"
   ]
  },
  {
   "cell_type": "code",
   "execution_count": 52,
   "id": "79883f45",
   "metadata": {},
   "outputs": [],
   "source": [
    "reader = Reader(rating_scale=(1,5))"
   ]
  },
  {
   "cell_type": "code",
   "execution_count": 53,
   "id": "496aca1b",
   "metadata": {},
   "outputs": [],
   "source": [
    "train_data = Dataset.load_from_df(train[['cust_id','mid','rating']], reader)\n",
    "test_data = Dataset.load_from_df(test[['cust_id','mid','rating']], reader)\n",
    "ho_data = Dataset.load_from_df(holdout[['cust_id','mid','rating']], reader)"
   ]
  },
  {
   "cell_type": "code",
   "execution_count": 54,
   "id": "3d3beadf",
   "metadata": {},
   "outputs": [],
   "source": [
    "#correct surprise dataset format\n",
    "train_sr = train_data.build_full_trainset()\n",
    "\n",
    "\n",
    "test_sr1 = test_data.build_full_trainset()\n",
    "test_sr = test_sr1.build_testset()\n",
    "\n",
    "ho_sr1 = ho_data.build_full_trainset()\n",
    "ho_sr = ho_sr1.build_testset()"
   ]
  },
  {
   "cell_type": "code",
   "execution_count": 55,
   "id": "61774c1b",
   "metadata": {},
   "outputs": [
    {
     "name": "stdout",
     "output_type": "stream",
     "text": [
      "Estimating biases using sgd...\n"
     ]
    }
   ],
   "source": [
    "#using stochastic gradient descent bc that is used in svd\n",
    "#20 epochs because that is the svd default\n",
    "bsl_options = {'method': 'sgd', 'n_epochs':20}\n",
    "bias_baseline = BaselineOnly(bsl_options)\n",
    "bias_baseline.fit(train_sr)\n",
    "predictions = bias_baseline.test(test_sr)"
   ]
  },
  {
   "cell_type": "code",
   "execution_count": 57,
   "id": "2e178a9d",
   "metadata": {},
   "outputs": [
    {
     "name": "stdout",
     "output_type": "stream",
     "text": [
      "MAE:  0.7935\n"
     ]
    },
    {
     "data": {
      "text/plain": [
       "0.7935138946573231"
      ]
     },
     "execution_count": 57,
     "metadata": {},
     "output_type": "execute_result"
    }
   ],
   "source": [
    "accuracy.mae(predictions)"
   ]
  },
  {
   "cell_type": "code",
   "execution_count": 58,
   "id": "2616a737",
   "metadata": {},
   "outputs": [
    {
     "name": "stdout",
     "output_type": "stream",
     "text": [
      "RMSE: 0.9922\n"
     ]
    },
    {
     "data": {
      "text/plain": [
       "0.9921980884454588"
      ]
     },
     "execution_count": 58,
     "metadata": {},
     "output_type": "execute_result"
    }
   ],
   "source": [
    "accuracy.rmse(predictions, verbose=True)"
   ]
  },
  {
   "cell_type": "code",
   "execution_count": 59,
   "id": "131c7807",
   "metadata": {},
   "outputs": [],
   "source": [
    "test_user_list = ['1458102', '484142', '1347916']"
   ]
  },
  {
   "cell_type": "code",
   "execution_count": 60,
   "id": "fd522e34",
   "metadata": {},
   "outputs": [],
   "source": [
    "def get_recs(user_list):\n",
    "    all_recommendations = []\n",
    "    \n",
    "    def rec_content(cust_id):\n",
    "        # Get a list of all the movies the user has not rated\n",
    "        all_content = data['mid'].unique()\n",
    "        user_content = data[data['cust_id'] == 'cust_id']['mid'].unique()\n",
    "        new_content = list(set(all_content) - set(user_content))\n",
    "\n",
    "        # Predict the ratings for the new movies\n",
    "        predictions = [bias_baseline.predict('cust_id', mid) for mid in new_content]\n",
    "\n",
    "        # Sort the predictions by estimated rating\n",
    "        predictions.sort(key=lambda x: x.est, reverse=True)\n",
    "\n",
    "        # Get the top 10 recommendations\n",
    "        top_recommendations = [prediction.iid for prediction in predictions[:10]]\n",
    "\n",
    "        return [(user_id, movie_id) for movie_id in top_recommendations]\n",
    "\n",
    "    for user_id in user_list:\n",
    "        user_recs = rec_content(user_id)\n",
    "        all_recommendations.extend(user_recs)\n",
    "\n",
    "    recommendations_df = pd.DataFrame(all_recommendations, columns=[\"userId\", \"movieId\"])\n",
    "    return recommendations_df"
   ]
  },
  {
   "cell_type": "code",
   "execution_count": 61,
   "id": "9629950b",
   "metadata": {},
   "outputs": [
    {
     "data": {
      "text/html": [
       "<div>\n",
       "<style scoped>\n",
       "    .dataframe tbody tr th:only-of-type {\n",
       "        vertical-align: middle;\n",
       "    }\n",
       "\n",
       "    .dataframe tbody tr th {\n",
       "        vertical-align: top;\n",
       "    }\n",
       "\n",
       "    .dataframe thead th {\n",
       "        text-align: right;\n",
       "    }\n",
       "</style>\n",
       "<table border=\"1\" class=\"dataframe\">\n",
       "  <thead>\n",
       "    <tr style=\"text-align: right;\">\n",
       "      <th></th>\n",
       "      <th>userId</th>\n",
       "      <th>movieId</th>\n",
       "    </tr>\n",
       "  </thead>\n",
       "  <tbody>\n",
       "    <tr>\n",
       "      <th>0</th>\n",
       "      <td>1458102</td>\n",
       "      <td>7230</td>\n",
       "    </tr>\n",
       "    <tr>\n",
       "      <th>1</th>\n",
       "      <td>1458102</td>\n",
       "      <td>7057</td>\n",
       "    </tr>\n",
       "    <tr>\n",
       "      <th>2</th>\n",
       "      <td>1458102</td>\n",
       "      <td>2102</td>\n",
       "    </tr>\n",
       "    <tr>\n",
       "      <th>3</th>\n",
       "      <td>1458102</td>\n",
       "      <td>7751</td>\n",
       "    </tr>\n",
       "    <tr>\n",
       "      <th>4</th>\n",
       "      <td>1458102</td>\n",
       "      <td>16587</td>\n",
       "    </tr>\n",
       "    <tr>\n",
       "      <th>5</th>\n",
       "      <td>1458102</td>\n",
       "      <td>3928</td>\n",
       "    </tr>\n",
       "    <tr>\n",
       "      <th>6</th>\n",
       "      <td>1458102</td>\n",
       "      <td>3456</td>\n",
       "    </tr>\n",
       "    <tr>\n",
       "      <th>7</th>\n",
       "      <td>1458102</td>\n",
       "      <td>12891</td>\n",
       "    </tr>\n",
       "    <tr>\n",
       "      <th>8</th>\n",
       "      <td>1458102</td>\n",
       "      <td>14961</td>\n",
       "    </tr>\n",
       "    <tr>\n",
       "      <th>9</th>\n",
       "      <td>1458102</td>\n",
       "      <td>1476</td>\n",
       "    </tr>\n",
       "    <tr>\n",
       "      <th>10</th>\n",
       "      <td>484142</td>\n",
       "      <td>7230</td>\n",
       "    </tr>\n",
       "    <tr>\n",
       "      <th>11</th>\n",
       "      <td>484142</td>\n",
       "      <td>7057</td>\n",
       "    </tr>\n",
       "    <tr>\n",
       "      <th>12</th>\n",
       "      <td>484142</td>\n",
       "      <td>2102</td>\n",
       "    </tr>\n",
       "    <tr>\n",
       "      <th>13</th>\n",
       "      <td>484142</td>\n",
       "      <td>7751</td>\n",
       "    </tr>\n",
       "    <tr>\n",
       "      <th>14</th>\n",
       "      <td>484142</td>\n",
       "      <td>16587</td>\n",
       "    </tr>\n",
       "    <tr>\n",
       "      <th>15</th>\n",
       "      <td>484142</td>\n",
       "      <td>3928</td>\n",
       "    </tr>\n",
       "    <tr>\n",
       "      <th>16</th>\n",
       "      <td>484142</td>\n",
       "      <td>3456</td>\n",
       "    </tr>\n",
       "    <tr>\n",
       "      <th>17</th>\n",
       "      <td>484142</td>\n",
       "      <td>12891</td>\n",
       "    </tr>\n",
       "    <tr>\n",
       "      <th>18</th>\n",
       "      <td>484142</td>\n",
       "      <td>14961</td>\n",
       "    </tr>\n",
       "    <tr>\n",
       "      <th>19</th>\n",
       "      <td>484142</td>\n",
       "      <td>1476</td>\n",
       "    </tr>\n",
       "    <tr>\n",
       "      <th>20</th>\n",
       "      <td>1347916</td>\n",
       "      <td>7230</td>\n",
       "    </tr>\n",
       "    <tr>\n",
       "      <th>21</th>\n",
       "      <td>1347916</td>\n",
       "      <td>7057</td>\n",
       "    </tr>\n",
       "    <tr>\n",
       "      <th>22</th>\n",
       "      <td>1347916</td>\n",
       "      <td>2102</td>\n",
       "    </tr>\n",
       "    <tr>\n",
       "      <th>23</th>\n",
       "      <td>1347916</td>\n",
       "      <td>7751</td>\n",
       "    </tr>\n",
       "    <tr>\n",
       "      <th>24</th>\n",
       "      <td>1347916</td>\n",
       "      <td>16587</td>\n",
       "    </tr>\n",
       "    <tr>\n",
       "      <th>25</th>\n",
       "      <td>1347916</td>\n",
       "      <td>3928</td>\n",
       "    </tr>\n",
       "    <tr>\n",
       "      <th>26</th>\n",
       "      <td>1347916</td>\n",
       "      <td>3456</td>\n",
       "    </tr>\n",
       "    <tr>\n",
       "      <th>27</th>\n",
       "      <td>1347916</td>\n",
       "      <td>12891</td>\n",
       "    </tr>\n",
       "    <tr>\n",
       "      <th>28</th>\n",
       "      <td>1347916</td>\n",
       "      <td>14961</td>\n",
       "    </tr>\n",
       "    <tr>\n",
       "      <th>29</th>\n",
       "      <td>1347916</td>\n",
       "      <td>1476</td>\n",
       "    </tr>\n",
       "  </tbody>\n",
       "</table>\n",
       "</div>"
      ],
      "text/plain": [
       "     userId  movieId\n",
       "0   1458102     7230\n",
       "1   1458102     7057\n",
       "2   1458102     2102\n",
       "3   1458102     7751\n",
       "4   1458102    16587\n",
       "5   1458102     3928\n",
       "6   1458102     3456\n",
       "7   1458102    12891\n",
       "8   1458102    14961\n",
       "9   1458102     1476\n",
       "10   484142     7230\n",
       "11   484142     7057\n",
       "12   484142     2102\n",
       "13   484142     7751\n",
       "14   484142    16587\n",
       "15   484142     3928\n",
       "16   484142     3456\n",
       "17   484142    12891\n",
       "18   484142    14961\n",
       "19   484142     1476\n",
       "20  1347916     7230\n",
       "21  1347916     7057\n",
       "22  1347916     2102\n",
       "23  1347916     7751\n",
       "24  1347916    16587\n",
       "25  1347916     3928\n",
       "26  1347916     3456\n",
       "27  1347916    12891\n",
       "28  1347916    14961\n",
       "29  1347916     1476"
      ]
     },
     "execution_count": 61,
     "metadata": {},
     "output_type": "execute_result"
    }
   ],
   "source": [
    "testrecs = get_recs(test_user_list)\n",
    "testrecs"
   ]
  },
  {
   "cell_type": "code",
   "execution_count": null,
   "id": "9ae2b1f5",
   "metadata": {},
   "outputs": [],
   "source": [
    "def Diversity(topNPredicted, simsAlgo):\n",
    " n = 0\n",
    " total = 0\n",
    " simsMatrix = simsAlgo.compute_similarities()\n",
    " for userID in topNPredicted.keys():\n",
    " pairs = itertools.combinations(topNPredicted[userID], 2)\n",
    " for pair in pairs:\n",
    " movie1 = pair[0][0]\n",
    " movie2 = pair[1][0]\n",
    " innerID1 = simsAlgo.trainset.to_inner_iid(str(movie1))\n",
    " innerID2 = simsAlgo.trainset.to_inner_iid(str(movie2))\n",
    " similarity = simsMatrix[innerID1][innerID2]\n",
    " total += similarity\n",
    " n += 1\n",
    "S = total / n\n",
    " return (1-S)\n",
    "view raw"
   ]
  },
  {
   "cell_type": "code",
   "execution_count": null,
   "id": "c00c9ea7",
   "metadata": {},
   "outputs": [],
   "source": []
  },
  {
   "cell_type": "markdown",
   "id": "95e22c96",
   "metadata": {},
   "source": [
    "# First Simple Model"
   ]
  },
  {
   "cell_type": "code",
   "execution_count": 27,
   "id": "65032c25",
   "metadata": {},
   "outputs": [],
   "source": [
    "#instance of SVD algorithm, fit using training set\n",
    "svd = SVD(random_state=1)\n",
    "svd.fit(train_sr)\n",
    "\n",
    "#predicting based on validation set\n",
    "preds = svd.test(test_sr)"
   ]
  },
  {
   "cell_type": "code",
   "execution_count": 28,
   "id": "b1a736a1",
   "metadata": {},
   "outputs": [
    {
     "name": "stdout",
     "output_type": "stream",
     "text": [
      "MAE:  0.8052\n"
     ]
    },
    {
     "data": {
      "text/plain": [
       "0.8051670661228093"
      ]
     },
     "execution_count": 28,
     "metadata": {},
     "output_type": "execute_result"
    }
   ],
   "source": [
    "#mae\n",
    "accuracy.mae(preds)"
   ]
  },
  {
   "cell_type": "code",
   "execution_count": 29,
   "id": "b36e1664",
   "metadata": {},
   "outputs": [
    {
     "name": "stdout",
     "output_type": "stream",
     "text": [
      "RMSE: 1.0067\n"
     ]
    },
    {
     "data": {
      "text/plain": [
       "1.006748871084584"
      ]
     },
     "execution_count": 29,
     "metadata": {},
     "output_type": "execute_result"
    }
   ],
   "source": [
    "#rmse score\n",
    "accuracy.rmse(preds)"
   ]
  },
  {
   "cell_type": "markdown",
   "id": "f259b2b8",
   "metadata": {},
   "source": [
    "# Tuning First Simple Model\n",
    "\n",
    "This model performed slightly worse. Tuning model below using GridSearchCV and RandomizedSearchCV\n",
    "\n",
    "**Note:** From my research, I have learned that SVD models are very sensitive and prone to overfitting. ***Because this is an academic exercise, I am taking the time to test minute changes.***\n",
    "\n",
    "### Gridsearch SVD Model"
   ]
  },
  {
   "cell_type": "code",
   "execution_count": 48,
   "id": "c14c47b3",
   "metadata": {},
   "outputs": [
    {
     "name": "stdout",
     "output_type": "stream",
     "text": [
      "0.9893126323300756\n",
      "{'n_factors': 50, 'n_epochs': 30, 'lr_all': 0.005, 'reg_all': 0.12}\n"
     ]
    }
   ],
   "source": [
    "#gridsearch params\n",
    "param_grid = {'n_factors':[50, 100, 120, 150, 200], \n",
    "              #default 100, quality of training set preds tends to grow as n grows\n",
    "              'n_epochs': [20, 30, 40, 60], #default 20\n",
    "              'lr_all': [0.005, 0.008, 0.01, 0.125], \n",
    "              #learning rate all params, default .005\n",
    "              'reg_all': [0.02, 0.08, 0.1, 0.12, 0.16]} \n",
    "                #reg term for all params, default .02\n",
    "\n",
    "\n",
    "#default measures = mae and rmse\n",
    "#default cv = 5\n",
    "#refit = false\n",
    "gridsearch = GridSearchCV(SVD,\n",
    "                  param_grid,\n",
    "                  n_jobs = -1)\n",
    "\n",
    "gridsearch.fit(train_data)\n",
    "\n",
    "print(gridsearch.best_score['rmse'])\n",
    "print(gridsearch.best_params['rmse'])"
   ]
  },
  {
   "cell_type": "code",
   "execution_count": 50,
   "id": "bbfc0638",
   "metadata": {},
   "outputs": [
    {
     "name": "stdout",
     "output_type": "stream",
     "text": [
      "RMSE: 0.9927\n",
      "MAE:  0.7948\n"
     ]
    },
    {
     "data": {
      "text/plain": [
       "0.7947657472013869"
      ]
     },
     "execution_count": 50,
     "metadata": {},
     "output_type": "execute_result"
    }
   ],
   "source": [
    "algo = SVD(n_factors= 50, n_epochs= 30, lr_all= 0.005, reg_all= 0.12)\n",
    "algo.fit(train_sr)\n",
    "preds_final = algo.test(test_sr)\n",
    "\n",
    "accuracy.rmse(preds_final)\n",
    "accuracy.mae(preds_final)"
   ]
  },
  {
   "cell_type": "code",
   "execution_count": 51,
   "id": "eca17a73",
   "metadata": {},
   "outputs": [
    {
     "name": "stdout",
     "output_type": "stream",
     "text": [
      "RMSE: 0.9977\n",
      "MAE:  0.8001\n"
     ]
    },
    {
     "data": {
      "text/plain": [
       "0.800059632300629"
      ]
     },
     "execution_count": 51,
     "metadata": {},
     "output_type": "execute_result"
    }
   ],
   "source": [
    "preds_holdout = algo.test(ho_sr)\n",
    "\n",
    "accuracy.rmse(preds_holdout)\n",
    "accuracy.mae(preds_holdout)"
   ]
  },
  {
   "cell_type": "markdown",
   "id": "7bfbeb29",
   "metadata": {},
   "source": [
    "### RandomizedSearchCV"
   ]
  },
  {
   "cell_type": "code",
   "execution_count": 23,
   "id": "56988534",
   "metadata": {},
   "outputs": [
    {
     "name": "stdout",
     "output_type": "stream",
     "text": [
      "0.992213592877159\n",
      "{'n_factors': 120, 'n_epochs': 30, 'lr_all': 0.008, 'reg_all': 0.16}\n"
     ]
    }
   ],
   "source": [
    "param_grid = {'n_factors':[50, 100, 120, 150, 200], \n",
    "              #default 100, quality of training set preds tends to grow as n grows\n",
    "              'n_epochs': [20, 30, 40, 60], #default 20\n",
    "              'lr_all': [0.005, 0.008, 0.01, 0.125], \n",
    "              #learning rate all params, default .005\n",
    "              'reg_all': [0.02, 0.08, 0.1, 0.12, 0.16]} \n",
    "                #reg term for all params, default .02\n",
    "\n",
    "rs = RandomizedSearchCV(SVD,\n",
    "                        param_grid,\n",
    "                       n_jobs = -1,\n",
    "                       random_state=1) #defined above\n",
    "#n_iter default = 10\n",
    "#cv = 5\n",
    "rs.fit(train_data)\n",
    "\n",
    "print(rs.best_score['rmse'])\n",
    "print(rs.best_params['rmse'])"
   ]
  },
  {
   "cell_type": "code",
   "execution_count": 28,
   "id": "4010336d",
   "metadata": {},
   "outputs": [
    {
     "name": "stdout",
     "output_type": "stream",
     "text": [
      "RMSE: 0.9962\n",
      "MAE:  0.7961\n"
     ]
    },
    {
     "data": {
      "text/plain": [
       "0.796111061064986"
      ]
     },
     "execution_count": 28,
     "metadata": {},
     "output_type": "execute_result"
    }
   ],
   "source": [
    "algo1 = SVD(n_factors= 120, n_epochs= 30, lr_all= 0.008, reg_all= 0.16)\n",
    "algo1.fit(train_sr)\n",
    "preds_final1 = algo1.test(test_sr)\n",
    "\n",
    "accuracy.rmse(preds_final1)\n",
    "accuracy.mae(preds_final1)"
   ]
  },
  {
   "cell_type": "code",
   "execution_count": 31,
   "id": "3ed03c2c",
   "metadata": {},
   "outputs": [
    {
     "name": "stdout",
     "output_type": "stream",
     "text": [
      "RMSE: 1.0004\n",
      "MAE:  0.8012\n"
     ]
    },
    {
     "data": {
      "text/plain": [
       "0.8012347588979716"
      ]
     },
     "execution_count": 31,
     "metadata": {},
     "output_type": "execute_result"
    }
   ],
   "source": [
    "preds_holdout1 = algo1.test(ho_sr)\n",
    "\n",
    "accuracy.rmse(preds_holdout1)\n",
    "accuracy.mae(preds_holdout1)"
   ]
  },
  {
   "cell_type": "code",
   "execution_count": 46,
   "id": "e5236bf7",
   "metadata": {},
   "outputs": [
    {
     "name": "stdout",
     "output_type": "stream",
     "text": [
      "RMSE: 1.0141\n",
      "MAE:  0.8096\n"
     ]
    },
    {
     "data": {
      "text/plain": [
       "0.8096008532349762"
      ]
     },
     "execution_count": 46,
     "metadata": {},
     "output_type": "execute_result"
    }
   ],
   "source": [
    "algo2 = SVD(n_factors= 120, n_epochs= 30)\n",
    "algo2.fit(train_sr)\n",
    "preds_final2 = algo2.test(test_sr)\n",
    "\n",
    "accuracy.rmse(preds_final2)\n",
    "accuracy.mae(preds_final2)"
   ]
  },
  {
   "cell_type": "code",
   "execution_count": 47,
   "id": "84699517",
   "metadata": {},
   "outputs": [
    {
     "data": {
      "application/javascript": [
       "$(document).ready(\n",
       "    function() {\n",
       "        function appendUniqueDiv(){\n",
       "            // append a div with our uuid so we can check that it's already\n",
       "            // been sent and avoid duplicates on page reload\n",
       "            var notifiedDiv = document.createElement(\"div\")\n",
       "            notifiedDiv.id = \"1bc27a0b-96b2-4fa2-b815-24ac1a116167\"\n",
       "            element.append(notifiedDiv)\n",
       "        }\n",
       "\n",
       "        // only send notifications if the pageload is complete; this will\n",
       "        // help stop extra notifications when a saved notebook is loaded,\n",
       "        // which during testing gives us state \"interactive\", not \"complete\"\n",
       "        if (document.readyState === 'complete') {\n",
       "            // check for the div that signifies that the notification\n",
       "            // was already sent\n",
       "            if (document.getElementById(\"1bc27a0b-96b2-4fa2-b815-24ac1a116167\") === null) {\n",
       "                var notificationPayload = {\"requireInteraction\": false, \"icon\": \"/static/base/images/favicon.ico\", \"body\": \"Cell execution has finished!\"};\n",
       "                if (Notification.permission !== 'denied') {\n",
       "                    if (Notification.permission !== 'granted') { \n",
       "                        Notification.requestPermission(function (permission) {\n",
       "                            if(!('permission' in Notification)) {\n",
       "                                Notification.permission = permission\n",
       "                            }\n",
       "                        })\n",
       "                    }\n",
       "                    if (Notification.permission === 'granted') {\n",
       "                    var notification = new Notification(\"Jupyter Notebook\", notificationPayload)\n",
       "                    appendUniqueDiv()\n",
       "                    notification.onclick = function () {\n",
       "                        window.focus();\n",
       "                        this.close();\n",
       "                        };\n",
       "                    } \n",
       "                }     \n",
       "            }\n",
       "        }\n",
       "    }\n",
       ")\n"
      ],
      "text/plain": [
       "<IPython.core.display.Javascript object>"
      ]
     },
     "metadata": {},
     "output_type": "display_data"
    }
   ],
   "source": [
    "%notify"
   ]
  },
  {
   "cell_type": "markdown",
   "id": "d2ee6765",
   "metadata": {},
   "source": [
    "# SVD++"
   ]
  },
  {
   "cell_type": "code",
   "execution_count": 38,
   "id": "6e594fd1",
   "metadata": {},
   "outputs": [
    {
     "name": "stdout",
     "output_type": "stream",
     "text": [
      "RMSE: 1.0090\n",
      "MAE:  0.8079\n"
     ]
    },
    {
     "data": {
      "text/plain": [
       "0.8078874856407008"
      ]
     },
     "execution_count": 38,
     "metadata": {},
     "output_type": "execute_result"
    }
   ],
   "source": [
    "svdpp = SVDpp()\n",
    "svdpp.fit(train_sr)\n",
    "preds_svdpp = svdpp.test(test_sr)\n",
    "\n",
    "accuracy.rmse(preds_svdpp)\n",
    "accuracy.mae(preds_svdpp)"
   ]
  },
  {
   "cell_type": "code",
   "execution_count": 40,
   "id": "d60cb28e",
   "metadata": {},
   "outputs": [
    {
     "name": "stderr",
     "output_type": "stream",
     "text": [
      "/opt/anaconda3/lib/python3.9/site-packages/joblib/externals/loky/process_executor.py:702: UserWarning: A worker stopped while some jobs were given to the executor. This can be caused by a too short worker timeout or by a memory leak.\n",
      "  warnings.warn(\n"
     ]
    },
    {
     "name": "stdout",
     "output_type": "stream",
     "text": [
      "0.9900869758257425\n",
      "{'n_factors': 50, 'n_epochs': 30, 'lr_all': 0.005, 'reg_all': 0.16}\n"
     ]
    }
   ],
   "source": [
    "#gridsearch params\n",
    "param_grid = {'n_factors':[50, 100, 120, 150, 200], \n",
    "              #default 100, quality of training set preds tends to grow as n grows\n",
    "              'n_epochs': [20, 30, 40, 60], #default 20\n",
    "              'lr_all': [0.005, 0.008, 0.01, 0.125], \n",
    "              #learning rate all params, default .005\n",
    "              'reg_all': [0.02, 0.08, 0.1, 0.12, 0.16]} \n",
    "                #reg term for all params, default .02\n",
    "\n",
    "\n",
    "#default measures = mae and rmse\n",
    "#default cv = 5\n",
    "#refit = false\n",
    "gridsearch = GridSearchCV(SVDpp,\n",
    "                  param_grid,\n",
    "                  n_jobs = -1)\n",
    "\n",
    "gridsearch.fit(train_data)\n",
    "\n",
    "print(gridsearch.best_score['rmse'])\n",
    "print(gridsearch.best_params['rmse'])"
   ]
  },
  {
   "cell_type": "code",
   "execution_count": 41,
   "id": "2405918c",
   "metadata": {},
   "outputs": [
    {
     "name": "stdout",
     "output_type": "stream",
     "text": [
      "0.9923626753625271\n",
      "{'n_factors': 150, 'n_epochs': 20, 'lr_all': 0.008, 'reg_all': 0.16}\n"
     ]
    }
   ],
   "source": [
    "param_grid = {'n_factors':[50, 100, 120, 150, 200], \n",
    "              #default 100, quality of training set preds tends to grow as n grows\n",
    "              'n_epochs': [20, 30, 40, 60], #default 20\n",
    "              'lr_all': [0.005, 0.008, 0.01, 0.125], \n",
    "              #learning rate all params, default .005\n",
    "              'reg_all': [0.02, 0.08, 0.1, 0.12, 0.16]} \n",
    "                #reg term for all params, default .02\n",
    "\n",
    "rs = RandomizedSearchCV(SVDpp,\n",
    "                        param_grid,\n",
    "                       n_jobs = -1,\n",
    "                       random_state=1) #defined above\n",
    "#n_iter default = 10\n",
    "#cv = 5\n",
    "rs.fit(train_data)\n",
    "\n",
    "print(rs.best_score['rmse'])\n",
    "print(rs.best_params['rmse'])"
   ]
  },
  {
   "cell_type": "code",
   "execution_count": 45,
   "id": "2bcc79ba",
   "metadata": {},
   "outputs": [
    {
     "name": "stdout",
     "output_type": "stream",
     "text": [
      "RMSE: 0.9955\n",
      "MAE:  0.7989\n"
     ]
    },
    {
     "data": {
      "text/plain": [
       "0.7988548684114468"
      ]
     },
     "execution_count": 45,
     "metadata": {},
     "output_type": "execute_result"
    }
   ],
   "source": [
    "svdpp = SVDpp(n_factors= 150, n_epochs= 20, lr_all= 0.008, reg_all=0.16)\n",
    "svdpp.fit(train_sr)\n",
    "preds_svdpp = svdpp.test(test_sr)\n",
    "\n",
    "accuracy.rmse(preds_svdpp)\n",
    "accuracy.mae(preds_svdpp)"
   ]
  },
  {
   "cell_type": "code",
   "execution_count": 48,
   "id": "dff5c425",
   "metadata": {},
   "outputs": [
    {
     "name": "stdout",
     "output_type": "stream",
     "text": [
      "RMSE: 1.0276\n",
      "MAE:  0.8276\n"
     ]
    },
    {
     "data": {
      "text/plain": [
       "0.8275835461546746"
      ]
     },
     "execution_count": 48,
     "metadata": {},
     "output_type": "execute_result"
    }
   ],
   "source": [
    "svdpp3 = SVDpp(n_factors= 150, n_epochs= 20)\n",
    "svdpp3.fit(train_sr)\n",
    "preds_svdpp3 = svdpp3.test(test_sr)\n",
    "\n",
    "accuracy.rmse(preds_svdpp3)\n",
    "accuracy.mae(preds_svdpp3)"
   ]
  },
  {
   "cell_type": "code",
   "execution_count": 42,
   "id": "643f8005",
   "metadata": {},
   "outputs": [
    {
     "data": {
      "application/javascript": [
       "$(document).ready(\n",
       "    function() {\n",
       "        function appendUniqueDiv(){\n",
       "            // append a div with our uuid so we can check that it's already\n",
       "            // been sent and avoid duplicates on page reload\n",
       "            var notifiedDiv = document.createElement(\"div\")\n",
       "            notifiedDiv.id = \"ad078a87-c116-4f85-af8f-19da8b2ee765\"\n",
       "            element.append(notifiedDiv)\n",
       "        }\n",
       "\n",
       "        // only send notifications if the pageload is complete; this will\n",
       "        // help stop extra notifications when a saved notebook is loaded,\n",
       "        // which during testing gives us state \"interactive\", not \"complete\"\n",
       "        if (document.readyState === 'complete') {\n",
       "            // check for the div that signifies that the notification\n",
       "            // was already sent\n",
       "            if (document.getElementById(\"ad078a87-c116-4f85-af8f-19da8b2ee765\") === null) {\n",
       "                var notificationPayload = {\"requireInteraction\": false, \"icon\": \"/static/base/images/favicon.ico\", \"body\": \"Cell execution has finished!\"};\n",
       "                if (Notification.permission !== 'denied') {\n",
       "                    if (Notification.permission !== 'granted') { \n",
       "                        Notification.requestPermission(function (permission) {\n",
       "                            if(!('permission' in Notification)) {\n",
       "                                Notification.permission = permission\n",
       "                            }\n",
       "                        })\n",
       "                    }\n",
       "                    if (Notification.permission === 'granted') {\n",
       "                    var notification = new Notification(\"Jupyter Notebook\", notificationPayload)\n",
       "                    appendUniqueDiv()\n",
       "                    notification.onclick = function () {\n",
       "                        window.focus();\n",
       "                        this.close();\n",
       "                        };\n",
       "                    } \n",
       "                }     \n",
       "            }\n",
       "        }\n",
       "    }\n",
       ")\n"
      ],
      "text/plain": [
       "<IPython.core.display.Javascript object>"
      ]
     },
     "metadata": {},
     "output_type": "display_data"
    }
   ],
   "source": [
    "%notify"
   ]
  },
  {
   "cell_type": "markdown",
   "id": "50a84e41",
   "metadata": {},
   "source": [
    "references: \n",
    "https://towardsdatascience.com/build-a-recommender-system-yelp-rating-prediction-example-collaborative-filtering-28a6e48a8cc\n",
    "\n",
    "surprise tutorialL\n",
    "https://towardsdatascience.com/building-and-testing-recommender-systems-with-surprise-step-by-step-d4ba702ef80b\n",
    "\n"
   ]
  },
  {
   "cell_type": "code",
   "execution_count": null,
   "id": "7c867cdd",
   "metadata": {},
   "outputs": [],
   "source": []
  }
 ],
 "metadata": {
  "kernelspec": {
   "display_name": "Python 3 (ipykernel)",
   "language": "python",
   "name": "python3"
  },
  "language_info": {
   "codemirror_mode": {
    "name": "ipython",
    "version": 3
   },
   "file_extension": ".py",
   "mimetype": "text/x-python",
   "name": "python",
   "nbconvert_exporter": "python",
   "pygments_lexer": "ipython3",
   "version": "3.9.13"
  }
 },
 "nbformat": 4,
 "nbformat_minor": 5
}
