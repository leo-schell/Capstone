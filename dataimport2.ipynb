{
 "cells": [
  {
   "cell_type": "markdown",
   "id": "e6d1ecd2",
   "metadata": {},
   "source": [
    "# Dataset 2\n",
    "\n",
    "moving to another notebook bc I'm getting impatient"
   ]
  },
  {
   "cell_type": "code",
   "execution_count": 18,
   "id": "980e5817",
   "metadata": {},
   "outputs": [
    {
     "ename": "SyntaxError",
     "evalue": "invalid syntax (3122122601.py, line 6)",
     "output_type": "error",
     "traceback": [
      "\u001b[0;36m  File \u001b[0;32m\"/var/folders/xc/4fn08svj2dgdk_3wj3xkp_rr0000gn/T/ipykernel_1763/3122122601.py\"\u001b[0;36m, line \u001b[0;32m6\u001b[0m\n\u001b[0;31m    pip install jupyternotify\u001b[0m\n\u001b[0m        ^\u001b[0m\n\u001b[0;31mSyntaxError\u001b[0m\u001b[0;31m:\u001b[0m invalid syntax\n"
     ]
    }
   ],
   "source": [
    "import pandas as pd\n",
    "import numpy as np\n",
    "import regex as re\n",
    "\n",
    "#notify me when a long running cell is complete\n",
    "\n"
   ]
  },
  {
   "cell_type": "code",
   "execution_count": 3,
   "id": "dabe9f23",
   "metadata": {},
   "outputs": [
    {
     "data": {
      "text/html": [
       "<div>\n",
       "<style scoped>\n",
       "    .dataframe tbody tr th:only-of-type {\n",
       "        vertical-align: middle;\n",
       "    }\n",
       "\n",
       "    .dataframe tbody tr th {\n",
       "        vertical-align: top;\n",
       "    }\n",
       "\n",
       "    .dataframe thead th {\n",
       "        text-align: right;\n",
       "    }\n",
       "</style>\n",
       "<table border=\"1\" class=\"dataframe\">\n",
       "  <thead>\n",
       "    <tr style=\"text-align: right;\">\n",
       "      <th></th>\n",
       "      <th>cust_id</th>\n",
       "      <th>rating</th>\n",
       "      <th>date</th>\n",
       "    </tr>\n",
       "  </thead>\n",
       "  <tbody>\n",
       "    <tr>\n",
       "      <th>0</th>\n",
       "      <td>4500:</td>\n",
       "      <td>NaN</td>\n",
       "      <td>NaN</td>\n",
       "    </tr>\n",
       "    <tr>\n",
       "      <th>1</th>\n",
       "      <td>2532865</td>\n",
       "      <td>4.0</td>\n",
       "      <td>2005-07-26</td>\n",
       "    </tr>\n",
       "    <tr>\n",
       "      <th>2</th>\n",
       "      <td>573364</td>\n",
       "      <td>3.0</td>\n",
       "      <td>2005-06-20</td>\n",
       "    </tr>\n",
       "    <tr>\n",
       "      <th>3</th>\n",
       "      <td>1696725</td>\n",
       "      <td>3.0</td>\n",
       "      <td>2004-02-27</td>\n",
       "    </tr>\n",
       "    <tr>\n",
       "      <th>4</th>\n",
       "      <td>1253431</td>\n",
       "      <td>3.0</td>\n",
       "      <td>2004-03-31</td>\n",
       "    </tr>\n",
       "  </tbody>\n",
       "</table>\n",
       "</div>"
      ],
      "text/plain": [
       "   cust_id  rating        date\n",
       "0    4500:     NaN         NaN\n",
       "1  2532865     4.0  2005-07-26\n",
       "2   573364     3.0  2005-06-20\n",
       "3  1696725     3.0  2004-02-27\n",
       "4  1253431     3.0  2004-03-31"
      ]
     },
     "execution_count": 3,
     "metadata": {},
     "output_type": "execute_result"
    }
   ],
   "source": [
    "# Reading 2nd dataset file\n",
    "dataset2 = pd.read_csv('data/combined_data_2.txt',header = None, names = ['cust_id', 'rating', 'date'])\n",
    "dataset2.head()"
   ]
  },
  {
   "cell_type": "code",
   "execution_count": 4,
   "id": "4582f2d7",
   "metadata": {},
   "outputs": [
    {
     "name": "stdout",
     "output_type": "stream",
     "text": [
      "<class 'pandas.core.frame.DataFrame'>\n",
      "RangeIndex: 26982302 entries, 0 to 26982301\n",
      "Data columns (total 3 columns):\n",
      " #   Column   Dtype  \n",
      "---  ------   -----  \n",
      " 0   cust_id  object \n",
      " 1   rating   float64\n",
      " 2   date     object \n",
      "dtypes: float64(1), object(2)\n",
      "memory usage: 617.6+ MB\n"
     ]
    }
   ],
   "source": [
    "dataset2.info()"
   ]
  },
  {
   "cell_type": "code",
   "execution_count": 5,
   "id": "39233c81",
   "metadata": {},
   "outputs": [
    {
     "data": {
      "text/html": [
       "<div>\n",
       "<style scoped>\n",
       "    .dataframe tbody tr th:only-of-type {\n",
       "        vertical-align: middle;\n",
       "    }\n",
       "\n",
       "    .dataframe tbody tr th {\n",
       "        vertical-align: top;\n",
       "    }\n",
       "\n",
       "    .dataframe thead th {\n",
       "        text-align: right;\n",
       "    }\n",
       "</style>\n",
       "<table border=\"1\" class=\"dataframe\">\n",
       "  <thead>\n",
       "    <tr style=\"text-align: right;\">\n",
       "      <th></th>\n",
       "      <th>cust_id</th>\n",
       "      <th>rating</th>\n",
       "      <th>date</th>\n",
       "    </tr>\n",
       "  </thead>\n",
       "  <tbody>\n",
       "    <tr>\n",
       "      <th>0</th>\n",
       "      <td>4500:</td>\n",
       "      <td>NaN</td>\n",
       "      <td>NaN</td>\n",
       "    </tr>\n",
       "    <tr>\n",
       "      <th>259</th>\n",
       "      <td>4501:</td>\n",
       "      <td>NaN</td>\n",
       "      <td>NaN</td>\n",
       "    </tr>\n",
       "    <tr>\n",
       "      <th>855</th>\n",
       "      <td>4502:</td>\n",
       "      <td>NaN</td>\n",
       "      <td>NaN</td>\n",
       "    </tr>\n",
       "    <tr>\n",
       "      <th>960</th>\n",
       "      <td>4503:</td>\n",
       "      <td>NaN</td>\n",
       "      <td>NaN</td>\n",
       "    </tr>\n",
       "    <tr>\n",
       "      <th>2740</th>\n",
       "      <td>4504:</td>\n",
       "      <td>NaN</td>\n",
       "      <td>NaN</td>\n",
       "    </tr>\n",
       "  </tbody>\n",
       "</table>\n",
       "</div>"
      ],
      "text/plain": [
       "     cust_id  rating date\n",
       "0      4500:     NaN  NaN\n",
       "259    4501:     NaN  NaN\n",
       "855    4502:     NaN  NaN\n",
       "960    4503:     NaN  NaN\n",
       "2740   4504:     NaN  NaN"
      ]
     },
     "execution_count": 5,
     "metadata": {},
     "output_type": "execute_result"
    }
   ],
   "source": [
    "# only movie id vals\n",
    "\n",
    "mid_index2 = pd.DataFrame(dataset2[(dataset2['rating'].isnull())])\n",
    "mid_index2.head()"
   ]
  },
  {
   "cell_type": "code",
   "execution_count": 6,
   "id": "6062a3f6",
   "metadata": {},
   "outputs": [
    {
     "data": {
      "text/html": [
       "<div>\n",
       "<style scoped>\n",
       "    .dataframe tbody tr th:only-of-type {\n",
       "        vertical-align: middle;\n",
       "    }\n",
       "\n",
       "    .dataframe tbody tr th {\n",
       "        vertical-align: top;\n",
       "    }\n",
       "\n",
       "    .dataframe thead th {\n",
       "        text-align: right;\n",
       "    }\n",
       "</style>\n",
       "<table border=\"1\" class=\"dataframe\">\n",
       "  <thead>\n",
       "    <tr style=\"text-align: right;\">\n",
       "      <th></th>\n",
       "      <th>movie_id</th>\n",
       "      <th>rating</th>\n",
       "      <th>date</th>\n",
       "    </tr>\n",
       "  </thead>\n",
       "  <tbody>\n",
       "    <tr>\n",
       "      <th>0</th>\n",
       "      <td>4500:</td>\n",
       "      <td>NaN</td>\n",
       "      <td>NaN</td>\n",
       "    </tr>\n",
       "    <tr>\n",
       "      <th>259</th>\n",
       "      <td>4501:</td>\n",
       "      <td>NaN</td>\n",
       "      <td>NaN</td>\n",
       "    </tr>\n",
       "    <tr>\n",
       "      <th>855</th>\n",
       "      <td>4502:</td>\n",
       "      <td>NaN</td>\n",
       "      <td>NaN</td>\n",
       "    </tr>\n",
       "    <tr>\n",
       "      <th>960</th>\n",
       "      <td>4503:</td>\n",
       "      <td>NaN</td>\n",
       "      <td>NaN</td>\n",
       "    </tr>\n",
       "    <tr>\n",
       "      <th>2740</th>\n",
       "      <td>4504:</td>\n",
       "      <td>NaN</td>\n",
       "      <td>NaN</td>\n",
       "    </tr>\n",
       "  </tbody>\n",
       "</table>\n",
       "</div>"
      ],
      "text/plain": [
       "     movie_id  rating date\n",
       "0       4500:     NaN  NaN\n",
       "259     4501:     NaN  NaN\n",
       "855     4502:     NaN  NaN\n",
       "960     4503:     NaN  NaN\n",
       "2740    4504:     NaN  NaN"
      ]
     },
     "execution_count": 6,
     "metadata": {},
     "output_type": "execute_result"
    }
   ],
   "source": [
    "#rename movie index\n",
    "mid_index2 = mid_index2.rename(columns = {'cust_id': 'movie_id'})\n",
    "mid_index2.head()"
   ]
  },
  {
   "cell_type": "code",
   "execution_count": 2,
   "id": "e7f98243",
   "metadata": {},
   "outputs": [],
   "source": [
    "#drop movieid punctuation\n",
    "def drop_punctuation(df):\n",
    "    midnew = []\n",
    "    for index, row in df.iterrows():\n",
    "        mid1 = str(row['movie_id'])\n",
    "        regex = r\"[^\\w\\s]\"\n",
    "        mid1 = re.sub(regex, '', mid1)\n",
    "        midnew.append(mid1)\n",
    "        \n",
    "    df['mid'] = midnew\n",
    "\n",
    "    return df"
   ]
  },
  {
   "cell_type": "code",
   "execution_count": 13,
   "id": "d682e0f4",
   "metadata": {},
   "outputs": [
    {
     "data": {
      "text/plain": [
       "'4500:'"
      ]
     },
     "execution_count": 13,
     "metadata": {},
     "output_type": "execute_result"
    }
   ],
   "source": [
    "#test = mid_index2['movie_id'][0]\n",
    "#test"
   ]
  },
  {
   "cell_type": "code",
   "execution_count": 15,
   "id": "261be647",
   "metadata": {},
   "outputs": [
    {
     "data": {
      "text/plain": [
       "'4500'"
      ]
     },
     "execution_count": 15,
     "metadata": {},
     "output_type": "execute_result"
    }
   ],
   "source": [
    "#test\n",
    "#regex = r\"[^\\w\\s]\"\n",
    "#test = re.sub(regex, '', test)\n",
    "#test"
   ]
  },
  {
   "cell_type": "code",
   "execution_count": 21,
   "id": "92bc5a23",
   "metadata": {},
   "outputs": [
    {
     "data": {
      "text/html": [
       "<div>\n",
       "<style scoped>\n",
       "    .dataframe tbody tr th:only-of-type {\n",
       "        vertical-align: middle;\n",
       "    }\n",
       "\n",
       "    .dataframe tbody tr th {\n",
       "        vertical-align: top;\n",
       "    }\n",
       "\n",
       "    .dataframe thead th {\n",
       "        text-align: right;\n",
       "    }\n",
       "</style>\n",
       "<table border=\"1\" class=\"dataframe\">\n",
       "  <thead>\n",
       "    <tr style=\"text-align: right;\">\n",
       "      <th></th>\n",
       "      <th>mid</th>\n",
       "    </tr>\n",
       "  </thead>\n",
       "  <tbody>\n",
       "    <tr>\n",
       "      <th>0</th>\n",
       "      <td>4500</td>\n",
       "    </tr>\n",
       "    <tr>\n",
       "      <th>259</th>\n",
       "      <td>4501</td>\n",
       "    </tr>\n",
       "    <tr>\n",
       "      <th>855</th>\n",
       "      <td>4502</td>\n",
       "    </tr>\n",
       "    <tr>\n",
       "      <th>960</th>\n",
       "      <td>4503</td>\n",
       "    </tr>\n",
       "    <tr>\n",
       "      <th>2740</th>\n",
       "      <td>4504</td>\n",
       "    </tr>\n",
       "  </tbody>\n",
       "</table>\n",
       "</div>"
      ],
      "text/plain": [
       "       mid\n",
       "0     4500\n",
       "259   4501\n",
       "855   4502\n",
       "960   4503\n",
       "2740  4504"
      ]
     },
     "execution_count": 21,
     "metadata": {},
     "output_type": "execute_result"
    }
   ],
   "source": [
    "#drop punctuation, drop other cols\n",
    "drop_punctuation(mid_index2)\n",
    "mid_index2 = mid_index2[['mid']]\n",
    "mid_index2.head()"
   ]
  },
  {
   "cell_type": "code",
   "execution_count": 23,
   "id": "fc41205c",
   "metadata": {},
   "outputs": [
    {
     "data": {
      "text/plain": [
       "(4711, 1)"
      ]
     },
     "execution_count": 23,
     "metadata": {},
     "output_type": "execute_result"
    }
   ],
   "source": [
    "mid_index2.shape"
   ]
  },
  {
   "cell_type": "code",
   "execution_count": 24,
   "id": "d1b9fc89",
   "metadata": {},
   "outputs": [
    {
     "data": {
      "text/html": [
       "<div>\n",
       "<style scoped>\n",
       "    .dataframe tbody tr th:only-of-type {\n",
       "        vertical-align: middle;\n",
       "    }\n",
       "\n",
       "    .dataframe tbody tr th {\n",
       "        vertical-align: top;\n",
       "    }\n",
       "\n",
       "    .dataframe thead th {\n",
       "        text-align: right;\n",
       "    }\n",
       "</style>\n",
       "<table border=\"1\" class=\"dataframe\">\n",
       "  <thead>\n",
       "    <tr style=\"text-align: right;\">\n",
       "      <th></th>\n",
       "      <th>cust_id</th>\n",
       "      <th>rating</th>\n",
       "      <th>date</th>\n",
       "    </tr>\n",
       "  </thead>\n",
       "  <tbody>\n",
       "    <tr>\n",
       "      <th>0</th>\n",
       "      <td>4500:</td>\n",
       "      <td>NaN</td>\n",
       "      <td>NaN</td>\n",
       "    </tr>\n",
       "    <tr>\n",
       "      <th>1</th>\n",
       "      <td>2532865</td>\n",
       "      <td>4.0</td>\n",
       "      <td>2005-07-26</td>\n",
       "    </tr>\n",
       "    <tr>\n",
       "      <th>2</th>\n",
       "      <td>573364</td>\n",
       "      <td>3.0</td>\n",
       "      <td>2005-06-20</td>\n",
       "    </tr>\n",
       "    <tr>\n",
       "      <th>3</th>\n",
       "      <td>1696725</td>\n",
       "      <td>3.0</td>\n",
       "      <td>2004-02-27</td>\n",
       "    </tr>\n",
       "    <tr>\n",
       "      <th>4</th>\n",
       "      <td>1253431</td>\n",
       "      <td>3.0</td>\n",
       "      <td>2004-03-31</td>\n",
       "    </tr>\n",
       "  </tbody>\n",
       "</table>\n",
       "</div>"
      ],
      "text/plain": [
       "   cust_id  rating        date\n",
       "0    4500:     NaN         NaN\n",
       "1  2532865     4.0  2005-07-26\n",
       "2   573364     3.0  2005-06-20\n",
       "3  1696725     3.0  2004-02-27\n",
       "4  1253431     3.0  2004-03-31"
      ]
     },
     "execution_count": 24,
     "metadata": {},
     "output_type": "execute_result"
    }
   ],
   "source": [
    "dataset2.head()"
   ]
  },
  {
   "cell_type": "code",
   "execution_count": 26,
   "id": "33cc6ae6",
   "metadata": {},
   "outputs": [
    {
     "data": {
      "text/html": [
       "<div>\n",
       "<style scoped>\n",
       "    .dataframe tbody tr th:only-of-type {\n",
       "        vertical-align: middle;\n",
       "    }\n",
       "\n",
       "    .dataframe tbody tr th {\n",
       "        vertical-align: top;\n",
       "    }\n",
       "\n",
       "    .dataframe thead th {\n",
       "        text-align: right;\n",
       "    }\n",
       "</style>\n",
       "<table border=\"1\" class=\"dataframe\">\n",
       "  <thead>\n",
       "    <tr style=\"text-align: right;\">\n",
       "      <th></th>\n",
       "      <th>cust_id</th>\n",
       "      <th>rating</th>\n",
       "      <th>date</th>\n",
       "      <th>mid</th>\n",
       "    </tr>\n",
       "  </thead>\n",
       "  <tbody>\n",
       "    <tr>\n",
       "      <th>0</th>\n",
       "      <td>4500:</td>\n",
       "      <td>NaN</td>\n",
       "      <td>NaN</td>\n",
       "      <td>4500</td>\n",
       "    </tr>\n",
       "    <tr>\n",
       "      <th>1</th>\n",
       "      <td>2532865</td>\n",
       "      <td>4.0</td>\n",
       "      <td>2005-07-26</td>\n",
       "      <td>NaN</td>\n",
       "    </tr>\n",
       "    <tr>\n",
       "      <th>2</th>\n",
       "      <td>573364</td>\n",
       "      <td>3.0</td>\n",
       "      <td>2005-06-20</td>\n",
       "      <td>NaN</td>\n",
       "    </tr>\n",
       "    <tr>\n",
       "      <th>3</th>\n",
       "      <td>1696725</td>\n",
       "      <td>3.0</td>\n",
       "      <td>2004-02-27</td>\n",
       "      <td>NaN</td>\n",
       "    </tr>\n",
       "    <tr>\n",
       "      <th>4</th>\n",
       "      <td>1253431</td>\n",
       "      <td>3.0</td>\n",
       "      <td>2004-03-31</td>\n",
       "      <td>NaN</td>\n",
       "    </tr>\n",
       "  </tbody>\n",
       "</table>\n",
       "</div>"
      ],
      "text/plain": [
       "   cust_id  rating        date   mid\n",
       "0    4500:     NaN         NaN  4500\n",
       "1  2532865     4.0  2005-07-26   NaN\n",
       "2   573364     3.0  2005-06-20   NaN\n",
       "3  1696725     3.0  2004-02-27   NaN\n",
       "4  1253431     3.0  2004-03-31   NaN"
      ]
     },
     "execution_count": 26,
     "metadata": {},
     "output_type": "execute_result"
    }
   ],
   "source": [
    "#concatenate the full dataset with midindex rows\n",
    "d2 = pd.concat([dataset2, mid_index2], axis = 1)\n",
    "d2.head()"
   ]
  },
  {
   "cell_type": "code",
   "execution_count": 27,
   "id": "1b941e43",
   "metadata": {},
   "outputs": [
    {
     "data": {
      "text/plain": [
       "cust_id    4504:\n",
       "rating       NaN\n",
       "date         NaN\n",
       "mid         4504\n",
       "Name: 2740, dtype: object"
      ]
     },
     "execution_count": 27,
     "metadata": {},
     "output_type": "execute_result"
    }
   ],
   "source": [
    "#checking for mid 4504\n",
    "d2.iloc[2740]"
   ]
  },
  {
   "cell_type": "code",
   "execution_count": 28,
   "id": "64517a9b",
   "metadata": {},
   "outputs": [
    {
     "data": {
      "text/html": [
       "<div>\n",
       "<style scoped>\n",
       "    .dataframe tbody tr th:only-of-type {\n",
       "        vertical-align: middle;\n",
       "    }\n",
       "\n",
       "    .dataframe tbody tr th {\n",
       "        vertical-align: top;\n",
       "    }\n",
       "\n",
       "    .dataframe thead th {\n",
       "        text-align: right;\n",
       "    }\n",
       "</style>\n",
       "<table border=\"1\" class=\"dataframe\">\n",
       "  <thead>\n",
       "    <tr style=\"text-align: right;\">\n",
       "      <th></th>\n",
       "      <th>mid</th>\n",
       "      <th>cust_id</th>\n",
       "      <th>rating</th>\n",
       "      <th>date</th>\n",
       "    </tr>\n",
       "  </thead>\n",
       "  <tbody>\n",
       "    <tr>\n",
       "      <th>0</th>\n",
       "      <td>4500</td>\n",
       "      <td>4500:</td>\n",
       "      <td>NaN</td>\n",
       "      <td>NaN</td>\n",
       "    </tr>\n",
       "    <tr>\n",
       "      <th>1</th>\n",
       "      <td>NaN</td>\n",
       "      <td>2532865</td>\n",
       "      <td>4.0</td>\n",
       "      <td>2005-07-26</td>\n",
       "    </tr>\n",
       "    <tr>\n",
       "      <th>2</th>\n",
       "      <td>NaN</td>\n",
       "      <td>573364</td>\n",
       "      <td>3.0</td>\n",
       "      <td>2005-06-20</td>\n",
       "    </tr>\n",
       "    <tr>\n",
       "      <th>3</th>\n",
       "      <td>NaN</td>\n",
       "      <td>1696725</td>\n",
       "      <td>3.0</td>\n",
       "      <td>2004-02-27</td>\n",
       "    </tr>\n",
       "    <tr>\n",
       "      <th>4</th>\n",
       "      <td>NaN</td>\n",
       "      <td>1253431</td>\n",
       "      <td>3.0</td>\n",
       "      <td>2004-03-31</td>\n",
       "    </tr>\n",
       "  </tbody>\n",
       "</table>\n",
       "</div>"
      ],
      "text/plain": [
       "    mid  cust_id  rating        date\n",
       "0  4500    4500:     NaN         NaN\n",
       "1   NaN  2532865     4.0  2005-07-26\n",
       "2   NaN   573364     3.0  2005-06-20\n",
       "3   NaN  1696725     3.0  2004-02-27\n",
       "4   NaN  1253431     3.0  2004-03-31"
      ]
     },
     "execution_count": 28,
     "metadata": {},
     "output_type": "execute_result"
    }
   ],
   "source": [
    "d2 = d2.reindex(['mid', 'cust_id', 'rating', 'date'], axis= 1)\n",
    "d2.head()"
   ]
  },
  {
   "cell_type": "code",
   "execution_count": 3,
   "id": "265dbc58",
   "metadata": {},
   "outputs": [],
   "source": [
    "def fill_mids(df, column_name):\n",
    "    \"\"\"\n",
    "    iterates through df col\n",
    "    replaces nan vals with movie id until it reaches a new movie id\n",
    "    \"\"\"\n",
    "    # Find the first non-NaN value in the column\n",
    "    first_value = df[column_name].dropna().iloc[0]\n",
    "    \n",
    "    # Iterate through the column, filling NaNs with the previous non-NaN value\n",
    "    for i in range(len(df)):\n",
    "        if pd.isna(df.loc[i, column_name]):\n",
    "            df.loc[i, column_name] = first_value\n",
    "        else:\n",
    "            first_value = df.loc[i, column_name]\n",
    "            if pd.isna(first_value):\n",
    "                first_value = df[column_name].dropna().iloc[0]"
   ]
  },
  {
   "cell_type": "code",
   "execution_count": 32,
   "id": "3678b0ce",
   "metadata": {},
   "outputs": [
    {
     "data": {
      "text/html": [
       "<div>\n",
       "<style scoped>\n",
       "    .dataframe tbody tr th:only-of-type {\n",
       "        vertical-align: middle;\n",
       "    }\n",
       "\n",
       "    .dataframe tbody tr th {\n",
       "        vertical-align: top;\n",
       "    }\n",
       "\n",
       "    .dataframe thead th {\n",
       "        text-align: right;\n",
       "    }\n",
       "</style>\n",
       "<table border=\"1\" class=\"dataframe\">\n",
       "  <thead>\n",
       "    <tr style=\"text-align: right;\">\n",
       "      <th></th>\n",
       "      <th>mid</th>\n",
       "      <th>cust_id</th>\n",
       "      <th>rating</th>\n",
       "      <th>date</th>\n",
       "    </tr>\n",
       "  </thead>\n",
       "  <tbody>\n",
       "    <tr>\n",
       "      <th>0</th>\n",
       "      <td>4500</td>\n",
       "      <td>4500:</td>\n",
       "      <td>NaN</td>\n",
       "      <td>NaN</td>\n",
       "    </tr>\n",
       "    <tr>\n",
       "      <th>1</th>\n",
       "      <td>4500</td>\n",
       "      <td>2532865</td>\n",
       "      <td>4.0</td>\n",
       "      <td>2005-07-26</td>\n",
       "    </tr>\n",
       "    <tr>\n",
       "      <th>2</th>\n",
       "      <td>4500</td>\n",
       "      <td>573364</td>\n",
       "      <td>3.0</td>\n",
       "      <td>2005-06-20</td>\n",
       "    </tr>\n",
       "    <tr>\n",
       "      <th>3</th>\n",
       "      <td>4500</td>\n",
       "      <td>1696725</td>\n",
       "      <td>3.0</td>\n",
       "      <td>2004-02-27</td>\n",
       "    </tr>\n",
       "    <tr>\n",
       "      <th>4</th>\n",
       "      <td>4500</td>\n",
       "      <td>1253431</td>\n",
       "      <td>3.0</td>\n",
       "      <td>2004-03-31</td>\n",
       "    </tr>\n",
       "  </tbody>\n",
       "</table>\n",
       "</div>"
      ],
      "text/plain": [
       "    mid  cust_id  rating        date\n",
       "0  4500    4500:     NaN         NaN\n",
       "1  4500  2532865     4.0  2005-07-26\n",
       "2  4500   573364     3.0  2005-06-20\n",
       "3  4500  1696725     3.0  2004-02-27\n",
       "4  4500  1253431     3.0  2004-03-31"
      ]
     },
     "execution_count": 32,
     "metadata": {},
     "output_type": "execute_result"
    }
   ],
   "source": [
    "fill_mids(d2, 'mid')\n",
    "d2.head()"
   ]
  },
  {
   "cell_type": "code",
   "execution_count": 34,
   "id": "86dca3aa",
   "metadata": {},
   "outputs": [
    {
     "data": {
      "text/plain": [
       "mid         4503\n",
       "cust_id    4503:\n",
       "rating       NaN\n",
       "date         NaN\n",
       "Name: 960, dtype: object"
      ]
     },
     "execution_count": 34,
     "metadata": {},
     "output_type": "execute_result"
    }
   ],
   "source": [
    "d2.iloc[960]"
   ]
  },
  {
   "cell_type": "code",
   "execution_count": 36,
   "id": "7f3da69c",
   "metadata": {},
   "outputs": [
    {
     "data": {
      "text/plain": [
       "4711"
      ]
     },
     "execution_count": 36,
     "metadata": {},
     "output_type": "execute_result"
    }
   ],
   "source": [
    "#removing cust id with movie ids in them\n",
    "\n",
    "d2['cust_id'].str.contains(':').sum()"
   ]
  },
  {
   "cell_type": "code",
   "execution_count": 38,
   "id": "a4cfb496",
   "metadata": {},
   "outputs": [
    {
     "data": {
      "text/plain": [
       "(26977591, 4)"
      ]
     },
     "execution_count": 38,
     "metadata": {},
     "output_type": "execute_result"
    }
   ],
   "source": [
    "d2 = d2[~d2['cust_id'].str.contains(':')]\n",
    "d2.shape"
   ]
  },
  {
   "cell_type": "code",
   "execution_count": 39,
   "id": "43594f46",
   "metadata": {},
   "outputs": [
    {
     "name": "stdout",
     "output_type": "stream",
     "text": [
      "<class 'pandas.core.frame.DataFrame'>\n",
      "Index: 26977591 entries, 1 to 26982301\n",
      "Data columns (total 4 columns):\n",
      " #   Column   Dtype         \n",
      "---  ------   -----         \n",
      " 0   mid      object        \n",
      " 1   cust_id  object        \n",
      " 2   rating   float64       \n",
      " 3   date     datetime64[ns]\n",
      "dtypes: datetime64[ns](1), float64(1), object(2)\n",
      "memory usage: 1.0+ GB\n"
     ]
    },
    {
     "name": "stderr",
     "output_type": "stream",
     "text": [
      "/var/folders/xc/4fn08svj2dgdk_3wj3xkp_rr0000gn/T/ipykernel_29698/3053115047.py:1: SettingWithCopyWarning: \n",
      "A value is trying to be set on a copy of a slice from a DataFrame.\n",
      "Try using .loc[row_indexer,col_indexer] = value instead\n",
      "\n",
      "See the caveats in the documentation: https://pandas.pydata.org/pandas-docs/stable/user_guide/indexing.html#returning-a-view-versus-a-copy\n",
      "  d2['date'] = d2['date'].astype('datetime64[ns]')\n"
     ]
    }
   ],
   "source": [
    "d2['date'] = d2['date'].astype('datetime64[ns]')\n",
    "d2.info()"
   ]
  },
  {
   "cell_type": "code",
   "execution_count": 40,
   "id": "eb627e0d",
   "metadata": {},
   "outputs": [
    {
     "name": "stderr",
     "output_type": "stream",
     "text": [
      "/var/folders/xc/4fn08svj2dgdk_3wj3xkp_rr0000gn/T/ipykernel_29698/2478966670.py:1: SettingWithCopyWarning: \n",
      "A value is trying to be set on a copy of a slice from a DataFrame.\n",
      "Try using .loc[row_indexer,col_indexer] = value instead\n",
      "\n",
      "See the caveats in the documentation: https://pandas.pydata.org/pandas-docs/stable/user_guide/indexing.html#returning-a-view-versus-a-copy\n",
      "  d2['year'] = d2['date'].dt.year\n"
     ]
    },
    {
     "data": {
      "text/html": [
       "<div>\n",
       "<style scoped>\n",
       "    .dataframe tbody tr th:only-of-type {\n",
       "        vertical-align: middle;\n",
       "    }\n",
       "\n",
       "    .dataframe tbody tr th {\n",
       "        vertical-align: top;\n",
       "    }\n",
       "\n",
       "    .dataframe thead th {\n",
       "        text-align: right;\n",
       "    }\n",
       "</style>\n",
       "<table border=\"1\" class=\"dataframe\">\n",
       "  <thead>\n",
       "    <tr style=\"text-align: right;\">\n",
       "      <th></th>\n",
       "      <th>mid</th>\n",
       "      <th>cust_id</th>\n",
       "      <th>rating</th>\n",
       "      <th>date</th>\n",
       "      <th>year</th>\n",
       "    </tr>\n",
       "  </thead>\n",
       "  <tbody>\n",
       "    <tr>\n",
       "      <th>1</th>\n",
       "      <td>4500</td>\n",
       "      <td>2532865</td>\n",
       "      <td>4.0</td>\n",
       "      <td>2005-07-26</td>\n",
       "      <td>2005</td>\n",
       "    </tr>\n",
       "    <tr>\n",
       "      <th>2</th>\n",
       "      <td>4500</td>\n",
       "      <td>573364</td>\n",
       "      <td>3.0</td>\n",
       "      <td>2005-06-20</td>\n",
       "      <td>2005</td>\n",
       "    </tr>\n",
       "    <tr>\n",
       "      <th>3</th>\n",
       "      <td>4500</td>\n",
       "      <td>1696725</td>\n",
       "      <td>3.0</td>\n",
       "      <td>2004-02-27</td>\n",
       "      <td>2004</td>\n",
       "    </tr>\n",
       "    <tr>\n",
       "      <th>4</th>\n",
       "      <td>4500</td>\n",
       "      <td>1253431</td>\n",
       "      <td>3.0</td>\n",
       "      <td>2004-03-31</td>\n",
       "      <td>2004</td>\n",
       "    </tr>\n",
       "    <tr>\n",
       "      <th>5</th>\n",
       "      <td>4500</td>\n",
       "      <td>1265574</td>\n",
       "      <td>2.0</td>\n",
       "      <td>2003-09-01</td>\n",
       "      <td>2003</td>\n",
       "    </tr>\n",
       "  </tbody>\n",
       "</table>\n",
       "</div>"
      ],
      "text/plain": [
       "    mid  cust_id  rating       date  year\n",
       "1  4500  2532865     4.0 2005-07-26  2005\n",
       "2  4500   573364     3.0 2005-06-20  2005\n",
       "3  4500  1696725     3.0 2004-02-27  2004\n",
       "4  4500  1253431     3.0 2004-03-31  2004\n",
       "5  4500  1265574     2.0 2003-09-01  2003"
      ]
     },
     "execution_count": 40,
     "metadata": {},
     "output_type": "execute_result"
    }
   ],
   "source": [
    "d2['year'] = d2['date'].dt.year\n",
    "d2.head()"
   ]
  },
  {
   "cell_type": "code",
   "execution_count": 41,
   "id": "07e4ad2f",
   "metadata": {},
   "outputs": [
    {
     "name": "stderr",
     "output_type": "stream",
     "text": [
      "/var/folders/xc/4fn08svj2dgdk_3wj3xkp_rr0000gn/T/ipykernel_29698/2999920986.py:1: SettingWithCopyWarning: \n",
      "A value is trying to be set on a copy of a slice from a DataFrame.\n",
      "Try using .loc[row_indexer,col_indexer] = value instead\n",
      "\n",
      "See the caveats in the documentation: https://pandas.pydata.org/pandas-docs/stable/user_guide/indexing.html#returning-a-view-versus-a-copy\n",
      "  d2['month'] = d2['date'].dt.month\n"
     ]
    },
    {
     "data": {
      "text/html": [
       "<div>\n",
       "<style scoped>\n",
       "    .dataframe tbody tr th:only-of-type {\n",
       "        vertical-align: middle;\n",
       "    }\n",
       "\n",
       "    .dataframe tbody tr th {\n",
       "        vertical-align: top;\n",
       "    }\n",
       "\n",
       "    .dataframe thead th {\n",
       "        text-align: right;\n",
       "    }\n",
       "</style>\n",
       "<table border=\"1\" class=\"dataframe\">\n",
       "  <thead>\n",
       "    <tr style=\"text-align: right;\">\n",
       "      <th></th>\n",
       "      <th>mid</th>\n",
       "      <th>cust_id</th>\n",
       "      <th>rating</th>\n",
       "      <th>date</th>\n",
       "      <th>year</th>\n",
       "      <th>month</th>\n",
       "    </tr>\n",
       "  </thead>\n",
       "  <tbody>\n",
       "    <tr>\n",
       "      <th>1</th>\n",
       "      <td>4500</td>\n",
       "      <td>2532865</td>\n",
       "      <td>4.0</td>\n",
       "      <td>2005-07-26</td>\n",
       "      <td>2005</td>\n",
       "      <td>7</td>\n",
       "    </tr>\n",
       "    <tr>\n",
       "      <th>2</th>\n",
       "      <td>4500</td>\n",
       "      <td>573364</td>\n",
       "      <td>3.0</td>\n",
       "      <td>2005-06-20</td>\n",
       "      <td>2005</td>\n",
       "      <td>6</td>\n",
       "    </tr>\n",
       "    <tr>\n",
       "      <th>3</th>\n",
       "      <td>4500</td>\n",
       "      <td>1696725</td>\n",
       "      <td>3.0</td>\n",
       "      <td>2004-02-27</td>\n",
       "      <td>2004</td>\n",
       "      <td>2</td>\n",
       "    </tr>\n",
       "    <tr>\n",
       "      <th>4</th>\n",
       "      <td>4500</td>\n",
       "      <td>1253431</td>\n",
       "      <td>3.0</td>\n",
       "      <td>2004-03-31</td>\n",
       "      <td>2004</td>\n",
       "      <td>3</td>\n",
       "    </tr>\n",
       "    <tr>\n",
       "      <th>5</th>\n",
       "      <td>4500</td>\n",
       "      <td>1265574</td>\n",
       "      <td>2.0</td>\n",
       "      <td>2003-09-01</td>\n",
       "      <td>2003</td>\n",
       "      <td>9</td>\n",
       "    </tr>\n",
       "  </tbody>\n",
       "</table>\n",
       "</div>"
      ],
      "text/plain": [
       "    mid  cust_id  rating       date  year  month\n",
       "1  4500  2532865     4.0 2005-07-26  2005      7\n",
       "2  4500   573364     3.0 2005-06-20  2005      6\n",
       "3  4500  1696725     3.0 2004-02-27  2004      2\n",
       "4  4500  1253431     3.0 2004-03-31  2004      3\n",
       "5  4500  1265574     2.0 2003-09-01  2003      9"
      ]
     },
     "execution_count": 41,
     "metadata": {},
     "output_type": "execute_result"
    }
   ],
   "source": [
    "d2['month'] = d2['date'].dt.month\n",
    "d2.head()"
   ]
  },
  {
   "cell_type": "code",
   "execution_count": 42,
   "id": "cd7c035c",
   "metadata": {},
   "outputs": [
    {
     "name": "stderr",
     "output_type": "stream",
     "text": [
      "/var/folders/xc/4fn08svj2dgdk_3wj3xkp_rr0000gn/T/ipykernel_29698/340210831.py:1: SettingWithCopyWarning: \n",
      "A value is trying to be set on a copy of a slice from a DataFrame.\n",
      "Try using .loc[row_indexer,col_indexer] = value instead\n",
      "\n",
      "See the caveats in the documentation: https://pandas.pydata.org/pandas-docs/stable/user_guide/indexing.html#returning-a-view-versus-a-copy\n",
      "  d2['day'] = d2['date'].dt.day\n"
     ]
    },
    {
     "data": {
      "text/html": [
       "<div>\n",
       "<style scoped>\n",
       "    .dataframe tbody tr th:only-of-type {\n",
       "        vertical-align: middle;\n",
       "    }\n",
       "\n",
       "    .dataframe tbody tr th {\n",
       "        vertical-align: top;\n",
       "    }\n",
       "\n",
       "    .dataframe thead th {\n",
       "        text-align: right;\n",
       "    }\n",
       "</style>\n",
       "<table border=\"1\" class=\"dataframe\">\n",
       "  <thead>\n",
       "    <tr style=\"text-align: right;\">\n",
       "      <th></th>\n",
       "      <th>mid</th>\n",
       "      <th>cust_id</th>\n",
       "      <th>rating</th>\n",
       "      <th>date</th>\n",
       "      <th>year</th>\n",
       "      <th>month</th>\n",
       "      <th>day</th>\n",
       "    </tr>\n",
       "  </thead>\n",
       "  <tbody>\n",
       "    <tr>\n",
       "      <th>1</th>\n",
       "      <td>4500</td>\n",
       "      <td>2532865</td>\n",
       "      <td>4.0</td>\n",
       "      <td>2005-07-26</td>\n",
       "      <td>2005</td>\n",
       "      <td>7</td>\n",
       "      <td>26</td>\n",
       "    </tr>\n",
       "    <tr>\n",
       "      <th>2</th>\n",
       "      <td>4500</td>\n",
       "      <td>573364</td>\n",
       "      <td>3.0</td>\n",
       "      <td>2005-06-20</td>\n",
       "      <td>2005</td>\n",
       "      <td>6</td>\n",
       "      <td>20</td>\n",
       "    </tr>\n",
       "    <tr>\n",
       "      <th>3</th>\n",
       "      <td>4500</td>\n",
       "      <td>1696725</td>\n",
       "      <td>3.0</td>\n",
       "      <td>2004-02-27</td>\n",
       "      <td>2004</td>\n",
       "      <td>2</td>\n",
       "      <td>27</td>\n",
       "    </tr>\n",
       "    <tr>\n",
       "      <th>4</th>\n",
       "      <td>4500</td>\n",
       "      <td>1253431</td>\n",
       "      <td>3.0</td>\n",
       "      <td>2004-03-31</td>\n",
       "      <td>2004</td>\n",
       "      <td>3</td>\n",
       "      <td>31</td>\n",
       "    </tr>\n",
       "    <tr>\n",
       "      <th>5</th>\n",
       "      <td>4500</td>\n",
       "      <td>1265574</td>\n",
       "      <td>2.0</td>\n",
       "      <td>2003-09-01</td>\n",
       "      <td>2003</td>\n",
       "      <td>9</td>\n",
       "      <td>1</td>\n",
       "    </tr>\n",
       "  </tbody>\n",
       "</table>\n",
       "</div>"
      ],
      "text/plain": [
       "    mid  cust_id  rating       date  year  month  day\n",
       "1  4500  2532865     4.0 2005-07-26  2005      7   26\n",
       "2  4500   573364     3.0 2005-06-20  2005      6   20\n",
       "3  4500  1696725     3.0 2004-02-27  2004      2   27\n",
       "4  4500  1253431     3.0 2004-03-31  2004      3   31\n",
       "5  4500  1265574     2.0 2003-09-01  2003      9    1"
      ]
     },
     "execution_count": 42,
     "metadata": {},
     "output_type": "execute_result"
    }
   ],
   "source": [
    "d2['day'] = d2['date'].dt.day\n",
    "d2.head()"
   ]
  },
  {
   "cell_type": "code",
   "execution_count": 4,
   "id": "f8c7a769",
   "metadata": {},
   "outputs": [],
   "source": [
    "#quarterly bins\n",
    "\n",
    "def quarter(row):\n",
    "    if row['month'] < 4:\n",
    "        return 1\n",
    "    elif 4 <= row['month'] < 7:\n",
    "        return 2\n",
    "    elif 7 <= row['month'] < 9:\n",
    "        return 3\n",
    "    else:\n",
    "        return 4"
   ]
  },
  {
   "cell_type": "code",
   "execution_count": 44,
   "id": "801f6371",
   "metadata": {},
   "outputs": [
    {
     "data": {
      "text/html": [
       "<div>\n",
       "<style scoped>\n",
       "    .dataframe tbody tr th:only-of-type {\n",
       "        vertical-align: middle;\n",
       "    }\n",
       "\n",
       "    .dataframe tbody tr th {\n",
       "        vertical-align: top;\n",
       "    }\n",
       "\n",
       "    .dataframe thead th {\n",
       "        text-align: right;\n",
       "    }\n",
       "</style>\n",
       "<table border=\"1\" class=\"dataframe\">\n",
       "  <thead>\n",
       "    <tr style=\"text-align: right;\">\n",
       "      <th></th>\n",
       "      <th>mid</th>\n",
       "      <th>cust_id</th>\n",
       "      <th>rating</th>\n",
       "      <th>date</th>\n",
       "      <th>year</th>\n",
       "      <th>month</th>\n",
       "      <th>day</th>\n",
       "      <th>fisc_Q</th>\n",
       "    </tr>\n",
       "  </thead>\n",
       "  <tbody>\n",
       "    <tr>\n",
       "      <th>1</th>\n",
       "      <td>4500</td>\n",
       "      <td>2532865</td>\n",
       "      <td>4.0</td>\n",
       "      <td>2005-07-26</td>\n",
       "      <td>2005</td>\n",
       "      <td>7</td>\n",
       "      <td>26</td>\n",
       "      <td>3</td>\n",
       "    </tr>\n",
       "    <tr>\n",
       "      <th>2</th>\n",
       "      <td>4500</td>\n",
       "      <td>573364</td>\n",
       "      <td>3.0</td>\n",
       "      <td>2005-06-20</td>\n",
       "      <td>2005</td>\n",
       "      <td>6</td>\n",
       "      <td>20</td>\n",
       "      <td>2</td>\n",
       "    </tr>\n",
       "    <tr>\n",
       "      <th>3</th>\n",
       "      <td>4500</td>\n",
       "      <td>1696725</td>\n",
       "      <td>3.0</td>\n",
       "      <td>2004-02-27</td>\n",
       "      <td>2004</td>\n",
       "      <td>2</td>\n",
       "      <td>27</td>\n",
       "      <td>1</td>\n",
       "    </tr>\n",
       "    <tr>\n",
       "      <th>4</th>\n",
       "      <td>4500</td>\n",
       "      <td>1253431</td>\n",
       "      <td>3.0</td>\n",
       "      <td>2004-03-31</td>\n",
       "      <td>2004</td>\n",
       "      <td>3</td>\n",
       "      <td>31</td>\n",
       "      <td>1</td>\n",
       "    </tr>\n",
       "    <tr>\n",
       "      <th>5</th>\n",
       "      <td>4500</td>\n",
       "      <td>1265574</td>\n",
       "      <td>2.0</td>\n",
       "      <td>2003-09-01</td>\n",
       "      <td>2003</td>\n",
       "      <td>9</td>\n",
       "      <td>1</td>\n",
       "      <td>4</td>\n",
       "    </tr>\n",
       "  </tbody>\n",
       "</table>\n",
       "</div>"
      ],
      "text/plain": [
       "    mid  cust_id  rating       date  year  month  day  fisc_Q\n",
       "1  4500  2532865     4.0 2005-07-26  2005      7   26       3\n",
       "2  4500   573364     3.0 2005-06-20  2005      6   20       2\n",
       "3  4500  1696725     3.0 2004-02-27  2004      2   27       1\n",
       "4  4500  1253431     3.0 2004-03-31  2004      3   31       1\n",
       "5  4500  1265574     2.0 2003-09-01  2003      9    1       4"
      ]
     },
     "execution_count": 44,
     "metadata": {},
     "output_type": "execute_result"
    }
   ],
   "source": [
    "d2['fisc_Q'] = d2.apply(quarter, axis=1)\n",
    "d2.head()"
   ]
  },
  {
   "cell_type": "code",
   "execution_count": null,
   "id": "45622ec3",
   "metadata": {},
   "outputs": [],
   "source": [
    "d2.to_csv('data/d2_clean.csv')"
   ]
  },
  {
   "cell_type": "markdown",
   "id": "b9e8c265",
   "metadata": {},
   "source": [
    "# Dataset 3"
   ]
  },
  {
   "cell_type": "code",
   "execution_count": 5,
   "id": "c2ddcbaa",
   "metadata": {},
   "outputs": [
    {
     "data": {
      "text/html": [
       "<div>\n",
       "<style scoped>\n",
       "    .dataframe tbody tr th:only-of-type {\n",
       "        vertical-align: middle;\n",
       "    }\n",
       "\n",
       "    .dataframe tbody tr th {\n",
       "        vertical-align: top;\n",
       "    }\n",
       "\n",
       "    .dataframe thead th {\n",
       "        text-align: right;\n",
       "    }\n",
       "</style>\n",
       "<table border=\"1\" class=\"dataframe\">\n",
       "  <thead>\n",
       "    <tr style=\"text-align: right;\">\n",
       "      <th></th>\n",
       "      <th>cust_id</th>\n",
       "      <th>rating</th>\n",
       "      <th>date</th>\n",
       "    </tr>\n",
       "  </thead>\n",
       "  <tbody>\n",
       "    <tr>\n",
       "      <th>0</th>\n",
       "      <td>9211:</td>\n",
       "      <td>NaN</td>\n",
       "      <td>NaN</td>\n",
       "    </tr>\n",
       "    <tr>\n",
       "      <th>1</th>\n",
       "      <td>1277134</td>\n",
       "      <td>1.0</td>\n",
       "      <td>2003-12-02</td>\n",
       "    </tr>\n",
       "    <tr>\n",
       "      <th>2</th>\n",
       "      <td>2435457</td>\n",
       "      <td>2.0</td>\n",
       "      <td>2005-06-01</td>\n",
       "    </tr>\n",
       "    <tr>\n",
       "      <th>3</th>\n",
       "      <td>2338545</td>\n",
       "      <td>3.0</td>\n",
       "      <td>2001-02-17</td>\n",
       "    </tr>\n",
       "    <tr>\n",
       "      <th>4</th>\n",
       "      <td>2218269</td>\n",
       "      <td>1.0</td>\n",
       "      <td>2002-12-27</td>\n",
       "    </tr>\n",
       "  </tbody>\n",
       "</table>\n",
       "</div>"
      ],
      "text/plain": [
       "   cust_id  rating        date\n",
       "0    9211:     NaN         NaN\n",
       "1  1277134     1.0  2003-12-02\n",
       "2  2435457     2.0  2005-06-01\n",
       "3  2338545     3.0  2001-02-17\n",
       "4  2218269     1.0  2002-12-27"
      ]
     },
     "execution_count": 5,
     "metadata": {},
     "output_type": "execute_result"
    }
   ],
   "source": [
    "# Reading dataset file\n",
    "dataset3 = pd.read_csv('data/combined_data_3.txt',header = None, names = ['cust_id', 'rating', 'date'])\n",
    "dataset3.head()"
   ]
  },
  {
   "cell_type": "code",
   "execution_count": 7,
   "id": "f8ff9547",
   "metadata": {},
   "outputs": [
    {
     "data": {
      "text/html": [
       "<div>\n",
       "<style scoped>\n",
       "    .dataframe tbody tr th:only-of-type {\n",
       "        vertical-align: middle;\n",
       "    }\n",
       "\n",
       "    .dataframe tbody tr th {\n",
       "        vertical-align: top;\n",
       "    }\n",
       "\n",
       "    .dataframe thead th {\n",
       "        text-align: right;\n",
       "    }\n",
       "</style>\n",
       "<table border=\"1\" class=\"dataframe\">\n",
       "  <thead>\n",
       "    <tr style=\"text-align: right;\">\n",
       "      <th></th>\n",
       "      <th>cust_id</th>\n",
       "      <th>rating</th>\n",
       "      <th>date</th>\n",
       "    </tr>\n",
       "  </thead>\n",
       "  <tbody>\n",
       "    <tr>\n",
       "      <th>0</th>\n",
       "      <td>9211:</td>\n",
       "      <td>NaN</td>\n",
       "      <td>NaN</td>\n",
       "    </tr>\n",
       "    <tr>\n",
       "      <th>505</th>\n",
       "      <td>9212:</td>\n",
       "      <td>NaN</td>\n",
       "      <td>NaN</td>\n",
       "    </tr>\n",
       "    <tr>\n",
       "      <th>1347</th>\n",
       "      <td>9213:</td>\n",
       "      <td>NaN</td>\n",
       "      <td>NaN</td>\n",
       "    </tr>\n",
       "    <tr>\n",
       "      <th>1491</th>\n",
       "      <td>9214:</td>\n",
       "      <td>NaN</td>\n",
       "      <td>NaN</td>\n",
       "    </tr>\n",
       "    <tr>\n",
       "      <th>1856</th>\n",
       "      <td>9215:</td>\n",
       "      <td>NaN</td>\n",
       "      <td>NaN</td>\n",
       "    </tr>\n",
       "  </tbody>\n",
       "</table>\n",
       "</div>"
      ],
      "text/plain": [
       "     cust_id  rating date\n",
       "0      9211:     NaN  NaN\n",
       "505    9212:     NaN  NaN\n",
       "1347   9213:     NaN  NaN\n",
       "1491   9214:     NaN  NaN\n",
       "1856   9215:     NaN  NaN"
      ]
     },
     "execution_count": 7,
     "metadata": {},
     "output_type": "execute_result"
    }
   ],
   "source": [
    "#only movie id values\n",
    "mid_index3 = pd.DataFrame(dataset3[(dataset3['rating'].isnull())])\n",
    "mid_index3.head()"
   ]
  },
  {
   "cell_type": "code",
   "execution_count": 8,
   "id": "df116258",
   "metadata": {},
   "outputs": [
    {
     "data": {
      "text/html": [
       "<div>\n",
       "<style scoped>\n",
       "    .dataframe tbody tr th:only-of-type {\n",
       "        vertical-align: middle;\n",
       "    }\n",
       "\n",
       "    .dataframe tbody tr th {\n",
       "        vertical-align: top;\n",
       "    }\n",
       "\n",
       "    .dataframe thead th {\n",
       "        text-align: right;\n",
       "    }\n",
       "</style>\n",
       "<table border=\"1\" class=\"dataframe\">\n",
       "  <thead>\n",
       "    <tr style=\"text-align: right;\">\n",
       "      <th></th>\n",
       "      <th>movie_id</th>\n",
       "      <th>rating</th>\n",
       "      <th>date</th>\n",
       "    </tr>\n",
       "  </thead>\n",
       "  <tbody>\n",
       "    <tr>\n",
       "      <th>0</th>\n",
       "      <td>9211:</td>\n",
       "      <td>NaN</td>\n",
       "      <td>NaN</td>\n",
       "    </tr>\n",
       "    <tr>\n",
       "      <th>505</th>\n",
       "      <td>9212:</td>\n",
       "      <td>NaN</td>\n",
       "      <td>NaN</td>\n",
       "    </tr>\n",
       "    <tr>\n",
       "      <th>1347</th>\n",
       "      <td>9213:</td>\n",
       "      <td>NaN</td>\n",
       "      <td>NaN</td>\n",
       "    </tr>\n",
       "    <tr>\n",
       "      <th>1491</th>\n",
       "      <td>9214:</td>\n",
       "      <td>NaN</td>\n",
       "      <td>NaN</td>\n",
       "    </tr>\n",
       "    <tr>\n",
       "      <th>1856</th>\n",
       "      <td>9215:</td>\n",
       "      <td>NaN</td>\n",
       "      <td>NaN</td>\n",
       "    </tr>\n",
       "  </tbody>\n",
       "</table>\n",
       "</div>"
      ],
      "text/plain": [
       "     movie_id  rating date\n",
       "0       9211:     NaN  NaN\n",
       "505     9212:     NaN  NaN\n",
       "1347    9213:     NaN  NaN\n",
       "1491    9214:     NaN  NaN\n",
       "1856    9215:     NaN  NaN"
      ]
     },
     "execution_count": 8,
     "metadata": {},
     "output_type": "execute_result"
    }
   ],
   "source": [
    "#rename movie index\n",
    "mid_index3 = mid_index3.rename(columns = {'cust_id': 'movie_id'})\n",
    "mid_index3.head()"
   ]
  },
  {
   "cell_type": "code",
   "execution_count": 9,
   "id": "aa79e88b",
   "metadata": {},
   "outputs": [
    {
     "data": {
      "text/html": [
       "<div>\n",
       "<style scoped>\n",
       "    .dataframe tbody tr th:only-of-type {\n",
       "        vertical-align: middle;\n",
       "    }\n",
       "\n",
       "    .dataframe tbody tr th {\n",
       "        vertical-align: top;\n",
       "    }\n",
       "\n",
       "    .dataframe thead th {\n",
       "        text-align: right;\n",
       "    }\n",
       "</style>\n",
       "<table border=\"1\" class=\"dataframe\">\n",
       "  <thead>\n",
       "    <tr style=\"text-align: right;\">\n",
       "      <th></th>\n",
       "      <th>mid</th>\n",
       "    </tr>\n",
       "  </thead>\n",
       "  <tbody>\n",
       "    <tr>\n",
       "      <th>0</th>\n",
       "      <td>9211</td>\n",
       "    </tr>\n",
       "    <tr>\n",
       "      <th>505</th>\n",
       "      <td>9212</td>\n",
       "    </tr>\n",
       "    <tr>\n",
       "      <th>1347</th>\n",
       "      <td>9213</td>\n",
       "    </tr>\n",
       "    <tr>\n",
       "      <th>1491</th>\n",
       "      <td>9214</td>\n",
       "    </tr>\n",
       "    <tr>\n",
       "      <th>1856</th>\n",
       "      <td>9215</td>\n",
       "    </tr>\n",
       "  </tbody>\n",
       "</table>\n",
       "</div>"
      ],
      "text/plain": [
       "       mid\n",
       "0     9211\n",
       "505   9212\n",
       "1347  9213\n",
       "1491  9214\n",
       "1856  9215"
      ]
     },
     "execution_count": 9,
     "metadata": {},
     "output_type": "execute_result"
    }
   ],
   "source": [
    "#drop punctuation fxn defined above\n",
    "drop_punctuation(mid_index3)\n",
    "mid_index3 = mid_index3[['mid']]\n",
    "mid_index3.head()"
   ]
  },
  {
   "cell_type": "code",
   "execution_count": 10,
   "id": "5f410151",
   "metadata": {},
   "outputs": [
    {
     "data": {
      "text/plain": [
       "(4157, 1)"
      ]
     },
     "execution_count": 10,
     "metadata": {},
     "output_type": "execute_result"
    }
   ],
   "source": [
    "mid_index3.shape"
   ]
  },
  {
   "cell_type": "code",
   "execution_count": 11,
   "id": "fbabfc56",
   "metadata": {},
   "outputs": [
    {
     "data": {
      "text/html": [
       "<div>\n",
       "<style scoped>\n",
       "    .dataframe tbody tr th:only-of-type {\n",
       "        vertical-align: middle;\n",
       "    }\n",
       "\n",
       "    .dataframe tbody tr th {\n",
       "        vertical-align: top;\n",
       "    }\n",
       "\n",
       "    .dataframe thead th {\n",
       "        text-align: right;\n",
       "    }\n",
       "</style>\n",
       "<table border=\"1\" class=\"dataframe\">\n",
       "  <thead>\n",
       "    <tr style=\"text-align: right;\">\n",
       "      <th></th>\n",
       "      <th>cust_id</th>\n",
       "      <th>rating</th>\n",
       "      <th>date</th>\n",
       "    </tr>\n",
       "  </thead>\n",
       "  <tbody>\n",
       "    <tr>\n",
       "      <th>0</th>\n",
       "      <td>9211:</td>\n",
       "      <td>NaN</td>\n",
       "      <td>NaN</td>\n",
       "    </tr>\n",
       "    <tr>\n",
       "      <th>1</th>\n",
       "      <td>1277134</td>\n",
       "      <td>1.0</td>\n",
       "      <td>2003-12-02</td>\n",
       "    </tr>\n",
       "    <tr>\n",
       "      <th>2</th>\n",
       "      <td>2435457</td>\n",
       "      <td>2.0</td>\n",
       "      <td>2005-06-01</td>\n",
       "    </tr>\n",
       "    <tr>\n",
       "      <th>3</th>\n",
       "      <td>2338545</td>\n",
       "      <td>3.0</td>\n",
       "      <td>2001-02-17</td>\n",
       "    </tr>\n",
       "    <tr>\n",
       "      <th>4</th>\n",
       "      <td>2218269</td>\n",
       "      <td>1.0</td>\n",
       "      <td>2002-12-27</td>\n",
       "    </tr>\n",
       "  </tbody>\n",
       "</table>\n",
       "</div>"
      ],
      "text/plain": [
       "   cust_id  rating        date\n",
       "0    9211:     NaN         NaN\n",
       "1  1277134     1.0  2003-12-02\n",
       "2  2435457     2.0  2005-06-01\n",
       "3  2338545     3.0  2001-02-17\n",
       "4  2218269     1.0  2002-12-27"
      ]
     },
     "execution_count": 11,
     "metadata": {},
     "output_type": "execute_result"
    }
   ],
   "source": [
    "dataset3.head()"
   ]
  },
  {
   "cell_type": "code",
   "execution_count": 15,
   "id": "1610861f",
   "metadata": {},
   "outputs": [
    {
     "data": {
      "text/html": [
       "<div>\n",
       "<style scoped>\n",
       "    .dataframe tbody tr th:only-of-type {\n",
       "        vertical-align: middle;\n",
       "    }\n",
       "\n",
       "    .dataframe tbody tr th {\n",
       "        vertical-align: top;\n",
       "    }\n",
       "\n",
       "    .dataframe thead th {\n",
       "        text-align: right;\n",
       "    }\n",
       "</style>\n",
       "<table border=\"1\" class=\"dataframe\">\n",
       "  <thead>\n",
       "    <tr style=\"text-align: right;\">\n",
       "      <th></th>\n",
       "      <th>mid</th>\n",
       "      <th>cust_id</th>\n",
       "      <th>rating</th>\n",
       "      <th>date</th>\n",
       "    </tr>\n",
       "  </thead>\n",
       "  <tbody>\n",
       "    <tr>\n",
       "      <th>0</th>\n",
       "      <td>9211</td>\n",
       "      <td>9211:</td>\n",
       "      <td>NaN</td>\n",
       "      <td>NaN</td>\n",
       "    </tr>\n",
       "    <tr>\n",
       "      <th>1</th>\n",
       "      <td>NaN</td>\n",
       "      <td>1277134</td>\n",
       "      <td>1.0</td>\n",
       "      <td>2003-12-02</td>\n",
       "    </tr>\n",
       "    <tr>\n",
       "      <th>2</th>\n",
       "      <td>NaN</td>\n",
       "      <td>2435457</td>\n",
       "      <td>2.0</td>\n",
       "      <td>2005-06-01</td>\n",
       "    </tr>\n",
       "    <tr>\n",
       "      <th>3</th>\n",
       "      <td>NaN</td>\n",
       "      <td>2338545</td>\n",
       "      <td>3.0</td>\n",
       "      <td>2001-02-17</td>\n",
       "    </tr>\n",
       "    <tr>\n",
       "      <th>4</th>\n",
       "      <td>NaN</td>\n",
       "      <td>2218269</td>\n",
       "      <td>1.0</td>\n",
       "      <td>2002-12-27</td>\n",
       "    </tr>\n",
       "  </tbody>\n",
       "</table>\n",
       "</div>"
      ],
      "text/plain": [
       "    mid  cust_id  rating        date\n",
       "0  9211    9211:     NaN         NaN\n",
       "1   NaN  1277134     1.0  2003-12-02\n",
       "2   NaN  2435457     2.0  2005-06-01\n",
       "3   NaN  2338545     3.0  2001-02-17\n",
       "4   NaN  2218269     1.0  2002-12-27"
      ]
     },
     "execution_count": 15,
     "metadata": {},
     "output_type": "execute_result"
    }
   ],
   "source": [
    "d3 = pd.concat([dataset3, mid_index3], axis = 1 )\n",
    "d3 = d3.reindex(['mid', 'cust_id', 'rating', 'date'], axis= 1)\n",
    "d3.head()"
   ]
  },
  {
   "cell_type": "code",
   "execution_count": 16,
   "id": "03954dc6",
   "metadata": {},
   "outputs": [
    {
     "data": {
      "text/html": [
       "<div>\n",
       "<style scoped>\n",
       "    .dataframe tbody tr th:only-of-type {\n",
       "        vertical-align: middle;\n",
       "    }\n",
       "\n",
       "    .dataframe tbody tr th {\n",
       "        vertical-align: top;\n",
       "    }\n",
       "\n",
       "    .dataframe thead th {\n",
       "        text-align: right;\n",
       "    }\n",
       "</style>\n",
       "<table border=\"1\" class=\"dataframe\">\n",
       "  <thead>\n",
       "    <tr style=\"text-align: right;\">\n",
       "      <th></th>\n",
       "      <th>mid</th>\n",
       "      <th>cust_id</th>\n",
       "      <th>rating</th>\n",
       "      <th>date</th>\n",
       "    </tr>\n",
       "  </thead>\n",
       "  <tbody>\n",
       "    <tr>\n",
       "      <th>0</th>\n",
       "      <td>9211</td>\n",
       "      <td>9211:</td>\n",
       "      <td>NaN</td>\n",
       "      <td>NaN</td>\n",
       "    </tr>\n",
       "    <tr>\n",
       "      <th>1</th>\n",
       "      <td>9211</td>\n",
       "      <td>1277134</td>\n",
       "      <td>1.0</td>\n",
       "      <td>2003-12-02</td>\n",
       "    </tr>\n",
       "    <tr>\n",
       "      <th>2</th>\n",
       "      <td>9211</td>\n",
       "      <td>2435457</td>\n",
       "      <td>2.0</td>\n",
       "      <td>2005-06-01</td>\n",
       "    </tr>\n",
       "    <tr>\n",
       "      <th>3</th>\n",
       "      <td>9211</td>\n",
       "      <td>2338545</td>\n",
       "      <td>3.0</td>\n",
       "      <td>2001-02-17</td>\n",
       "    </tr>\n",
       "    <tr>\n",
       "      <th>4</th>\n",
       "      <td>9211</td>\n",
       "      <td>2218269</td>\n",
       "      <td>1.0</td>\n",
       "      <td>2002-12-27</td>\n",
       "    </tr>\n",
       "  </tbody>\n",
       "</table>\n",
       "</div>"
      ],
      "text/plain": [
       "    mid  cust_id  rating        date\n",
       "0  9211    9211:     NaN         NaN\n",
       "1  9211  1277134     1.0  2003-12-02\n",
       "2  9211  2435457     2.0  2005-06-01\n",
       "3  9211  2338545     3.0  2001-02-17\n",
       "4  9211  2218269     1.0  2002-12-27"
      ]
     },
     "execution_count": 16,
     "metadata": {},
     "output_type": "execute_result"
    }
   ],
   "source": [
    "fill_mids(d3, 'mid')\n",
    "d3.head()"
   ]
  },
  {
   "cell_type": "code",
   "execution_count": 17,
   "id": "68fa55aa",
   "metadata": {},
   "outputs": [
    {
     "data": {
      "text/plain": [
       "mid         9215\n",
       "cust_id    9215:\n",
       "rating       NaN\n",
       "date         NaN\n",
       "Name: 1856, dtype: object"
      ]
     },
     "execution_count": 17,
     "metadata": {},
     "output_type": "execute_result"
    }
   ],
   "source": [
    "d3.iloc[1856]"
   ]
  },
  {
   "cell_type": "code",
   "execution_count": 19,
   "id": "6008073c",
   "metadata": {},
   "outputs": [
    {
     "data": {
      "text/plain": [
       "4157"
      ]
     },
     "execution_count": 19,
     "metadata": {},
     "output_type": "execute_result"
    }
   ],
   "source": [
    "#removing cust id with movie ids in them\n",
    "\n",
    "d3['cust_id'].str.contains(':').sum()"
   ]
  },
  {
   "cell_type": "code",
   "execution_count": 20,
   "id": "2cddde1d",
   "metadata": {},
   "outputs": [
    {
     "data": {
      "text/plain": [
       "(22601629, 4)"
      ]
     },
     "execution_count": 20,
     "metadata": {},
     "output_type": "execute_result"
    }
   ],
   "source": [
    "d3 = d3[~d3['cust_id'].str.contains(':')]\n",
    "d3.shape"
   ]
  },
  {
   "cell_type": "code",
   "execution_count": 25,
   "id": "b26ca68d",
   "metadata": {},
   "outputs": [
    {
     "data": {
      "text/plain": [
       "mid              9212\n",
       "cust_id       1378111\n",
       "rating            5.0\n",
       "date       2005-07-12\n",
       "Name: 506, dtype: object"
      ]
     },
     "execution_count": 25,
     "metadata": {},
     "output_type": "execute_result"
    }
   ],
   "source": [
    "d3.iloc[504]"
   ]
  },
  {
   "cell_type": "code",
   "execution_count": 26,
   "id": "6d8d95ed",
   "metadata": {},
   "outputs": [
    {
     "name": "stdout",
     "output_type": "stream",
     "text": [
      "<class 'pandas.core.frame.DataFrame'>\n",
      "Index: 22601629 entries, 1 to 22605785\n",
      "Data columns (total 4 columns):\n",
      " #   Column   Dtype  \n",
      "---  ------   -----  \n",
      " 0   mid      object \n",
      " 1   cust_id  object \n",
      " 2   rating   float64\n",
      " 3   date     object \n",
      "dtypes: float64(1), object(3)\n",
      "memory usage: 862.2+ MB\n"
     ]
    }
   ],
   "source": [
    "d3.info()"
   ]
  },
  {
   "cell_type": "code",
   "execution_count": 27,
   "id": "254ad4dd",
   "metadata": {},
   "outputs": [
    {
     "name": "stdout",
     "output_type": "stream",
     "text": [
      "<class 'pandas.core.frame.DataFrame'>\n",
      "Index: 22601629 entries, 1 to 22605785\n",
      "Data columns (total 4 columns):\n",
      " #   Column   Dtype         \n",
      "---  ------   -----         \n",
      " 0   mid      object        \n",
      " 1   cust_id  object        \n",
      " 2   rating   float64       \n",
      " 3   date     datetime64[ns]\n",
      "dtypes: datetime64[ns](1), float64(1), object(2)\n",
      "memory usage: 862.2+ MB\n"
     ]
    }
   ],
   "source": [
    "d3['date'] = d3['date'].astype('datetime64[ns]')\n",
    "d3.info()"
   ]
  },
  {
   "cell_type": "code",
   "execution_count": 28,
   "id": "ba8fce84",
   "metadata": {},
   "outputs": [
    {
     "data": {
      "text/html": [
       "<div>\n",
       "<style scoped>\n",
       "    .dataframe tbody tr th:only-of-type {\n",
       "        vertical-align: middle;\n",
       "    }\n",
       "\n",
       "    .dataframe tbody tr th {\n",
       "        vertical-align: top;\n",
       "    }\n",
       "\n",
       "    .dataframe thead th {\n",
       "        text-align: right;\n",
       "    }\n",
       "</style>\n",
       "<table border=\"1\" class=\"dataframe\">\n",
       "  <thead>\n",
       "    <tr style=\"text-align: right;\">\n",
       "      <th></th>\n",
       "      <th>mid</th>\n",
       "      <th>cust_id</th>\n",
       "      <th>rating</th>\n",
       "      <th>date</th>\n",
       "      <th>year</th>\n",
       "    </tr>\n",
       "  </thead>\n",
       "  <tbody>\n",
       "    <tr>\n",
       "      <th>1</th>\n",
       "      <td>9211</td>\n",
       "      <td>1277134</td>\n",
       "      <td>1.0</td>\n",
       "      <td>2003-12-02</td>\n",
       "      <td>2003</td>\n",
       "    </tr>\n",
       "    <tr>\n",
       "      <th>2</th>\n",
       "      <td>9211</td>\n",
       "      <td>2435457</td>\n",
       "      <td>2.0</td>\n",
       "      <td>2005-06-01</td>\n",
       "      <td>2005</td>\n",
       "    </tr>\n",
       "    <tr>\n",
       "      <th>3</th>\n",
       "      <td>9211</td>\n",
       "      <td>2338545</td>\n",
       "      <td>3.0</td>\n",
       "      <td>2001-02-17</td>\n",
       "      <td>2001</td>\n",
       "    </tr>\n",
       "    <tr>\n",
       "      <th>4</th>\n",
       "      <td>9211</td>\n",
       "      <td>2218269</td>\n",
       "      <td>1.0</td>\n",
       "      <td>2002-12-27</td>\n",
       "      <td>2002</td>\n",
       "    </tr>\n",
       "    <tr>\n",
       "      <th>5</th>\n",
       "      <td>9211</td>\n",
       "      <td>441153</td>\n",
       "      <td>4.0</td>\n",
       "      <td>2002-10-11</td>\n",
       "      <td>2002</td>\n",
       "    </tr>\n",
       "  </tbody>\n",
       "</table>\n",
       "</div>"
      ],
      "text/plain": [
       "    mid  cust_id  rating       date  year\n",
       "1  9211  1277134     1.0 2003-12-02  2003\n",
       "2  9211  2435457     2.0 2005-06-01  2005\n",
       "3  9211  2338545     3.0 2001-02-17  2001\n",
       "4  9211  2218269     1.0 2002-12-27  2002\n",
       "5  9211   441153     4.0 2002-10-11  2002"
      ]
     },
     "execution_count": 28,
     "metadata": {},
     "output_type": "execute_result"
    }
   ],
   "source": [
    "d3['year'] = d3['date'].dt.year\n",
    "d3.head()"
   ]
  },
  {
   "cell_type": "code",
   "execution_count": 29,
   "id": "67c5b54b",
   "metadata": {},
   "outputs": [
    {
     "data": {
      "text/html": [
       "<div>\n",
       "<style scoped>\n",
       "    .dataframe tbody tr th:only-of-type {\n",
       "        vertical-align: middle;\n",
       "    }\n",
       "\n",
       "    .dataframe tbody tr th {\n",
       "        vertical-align: top;\n",
       "    }\n",
       "\n",
       "    .dataframe thead th {\n",
       "        text-align: right;\n",
       "    }\n",
       "</style>\n",
       "<table border=\"1\" class=\"dataframe\">\n",
       "  <thead>\n",
       "    <tr style=\"text-align: right;\">\n",
       "      <th></th>\n",
       "      <th>mid</th>\n",
       "      <th>cust_id</th>\n",
       "      <th>rating</th>\n",
       "      <th>date</th>\n",
       "      <th>year</th>\n",
       "      <th>month</th>\n",
       "    </tr>\n",
       "  </thead>\n",
       "  <tbody>\n",
       "    <tr>\n",
       "      <th>1</th>\n",
       "      <td>9211</td>\n",
       "      <td>1277134</td>\n",
       "      <td>1.0</td>\n",
       "      <td>2003-12-02</td>\n",
       "      <td>2003</td>\n",
       "      <td>12</td>\n",
       "    </tr>\n",
       "    <tr>\n",
       "      <th>2</th>\n",
       "      <td>9211</td>\n",
       "      <td>2435457</td>\n",
       "      <td>2.0</td>\n",
       "      <td>2005-06-01</td>\n",
       "      <td>2005</td>\n",
       "      <td>6</td>\n",
       "    </tr>\n",
       "    <tr>\n",
       "      <th>3</th>\n",
       "      <td>9211</td>\n",
       "      <td>2338545</td>\n",
       "      <td>3.0</td>\n",
       "      <td>2001-02-17</td>\n",
       "      <td>2001</td>\n",
       "      <td>2</td>\n",
       "    </tr>\n",
       "    <tr>\n",
       "      <th>4</th>\n",
       "      <td>9211</td>\n",
       "      <td>2218269</td>\n",
       "      <td>1.0</td>\n",
       "      <td>2002-12-27</td>\n",
       "      <td>2002</td>\n",
       "      <td>12</td>\n",
       "    </tr>\n",
       "    <tr>\n",
       "      <th>5</th>\n",
       "      <td>9211</td>\n",
       "      <td>441153</td>\n",
       "      <td>4.0</td>\n",
       "      <td>2002-10-11</td>\n",
       "      <td>2002</td>\n",
       "      <td>10</td>\n",
       "    </tr>\n",
       "  </tbody>\n",
       "</table>\n",
       "</div>"
      ],
      "text/plain": [
       "    mid  cust_id  rating       date  year  month\n",
       "1  9211  1277134     1.0 2003-12-02  2003     12\n",
       "2  9211  2435457     2.0 2005-06-01  2005      6\n",
       "3  9211  2338545     3.0 2001-02-17  2001      2\n",
       "4  9211  2218269     1.0 2002-12-27  2002     12\n",
       "5  9211   441153     4.0 2002-10-11  2002     10"
      ]
     },
     "execution_count": 29,
     "metadata": {},
     "output_type": "execute_result"
    }
   ],
   "source": [
    "d3['month'] = d3['date'].dt.month\n",
    "d3.head()"
   ]
  },
  {
   "cell_type": "code",
   "execution_count": 30,
   "id": "59afcc6a",
   "metadata": {},
   "outputs": [
    {
     "data": {
      "text/html": [
       "<div>\n",
       "<style scoped>\n",
       "    .dataframe tbody tr th:only-of-type {\n",
       "        vertical-align: middle;\n",
       "    }\n",
       "\n",
       "    .dataframe tbody tr th {\n",
       "        vertical-align: top;\n",
       "    }\n",
       "\n",
       "    .dataframe thead th {\n",
       "        text-align: right;\n",
       "    }\n",
       "</style>\n",
       "<table border=\"1\" class=\"dataframe\">\n",
       "  <thead>\n",
       "    <tr style=\"text-align: right;\">\n",
       "      <th></th>\n",
       "      <th>mid</th>\n",
       "      <th>cust_id</th>\n",
       "      <th>rating</th>\n",
       "      <th>date</th>\n",
       "      <th>year</th>\n",
       "      <th>month</th>\n",
       "      <th>day</th>\n",
       "    </tr>\n",
       "  </thead>\n",
       "  <tbody>\n",
       "    <tr>\n",
       "      <th>1</th>\n",
       "      <td>9211</td>\n",
       "      <td>1277134</td>\n",
       "      <td>1.0</td>\n",
       "      <td>2003-12-02</td>\n",
       "      <td>2003</td>\n",
       "      <td>12</td>\n",
       "      <td>2</td>\n",
       "    </tr>\n",
       "    <tr>\n",
       "      <th>2</th>\n",
       "      <td>9211</td>\n",
       "      <td>2435457</td>\n",
       "      <td>2.0</td>\n",
       "      <td>2005-06-01</td>\n",
       "      <td>2005</td>\n",
       "      <td>6</td>\n",
       "      <td>1</td>\n",
       "    </tr>\n",
       "    <tr>\n",
       "      <th>3</th>\n",
       "      <td>9211</td>\n",
       "      <td>2338545</td>\n",
       "      <td>3.0</td>\n",
       "      <td>2001-02-17</td>\n",
       "      <td>2001</td>\n",
       "      <td>2</td>\n",
       "      <td>17</td>\n",
       "    </tr>\n",
       "    <tr>\n",
       "      <th>4</th>\n",
       "      <td>9211</td>\n",
       "      <td>2218269</td>\n",
       "      <td>1.0</td>\n",
       "      <td>2002-12-27</td>\n",
       "      <td>2002</td>\n",
       "      <td>12</td>\n",
       "      <td>27</td>\n",
       "    </tr>\n",
       "    <tr>\n",
       "      <th>5</th>\n",
       "      <td>9211</td>\n",
       "      <td>441153</td>\n",
       "      <td>4.0</td>\n",
       "      <td>2002-10-11</td>\n",
       "      <td>2002</td>\n",
       "      <td>10</td>\n",
       "      <td>11</td>\n",
       "    </tr>\n",
       "  </tbody>\n",
       "</table>\n",
       "</div>"
      ],
      "text/plain": [
       "    mid  cust_id  rating       date  year  month  day\n",
       "1  9211  1277134     1.0 2003-12-02  2003     12    2\n",
       "2  9211  2435457     2.0 2005-06-01  2005      6    1\n",
       "3  9211  2338545     3.0 2001-02-17  2001      2   17\n",
       "4  9211  2218269     1.0 2002-12-27  2002     12   27\n",
       "5  9211   441153     4.0 2002-10-11  2002     10   11"
      ]
     },
     "execution_count": 30,
     "metadata": {},
     "output_type": "execute_result"
    }
   ],
   "source": [
    "d3['day'] = d3['date'].dt.day\n",
    "d3.head()"
   ]
  },
  {
   "cell_type": "code",
   "execution_count": 31,
   "id": "5b388187",
   "metadata": {},
   "outputs": [
    {
     "data": {
      "text/html": [
       "<div>\n",
       "<style scoped>\n",
       "    .dataframe tbody tr th:only-of-type {\n",
       "        vertical-align: middle;\n",
       "    }\n",
       "\n",
       "    .dataframe tbody tr th {\n",
       "        vertical-align: top;\n",
       "    }\n",
       "\n",
       "    .dataframe thead th {\n",
       "        text-align: right;\n",
       "    }\n",
       "</style>\n",
       "<table border=\"1\" class=\"dataframe\">\n",
       "  <thead>\n",
       "    <tr style=\"text-align: right;\">\n",
       "      <th></th>\n",
       "      <th>mid</th>\n",
       "      <th>cust_id</th>\n",
       "      <th>rating</th>\n",
       "      <th>date</th>\n",
       "      <th>year</th>\n",
       "      <th>month</th>\n",
       "      <th>day</th>\n",
       "      <th>fisc_Q</th>\n",
       "    </tr>\n",
       "  </thead>\n",
       "  <tbody>\n",
       "    <tr>\n",
       "      <th>1</th>\n",
       "      <td>9211</td>\n",
       "      <td>1277134</td>\n",
       "      <td>1.0</td>\n",
       "      <td>2003-12-02</td>\n",
       "      <td>2003</td>\n",
       "      <td>12</td>\n",
       "      <td>2</td>\n",
       "      <td>4</td>\n",
       "    </tr>\n",
       "    <tr>\n",
       "      <th>2</th>\n",
       "      <td>9211</td>\n",
       "      <td>2435457</td>\n",
       "      <td>2.0</td>\n",
       "      <td>2005-06-01</td>\n",
       "      <td>2005</td>\n",
       "      <td>6</td>\n",
       "      <td>1</td>\n",
       "      <td>2</td>\n",
       "    </tr>\n",
       "    <tr>\n",
       "      <th>3</th>\n",
       "      <td>9211</td>\n",
       "      <td>2338545</td>\n",
       "      <td>3.0</td>\n",
       "      <td>2001-02-17</td>\n",
       "      <td>2001</td>\n",
       "      <td>2</td>\n",
       "      <td>17</td>\n",
       "      <td>1</td>\n",
       "    </tr>\n",
       "    <tr>\n",
       "      <th>4</th>\n",
       "      <td>9211</td>\n",
       "      <td>2218269</td>\n",
       "      <td>1.0</td>\n",
       "      <td>2002-12-27</td>\n",
       "      <td>2002</td>\n",
       "      <td>12</td>\n",
       "      <td>27</td>\n",
       "      <td>4</td>\n",
       "    </tr>\n",
       "    <tr>\n",
       "      <th>5</th>\n",
       "      <td>9211</td>\n",
       "      <td>441153</td>\n",
       "      <td>4.0</td>\n",
       "      <td>2002-10-11</td>\n",
       "      <td>2002</td>\n",
       "      <td>10</td>\n",
       "      <td>11</td>\n",
       "      <td>4</td>\n",
       "    </tr>\n",
       "  </tbody>\n",
       "</table>\n",
       "</div>"
      ],
      "text/plain": [
       "    mid  cust_id  rating       date  year  month  day  fisc_Q\n",
       "1  9211  1277134     1.0 2003-12-02  2003     12    2       4\n",
       "2  9211  2435457     2.0 2005-06-01  2005      6    1       2\n",
       "3  9211  2338545     3.0 2001-02-17  2001      2   17       1\n",
       "4  9211  2218269     1.0 2002-12-27  2002     12   27       4\n",
       "5  9211   441153     4.0 2002-10-11  2002     10   11       4"
      ]
     },
     "execution_count": 31,
     "metadata": {},
     "output_type": "execute_result"
    }
   ],
   "source": [
    "d3['fisc_Q'] = d3.apply(quarter, axis=1)\n",
    "d3.head()"
   ]
  },
  {
   "cell_type": "code",
   "execution_count": null,
   "id": "06b82e19",
   "metadata": {},
   "outputs": [],
   "source": [
    "d3.to_csv('data/d3_clean.csv')"
   ]
  },
  {
   "cell_type": "code",
   "execution_count": null,
   "id": "d9aee39b",
   "metadata": {},
   "outputs": [],
   "source": []
  }
 ],
 "metadata": {
  "kernelspec": {
   "display_name": "Python 3 (ipykernel)",
   "language": "python",
   "name": "python3"
  },
  "language_info": {
   "codemirror_mode": {
    "name": "ipython",
    "version": 3
   },
   "file_extension": ".py",
   "mimetype": "text/x-python",
   "name": "python",
   "nbconvert_exporter": "python",
   "pygments_lexer": "ipython3",
   "version": "3.9.13"
  }
 },
 "nbformat": 4,
 "nbformat_minor": 5
}
