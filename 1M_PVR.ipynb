{
 "cells": [
  {
   "cell_type": "markdown",
   "id": "e58f6a13",
   "metadata": {},
   "source": [
    "# Personal Video Ranker\n",
    "### Collaborative Filtering Model\n",
    "\n",
    "Historically, collaborative filtering models have been a large part of recommender algorithms. Personal video rankers, collaborative filtering models that seek to predict the content a user will rate highly, usually take prominent places in different capacities on all content delivery platforms.\n",
    "\n",
    "In this notebook, you'll find my baseline model using the Biased Baseline algorithm from the Surprise package.\n",
    "\n",
    "Following is my best Singular Value Decomposition algorithm, using SVD++ from the same package.\n"
   ]
  },
  {
   "cell_type": "code",
   "execution_count": 3,
   "id": "aface1f5",
   "metadata": {},
   "outputs": [],
   "source": [
    "import pandas as pd\n",
    "import numpy as np\n",
    "\n",
    "import os\n",
    "from surprise import Dataset\n",
    "from surprise import Reader\n",
    "from surprise import accuracy\n",
    "\n",
    "from surprise import NormalPredictor\n",
    "\n",
    "from surprise import BaselineOnly\n",
    "from surprise import SVD\n",
    "from surprise import SVDpp\n",
    "from surprise.model_selection import cross_validate\n",
    "from surprise.model_selection import GridSearchCV\n",
    "from surprise.model_selection import RandomizedSearchCV"
   ]
  },
  {
   "cell_type": "code",
   "execution_count": 4,
   "id": "6a8bb775",
   "metadata": {},
   "outputs": [
    {
     "data": {
      "application/javascript": [
       "if (!(\"Notification\" in window)) {\n",
       "    alert(\"This browser does not support desktop notifications, so the %%notify magic will not work.\");\n",
       "} else if (Notification.permission !== 'granted' && Notification.permission !== 'denied') {\n",
       "    Notification.requestPermission(function (permission) {\n",
       "        if(!('permission' in Notification)) {\n",
       "            Notification.permission = permission;\n",
       "        }\n",
       "    })\n",
       "}\n"
      ],
      "text/plain": [
       "<IPython.core.display.Javascript object>"
      ]
     },
     "metadata": {},
     "output_type": "display_data"
    }
   ],
   "source": [
    "#notify me when a long running cell is complete\n",
    "%load_ext jupyternotify"
   ]
  },
  {
   "cell_type": "code",
   "execution_count": 8,
   "id": "fbd0054e",
   "metadata": {},
   "outputs": [
    {
     "name": "stdout",
     "output_type": "stream",
     "text": [
      "<class 'pandas.core.frame.DataFrame'>\n",
      "RangeIndex: 1000000 entries, 0 to 999999\n",
      "Data columns (total 8 columns):\n",
      " #   Column           Non-Null Count    Dtype         \n",
      "---  ------           --------------    -----         \n",
      " 0   mid              1000000 non-null  int64         \n",
      " 1   cust_id          1000000 non-null  int64         \n",
      " 2   rating           1000000 non-null  float64       \n",
      " 3   r_date           1000000 non-null  datetime64[ns]\n",
      " 4   m_decade         1000000 non-null  int64         \n",
      " 5   m_avg_rating     1000000 non-null  float64       \n",
      " 6   user_engagement  1000000 non-null  int64         \n",
      " 7   adopters         1000000 non-null  int64         \n",
      "dtypes: datetime64[ns](1), float64(2), int64(5)\n",
      "memory usage: 61.0 MB\n"
     ]
    }
   ],
   "source": [
    "data = pd.read_csv('data/1m_useratt.csv')\n",
    "minorityrec = pd.read_csv('data/minreq.csv')\n",
    "\n",
    "#for split\n",
    "data['r_date'] = data['r_date'].astype('datetime64[ns]')\n",
    "\n",
    "data.info()"
   ]
  },
  {
   "cell_type": "markdown",
   "id": "085e2194",
   "metadata": {},
   "source": [
    "# Data Split\n",
    "\n",
    "In order to better understand how user preferences evolve with time, I employed an 'Out of Time' data split that is typically used with content recommendation systems. \n",
    "\n",
    "You can learn more about this split in an article by [Tomas Dvorak on Medium](https://towardsdatascience.com/why-isnt-out-of-time-validation-more-ubiquitous-7397098c4ab6)."
   ]
  },
  {
   "cell_type": "code",
   "execution_count": 4,
   "id": "a1d4ff4e",
   "metadata": {},
   "outputs": [],
   "source": [
    "testsize = round(len(data) * 0.2)\n",
    "hosize = round(len(data) * 0.1)\n",
    "data = data.sort_values(by=['cust_id'])\n",
    "\n",
    "#splitting data into 3 groups based on how many reviews they've given\n",
    "for cust in data['cust_id'].unique():\n",
    "    i = data.index[data['cust_id'] == cust]\n",
    "    \n",
    "    #if more than 2, the final review will be in holdout, 2nd to last will be in the test\n",
    "    if len(i)> 2:\n",
    "        data.loc[i[-1], 'split'] = 3\n",
    "        data.loc[i[-2], 'split'] = 2\n",
    "        data.loc[i[:-2], 'split'] = 1\n",
    "        \n",
    "    #if 2, the final review will be in the test\n",
    "    if len(i) == 2:\n",
    "        data.loc[i[-1], 'split'] = 2\n",
    "        data.loc[i[0], 'split'] = 1\n",
    "        \n",
    "    #everyone with one review gets a linear temporal split\n",
    "    else:\n",
    "        data.loc[i[0], 'split'] = 1\n",
    "        \n",
    "#sort values by date\n",
    "data = data.sort_values(by=['r_date'])"
   ]
  },
  {
   "cell_type": "code",
   "execution_count": null,
   "id": "98b08573",
   "metadata": {},
   "outputs": [],
   "source": [
    "ho2 = traintest.loc[traintest.index.isin(holdout.index)]\n",
    "ho2.shape"
   ]
  },
  {
   "cell_type": "code",
   "execution_count": null,
   "id": "3df2c2c5",
   "metadata": {},
   "outputs": [],
   "source": [
    "#random sample of final reviews\n",
    "holdout = data[(data['split'] == 3)].sample(n=hosize, random_state=1)\n",
    "\n",
    "#using the rest of the data for train/test\n",
    "traintest = data.loc[~data.index.isin(holdout.index)]\n",
    "\n",
    "#2nd to last review and linear split\n",
    "test = traintest[(traintest['split'] == 2)]\n",
    "test1 = traintest.loc[~traintest.index.isin(test.index)][-(testsize - len(test)):]\n",
    "test = pd.concat([test, test1])\n",
    "\n",
    "#remainder in train\n",
    "train = traintest.loc[~traintest.index.isin(test.index)]\n",
    "\n",
    "print('holdout shape: ', holdout.shape)\n",
    "print('test shape: ', test.shape)\n",
    "print('train shape: ', train.shape)\n"
   ]
  },
  {
   "cell_type": "markdown",
   "id": "135efabc",
   "metadata": {},
   "source": [
    "Because this code usually takes a long time to run, I have exported the splits as separate .csv files to make using the data easier."
   ]
  },
  {
   "cell_type": "code",
   "execution_count": null,
   "id": "25782d87",
   "metadata": {},
   "outputs": [],
   "source": [
    "#train.to_csv('data/train_1M.csv', index = False)\n",
    "#test.to_csv('data/test_1M.csv', index=False)\n",
    "#holdout.to_csv('data/ho_1M.csv', index=False)"
   ]
  },
  {
   "cell_type": "markdown",
   "id": "fad07afc",
   "metadata": {},
   "source": [
    "# Prepare data using Surprise format"
   ]
  },
  {
   "cell_type": "code",
   "execution_count": 6,
   "id": "5d7a651f",
   "metadata": {},
   "outputs": [],
   "source": [
    "train = pd.read_csv('data/train_1M.csv')\n",
    "test = pd.read_csv('data/test_1M.csv')\n",
    "holdout = pd.read_csv('data/ho_1M.csv')"
   ]
  },
  {
   "cell_type": "code",
   "execution_count": 7,
   "id": "23b497e3",
   "metadata": {},
   "outputs": [
    {
     "name": "stdout",
     "output_type": "stream",
     "text": [
      "holdout shape:  (100000, 9)\n",
      "test shape:  (200000, 9)\n",
      "train shape:  (700000, 9)\n"
     ]
    }
   ],
   "source": [
    "print('holdout shape: ', holdout.shape)\n",
    "print('test shape: ', test.shape)\n",
    "print('train shape: ', train.shape)"
   ]
  },
  {
   "cell_type": "code",
   "execution_count": 8,
   "id": "9a355366",
   "metadata": {},
   "outputs": [],
   "source": [
    "reader = Reader(rating_scale=(1,5))\n",
    "\n",
    "train_data = Dataset.load_from_df(train[['cust_id','mid','rating']], reader)\n",
    "test_data = Dataset.load_from_df(test[['cust_id','mid','rating']], reader)\n",
    "ho_data = Dataset.load_from_df(holdout[['cust_id','mid','rating']], reader)\n",
    "\n",
    "#correct surprise dataset format\n",
    "train_sr = train_data.build_full_trainset()\n",
    "\n",
    "test_sr1 = test_data.build_full_trainset()\n",
    "test_sr = test_sr1.build_testset()\n",
    "\n",
    "ho_sr1 = ho_data.build_full_trainset()\n",
    "ho_sr = ho_sr1.build_testset()"
   ]
  },
  {
   "cell_type": "markdown",
   "id": "950a866d",
   "metadata": {},
   "source": [
    "# Bias Baseline\n",
    "\n",
    "In this project, I initially drew a lot of inspiration from the [Balkor](http://snap.stanford.edu/class/cs246-2015/slides/08-recsys2.pdf) solution for the Netflix Prize as this is an academic exercise and I am seeking to understand recommendation systems on a granular level.\n",
    "\n",
    "This was the baseline model they used. Predictions are calculated using the following formula:\n",
    "        \n",
    "        rᵤᵢ=μ + bᵤ + bᵢ\n",
    "\n",
    "Essentially, this model operates on the assumption that you can predict a user's rating based on their natural bias. In layman's terms:\n",
    "\n",
    "    User's Rating = (mean ratings for the entire sample) + (the difference in how a user tends to rate videos) + (the difference in the content's own average rating)\n",
    "\n",
    "Model is below:"
   ]
  },
  {
   "cell_type": "code",
   "execution_count": 23,
   "id": "be565f9d",
   "metadata": {},
   "outputs": [
    {
     "name": "stdout",
     "output_type": "stream",
     "text": [
      "Estimating biases using sgd...\n",
      "MAE:  0.7921\n"
     ]
    },
    {
     "data": {
      "text/plain": [
       "0.7920659838316496"
      ]
     },
     "execution_count": 23,
     "metadata": {},
     "output_type": "execute_result"
    }
   ],
   "source": [
    "#using stochastic gradient descent bc it performed the best\n",
    "bsl_options = {'method': 'sgd'}\n",
    "bias_baseline = BaselineOnly(bsl_options)\n",
    "bias_baseline.fit(train_sr)\n",
    "predictions = bias_baseline.test(test_sr)\n",
    "\n",
    "accuracy.mae(predictions)"
   ]
  },
  {
   "cell_type": "code",
   "execution_count": 24,
   "id": "823a7d16",
   "metadata": {},
   "outputs": [
    {
     "name": "stdout",
     "output_type": "stream",
     "text": [
      "RMSE: 0.9912\n"
     ]
    },
    {
     "data": {
      "text/plain": [
       "0.9912218719062363"
      ]
     },
     "execution_count": 24,
     "metadata": {},
     "output_type": "execute_result"
    }
   ],
   "source": [
    "accuracy.rmse(predictions, verbose=True)"
   ]
  },
  {
   "cell_type": "code",
   "execution_count": 25,
   "id": "6cd858e2",
   "metadata": {},
   "outputs": [
    {
     "name": "stdout",
     "output_type": "stream",
     "text": [
      "RMSE: 0.9571\n"
     ]
    },
    {
     "data": {
      "text/plain": [
       "0.9571389103325522"
      ]
     },
     "execution_count": 25,
     "metadata": {},
     "output_type": "execute_result"
    }
   ],
   "source": [
    "preds_bsl_ho = bias_baseline.test(ho_sr)\n",
    "accuracy.rmse(preds_bsl_ho)"
   ]
  },
  {
   "cell_type": "code",
   "execution_count": 26,
   "id": "cf2da406",
   "metadata": {},
   "outputs": [
    {
     "name": "stdout",
     "output_type": "stream",
     "text": [
      "MAE:  0.7639\n"
     ]
    },
    {
     "data": {
      "text/plain": [
       "0.7639382511529568"
      ]
     },
     "execution_count": 26,
     "metadata": {},
     "output_type": "execute_result"
    }
   ],
   "source": [
    "accuracy.mae(preds_bsl_ho)"
   ]
  },
  {
   "cell_type": "markdown",
   "id": "fcd2bf46",
   "metadata": {},
   "source": [
    "# Baseline Recommender Results"
   ]
  },
  {
   "cell_type": "markdown",
   "id": "2e510a15",
   "metadata": {},
   "source": [
    "At every step, I am examining the diversity for each model. The following is the recommendation system that was built from the baseline model. \n",
    "\n",
    "Exploring diversity on a social level was added to the project later in the process so those values have been imported from a .csv and merged with the results."
   ]
  },
  {
   "cell_type": "code",
   "execution_count": 34,
   "id": "9b0d6fd7",
   "metadata": {},
   "outputs": [],
   "source": [
    "def pvr(model, cust_id):\n",
    "    all_recs = []\n",
    "\n",
    "    def rec_pvr(cust_id):\n",
    "\n",
    "        # list of all content user has not rated\n",
    "        all_content = data['mid'].unique()\n",
    "        user_content = data[data['cust_id'] == cust_id]['mid'].unique()\n",
    "        new_content = list(set(all_content) - set(user_content))\n",
    "\n",
    "        # predict the ratings for new content\n",
    "        preds = [model.predict(cust_id, mid) for mid in new_content]\n",
    "\n",
    "        # sort preds by estimated rating\n",
    "        preds.sort(key=lambda pred: pred.est, reverse=True)\n",
    "\n",
    "        # top 15 recommendations\n",
    "        top_10 = [prediction.iid for prediction in preds[:15]]\n",
    "        \n",
    "        #return list of cust,mid pairs\n",
    "        return [(cust_id, movie_id) for movie_id in top_15]\n",
    "    \n",
    "    #apply rec_pvr fxn and + to list\n",
    "    user_recs = rec_pvr(cust_id)\n",
    "    all_recs.extend(user_recs)\n",
    "\n",
    "    #new df of recs for analysis including minority requirement\n",
    "    recs = pd.DataFrame(all_recs, columns=[\"cust_id\", \"mid\"])\n",
    "    recs = recs.merge(minorityrec)\n",
    "    \n",
    "    return recs"
   ]
  },
  {
   "cell_type": "code",
   "execution_count": 40,
   "id": "3dec315f",
   "metadata": {},
   "outputs": [
    {
     "data": {
      "text/html": [
       "<div>\n",
       "<style scoped>\n",
       "    .dataframe tbody tr th:only-of-type {\n",
       "        vertical-align: middle;\n",
       "    }\n",
       "\n",
       "    .dataframe tbody tr th {\n",
       "        vertical-align: top;\n",
       "    }\n",
       "\n",
       "    .dataframe thead th {\n",
       "        text-align: right;\n",
       "    }\n",
       "</style>\n",
       "<table border=\"1\" class=\"dataframe\">\n",
       "  <thead>\n",
       "    <tr style=\"text-align: right;\">\n",
       "      <th></th>\n",
       "      <th>cust_id</th>\n",
       "      <th>mid</th>\n",
       "    </tr>\n",
       "  </thead>\n",
       "  <tbody>\n",
       "    <tr>\n",
       "      <th>0</th>\n",
       "      <td>510180</td>\n",
       "      <td>7230</td>\n",
       "    </tr>\n",
       "    <tr>\n",
       "      <th>1</th>\n",
       "      <td>510180</td>\n",
       "      <td>7833</td>\n",
       "    </tr>\n",
       "    <tr>\n",
       "      <th>2</th>\n",
       "      <td>510180</td>\n",
       "      <td>7057</td>\n",
       "    </tr>\n",
       "    <tr>\n",
       "      <th>3</th>\n",
       "      <td>510180</td>\n",
       "      <td>2102</td>\n",
       "    </tr>\n",
       "    <tr>\n",
       "      <th>4</th>\n",
       "      <td>510180</td>\n",
       "      <td>12834</td>\n",
       "    </tr>\n",
       "    <tr>\n",
       "      <th>...</th>\n",
       "      <td>...</td>\n",
       "      <td>...</td>\n",
       "    </tr>\n",
       "    <tr>\n",
       "      <th>4350325</th>\n",
       "      <td>883348</td>\n",
       "      <td>14550</td>\n",
       "    </tr>\n",
       "    <tr>\n",
       "      <th>4350326</th>\n",
       "      <td>883348</td>\n",
       "      <td>17219</td>\n",
       "    </tr>\n",
       "    <tr>\n",
       "      <th>4350327</th>\n",
       "      <td>883348</td>\n",
       "      <td>10080</td>\n",
       "    </tr>\n",
       "    <tr>\n",
       "      <th>4350328</th>\n",
       "      <td>883348</td>\n",
       "      <td>8571</td>\n",
       "    </tr>\n",
       "    <tr>\n",
       "      <th>4350329</th>\n",
       "      <td>883348</td>\n",
       "      <td>12293</td>\n",
       "    </tr>\n",
       "  </tbody>\n",
       "</table>\n",
       "<p>4350330 rows × 2 columns</p>\n",
       "</div>"
      ],
      "text/plain": [
       "         cust_id    mid\n",
       "0         510180   7230\n",
       "1         510180   7833\n",
       "2         510180   7057\n",
       "3         510180   2102\n",
       "4         510180  12834\n",
       "...          ...    ...\n",
       "4350325   883348  14550\n",
       "4350326   883348  17219\n",
       "4350327   883348  10080\n",
       "4350328   883348   8571\n",
       "4350329   883348  12293\n",
       "\n",
       "[4350330 rows x 2 columns]"
      ]
     },
     "execution_count": 40,
     "metadata": {},
     "output_type": "execute_result"
    }
   ],
   "source": [
    "top15_allusers = get_recs_bsl(all_users)\n",
    "top15_allusers"
   ]
  },
  {
   "cell_type": "code",
   "execution_count": 61,
   "id": "cca84d57",
   "metadata": {},
   "outputs": [],
   "source": [
    "#top15_allusers.to_csv('data/bslrecs.csv')"
   ]
  },
  {
   "cell_type": "code",
   "execution_count": 11,
   "id": "7842aeb7",
   "metadata": {},
   "outputs": [
    {
     "data": {
      "text/html": [
       "<div>\n",
       "<style scoped>\n",
       "    .dataframe tbody tr th:only-of-type {\n",
       "        vertical-align: middle;\n",
       "    }\n",
       "\n",
       "    .dataframe tbody tr th {\n",
       "        vertical-align: top;\n",
       "    }\n",
       "\n",
       "    .dataframe thead th {\n",
       "        text-align: right;\n",
       "    }\n",
       "</style>\n",
       "<table border=\"1\" class=\"dataframe\">\n",
       "  <thead>\n",
       "    <tr style=\"text-align: right;\">\n",
       "      <th></th>\n",
       "      <th>cust_id</th>\n",
       "      <th>mid</th>\n",
       "      <th>m_minreq</th>\n",
       "    </tr>\n",
       "  </thead>\n",
       "  <tbody>\n",
       "    <tr>\n",
       "      <th>0</th>\n",
       "      <td>510180</td>\n",
       "      <td>7230</td>\n",
       "      <td>0.0</td>\n",
       "    </tr>\n",
       "    <tr>\n",
       "      <th>1</th>\n",
       "      <td>1589382</td>\n",
       "      <td>7230</td>\n",
       "      <td>0.0</td>\n",
       "    </tr>\n",
       "    <tr>\n",
       "      <th>2</th>\n",
       "      <td>1878798</td>\n",
       "      <td>7230</td>\n",
       "      <td>0.0</td>\n",
       "    </tr>\n",
       "    <tr>\n",
       "      <th>3</th>\n",
       "      <td>1259176</td>\n",
       "      <td>7230</td>\n",
       "      <td>0.0</td>\n",
       "    </tr>\n",
       "    <tr>\n",
       "      <th>4</th>\n",
       "      <td>873369</td>\n",
       "      <td>7230</td>\n",
       "      <td>0.0</td>\n",
       "    </tr>\n",
       "  </tbody>\n",
       "</table>\n",
       "</div>"
      ],
      "text/plain": [
       "   cust_id   mid  m_minreq\n",
       "0   510180  7230       0.0\n",
       "1  1589382  7230       0.0\n",
       "2  1878798  7230       0.0\n",
       "3  1259176  7230       0.0\n",
       "4   873369  7230       0.0"
      ]
     },
     "execution_count": 11,
     "metadata": {},
     "output_type": "execute_result"
    }
   ],
   "source": [
    "top15_allusers = top15_allusers.merge(minorityrec)\n",
    "top15_allusers.head()"
   ]
  },
  {
   "cell_type": "code",
   "execution_count": 10,
   "id": "7fda749c",
   "metadata": {},
   "outputs": [
    {
     "data": {
      "text/plain": [
       "290022"
      ]
     },
     "execution_count": 10,
     "metadata": {},
     "output_type": "execute_result"
    }
   ],
   "source": [
    "#list of all users\n",
    "all_users = data['cust_id'].unique()\n",
    "len(all_users)"
   ]
  },
  {
   "cell_type": "code",
   "execution_count": 41,
   "id": "47468eab",
   "metadata": {},
   "outputs": [
    {
     "data": {
      "text/plain": [
       "mid\n",
       "2102     289705\n",
       "4427     289509\n",
       "7833     289035\n",
       "8571     288958\n",
       "8535     288894\n",
       "          ...  \n",
       "113           2\n",
       "14240         1\n",
       "57            1\n",
       "180           1\n",
       "203           1\n",
       "Name: count, Length: 122, dtype: int64"
      ]
     },
     "execution_count": 41,
     "metadata": {},
     "output_type": "execute_result"
    }
   ],
   "source": [
    "top15_allusers['mid'].value_counts()"
   ]
  },
  {
   "cell_type": "code",
   "execution_count": 15,
   "id": "468f7d7a",
   "metadata": {},
   "outputs": [
    {
     "data": {
      "text/plain": [
       "m_minreq\n",
       "0.0    4346858\n",
       "1.0       3472\n",
       "Name: count, dtype: int64"
      ]
     },
     "execution_count": 15,
     "metadata": {},
     "output_type": "execute_result"
    }
   ],
   "source": [
    "top15_allusers['m_minreq'].value_counts()"
   ]
  },
  {
   "cell_type": "code",
   "execution_count": 16,
   "id": "c6e7a045",
   "metadata": {},
   "outputs": [
    {
     "data": {
      "text/plain": [
       "m_minreq\n",
       "0.0    0.999202\n",
       "1.0    0.000798\n",
       "Name: proportion, dtype: float64"
      ]
     },
     "execution_count": 16,
     "metadata": {},
     "output_type": "execute_result"
    }
   ],
   "source": [
    "top15_allusers['m_minreq'].value_counts(normalize = True)"
   ]
  },
  {
   "cell_type": "markdown",
   "id": "6aafeb9d",
   "metadata": {},
   "source": [
    "Though this model is very accurate, it contains very little diversity. For over 290k users with a library of almost 18k users, it only recommended 122 different videos. \n",
    "\n",
    "Minority representation in the dataset was low to begin with so it is not surprising that this number shrank substantially."
   ]
  },
  {
   "cell_type": "markdown",
   "id": "6f569dec",
   "metadata": {},
   "source": [
    "# SVD++"
   ]
  },
  {
   "cell_type": "code",
   "execution_count": 11,
   "id": "5890e3e7",
   "metadata": {},
   "outputs": [
    {
     "name": "stdout",
     "output_type": "stream",
     "text": [
      "RMSE: 1.0302\n",
      "MAE:  0.8274\n"
     ]
    },
    {
     "data": {
      "text/plain": [
       "0.8273689246712609"
      ]
     },
     "execution_count": 11,
     "metadata": {},
     "output_type": "execute_result"
    }
   ],
   "source": [
    "svdpp = SVDpp(n_factors= 150, n_epochs= 20)\n",
    "svdpp.fit(train_sr)\n",
    "preds_svdpp = svdpp.test(test_sr)\n",
    "\n",
    "accuracy.rmse(preds_svdpp)\n",
    "accuracy.mae(preds_svdpp)"
   ]
  },
  {
   "cell_type": "code",
   "execution_count": 12,
   "id": "1ae6f960",
   "metadata": {},
   "outputs": [
    {
     "name": "stdout",
     "output_type": "stream",
     "text": [
      "RMSE: 0.9091\n",
      "MAE:  0.7009\n"
     ]
    },
    {
     "data": {
      "text/plain": [
       "0.7009034106130455"
      ]
     },
     "execution_count": 12,
     "metadata": {},
     "output_type": "execute_result"
    }
   ],
   "source": [
    "preds_svdpp_ho = svdpp.test(ho_sr)\n",
    "accuracy.rmse(preds_svdpp_ho)\n",
    "accuracy.mae(preds_svdpp_ho)"
   ]
  },
  {
   "cell_type": "code",
   "execution_count": 13,
   "id": "3e775fa4",
   "metadata": {},
   "outputs": [],
   "source": [
    "def get_recs(model, user_list):\n",
    "    all_recommendations = []\n",
    "    \n",
    "    def rec_content(cust_id):\n",
    "        # Get a list of all the movies the user has not rated\n",
    "        all_content = data['mid'].unique()\n",
    "        user_content = data[data['cust_id'] == cust_id]['mid'].unique()\n",
    "        new_content = list(set(all_content) - set(user_content))\n",
    "\n",
    "        # Predict the ratings for the new movies\n",
    "        predictions = [model.predict(cust_id, mid) for mid in new_content]\n",
    "\n",
    "        # Sort the predictions by estimated rating\n",
    "        predictions.sort(key=lambda x: x.est, reverse=True)\n",
    "\n",
    "        # Get the top 15 recommendations\n",
    "        top_recommendations = [prediction.iid for prediction in predictions[:15]]\n",
    "\n",
    "        return [(cust_id, movie_id) for movie_id in top_recommendations]\n",
    "\n",
    "    #for all users apply recs\n",
    "    for cust_id in user_list:\n",
    "        user_recs = rec_content(cust_id)\n",
    "        all_recommendations.extend(user_recs)\n",
    "    \n",
    "    #new df of recs for analysis\n",
    "    recommendations_df = pd.DataFrame(all_recommendations, columns=[\"cust_id\", \"mid\"])\n",
    "    return recommendations_df"
   ]
  },
  {
   "cell_type": "code",
   "execution_count": 17,
   "id": "cf875ac9",
   "metadata": {},
   "outputs": [],
   "source": [
    "top15_svdpp_allusers = get_recs(svdpp, all_users)"
   ]
  },
  {
   "cell_type": "code",
   "execution_count": 19,
   "id": "e2f63e53",
   "metadata": {},
   "outputs": [
    {
     "data": {
      "text/html": [
       "<div>\n",
       "<style scoped>\n",
       "    .dataframe tbody tr th:only-of-type {\n",
       "        vertical-align: middle;\n",
       "    }\n",
       "\n",
       "    .dataframe tbody tr th {\n",
       "        vertical-align: top;\n",
       "    }\n",
       "\n",
       "    .dataframe thead th {\n",
       "        text-align: right;\n",
       "    }\n",
       "</style>\n",
       "<table border=\"1\" class=\"dataframe\">\n",
       "  <thead>\n",
       "    <tr style=\"text-align: right;\">\n",
       "      <th></th>\n",
       "      <th>cust_id</th>\n",
       "      <th>mid</th>\n",
       "    </tr>\n",
       "  </thead>\n",
       "  <tbody>\n",
       "    <tr>\n",
       "      <th>0</th>\n",
       "      <td>510180</td>\n",
       "      <td>5760</td>\n",
       "    </tr>\n",
       "    <tr>\n",
       "      <th>1</th>\n",
       "      <td>510180</td>\n",
       "      <td>2057</td>\n",
       "    </tr>\n",
       "    <tr>\n",
       "      <th>2</th>\n",
       "      <td>510180</td>\n",
       "      <td>8116</td>\n",
       "    </tr>\n",
       "    <tr>\n",
       "      <th>3</th>\n",
       "      <td>510180</td>\n",
       "      <td>5837</td>\n",
       "    </tr>\n",
       "    <tr>\n",
       "      <th>4</th>\n",
       "      <td>510180</td>\n",
       "      <td>7749</td>\n",
       "    </tr>\n",
       "  </tbody>\n",
       "</table>\n",
       "</div>"
      ],
      "text/plain": [
       "   cust_id   mid\n",
       "0   510180  5760\n",
       "1   510180  2057\n",
       "2   510180  8116\n",
       "3   510180  5837\n",
       "4   510180  7749"
      ]
     },
     "execution_count": 19,
     "metadata": {},
     "output_type": "execute_result"
    }
   ],
   "source": [
    "top15_svdpp_allusers.head()"
   ]
  },
  {
   "cell_type": "code",
   "execution_count": 35,
   "id": "d06f744e",
   "metadata": {},
   "outputs": [],
   "source": [
    "top15_svdpp_allusers.to_csv('data/top15_svdpp_allusers.csv', index=False)"
   ]
  },
  {
   "cell_type": "code",
   "execution_count": 26,
   "id": "fb57c7cb",
   "metadata": {},
   "outputs": [
    {
     "data": {
      "text/html": [
       "<div>\n",
       "<style scoped>\n",
       "    .dataframe tbody tr th:only-of-type {\n",
       "        vertical-align: middle;\n",
       "    }\n",
       "\n",
       "    .dataframe tbody tr th {\n",
       "        vertical-align: top;\n",
       "    }\n",
       "\n",
       "    .dataframe thead th {\n",
       "        text-align: right;\n",
       "    }\n",
       "</style>\n",
       "<table border=\"1\" class=\"dataframe\">\n",
       "  <thead>\n",
       "    <tr style=\"text-align: right;\">\n",
       "      <th></th>\n",
       "      <th>cust_id</th>\n",
       "      <th>mid</th>\n",
       "      <th>m_minreq</th>\n",
       "    </tr>\n",
       "  </thead>\n",
       "  <tbody>\n",
       "    <tr>\n",
       "      <th>0</th>\n",
       "      <td>510180</td>\n",
       "      <td>5760</td>\n",
       "      <td>0.0</td>\n",
       "    </tr>\n",
       "    <tr>\n",
       "      <th>1</th>\n",
       "      <td>398661</td>\n",
       "      <td>5760</td>\n",
       "      <td>0.0</td>\n",
       "    </tr>\n",
       "    <tr>\n",
       "      <th>2</th>\n",
       "      <td>200684</td>\n",
       "      <td>5760</td>\n",
       "      <td>0.0</td>\n",
       "    </tr>\n",
       "    <tr>\n",
       "      <th>3</th>\n",
       "      <td>1136678</td>\n",
       "      <td>5760</td>\n",
       "      <td>0.0</td>\n",
       "    </tr>\n",
       "    <tr>\n",
       "      <th>4</th>\n",
       "      <td>712568</td>\n",
       "      <td>5760</td>\n",
       "      <td>0.0</td>\n",
       "    </tr>\n",
       "  </tbody>\n",
       "</table>\n",
       "</div>"
      ],
      "text/plain": [
       "   cust_id   mid  m_minreq\n",
       "0   510180  5760       0.0\n",
       "1   398661  5760       0.0\n",
       "2   200684  5760       0.0\n",
       "3  1136678  5760       0.0\n",
       "4   712568  5760       0.0"
      ]
     },
     "execution_count": 26,
     "metadata": {},
     "output_type": "execute_result"
    }
   ],
   "source": [
    "top15_svdpp_allusers = top15_svdpp_allusers.merge(minorityrec)\n",
    "top15_svdpp_allusers.head()"
   ]
  },
  {
   "cell_type": "code",
   "execution_count": 27,
   "id": "e49c230e",
   "metadata": {},
   "outputs": [
    {
     "data": {
      "text/plain": [
       "mid\n",
       "7230     145231\n",
       "14961    138438\n",
       "7057     135047\n",
       "16587    109922\n",
       "14302     95981\n",
       "          ...  \n",
       "862           1\n",
       "1689          1\n",
       "545           1\n",
       "2315          1\n",
       "16931         1\n",
       "Name: count, Length: 2304, dtype: int64"
      ]
     },
     "execution_count": 27,
     "metadata": {},
     "output_type": "execute_result"
    }
   ],
   "source": [
    "top15_svdpp_allusers['mid'].value_counts()"
   ]
  },
  {
   "cell_type": "code",
   "execution_count": 28,
   "id": "6255f775",
   "metadata": {},
   "outputs": [
    {
     "data": {
      "text/plain": [
       "m_minreq\n",
       "0.0    3938424\n",
       "1.0     411906\n",
       "Name: count, dtype: int64"
      ]
     },
     "execution_count": 28,
     "metadata": {},
     "output_type": "execute_result"
    }
   ],
   "source": [
    "top15_svdpp_allusers['m_minreq'].value_counts()"
   ]
  },
  {
   "cell_type": "code",
   "execution_count": 29,
   "id": "1e57f5e1",
   "metadata": {},
   "outputs": [
    {
     "data": {
      "text/plain": [
       "m_minreq\n",
       "0.0    0.905316\n",
       "1.0    0.094684\n",
       "Name: proportion, dtype: float64"
      ]
     },
     "execution_count": 29,
     "metadata": {},
     "output_type": "execute_result"
    }
   ],
   "source": [
    "top15_svdpp_allusers['m_minreq'].value_counts(normalize=True)"
   ]
  },
  {
   "cell_type": "code",
   "execution_count": 30,
   "id": "dc6166a6",
   "metadata": {},
   "outputs": [
    {
     "data": {
      "text/plain": [
       "0.09388600000000001"
      ]
     },
     "execution_count": 30,
     "metadata": {},
     "output_type": "execute_result"
    }
   ],
   "source": [
    "0.094684 - 0.000798"
   ]
  },
  {
   "cell_type": "markdown",
   "id": "12d5be80",
   "metadata": {},
   "source": [
    "This model performed much better all around. For over 290k users with a library of almost 18k users, it recommended 2304 different videos. \n",
    "\n",
    "Minority representation is still low, but exponentially higher than the baseline model, up .94 from .0008. "
   ]
  },
  {
   "cell_type": "markdown",
   "id": "11dfcf8e",
   "metadata": {},
   "source": [
    "# User #2407458\n",
    "\n",
    "Our example user was given the following results for both models:"
   ]
  },
  {
   "cell_type": "code",
   "execution_count": 34,
   "id": "e588307c",
   "metadata": {},
   "outputs": [
    {
     "data": {
      "text/html": [
       "<div>\n",
       "<style scoped>\n",
       "    .dataframe tbody tr th:only-of-type {\n",
       "        vertical-align: middle;\n",
       "    }\n",
       "\n",
       "    .dataframe tbody tr th {\n",
       "        vertical-align: top;\n",
       "    }\n",
       "\n",
       "    .dataframe thead th {\n",
       "        text-align: right;\n",
       "    }\n",
       "</style>\n",
       "<table border=\"1\" class=\"dataframe\">\n",
       "  <thead>\n",
       "    <tr style=\"text-align: right;\">\n",
       "      <th></th>\n",
       "      <th>mid</th>\n",
       "      <th>cust_id</th>\n",
       "      <th>rating</th>\n",
       "      <th>r_date</th>\n",
       "      <th>m_decade</th>\n",
       "      <th>m_avg_rating</th>\n",
       "      <th>user_engagement</th>\n",
       "      <th>adopters</th>\n",
       "    </tr>\n",
       "  </thead>\n",
       "  <tbody>\n",
       "    <tr>\n",
       "      <th>309189</th>\n",
       "      <td>16128</td>\n",
       "      <td>2407458</td>\n",
       "      <td>4.0</td>\n",
       "      <td>2005-11-05</td>\n",
       "      <td>4</td>\n",
       "      <td>3.964478</td>\n",
       "      <td>4</td>\n",
       "      <td>5</td>\n",
       "    </tr>\n",
       "    <tr>\n",
       "      <th>309190</th>\n",
       "      <td>15342</td>\n",
       "      <td>2407458</td>\n",
       "      <td>3.0</td>\n",
       "      <td>2005-11-17</td>\n",
       "      <td>4</td>\n",
       "      <td>3.476331</td>\n",
       "      <td>4</td>\n",
       "      <td>5</td>\n",
       "    </tr>\n",
       "    <tr>\n",
       "      <th>309191</th>\n",
       "      <td>4157</td>\n",
       "      <td>2407458</td>\n",
       "      <td>3.0</td>\n",
       "      <td>2005-11-17</td>\n",
       "      <td>4</td>\n",
       "      <td>3.357143</td>\n",
       "      <td>4</td>\n",
       "      <td>5</td>\n",
       "    </tr>\n",
       "    <tr>\n",
       "      <th>309192</th>\n",
       "      <td>14606</td>\n",
       "      <td>2407458</td>\n",
       "      <td>3.0</td>\n",
       "      <td>2005-11-05</td>\n",
       "      <td>5</td>\n",
       "      <td>3.124744</td>\n",
       "      <td>4</td>\n",
       "      <td>5</td>\n",
       "    </tr>\n",
       "  </tbody>\n",
       "</table>\n",
       "</div>"
      ],
      "text/plain": [
       "          mid  cust_id  rating     r_date  m_decade  m_avg_rating   \n",
       "309189  16128  2407458     4.0 2005-11-05         4      3.964478  \\\n",
       "309190  15342  2407458     3.0 2005-11-17         4      3.476331   \n",
       "309191   4157  2407458     3.0 2005-11-17         4      3.357143   \n",
       "309192  14606  2407458     3.0 2005-11-05         5      3.124744   \n",
       "\n",
       "        user_engagement  adopters  \n",
       "309189                4         5  \n",
       "309190                4         5  \n",
       "309191                4         5  \n",
       "309192                4         5  "
      ]
     },
     "execution_count": 34,
     "metadata": {},
     "output_type": "execute_result"
    }
   ],
   "source": [
    "example = data[data['cust_id'] == 2407458]\n",
    "example"
   ]
  },
  {
   "cell_type": "code",
   "execution_count": 32,
   "id": "ae73ddaf",
   "metadata": {},
   "outputs": [
    {
     "data": {
      "text/html": [
       "<div>\n",
       "<style scoped>\n",
       "    .dataframe tbody tr th:only-of-type {\n",
       "        vertical-align: middle;\n",
       "    }\n",
       "\n",
       "    .dataframe tbody tr th {\n",
       "        vertical-align: top;\n",
       "    }\n",
       "\n",
       "    .dataframe thead th {\n",
       "        text-align: right;\n",
       "    }\n",
       "</style>\n",
       "<table border=\"1\" class=\"dataframe\">\n",
       "  <thead>\n",
       "    <tr style=\"text-align: right;\">\n",
       "      <th></th>\n",
       "      <th>cust_id</th>\n",
       "      <th>mid</th>\n",
       "      <th>m_minreq</th>\n",
       "    </tr>\n",
       "  </thead>\n",
       "  <tbody>\n",
       "    <tr>\n",
       "      <th>49507</th>\n",
       "      <td>2407458</td>\n",
       "      <td>7230</td>\n",
       "      <td>0.0</td>\n",
       "    </tr>\n",
       "    <tr>\n",
       "      <th>338184</th>\n",
       "      <td>2407458</td>\n",
       "      <td>7833</td>\n",
       "      <td>0.0</td>\n",
       "    </tr>\n",
       "    <tr>\n",
       "      <th>627153</th>\n",
       "      <td>2407458</td>\n",
       "      <td>7057</td>\n",
       "      <td>0.0</td>\n",
       "    </tr>\n",
       "    <tr>\n",
       "      <th>916081</th>\n",
       "      <td>2407458</td>\n",
       "      <td>2102</td>\n",
       "      <td>0.0</td>\n",
       "    </tr>\n",
       "    <tr>\n",
       "      <th>1205222</th>\n",
       "      <td>2407458</td>\n",
       "      <td>12834</td>\n",
       "      <td>0.0</td>\n",
       "    </tr>\n",
       "    <tr>\n",
       "      <th>1493488</th>\n",
       "      <td>2407458</td>\n",
       "      <td>16587</td>\n",
       "      <td>0.0</td>\n",
       "    </tr>\n",
       "    <tr>\n",
       "      <th>1781951</th>\n",
       "      <td>2407458</td>\n",
       "      <td>8535</td>\n",
       "      <td>0.0</td>\n",
       "    </tr>\n",
       "    <tr>\n",
       "      <th>2070457</th>\n",
       "      <td>2407458</td>\n",
       "      <td>14961</td>\n",
       "      <td>0.0</td>\n",
       "    </tr>\n",
       "    <tr>\n",
       "      <th>2358792</th>\n",
       "      <td>2407458</td>\n",
       "      <td>4427</td>\n",
       "      <td>0.0</td>\n",
       "    </tr>\n",
       "    <tr>\n",
       "      <th>2647768</th>\n",
       "      <td>2407458</td>\n",
       "      <td>15861</td>\n",
       "      <td>0.0</td>\n",
       "    </tr>\n",
       "    <tr>\n",
       "      <th>2935757</th>\n",
       "      <td>2407458</td>\n",
       "      <td>14550</td>\n",
       "      <td>0.0</td>\n",
       "    </tr>\n",
       "    <tr>\n",
       "      <th>3223109</th>\n",
       "      <td>2407458</td>\n",
       "      <td>17219</td>\n",
       "      <td>0.0</td>\n",
       "    </tr>\n",
       "    <tr>\n",
       "      <th>3511576</th>\n",
       "      <td>2407458</td>\n",
       "      <td>10080</td>\n",
       "      <td>0.0</td>\n",
       "    </tr>\n",
       "    <tr>\n",
       "      <th>3800328</th>\n",
       "      <td>2407458</td>\n",
       "      <td>8571</td>\n",
       "      <td>0.0</td>\n",
       "    </tr>\n",
       "    <tr>\n",
       "      <th>4088919</th>\n",
       "      <td>2407458</td>\n",
       "      <td>12293</td>\n",
       "      <td>0.0</td>\n",
       "    </tr>\n",
       "  </tbody>\n",
       "</table>\n",
       "</div>"
      ],
      "text/plain": [
       "         cust_id    mid  m_minreq\n",
       "49507    2407458   7230       0.0\n",
       "338184   2407458   7833       0.0\n",
       "627153   2407458   7057       0.0\n",
       "916081   2407458   2102       0.0\n",
       "1205222  2407458  12834       0.0\n",
       "1493488  2407458  16587       0.0\n",
       "1781951  2407458   8535       0.0\n",
       "2070457  2407458  14961       0.0\n",
       "2358792  2407458   4427       0.0\n",
       "2647768  2407458  15861       0.0\n",
       "2935757  2407458  14550       0.0\n",
       "3223109  2407458  17219       0.0\n",
       "3511576  2407458  10080       0.0\n",
       "3800328  2407458   8571       0.0\n",
       "4088919  2407458  12293       0.0"
      ]
     },
     "execution_count": 32,
     "metadata": {},
     "output_type": "execute_result"
    }
   ],
   "source": [
    "baseline_example = top15_allusers[(top15_allusers['cust_id'] == 2407458)]\n",
    "baseline_example"
   ]
  },
  {
   "cell_type": "code",
   "execution_count": 33,
   "id": "19731b01",
   "metadata": {},
   "outputs": [
    {
     "data": {
      "text/html": [
       "<div>\n",
       "<style scoped>\n",
       "    .dataframe tbody tr th:only-of-type {\n",
       "        vertical-align: middle;\n",
       "    }\n",
       "\n",
       "    .dataframe tbody tr th {\n",
       "        vertical-align: top;\n",
       "    }\n",
       "\n",
       "    .dataframe thead th {\n",
       "        text-align: right;\n",
       "    }\n",
       "</style>\n",
       "<table border=\"1\" class=\"dataframe\">\n",
       "  <thead>\n",
       "    <tr style=\"text-align: right;\">\n",
       "      <th></th>\n",
       "      <th>cust_id</th>\n",
       "      <th>mid</th>\n",
       "      <th>m_minreq</th>\n",
       "    </tr>\n",
       "  </thead>\n",
       "  <tbody>\n",
       "    <tr>\n",
       "      <th>267998</th>\n",
       "      <td>2407458</td>\n",
       "      <td>12834</td>\n",
       "      <td>0.0</td>\n",
       "    </tr>\n",
       "    <tr>\n",
       "      <th>502332</th>\n",
       "      <td>2407458</td>\n",
       "      <td>7230</td>\n",
       "      <td>0.0</td>\n",
       "    </tr>\n",
       "    <tr>\n",
       "      <th>864390</th>\n",
       "      <td>2407458</td>\n",
       "      <td>10418</td>\n",
       "      <td>0.0</td>\n",
       "    </tr>\n",
       "    <tr>\n",
       "      <th>997165</th>\n",
       "      <td>2407458</td>\n",
       "      <td>16587</td>\n",
       "      <td>0.0</td>\n",
       "    </tr>\n",
       "    <tr>\n",
       "      <th>1151834</th>\n",
       "      <td>2407458</td>\n",
       "      <td>14621</td>\n",
       "      <td>0.0</td>\n",
       "    </tr>\n",
       "    <tr>\n",
       "      <th>1558123</th>\n",
       "      <td>2407458</td>\n",
       "      <td>12293</td>\n",
       "      <td>0.0</td>\n",
       "    </tr>\n",
       "    <tr>\n",
       "      <th>1713263</th>\n",
       "      <td>2407458</td>\n",
       "      <td>2102</td>\n",
       "      <td>0.0</td>\n",
       "    </tr>\n",
       "    <tr>\n",
       "      <th>2183369</th>\n",
       "      <td>2407458</td>\n",
       "      <td>5103</td>\n",
       "      <td>0.0</td>\n",
       "    </tr>\n",
       "    <tr>\n",
       "      <th>2553679</th>\n",
       "      <td>2407458</td>\n",
       "      <td>14691</td>\n",
       "      <td>0.0</td>\n",
       "    </tr>\n",
       "    <tr>\n",
       "      <th>2824970</th>\n",
       "      <td>2407458</td>\n",
       "      <td>10080</td>\n",
       "      <td>0.0</td>\n",
       "    </tr>\n",
       "    <tr>\n",
       "      <th>3649131</th>\n",
       "      <td>2407458</td>\n",
       "      <td>457</td>\n",
       "      <td>1.0</td>\n",
       "    </tr>\n",
       "    <tr>\n",
       "      <th>3892031</th>\n",
       "      <td>2407458</td>\n",
       "      <td>12221</td>\n",
       "      <td>0.0</td>\n",
       "    </tr>\n",
       "    <tr>\n",
       "      <th>3911558</th>\n",
       "      <td>2407458</td>\n",
       "      <td>15689</td>\n",
       "      <td>0.0</td>\n",
       "    </tr>\n",
       "    <tr>\n",
       "      <th>4118086</th>\n",
       "      <td>2407458</td>\n",
       "      <td>11525</td>\n",
       "      <td>0.0</td>\n",
       "    </tr>\n",
       "    <tr>\n",
       "      <th>4198338</th>\n",
       "      <td>2407458</td>\n",
       "      <td>2443</td>\n",
       "      <td>1.0</td>\n",
       "    </tr>\n",
       "  </tbody>\n",
       "</table>\n",
       "</div>"
      ],
      "text/plain": [
       "         cust_id    mid  m_minreq\n",
       "267998   2407458  12834       0.0\n",
       "502332   2407458   7230       0.0\n",
       "864390   2407458  10418       0.0\n",
       "997165   2407458  16587       0.0\n",
       "1151834  2407458  14621       0.0\n",
       "1558123  2407458  12293       0.0\n",
       "1713263  2407458   2102       0.0\n",
       "2183369  2407458   5103       0.0\n",
       "2553679  2407458  14691       0.0\n",
       "2824970  2407458  10080       0.0\n",
       "3649131  2407458    457       1.0\n",
       "3892031  2407458  12221       0.0\n",
       "3911558  2407458  15689       0.0\n",
       "4118086  2407458  11525       0.0\n",
       "4198338  2407458   2443       1.0"
      ]
     },
     "execution_count": 33,
     "metadata": {},
     "output_type": "execute_result"
    }
   ],
   "source": [
    "svdpp_example = top15_svdpp_allusers[(top15_svdpp_allusers['cust_id'] == 2407458)]\n",
    "svdpp_example"
   ]
  },
  {
   "cell_type": "code",
   "execution_count": null,
   "id": "1b84ffb1",
   "metadata": {},
   "outputs": [],
   "source": []
  }
 ],
 "metadata": {
  "kernelspec": {
   "display_name": "Python 3 (ipykernel)",
   "language": "python",
   "name": "python3"
  },
  "language_info": {
   "codemirror_mode": {
    "name": "ipython",
    "version": 3
   },
   "file_extension": ".py",
   "mimetype": "text/x-python",
   "name": "python",
   "nbconvert_exporter": "python",
   "pygments_lexer": "ipython3",
   "version": "3.9.13"
  }
 },
 "nbformat": 4,
 "nbformat_minor": 5
}
