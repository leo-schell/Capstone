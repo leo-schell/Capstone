{
 "cells": [
  {
   "cell_type": "code",
   "execution_count": 1,
   "id": "aface1f5",
   "metadata": {},
   "outputs": [],
   "source": [
    "import pandas as pd\n",
    "import numpy as np\n",
    "\n",
    "import os\n",
    "from surprise import Dataset\n",
    "from surprise import Reader\n",
    "from surprise import accuracy\n",
    "\n",
    "from surprise import NormalPredictor\n",
    "\n",
    "from surprise import BaselineOnly\n",
    "from surprise import SVD\n",
    "from surprise import SVDpp\n",
    "from surprise.model_selection import cross_validate\n",
    "from surprise.model_selection import GridSearchCV\n",
    "from surprise.model_selection import RandomizedSearchCV"
   ]
  },
  {
   "cell_type": "code",
   "execution_count": 2,
   "id": "6a8bb775",
   "metadata": {},
   "outputs": [
    {
     "data": {
      "application/javascript": [
       "if (!(\"Notification\" in window)) {\n",
       "    alert(\"This browser does not support desktop notifications, so the %%notify magic will not work.\");\n",
       "} else if (Notification.permission !== 'granted' && Notification.permission !== 'denied') {\n",
       "    Notification.requestPermission(function (permission) {\n",
       "        if(!('permission' in Notification)) {\n",
       "            Notification.permission = permission;\n",
       "        }\n",
       "    })\n",
       "}\n"
      ],
      "text/plain": [
       "<IPython.core.display.Javascript object>"
      ]
     },
     "metadata": {},
     "output_type": "display_data"
    }
   ],
   "source": [
    "#notify me when a long running cell is complete\n",
    "%load_ext jupyternotify\n",
    "import time"
   ]
  },
  {
   "cell_type": "code",
   "execution_count": 3,
   "id": "fbd0054e",
   "metadata": {},
   "outputs": [
    {
     "name": "stdout",
     "output_type": "stream",
     "text": [
      "<class 'pandas.core.frame.DataFrame'>\n",
      "RangeIndex: 1000000 entries, 0 to 999999\n",
      "Data columns (total 8 columns):\n",
      " #   Column           Non-Null Count    Dtype         \n",
      "---  ------           --------------    -----         \n",
      " 0   mid              1000000 non-null  int64         \n",
      " 1   cust_id          1000000 non-null  int64         \n",
      " 2   rating           1000000 non-null  float64       \n",
      " 3   r_date           1000000 non-null  datetime64[ns]\n",
      " 4   m_decade         1000000 non-null  int64         \n",
      " 5   m_avg_rating     1000000 non-null  float64       \n",
      " 6   user_engagement  1000000 non-null  int64         \n",
      " 7   adopters         1000000 non-null  int64         \n",
      "dtypes: datetime64[ns](1), float64(2), int64(5)\n",
      "memory usage: 61.0 MB\n"
     ]
    }
   ],
   "source": [
    "data = pd.read_csv('data/1m_useratt.csv')\n",
    "\n",
    "#for split\n",
    "data['r_date'] = data['r_date'].astype('datetime64[ns]')\n",
    "\n",
    "data.info()"
   ]
  },
  {
   "cell_type": "code",
   "execution_count": 4,
   "id": "a1d4ff4e",
   "metadata": {},
   "outputs": [],
   "source": [
    "testsize = round(len(data) * 0.2)\n",
    "hosize = round(len(data) * 0.1)\n",
    "data = data.sort_values(by=['cust_id'])\n",
    "\n",
    "#splitting data into 3 groups based on how many reviews they've given\n",
    "for cust in data['cust_id'].unique():\n",
    "    i = data.index[data['cust_id'] == cust]\n",
    "    \n",
    "    #if more than 2, the final review will be in holdout, 2nd to last will be in the test\n",
    "    if len(i)> 2:\n",
    "        data.loc[i[-1], 'split'] = 3\n",
    "        data.loc[i[-2], 'split'] = 2\n",
    "        data.loc[i[:-2], 'split'] = 1\n",
    "        \n",
    "    #if 2, the final review will be in the test\n",
    "    if len(i) == 2:\n",
    "        data.loc[i[-1], 'split'] = 2\n",
    "        data.loc[i[0], 'split'] = 1\n",
    "        \n",
    "    #everyone with one review gets a linear temporal split\n",
    "    else:\n",
    "        data.loc[i[0], 'split'] = 1\n",
    "        \n",
    "#sort values by date\n",
    "data = data.sort_values(by=['r_date'])"
   ]
  },
  {
   "cell_type": "code",
   "execution_count": null,
   "id": "98b08573",
   "metadata": {},
   "outputs": [],
   "source": [
    "ho2 = traintest.loc[traintest.index.isin(holdout.index)]\n",
    "ho2.shape"
   ]
  },
  {
   "cell_type": "code",
   "execution_count": null,
   "id": "3df2c2c5",
   "metadata": {},
   "outputs": [],
   "source": [
    "#random sample of final reviews\n",
    "holdout = data[(data['split'] == 3)].sample(n=hosize, random_state=1)\n",
    "\n",
    "#using the rest of the data for train/test\n",
    "traintest = data.loc[~data.index.isin(holdout.index)]\n",
    "\n",
    "#2nd to last review and linear split\n",
    "test = traintest[(traintest['split'] == 2)]\n",
    "test1 = traintest.loc[~traintest.index.isin(test.index)][-(testsize - len(test)):]\n",
    "test = pd.concat([test, test1])\n",
    "\n",
    "#remainder in train\n",
    "train = traintest.loc[~traintest.index.isin(test.index)]\n",
    "\n",
    "print('holdout shape: ', holdout.shape)\n",
    "print('test shape: ', test.shape)\n",
    "print('train shape: ', train.shape)\n"
   ]
  },
  {
   "cell_type": "code",
   "execution_count": null,
   "id": "25782d87",
   "metadata": {},
   "outputs": [],
   "source": [
    "#train.to_csv('data/train_1M.csv', index = False)\n",
    "#test.to_csv('data/test_1M.csv', index=False)\n",
    "#holdout.to_csv('data/ho_1M.csv', index=False)"
   ]
  },
  {
   "cell_type": "markdown",
   "id": "fad07afc",
   "metadata": {},
   "source": [
    "# Prepare for Surprise"
   ]
  },
  {
   "cell_type": "code",
   "execution_count": 4,
   "id": "5d7a651f",
   "metadata": {},
   "outputs": [],
   "source": [
    "train = pd.read_csv('data/train_1M.csv')\n",
    "test = pd.read_csv('data/test_1M.csv')\n",
    "holdout = pd.read_csv('data/ho_1M.csv')"
   ]
  },
  {
   "cell_type": "code",
   "execution_count": 6,
   "id": "23b497e3",
   "metadata": {},
   "outputs": [
    {
     "name": "stdout",
     "output_type": "stream",
     "text": [
      "holdout shape:  (100000, 9)\n",
      "test shape:  (200000, 9)\n",
      "train shape:  (700000, 9)\n"
     ]
    }
   ],
   "source": [
    "print('holdout shape: ', holdout.shape)\n",
    "print('test shape: ', test.shape)\n",
    "print('train shape: ', train.shape)"
   ]
  },
  {
   "cell_type": "code",
   "execution_count": 7,
   "id": "9a355366",
   "metadata": {},
   "outputs": [],
   "source": [
    "reader = Reader(rating_scale=(1,5))\n",
    "\n",
    "train_data = Dataset.load_from_df(train[['cust_id','mid','rating']], reader)\n",
    "test_data = Dataset.load_from_df(test[['cust_id','mid','rating']], reader)\n",
    "ho_data = Dataset.load_from_df(holdout[['cust_id','mid','rating']], reader)\n",
    "\n",
    "#correct surprise dataset format\n",
    "train_sr = train_data.build_full_trainset()\n",
    "\n",
    "test_sr1 = test_data.build_full_trainset()\n",
    "test_sr = test_sr1.build_testset()\n",
    "\n",
    "ho_sr1 = ho_data.build_full_trainset()\n",
    "ho_sr = ho_sr1.build_testset()"
   ]
  },
  {
   "cell_type": "markdown",
   "id": "e7ae76db",
   "metadata": {},
   "source": [
    "# Normal Predictor"
   ]
  },
  {
   "cell_type": "code",
   "execution_count": 8,
   "id": "80e50c64",
   "metadata": {},
   "outputs": [
    {
     "name": "stdout",
     "output_type": "stream",
     "text": [
      "MAE:  1.1781\n"
     ]
    },
    {
     "data": {
      "text/plain": [
       "1.178090054630419"
      ]
     },
     "execution_count": 8,
     "metadata": {},
     "output_type": "execute_result"
    }
   ],
   "source": [
    "np = NormalPredictor()\n",
    "np.fit(train_sr)\n",
    "np_preds = np.test(test_sr)\n",
    "\n",
    "accuracy.mae(np_preds)"
   ]
  },
  {
   "cell_type": "code",
   "execution_count": 9,
   "id": "6bea0c73",
   "metadata": {},
   "outputs": [
    {
     "name": "stdout",
     "output_type": "stream",
     "text": [
      "RMSE: 1.4680\n"
     ]
    },
    {
     "data": {
      "text/plain": [
       "1.4680181988882528"
      ]
     },
     "execution_count": 9,
     "metadata": {},
     "output_type": "execute_result"
    }
   ],
   "source": [
    "accuracy.rmse(np_preds)"
   ]
  },
  {
   "cell_type": "markdown",
   "id": "950a866d",
   "metadata": {},
   "source": [
    "# Bias Baseline"
   ]
  },
  {
   "cell_type": "code",
   "execution_count": 23,
   "id": "be565f9d",
   "metadata": {},
   "outputs": [
    {
     "name": "stdout",
     "output_type": "stream",
     "text": [
      "Estimating biases using sgd...\n",
      "MAE:  0.7921\n"
     ]
    },
    {
     "data": {
      "text/plain": [
       "0.7920659838316496"
      ]
     },
     "execution_count": 23,
     "metadata": {},
     "output_type": "execute_result"
    }
   ],
   "source": [
    "#using stochastic gradient descent bc it performed the best\n",
    "bsl_options = {'method': 'sgd'}\n",
    "bias_baseline = BaselineOnly(bsl_options)\n",
    "bias_baseline.fit(train_sr)\n",
    "predictions = bias_baseline.test(test_sr)\n",
    "\n",
    "accuracy.mae(predictions)"
   ]
  },
  {
   "cell_type": "code",
   "execution_count": 24,
   "id": "823a7d16",
   "metadata": {},
   "outputs": [
    {
     "name": "stdout",
     "output_type": "stream",
     "text": [
      "RMSE: 0.9912\n"
     ]
    },
    {
     "data": {
      "text/plain": [
       "0.9912218719062363"
      ]
     },
     "execution_count": 24,
     "metadata": {},
     "output_type": "execute_result"
    }
   ],
   "source": [
    "accuracy.rmse(predictions, verbose=True)"
   ]
  },
  {
   "cell_type": "code",
   "execution_count": 25,
   "id": "6cd858e2",
   "metadata": {},
   "outputs": [
    {
     "name": "stdout",
     "output_type": "stream",
     "text": [
      "RMSE: 0.9571\n"
     ]
    },
    {
     "data": {
      "text/plain": [
       "0.9571389103325522"
      ]
     },
     "execution_count": 25,
     "metadata": {},
     "output_type": "execute_result"
    }
   ],
   "source": [
    "preds_bsl_ho = bias_baseline.test(ho_sr)\n",
    "accuracy.rmse(preds_bsl_ho)"
   ]
  },
  {
   "cell_type": "code",
   "execution_count": 26,
   "id": "cf2da406",
   "metadata": {},
   "outputs": [
    {
     "name": "stdout",
     "output_type": "stream",
     "text": [
      "MAE:  0.7639\n"
     ]
    },
    {
     "data": {
      "text/plain": [
       "0.7639382511529568"
      ]
     },
     "execution_count": 26,
     "metadata": {},
     "output_type": "execute_result"
    }
   ],
   "source": [
    "accuracy.mae(preds_bsl_ho)"
   ]
  },
  {
   "cell_type": "code",
   "execution_count": 34,
   "id": "9b0d6fd7",
   "metadata": {},
   "outputs": [],
   "source": [
    "def get_recs_bsl(user_list):\n",
    "    all_recommendations = []\n",
    "    \n",
    "    def rec_content(cust_id):\n",
    "        # Get a list of all the movies the user has not rated\n",
    "        all_content = data['mid'].unique()\n",
    "        user_content = data[data['cust_id'] == cust_id]['mid'].unique()\n",
    "        new_content = list(set(all_content) - set(user_content))\n",
    "\n",
    "        # Predict the ratings for the new movies\n",
    "        predictions = [bias_baseline.predict(cust_id, mid) for mid in new_content]\n",
    "\n",
    "        # Sort the predictions by estimated rating\n",
    "        predictions.sort(key=lambda x: x.est, reverse=True)\n",
    "\n",
    "        # Get the top 15 recommendations\n",
    "        top_recommendations = [prediction.iid for prediction in predictions[:15]]\n",
    "\n",
    "        return [(cust_id, movie_id) for movie_id in top_recommendations]\n",
    "\n",
    "    #for all users apply recs\n",
    "    for cust_id in user_list:\n",
    "        user_recs = rec_content(cust_id)\n",
    "        all_recommendations.extend(user_recs)\n",
    "    \n",
    "    #new df of recs for analysis\n",
    "    recommendations_df = pd.DataFrame(all_recommendations, columns=[\"cust_id\", \"mid\"])\n",
    "    return recommendations_df"
   ]
  },
  {
   "cell_type": "markdown",
   "id": "adcf77d5",
   "metadata": {},
   "source": [
    "# TESTING TOP 10 RECS"
   ]
  },
  {
   "cell_type": "code",
   "execution_count": 13,
   "id": "810d6e08",
   "metadata": {},
   "outputs": [],
   "source": [
    "test_list = [305344, 2439493, 1664010, 387418, 1933293, 834542]"
   ]
  },
  {
   "cell_type": "code",
   "execution_count": 35,
   "id": "ee99e17e",
   "metadata": {
    "collapsed": true
   },
   "outputs": [
    {
     "data": {
      "text/html": [
       "<div>\n",
       "<style scoped>\n",
       "    .dataframe tbody tr th:only-of-type {\n",
       "        vertical-align: middle;\n",
       "    }\n",
       "\n",
       "    .dataframe tbody tr th {\n",
       "        vertical-align: top;\n",
       "    }\n",
       "\n",
       "    .dataframe thead th {\n",
       "        text-align: right;\n",
       "    }\n",
       "</style>\n",
       "<table border=\"1\" class=\"dataframe\">\n",
       "  <thead>\n",
       "    <tr style=\"text-align: right;\">\n",
       "      <th></th>\n",
       "      <th>cust_id</th>\n",
       "      <th>mid</th>\n",
       "    </tr>\n",
       "  </thead>\n",
       "  <tbody>\n",
       "    <tr>\n",
       "      <th>0</th>\n",
       "      <td>305344</td>\n",
       "      <td>7230</td>\n",
       "    </tr>\n",
       "    <tr>\n",
       "      <th>1</th>\n",
       "      <td>305344</td>\n",
       "      <td>7833</td>\n",
       "    </tr>\n",
       "    <tr>\n",
       "      <th>2</th>\n",
       "      <td>305344</td>\n",
       "      <td>7057</td>\n",
       "    </tr>\n",
       "    <tr>\n",
       "      <th>3</th>\n",
       "      <td>305344</td>\n",
       "      <td>2102</td>\n",
       "    </tr>\n",
       "    <tr>\n",
       "      <th>4</th>\n",
       "      <td>305344</td>\n",
       "      <td>12834</td>\n",
       "    </tr>\n",
       "    <tr>\n",
       "      <th>...</th>\n",
       "      <td>...</td>\n",
       "      <td>...</td>\n",
       "    </tr>\n",
       "    <tr>\n",
       "      <th>85</th>\n",
       "      <td>834542</td>\n",
       "      <td>14550</td>\n",
       "    </tr>\n",
       "    <tr>\n",
       "      <th>86</th>\n",
       "      <td>834542</td>\n",
       "      <td>17219</td>\n",
       "    </tr>\n",
       "    <tr>\n",
       "      <th>87</th>\n",
       "      <td>834542</td>\n",
       "      <td>10080</td>\n",
       "    </tr>\n",
       "    <tr>\n",
       "      <th>88</th>\n",
       "      <td>834542</td>\n",
       "      <td>8571</td>\n",
       "    </tr>\n",
       "    <tr>\n",
       "      <th>89</th>\n",
       "      <td>834542</td>\n",
       "      <td>12293</td>\n",
       "    </tr>\n",
       "  </tbody>\n",
       "</table>\n",
       "<p>90 rows × 2 columns</p>\n",
       "</div>"
      ],
      "text/plain": [
       "    cust_id    mid\n",
       "0    305344   7230\n",
       "1    305344   7833\n",
       "2    305344   7057\n",
       "3    305344   2102\n",
       "4    305344  12834\n",
       "..      ...    ...\n",
       "85   834542  14550\n",
       "86   834542  17219\n",
       "87   834542  10080\n",
       "88   834542   8571\n",
       "89   834542  12293\n",
       "\n",
       "[90 rows x 2 columns]"
      ]
     },
     "execution_count": 35,
     "metadata": {},
     "output_type": "execute_result"
    }
   ],
   "source": [
    "get_recs_bsl(test_list)"
   ]
  },
  {
   "cell_type": "code",
   "execution_count": 36,
   "id": "2ee910b2",
   "metadata": {
    "collapsed": true
   },
   "outputs": [
    {
     "data": {
      "text/html": [
       "<div>\n",
       "<style scoped>\n",
       "    .dataframe tbody tr th:only-of-type {\n",
       "        vertical-align: middle;\n",
       "    }\n",
       "\n",
       "    .dataframe tbody tr th {\n",
       "        vertical-align: top;\n",
       "    }\n",
       "\n",
       "    .dataframe thead th {\n",
       "        text-align: right;\n",
       "    }\n",
       "</style>\n",
       "<table border=\"1\" class=\"dataframe\">\n",
       "  <thead>\n",
       "    <tr style=\"text-align: right;\">\n",
       "      <th></th>\n",
       "      <th>cust_id</th>\n",
       "      <th>mid</th>\n",
       "    </tr>\n",
       "  </thead>\n",
       "  <tbody>\n",
       "    <tr>\n",
       "      <th>0</th>\n",
       "      <td>305344</td>\n",
       "      <td>5926</td>\n",
       "    </tr>\n",
       "    <tr>\n",
       "      <th>1</th>\n",
       "      <td>305344</td>\n",
       "      <td>12530</td>\n",
       "    </tr>\n",
       "    <tr>\n",
       "      <th>2</th>\n",
       "      <td>305344</td>\n",
       "      <td>14961</td>\n",
       "    </tr>\n",
       "    <tr>\n",
       "      <th>3</th>\n",
       "      <td>305344</td>\n",
       "      <td>8447</td>\n",
       "    </tr>\n",
       "    <tr>\n",
       "      <th>4</th>\n",
       "      <td>305344</td>\n",
       "      <td>8438</td>\n",
       "    </tr>\n",
       "    <tr>\n",
       "      <th>5</th>\n",
       "      <td>305344</td>\n",
       "      <td>3456</td>\n",
       "    </tr>\n",
       "    <tr>\n",
       "      <th>6</th>\n",
       "      <td>305344</td>\n",
       "      <td>1256</td>\n",
       "    </tr>\n",
       "    <tr>\n",
       "      <th>7</th>\n",
       "      <td>305344</td>\n",
       "      <td>16384</td>\n",
       "    </tr>\n",
       "    <tr>\n",
       "      <th>8</th>\n",
       "      <td>305344</td>\n",
       "      <td>12034</td>\n",
       "    </tr>\n",
       "    <tr>\n",
       "      <th>9</th>\n",
       "      <td>305344</td>\n",
       "      <td>13614</td>\n",
       "    </tr>\n",
       "    <tr>\n",
       "      <th>10</th>\n",
       "      <td>2439493</td>\n",
       "      <td>4427</td>\n",
       "    </tr>\n",
       "    <tr>\n",
       "      <th>11</th>\n",
       "      <td>2439493</td>\n",
       "      <td>16302</td>\n",
       "    </tr>\n",
       "    <tr>\n",
       "      <th>12</th>\n",
       "      <td>2439493</td>\n",
       "      <td>2803</td>\n",
       "    </tr>\n",
       "    <tr>\n",
       "      <th>13</th>\n",
       "      <td>2439493</td>\n",
       "      <td>16587</td>\n",
       "    </tr>\n",
       "    <tr>\n",
       "      <th>14</th>\n",
       "      <td>2439493</td>\n",
       "      <td>10080</td>\n",
       "    </tr>\n",
       "    <tr>\n",
       "      <th>15</th>\n",
       "      <td>2439493</td>\n",
       "      <td>14961</td>\n",
       "    </tr>\n",
       "    <tr>\n",
       "      <th>16</th>\n",
       "      <td>2439493</td>\n",
       "      <td>6428</td>\n",
       "    </tr>\n",
       "    <tr>\n",
       "      <th>17</th>\n",
       "      <td>2439493</td>\n",
       "      <td>12891</td>\n",
       "    </tr>\n",
       "    <tr>\n",
       "      <th>18</th>\n",
       "      <td>2439493</td>\n",
       "      <td>10643</td>\n",
       "    </tr>\n",
       "    <tr>\n",
       "      <th>19</th>\n",
       "      <td>2439493</td>\n",
       "      <td>16022</td>\n",
       "    </tr>\n",
       "    <tr>\n",
       "      <th>20</th>\n",
       "      <td>1664010</td>\n",
       "      <td>5</td>\n",
       "    </tr>\n",
       "    <tr>\n",
       "      <th>21</th>\n",
       "      <td>1664010</td>\n",
       "      <td>76</td>\n",
       "    </tr>\n",
       "    <tr>\n",
       "      <th>22</th>\n",
       "      <td>1664010</td>\n",
       "      <td>167</td>\n",
       "    </tr>\n",
       "    <tr>\n",
       "      <th>23</th>\n",
       "      <td>1664010</td>\n",
       "      <td>199</td>\n",
       "    </tr>\n",
       "    <tr>\n",
       "      <th>24</th>\n",
       "      <td>1664010</td>\n",
       "      <td>223</td>\n",
       "    </tr>\n",
       "    <tr>\n",
       "      <th>25</th>\n",
       "      <td>1664010</td>\n",
       "      <td>242</td>\n",
       "    </tr>\n",
       "    <tr>\n",
       "      <th>26</th>\n",
       "      <td>1664010</td>\n",
       "      <td>359</td>\n",
       "    </tr>\n",
       "    <tr>\n",
       "      <th>27</th>\n",
       "      <td>1664010</td>\n",
       "      <td>371</td>\n",
       "    </tr>\n",
       "    <tr>\n",
       "      <th>28</th>\n",
       "      <td>1664010</td>\n",
       "      <td>417</td>\n",
       "    </tr>\n",
       "    <tr>\n",
       "      <th>29</th>\n",
       "      <td>1664010</td>\n",
       "      <td>442</td>\n",
       "    </tr>\n",
       "    <tr>\n",
       "      <th>30</th>\n",
       "      <td>387418</td>\n",
       "      <td>11521</td>\n",
       "    </tr>\n",
       "    <tr>\n",
       "      <th>31</th>\n",
       "      <td>387418</td>\n",
       "      <td>14240</td>\n",
       "    </tr>\n",
       "    <tr>\n",
       "      <th>32</th>\n",
       "      <td>387418</td>\n",
       "      <td>10080</td>\n",
       "    </tr>\n",
       "    <tr>\n",
       "      <th>33</th>\n",
       "      <td>387418</td>\n",
       "      <td>12731</td>\n",
       "    </tr>\n",
       "    <tr>\n",
       "      <th>34</th>\n",
       "      <td>387418</td>\n",
       "      <td>13728</td>\n",
       "    </tr>\n",
       "    <tr>\n",
       "      <th>35</th>\n",
       "      <td>387418</td>\n",
       "      <td>3864</td>\n",
       "    </tr>\n",
       "    <tr>\n",
       "      <th>36</th>\n",
       "      <td>387418</td>\n",
       "      <td>6287</td>\n",
       "    </tr>\n",
       "    <tr>\n",
       "      <th>37</th>\n",
       "      <td>387418</td>\n",
       "      <td>7230</td>\n",
       "    </tr>\n",
       "    <tr>\n",
       "      <th>38</th>\n",
       "      <td>387418</td>\n",
       "      <td>3456</td>\n",
       "    </tr>\n",
       "    <tr>\n",
       "      <th>39</th>\n",
       "      <td>387418</td>\n",
       "      <td>17157</td>\n",
       "    </tr>\n",
       "    <tr>\n",
       "      <th>40</th>\n",
       "      <td>1933293</td>\n",
       "      <td>8535</td>\n",
       "    </tr>\n",
       "    <tr>\n",
       "      <th>41</th>\n",
       "      <td>1933293</td>\n",
       "      <td>7230</td>\n",
       "    </tr>\n",
       "    <tr>\n",
       "      <th>42</th>\n",
       "      <td>1933293</td>\n",
       "      <td>8116</td>\n",
       "    </tr>\n",
       "    <tr>\n",
       "      <th>43</th>\n",
       "      <td>1933293</td>\n",
       "      <td>10080</td>\n",
       "    </tr>\n",
       "    <tr>\n",
       "      <th>44</th>\n",
       "      <td>1933293</td>\n",
       "      <td>15861</td>\n",
       "    </tr>\n",
       "    <tr>\n",
       "      <th>45</th>\n",
       "      <td>1933293</td>\n",
       "      <td>17085</td>\n",
       "    </tr>\n",
       "    <tr>\n",
       "      <th>46</th>\n",
       "      <td>1933293</td>\n",
       "      <td>1476</td>\n",
       "    </tr>\n",
       "    <tr>\n",
       "      <th>47</th>\n",
       "      <td>1933293</td>\n",
       "      <td>5738</td>\n",
       "    </tr>\n",
       "    <tr>\n",
       "      <th>48</th>\n",
       "      <td>1933293</td>\n",
       "      <td>7833</td>\n",
       "    </tr>\n",
       "    <tr>\n",
       "      <th>49</th>\n",
       "      <td>1933293</td>\n",
       "      <td>16587</td>\n",
       "    </tr>\n",
       "    <tr>\n",
       "      <th>50</th>\n",
       "      <td>834542</td>\n",
       "      <td>7230</td>\n",
       "    </tr>\n",
       "    <tr>\n",
       "      <th>51</th>\n",
       "      <td>834542</td>\n",
       "      <td>12293</td>\n",
       "    </tr>\n",
       "    <tr>\n",
       "      <th>52</th>\n",
       "      <td>834542</td>\n",
       "      <td>12184</td>\n",
       "    </tr>\n",
       "    <tr>\n",
       "      <th>53</th>\n",
       "      <td>834542</td>\n",
       "      <td>15296</td>\n",
       "    </tr>\n",
       "    <tr>\n",
       "      <th>54</th>\n",
       "      <td>834542</td>\n",
       "      <td>16006</td>\n",
       "    </tr>\n",
       "    <tr>\n",
       "      <th>55</th>\n",
       "      <td>834542</td>\n",
       "      <td>7833</td>\n",
       "    </tr>\n",
       "    <tr>\n",
       "      <th>56</th>\n",
       "      <td>834542</td>\n",
       "      <td>8571</td>\n",
       "    </tr>\n",
       "    <tr>\n",
       "      <th>57</th>\n",
       "      <td>834542</td>\n",
       "      <td>8116</td>\n",
       "    </tr>\n",
       "    <tr>\n",
       "      <th>58</th>\n",
       "      <td>834542</td>\n",
       "      <td>14302</td>\n",
       "    </tr>\n",
       "    <tr>\n",
       "      <th>59</th>\n",
       "      <td>834542</td>\n",
       "      <td>2862</td>\n",
       "    </tr>\n",
       "  </tbody>\n",
       "</table>\n",
       "</div>"
      ],
      "text/plain": [
       "    cust_id    mid\n",
       "0    305344   5926\n",
       "1    305344  12530\n",
       "2    305344  14961\n",
       "3    305344   8447\n",
       "4    305344   8438\n",
       "5    305344   3456\n",
       "6    305344   1256\n",
       "7    305344  16384\n",
       "8    305344  12034\n",
       "9    305344  13614\n",
       "10  2439493   4427\n",
       "11  2439493  16302\n",
       "12  2439493   2803\n",
       "13  2439493  16587\n",
       "14  2439493  10080\n",
       "15  2439493  14961\n",
       "16  2439493   6428\n",
       "17  2439493  12891\n",
       "18  2439493  10643\n",
       "19  2439493  16022\n",
       "20  1664010      5\n",
       "21  1664010     76\n",
       "22  1664010    167\n",
       "23  1664010    199\n",
       "24  1664010    223\n",
       "25  1664010    242\n",
       "26  1664010    359\n",
       "27  1664010    371\n",
       "28  1664010    417\n",
       "29  1664010    442\n",
       "30   387418  11521\n",
       "31   387418  14240\n",
       "32   387418  10080\n",
       "33   387418  12731\n",
       "34   387418  13728\n",
       "35   387418   3864\n",
       "36   387418   6287\n",
       "37   387418   7230\n",
       "38   387418   3456\n",
       "39   387418  17157\n",
       "40  1933293   8535\n",
       "41  1933293   7230\n",
       "42  1933293   8116\n",
       "43  1933293  10080\n",
       "44  1933293  15861\n",
       "45  1933293  17085\n",
       "46  1933293   1476\n",
       "47  1933293   5738\n",
       "48  1933293   7833\n",
       "49  1933293  16587\n",
       "50   834542   7230\n",
       "51   834542  12293\n",
       "52   834542  12184\n",
       "53   834542  15296\n",
       "54   834542  16006\n",
       "55   834542   7833\n",
       "56   834542   8571\n",
       "57   834542   8116\n",
       "58   834542  14302\n",
       "59   834542   2862"
      ]
     },
     "execution_count": 36,
     "metadata": {},
     "output_type": "execute_result"
    }
   ],
   "source": [
    "testdf_bsl = get_recs(test_list)\n",
    "testdf_bsl"
   ]
  },
  {
   "cell_type": "code",
   "execution_count": 37,
   "id": "2926e12c",
   "metadata": {
    "collapsed": true
   },
   "outputs": [
    {
     "data": {
      "text/plain": [
       "mid\n",
       "7230     3\n",
       "10080    3\n",
       "16587    2\n",
       "14961    2\n",
       "3456     2\n",
       "7833     2\n",
       "8116     2\n",
       "15861    1\n",
       "14240    1\n",
       "12731    1\n",
       "13728    1\n",
       "3864     1\n",
       "6287     1\n",
       "17157    1\n",
       "8535     1\n",
       "5926     1\n",
       "17085    1\n",
       "442      1\n",
       "1476     1\n",
       "5738     1\n",
       "12293    1\n",
       "12184    1\n",
       "15296    1\n",
       "16006    1\n",
       "8571     1\n",
       "14302    1\n",
       "11521    1\n",
       "359      1\n",
       "417      1\n",
       "6428     1\n",
       "8447     1\n",
       "8438     1\n",
       "1256     1\n",
       "16384    1\n",
       "12034    1\n",
       "13614    1\n",
       "4427     1\n",
       "16302    1\n",
       "2803     1\n",
       "12891    1\n",
       "371      1\n",
       "10643    1\n",
       "16022    1\n",
       "5        1\n",
       "76       1\n",
       "167      1\n",
       "199      1\n",
       "223      1\n",
       "242      1\n",
       "12530    1\n",
       "2862     1\n",
       "Name: count, dtype: int64"
      ]
     },
     "execution_count": 37,
     "metadata": {},
     "output_type": "execute_result"
    }
   ],
   "source": [
    "testdf_bsl['mid'].value_counts()"
   ]
  },
  {
   "cell_type": "code",
   "execution_count": 38,
   "id": "7fda749c",
   "metadata": {},
   "outputs": [
    {
     "data": {
      "text/plain": [
       "290022"
      ]
     },
     "execution_count": 38,
     "metadata": {},
     "output_type": "execute_result"
    }
   ],
   "source": [
    "#list of all users\n",
    "all_users = data['cust_id'].unique()\n",
    "len(all_users)"
   ]
  },
  {
   "cell_type": "markdown",
   "id": "fcd2bf46",
   "metadata": {},
   "source": [
    "# TOP 10 RECS: Baseline"
   ]
  },
  {
   "cell_type": "code",
   "execution_count": 40,
   "id": "3dec315f",
   "metadata": {},
   "outputs": [
    {
     "data": {
      "text/html": [
       "<div>\n",
       "<style scoped>\n",
       "    .dataframe tbody tr th:only-of-type {\n",
       "        vertical-align: middle;\n",
       "    }\n",
       "\n",
       "    .dataframe tbody tr th {\n",
       "        vertical-align: top;\n",
       "    }\n",
       "\n",
       "    .dataframe thead th {\n",
       "        text-align: right;\n",
       "    }\n",
       "</style>\n",
       "<table border=\"1\" class=\"dataframe\">\n",
       "  <thead>\n",
       "    <tr style=\"text-align: right;\">\n",
       "      <th></th>\n",
       "      <th>cust_id</th>\n",
       "      <th>mid</th>\n",
       "    </tr>\n",
       "  </thead>\n",
       "  <tbody>\n",
       "    <tr>\n",
       "      <th>0</th>\n",
       "      <td>510180</td>\n",
       "      <td>7230</td>\n",
       "    </tr>\n",
       "    <tr>\n",
       "      <th>1</th>\n",
       "      <td>510180</td>\n",
       "      <td>7833</td>\n",
       "    </tr>\n",
       "    <tr>\n",
       "      <th>2</th>\n",
       "      <td>510180</td>\n",
       "      <td>7057</td>\n",
       "    </tr>\n",
       "    <tr>\n",
       "      <th>3</th>\n",
       "      <td>510180</td>\n",
       "      <td>2102</td>\n",
       "    </tr>\n",
       "    <tr>\n",
       "      <th>4</th>\n",
       "      <td>510180</td>\n",
       "      <td>12834</td>\n",
       "    </tr>\n",
       "    <tr>\n",
       "      <th>...</th>\n",
       "      <td>...</td>\n",
       "      <td>...</td>\n",
       "    </tr>\n",
       "    <tr>\n",
       "      <th>4350325</th>\n",
       "      <td>883348</td>\n",
       "      <td>14550</td>\n",
       "    </tr>\n",
       "    <tr>\n",
       "      <th>4350326</th>\n",
       "      <td>883348</td>\n",
       "      <td>17219</td>\n",
       "    </tr>\n",
       "    <tr>\n",
       "      <th>4350327</th>\n",
       "      <td>883348</td>\n",
       "      <td>10080</td>\n",
       "    </tr>\n",
       "    <tr>\n",
       "      <th>4350328</th>\n",
       "      <td>883348</td>\n",
       "      <td>8571</td>\n",
       "    </tr>\n",
       "    <tr>\n",
       "      <th>4350329</th>\n",
       "      <td>883348</td>\n",
       "      <td>12293</td>\n",
       "    </tr>\n",
       "  </tbody>\n",
       "</table>\n",
       "<p>4350330 rows × 2 columns</p>\n",
       "</div>"
      ],
      "text/plain": [
       "         cust_id    mid\n",
       "0         510180   7230\n",
       "1         510180   7833\n",
       "2         510180   7057\n",
       "3         510180   2102\n",
       "4         510180  12834\n",
       "...          ...    ...\n",
       "4350325   883348  14550\n",
       "4350326   883348  17219\n",
       "4350327   883348  10080\n",
       "4350328   883348   8571\n",
       "4350329   883348  12293\n",
       "\n",
       "[4350330 rows x 2 columns]"
      ]
     },
     "execution_count": 40,
     "metadata": {},
     "output_type": "execute_result"
    }
   ],
   "source": [
    "top10_allusers = get_recs_bsl(all_users)\n",
    "top10_allusers"
   ]
  },
  {
   "cell_type": "code",
   "execution_count": 41,
   "id": "47468eab",
   "metadata": {},
   "outputs": [
    {
     "data": {
      "text/plain": [
       "mid\n",
       "2102     289705\n",
       "4427     289509\n",
       "7833     289035\n",
       "8571     288958\n",
       "8535     288894\n",
       "          ...  \n",
       "113           2\n",
       "14240         1\n",
       "57            1\n",
       "180           1\n",
       "203           1\n",
       "Name: count, Length: 122, dtype: int64"
      ]
     },
     "execution_count": 41,
     "metadata": {},
     "output_type": "execute_result"
    }
   ],
   "source": [
    "top10_allusers['mid'].value_counts()"
   ]
  },
  {
   "cell_type": "code",
   "execution_count": 61,
   "id": "cca84d57",
   "metadata": {},
   "outputs": [],
   "source": [
    "top10_allusers.to_csv('data/bslrecs.csv')"
   ]
  },
  {
   "cell_type": "code",
   "execution_count": null,
   "id": "aeb4d26d",
   "metadata": {},
   "outputs": [],
   "source": [
    "%notify"
   ]
  },
  {
   "cell_type": "markdown",
   "id": "6f569dec",
   "metadata": {},
   "source": [
    "# SVD++"
   ]
  },
  {
   "cell_type": "code",
   "execution_count": 47,
   "id": "5890e3e7",
   "metadata": {},
   "outputs": [
    {
     "name": "stdout",
     "output_type": "stream",
     "text": [
      "RMSE: 1.0306\n",
      "MAE:  0.8285\n"
     ]
    },
    {
     "data": {
      "text/plain": [
       "0.8284991647974528"
      ]
     },
     "execution_count": 47,
     "metadata": {},
     "output_type": "execute_result"
    }
   ],
   "source": [
    "svdpp = SVDpp(n_factors= 150, n_epochs= 20)\n",
    "svdpp.fit(train_sr)\n",
    "preds_svdpp = svdpp.test(test_sr)\n",
    "\n",
    "accuracy.rmse(preds_svdpp)\n",
    "accuracy.mae(preds_svdpp)"
   ]
  },
  {
   "cell_type": "code",
   "execution_count": 54,
   "id": "1ae6f960",
   "metadata": {},
   "outputs": [
    {
     "name": "stdout",
     "output_type": "stream",
     "text": [
      "RMSE: 0.9094\n",
      "MAE:  0.7011\n"
     ]
    },
    {
     "data": {
      "text/plain": [
       "0.7010662501871413"
      ]
     },
     "execution_count": 54,
     "metadata": {},
     "output_type": "execute_result"
    }
   ],
   "source": [
    "preds_svdpp_ho = svdpp.test(ho_sr)\n",
    "accuracy.rmse(preds_svdpp_ho)\n",
    "accuracy.mae(preds_svdpp_ho)"
   ]
  },
  {
   "cell_type": "code",
   "execution_count": 55,
   "id": "3e775fa4",
   "metadata": {},
   "outputs": [],
   "source": [
    "def get_recs(model, user_list):\n",
    "    all_recommendations = []\n",
    "    \n",
    "    def rec_content(cust_id):\n",
    "        # Get a list of all the movies the user has not rated\n",
    "        all_content = data['mid'].unique()\n",
    "        user_content = data[data['cust_id'] == cust_id]['mid'].unique()\n",
    "        new_content = list(set(all_content) - set(user_content))\n",
    "\n",
    "        # Predict the ratings for the new movies\n",
    "        predictions = [model.predict(cust_id, mid) for mid in new_content]\n",
    "\n",
    "        # Sort the predictions by estimated rating\n",
    "        predictions.sort(key=lambda x: x.est, reverse=True)\n",
    "\n",
    "        # Get the top 15 recommendations\n",
    "        top_recommendations = [prediction.iid for prediction in predictions[:15]]\n",
    "\n",
    "        return [(cust_id, movie_id) for movie_id in top_recommendations]\n",
    "\n",
    "    #for all users apply recs\n",
    "    for cust_id in user_list:\n",
    "        user_recs = rec_content(cust_id)\n",
    "        all_recommendations.extend(user_recs)\n",
    "    \n",
    "    #new df of recs for analysis\n",
    "    recommendations_df = pd.DataFrame(all_recommendations, columns=[\"cust_id\", \"mid\"])\n",
    "    return recommendations_df"
   ]
  },
  {
   "cell_type": "code",
   "execution_count": 56,
   "id": "adbde13f",
   "metadata": {},
   "outputs": [],
   "source": [
    "test_svdpp = get_recs(svdpp, test_list)"
   ]
  },
  {
   "cell_type": "code",
   "execution_count": 57,
   "id": "ad8f4569",
   "metadata": {},
   "outputs": [
    {
     "data": {
      "text/html": [
       "<div>\n",
       "<style scoped>\n",
       "    .dataframe tbody tr th:only-of-type {\n",
       "        vertical-align: middle;\n",
       "    }\n",
       "\n",
       "    .dataframe tbody tr th {\n",
       "        vertical-align: top;\n",
       "    }\n",
       "\n",
       "    .dataframe thead th {\n",
       "        text-align: right;\n",
       "    }\n",
       "</style>\n",
       "<table border=\"1\" class=\"dataframe\">\n",
       "  <thead>\n",
       "    <tr style=\"text-align: right;\">\n",
       "      <th></th>\n",
       "      <th>cust_id</th>\n",
       "      <th>mid</th>\n",
       "    </tr>\n",
       "  </thead>\n",
       "  <tbody>\n",
       "    <tr>\n",
       "      <th>0</th>\n",
       "      <td>305344</td>\n",
       "      <td>5924</td>\n",
       "    </tr>\n",
       "    <tr>\n",
       "      <th>1</th>\n",
       "      <td>305344</td>\n",
       "      <td>3282</td>\n",
       "    </tr>\n",
       "    <tr>\n",
       "      <th>2</th>\n",
       "      <td>305344</td>\n",
       "      <td>4227</td>\n",
       "    </tr>\n",
       "    <tr>\n",
       "      <th>3</th>\n",
       "      <td>305344</td>\n",
       "      <td>13073</td>\n",
       "    </tr>\n",
       "    <tr>\n",
       "      <th>4</th>\n",
       "      <td>305344</td>\n",
       "      <td>8387</td>\n",
       "    </tr>\n",
       "    <tr>\n",
       "      <th>...</th>\n",
       "      <td>...</td>\n",
       "      <td>...</td>\n",
       "    </tr>\n",
       "    <tr>\n",
       "      <th>85</th>\n",
       "      <td>834542</td>\n",
       "      <td>7057</td>\n",
       "    </tr>\n",
       "    <tr>\n",
       "      <th>86</th>\n",
       "      <td>834542</td>\n",
       "      <td>5732</td>\n",
       "    </tr>\n",
       "    <tr>\n",
       "      <th>87</th>\n",
       "      <td>834542</td>\n",
       "      <td>8116</td>\n",
       "    </tr>\n",
       "    <tr>\n",
       "      <th>88</th>\n",
       "      <td>834542</td>\n",
       "      <td>14601</td>\n",
       "    </tr>\n",
       "    <tr>\n",
       "      <th>89</th>\n",
       "      <td>834542</td>\n",
       "      <td>6450</td>\n",
       "    </tr>\n",
       "  </tbody>\n",
       "</table>\n",
       "<p>90 rows × 2 columns</p>\n",
       "</div>"
      ],
      "text/plain": [
       "    cust_id    mid\n",
       "0    305344   5924\n",
       "1    305344   3282\n",
       "2    305344   4227\n",
       "3    305344  13073\n",
       "4    305344   8387\n",
       "..      ...    ...\n",
       "85   834542   7057\n",
       "86   834542   5732\n",
       "87   834542   8116\n",
       "88   834542  14601\n",
       "89   834542   6450\n",
       "\n",
       "[90 rows x 2 columns]"
      ]
     },
     "execution_count": 57,
     "metadata": {},
     "output_type": "execute_result"
    }
   ],
   "source": [
    "test_svdpp"
   ]
  },
  {
   "cell_type": "code",
   "execution_count": 58,
   "id": "18054ecf",
   "metadata": {},
   "outputs": [
    {
     "data": {
      "text/plain": [
       "mid\n",
       "5837     2\n",
       "8535     2\n",
       "14961    2\n",
       "8116     2\n",
       "345      2\n",
       "        ..\n",
       "9395     1\n",
       "10276    1\n",
       "6196     1\n",
       "10080    1\n",
       "6450     1\n",
       "Name: count, Length: 81, dtype: int64"
      ]
     },
     "execution_count": 58,
     "metadata": {},
     "output_type": "execute_result"
    }
   ],
   "source": [
    "test_svdpp['mid'].value_counts()"
   ]
  },
  {
   "cell_type": "code",
   "execution_count": 60,
   "id": "cf875ac9",
   "metadata": {},
   "outputs": [
    {
     "ename": "KeyboardInterrupt",
     "evalue": "",
     "output_type": "error",
     "traceback": [
      "\u001b[0;31m---------------------------------------------------------------------------\u001b[0m",
      "\u001b[0;31mKeyboardInterrupt\u001b[0m                         Traceback (most recent call last)",
      "\u001b[0;32m/var/folders/xc/4fn08svj2dgdk_3wj3xkp_rr0000gn/T/ipykernel_46608/3823593456.py\u001b[0m in \u001b[0;36m<module>\u001b[0;34m\u001b[0m\n\u001b[0;32m----> 1\u001b[0;31m \u001b[0mtop10_svdpp_allusers\u001b[0m \u001b[0;34m=\u001b[0m \u001b[0mget_recs\u001b[0m\u001b[0;34m(\u001b[0m\u001b[0msvdpp\u001b[0m\u001b[0;34m,\u001b[0m \u001b[0mall_users\u001b[0m\u001b[0;34m)\u001b[0m\u001b[0;34m\u001b[0m\u001b[0;34m\u001b[0m\u001b[0m\n\u001b[0m",
      "\u001b[0;32m/var/folders/xc/4fn08svj2dgdk_3wj3xkp_rr0000gn/T/ipykernel_46608/2122997568.py\u001b[0m in \u001b[0;36mget_recs\u001b[0;34m(model, user_list)\u001b[0m\n\u001b[1;32m     21\u001b[0m     \u001b[0;31m#for all users apply recs\u001b[0m\u001b[0;34m\u001b[0m\u001b[0;34m\u001b[0m\u001b[0m\n\u001b[1;32m     22\u001b[0m     \u001b[0;32mfor\u001b[0m \u001b[0mcust_id\u001b[0m \u001b[0;32min\u001b[0m \u001b[0muser_list\u001b[0m\u001b[0;34m:\u001b[0m\u001b[0;34m\u001b[0m\u001b[0;34m\u001b[0m\u001b[0m\n\u001b[0;32m---> 23\u001b[0;31m         \u001b[0muser_recs\u001b[0m \u001b[0;34m=\u001b[0m \u001b[0mrec_content\u001b[0m\u001b[0;34m(\u001b[0m\u001b[0mcust_id\u001b[0m\u001b[0;34m)\u001b[0m\u001b[0;34m\u001b[0m\u001b[0;34m\u001b[0m\u001b[0m\n\u001b[0m\u001b[1;32m     24\u001b[0m         \u001b[0mall_recommendations\u001b[0m\u001b[0;34m.\u001b[0m\u001b[0mextend\u001b[0m\u001b[0;34m(\u001b[0m\u001b[0muser_recs\u001b[0m\u001b[0;34m)\u001b[0m\u001b[0;34m\u001b[0m\u001b[0;34m\u001b[0m\u001b[0m\n\u001b[1;32m     25\u001b[0m \u001b[0;34m\u001b[0m\u001b[0m\n",
      "\u001b[0;32m/var/folders/xc/4fn08svj2dgdk_3wj3xkp_rr0000gn/T/ipykernel_46608/2122997568.py\u001b[0m in \u001b[0;36mrec_content\u001b[0;34m(cust_id)\u001b[0m\n\u001b[1;32m      9\u001b[0m \u001b[0;34m\u001b[0m\u001b[0m\n\u001b[1;32m     10\u001b[0m         \u001b[0;31m# Predict the ratings for the new movies\u001b[0m\u001b[0;34m\u001b[0m\u001b[0;34m\u001b[0m\u001b[0m\n\u001b[0;32m---> 11\u001b[0;31m         \u001b[0mpredictions\u001b[0m \u001b[0;34m=\u001b[0m \u001b[0;34m[\u001b[0m\u001b[0mmodel\u001b[0m\u001b[0;34m.\u001b[0m\u001b[0mpredict\u001b[0m\u001b[0;34m(\u001b[0m\u001b[0mcust_id\u001b[0m\u001b[0;34m,\u001b[0m \u001b[0mmid\u001b[0m\u001b[0;34m)\u001b[0m \u001b[0;32mfor\u001b[0m \u001b[0mmid\u001b[0m \u001b[0;32min\u001b[0m \u001b[0mnew_content\u001b[0m\u001b[0;34m]\u001b[0m\u001b[0;34m\u001b[0m\u001b[0;34m\u001b[0m\u001b[0m\n\u001b[0m\u001b[1;32m     12\u001b[0m \u001b[0;34m\u001b[0m\u001b[0m\n\u001b[1;32m     13\u001b[0m         \u001b[0;31m# Sort the predictions by estimated rating\u001b[0m\u001b[0;34m\u001b[0m\u001b[0;34m\u001b[0m\u001b[0m\n",
      "\u001b[0;32m/var/folders/xc/4fn08svj2dgdk_3wj3xkp_rr0000gn/T/ipykernel_46608/2122997568.py\u001b[0m in \u001b[0;36m<listcomp>\u001b[0;34m(.0)\u001b[0m\n\u001b[1;32m      9\u001b[0m \u001b[0;34m\u001b[0m\u001b[0m\n\u001b[1;32m     10\u001b[0m         \u001b[0;31m# Predict the ratings for the new movies\u001b[0m\u001b[0;34m\u001b[0m\u001b[0;34m\u001b[0m\u001b[0m\n\u001b[0;32m---> 11\u001b[0;31m         \u001b[0mpredictions\u001b[0m \u001b[0;34m=\u001b[0m \u001b[0;34m[\u001b[0m\u001b[0mmodel\u001b[0m\u001b[0;34m.\u001b[0m\u001b[0mpredict\u001b[0m\u001b[0;34m(\u001b[0m\u001b[0mcust_id\u001b[0m\u001b[0;34m,\u001b[0m \u001b[0mmid\u001b[0m\u001b[0;34m)\u001b[0m \u001b[0;32mfor\u001b[0m \u001b[0mmid\u001b[0m \u001b[0;32min\u001b[0m \u001b[0mnew_content\u001b[0m\u001b[0;34m]\u001b[0m\u001b[0;34m\u001b[0m\u001b[0;34m\u001b[0m\u001b[0m\n\u001b[0m\u001b[1;32m     12\u001b[0m \u001b[0;34m\u001b[0m\u001b[0m\n\u001b[1;32m     13\u001b[0m         \u001b[0;31m# Sort the predictions by estimated rating\u001b[0m\u001b[0;34m\u001b[0m\u001b[0;34m\u001b[0m\u001b[0m\n",
      "\u001b[0;32m/opt/anaconda3/lib/python3.9/site-packages/surprise/prediction_algorithms/algo_base.py\u001b[0m in \u001b[0;36mpredict\u001b[0;34m(self, uid, iid, r_ui, clip, verbose)\u001b[0m\n\u001b[1;32m    100\u001b[0m         \u001b[0mdetails\u001b[0m \u001b[0;34m=\u001b[0m \u001b[0;34m{\u001b[0m\u001b[0;34m}\u001b[0m\u001b[0;34m\u001b[0m\u001b[0;34m\u001b[0m\u001b[0m\n\u001b[1;32m    101\u001b[0m         \u001b[0;32mtry\u001b[0m\u001b[0;34m:\u001b[0m\u001b[0;34m\u001b[0m\u001b[0;34m\u001b[0m\u001b[0m\n\u001b[0;32m--> 102\u001b[0;31m             \u001b[0mest\u001b[0m \u001b[0;34m=\u001b[0m \u001b[0mself\u001b[0m\u001b[0;34m.\u001b[0m\u001b[0mestimate\u001b[0m\u001b[0;34m(\u001b[0m\u001b[0miuid\u001b[0m\u001b[0;34m,\u001b[0m \u001b[0miiid\u001b[0m\u001b[0;34m)\u001b[0m\u001b[0;34m\u001b[0m\u001b[0;34m\u001b[0m\u001b[0m\n\u001b[0m\u001b[1;32m    103\u001b[0m \u001b[0;34m\u001b[0m\u001b[0m\n\u001b[1;32m    104\u001b[0m             \u001b[0;31m# If the details dict was also returned\u001b[0m\u001b[0;34m\u001b[0m\u001b[0;34m\u001b[0m\u001b[0m\n",
      "\u001b[0;32m/opt/anaconda3/lib/python3.9/site-packages/surprise/prediction_algorithms/matrix_factorization.pyx\u001b[0m in \u001b[0;36msurprise.prediction_algorithms.matrix_factorization.SVDpp.estimate\u001b[0;34m()\u001b[0m\n",
      "\u001b[0;32m/opt/anaconda3/lib/python3.9/site-packages/numpy/core/overrides.py\u001b[0m in \u001b[0;36mdot\u001b[0;34m(*args, **kwargs)\u001b[0m\n",
      "\u001b[0;31mKeyboardInterrupt\u001b[0m: "
     ]
    }
   ],
   "source": [
    "top10_svdpp_allusers = get_recs(svdpp, all_users)"
   ]
  },
  {
   "cell_type": "code",
   "execution_count": null,
   "id": "7c1b17a7",
   "metadata": {},
   "outputs": [],
   "source": [
    "%notify"
   ]
  },
  {
   "cell_type": "code",
   "execution_count": null,
   "id": "e2f63e53",
   "metadata": {},
   "outputs": [],
   "source": []
  }
 ],
 "metadata": {
  "kernelspec": {
   "display_name": "Python 3 (ipykernel)",
   "language": "python",
   "name": "python3"
  },
  "language_info": {
   "codemirror_mode": {
    "name": "ipython",
    "version": 3
   },
   "file_extension": ".py",
   "mimetype": "text/x-python",
   "name": "python",
   "nbconvert_exporter": "python",
   "pygments_lexer": "ipython3",
   "version": "3.9.13"
  }
 },
 "nbformat": 4,
 "nbformat_minor": 5
}
