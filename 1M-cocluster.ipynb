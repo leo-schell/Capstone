{
 "cells": [
  {
   "cell_type": "code",
   "execution_count": 9,
   "id": "4acb2a12",
   "metadata": {},
   "outputs": [],
   "source": [
    "import pandas as pd\n",
    "import numpy as np\n",
    "\n",
    "import os\n",
    "from surprise import Dataset\n",
    "from surprise import Reader\n",
    "from surprise import BaselineOnly\n",
    "from surprise import accuracy\n",
    "from surprise import CoClustering"
   ]
  },
  {
   "cell_type": "code",
   "execution_count": 2,
   "id": "3f9dd765",
   "metadata": {},
   "outputs": [
    {
     "data": {
      "application/javascript": [
       "if (!(\"Notification\" in window)) {\n",
       "    alert(\"This browser does not support desktop notifications, so the %%notify magic will not work.\");\n",
       "} else if (Notification.permission !== 'granted' && Notification.permission !== 'denied') {\n",
       "    Notification.requestPermission(function (permission) {\n",
       "        if(!('permission' in Notification)) {\n",
       "            Notification.permission = permission;\n",
       "        }\n",
       "    })\n",
       "}\n"
      ],
      "text/plain": [
       "<IPython.core.display.Javascript object>"
      ]
     },
     "metadata": {},
     "output_type": "display_data"
    }
   ],
   "source": [
    "#notify me when a long running cell is complete\n",
    "%load_ext jupyternotify\n",
    "import time"
   ]
  },
  {
   "cell_type": "code",
   "execution_count": 4,
   "id": "17f62b77",
   "metadata": {},
   "outputs": [],
   "source": [
    "#import train/test/holdout\n",
    "\n",
    "train = pd.read_csv('data/train_1M.csv')\n",
    "test = pd.read_csv('data/test_1M.csv')\n",
    "ho = pd.read_csv('data/ho_1M.csv')"
   ]
  },
  {
   "cell_type": "code",
   "execution_count": 6,
   "id": "40c058a4",
   "metadata": {},
   "outputs": [
    {
     "data": {
      "text/plain": [
       "(600000, 5)"
      ]
     },
     "execution_count": 6,
     "metadata": {},
     "output_type": "execute_result"
    }
   ],
   "source": [
    "train.shape"
   ]
  },
  {
   "cell_type": "code",
   "execution_count": 7,
   "id": "8b71b772",
   "metadata": {},
   "outputs": [
    {
     "data": {
      "text/plain": [
       "(200000, 5)"
      ]
     },
     "execution_count": 7,
     "metadata": {},
     "output_type": "execute_result"
    }
   ],
   "source": [
    "test.shape"
   ]
  },
  {
   "cell_type": "code",
   "execution_count": 8,
   "id": "818d3e6c",
   "metadata": {},
   "outputs": [
    {
     "data": {
      "text/plain": [
       "(200000, 5)"
      ]
     },
     "execution_count": 8,
     "metadata": {},
     "output_type": "execute_result"
    }
   ],
   "source": [
    "ho.shape"
   ]
  },
  {
   "cell_type": "code",
   "execution_count": 11,
   "id": "436b5495",
   "metadata": {},
   "outputs": [],
   "source": [
    "#instantiate reader\n",
    "reader = Reader(rating_scale=(1,5))\n",
    "\n",
    "#correct surprise dataset format\n",
    "train_data = Dataset.load_from_df(train[['cust_id','mid','rating']], reader)\n",
    "test_data = Dataset.load_from_df(test[['cust_id','mid','rating']], reader)\n",
    "ho_data = Dataset.load_from_df(ho[['cust_id','mid','rating']], reader)\n",
    "\n",
    "\n",
    "train_sr = train_data.build_full_trainset()\n",
    "\n",
    "\n",
    "test_sr1 = test_data.build_full_trainset()\n",
    "test_sr = test_sr1.build_testset()\n",
    "\n",
    "ho_sr1 = ho_data.build_full_trainset()\n",
    "ho_sr = ho_sr1.build_testset()"
   ]
  },
  {
   "cell_type": "markdown",
   "id": "db58d086",
   "metadata": {},
   "source": [
    "# Co-Clustering"
   ]
  },
  {
   "cell_type": "code",
   "execution_count": 12,
   "id": "74f584e6",
   "metadata": {},
   "outputs": [],
   "source": [
    "#instantiate\n",
    "cc = CoClustering(random_state=1)\n",
    "cc.fit(train_sr)\n",
    "\n",
    "#predicting based on validation set\n",
    "preds_cc = cc.test(test_sr)"
   ]
  },
  {
   "cell_type": "code",
   "execution_count": 14,
   "id": "b8145e09",
   "metadata": {},
   "outputs": [
    {
     "name": "stdout",
     "output_type": "stream",
     "text": [
      "MAE:  0.9183\n"
     ]
    },
    {
     "data": {
      "text/plain": [
       "0.9182591726977279"
      ]
     },
     "execution_count": 14,
     "metadata": {},
     "output_type": "execute_result"
    }
   ],
   "source": [
    "accuracy.mae(preds_cc)"
   ]
  },
  {
   "cell_type": "code",
   "execution_count": 15,
   "id": "c8f0ec81",
   "metadata": {},
   "outputs": [
    {
     "name": "stdout",
     "output_type": "stream",
     "text": [
      "RMSE: 1.1937\n"
     ]
    },
    {
     "data": {
      "text/plain": [
       "1.193683813743108"
      ]
     },
     "execution_count": 15,
     "metadata": {},
     "output_type": "execute_result"
    }
   ],
   "source": [
    "#rmse score\n",
    "accuracy.rmse(preds_cc)"
   ]
  },
  {
   "cell_type": "code",
   "execution_count": null,
   "id": "0ebc07ea",
   "metadata": {},
   "outputs": [],
   "source": []
  }
 ],
 "metadata": {
  "kernelspec": {
   "display_name": "Python 3 (ipykernel)",
   "language": "python",
   "name": "python3"
  },
  "language_info": {
   "codemirror_mode": {
    "name": "ipython",
    "version": 3
   },
   "file_extension": ".py",
   "mimetype": "text/x-python",
   "name": "python",
   "nbconvert_exporter": "python",
   "pygments_lexer": "ipython3",
   "version": "3.9.13"
  }
 },
 "nbformat": 4,
 "nbformat_minor": 5
}
