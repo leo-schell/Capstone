{
 "cells": [
  {
   "cell_type": "markdown",
   "id": "96cc396b",
   "metadata": {},
   "source": [
    "# Final Recommender\n",
    "\n",
    "THIS NOTEBOOK IS STILL IN PROGRESS - THIS IS THE HARDEST CODE I'VE EVER HAD TO WRITE. WILL BE UP TONIGHT"
   ]
  },
  {
   "cell_type": "code",
   "execution_count": 1,
   "id": "b553b5e2",
   "metadata": {},
   "outputs": [],
   "source": [
    "import pandas as pd\n",
    "import numpy as np\n",
    "import matplotlib.pyplot as plt\n",
    "%matplotlib inline\n",
    "import seaborn as sns\n",
    "\n",
    "import os\n",
    "from surprise import Dataset\n",
    "from surprise import Reader\n",
    "from surprise import accuracy\n",
    "\n",
    "#matrix factorization\n",
    "from surprise import SVDpp\n",
    "\n",
    "#matrix factorization\n",
    "from surprise import KNNBasic\n",
    "from surprise import KNNBaseline"
   ]
  },
  {
   "cell_type": "code",
   "execution_count": 2,
   "id": "31afb8b8",
   "metadata": {},
   "outputs": [
    {
     "data": {
      "application/javascript": [
       "if (!(\"Notification\" in window)) {\n",
       "    alert(\"This browser does not support desktop notifications, so the %%notify magic will not work.\");\n",
       "} else if (Notification.permission !== 'granted' && Notification.permission !== 'denied') {\n",
       "    Notification.requestPermission(function (permission) {\n",
       "        if(!('permission' in Notification)) {\n",
       "            Notification.permission = permission;\n",
       "        }\n",
       "    })\n",
       "}\n"
      ],
      "text/plain": [
       "<IPython.core.display.Javascript object>"
      ]
     },
     "metadata": {},
     "output_type": "display_data"
    }
   ],
   "source": [
    "#notify me when a long running cell is complete\n",
    "%load_ext jupyternotify\n",
    "import time"
   ]
  },
  {
   "cell_type": "markdown",
   "id": "85160e80",
   "metadata": {},
   "source": [
    "# The Data"
   ]
  },
  {
   "cell_type": "code",
   "execution_count": 49,
   "id": "4c1bfb17",
   "metadata": {},
   "outputs": [
    {
     "data": {
      "text/html": [
       "<div>\n",
       "<style scoped>\n",
       "    .dataframe tbody tr th:only-of-type {\n",
       "        vertical-align: middle;\n",
       "    }\n",
       "\n",
       "    .dataframe tbody tr th {\n",
       "        vertical-align: top;\n",
       "    }\n",
       "\n",
       "    .dataframe thead th {\n",
       "        text-align: right;\n",
       "    }\n",
       "</style>\n",
       "<table border=\"1\" class=\"dataframe\">\n",
       "  <thead>\n",
       "    <tr style=\"text-align: right;\">\n",
       "      <th></th>\n",
       "      <th>mid</th>\n",
       "      <th>cust_id</th>\n",
       "      <th>rating</th>\n",
       "      <th>r_date</th>\n",
       "      <th>m_decade</th>\n",
       "      <th>m_avg_rating</th>\n",
       "      <th>user_engagement</th>\n",
       "      <th>cust_act_activity_rank</th>\n",
       "      <th>adopters</th>\n",
       "      <th>m_minreq</th>\n",
       "    </tr>\n",
       "  </thead>\n",
       "  <tbody>\n",
       "    <tr>\n",
       "      <th>0</th>\n",
       "      <td>3113</td>\n",
       "      <td>510180</td>\n",
       "      <td>3.0</td>\n",
       "      <td>1999-12-12</td>\n",
       "      <td>4</td>\n",
       "      <td>3.187192</td>\n",
       "      <td>9</td>\n",
       "      <td>4</td>\n",
       "      <td>1</td>\n",
       "      <td>0.0</td>\n",
       "    </tr>\n",
       "    <tr>\n",
       "      <th>1</th>\n",
       "      <td>3113</td>\n",
       "      <td>1589382</td>\n",
       "      <td>4.0</td>\n",
       "      <td>2000-03-11</td>\n",
       "      <td>4</td>\n",
       "      <td>3.187192</td>\n",
       "      <td>2</td>\n",
       "      <td>2</td>\n",
       "      <td>1</td>\n",
       "      <td>0.0</td>\n",
       "    </tr>\n",
       "    <tr>\n",
       "      <th>2</th>\n",
       "      <td>3113</td>\n",
       "      <td>1878798</td>\n",
       "      <td>2.0</td>\n",
       "      <td>2000-08-08</td>\n",
       "      <td>4</td>\n",
       "      <td>3.187192</td>\n",
       "      <td>30</td>\n",
       "      <td>5</td>\n",
       "      <td>1</td>\n",
       "      <td>0.0</td>\n",
       "    </tr>\n",
       "    <tr>\n",
       "      <th>3</th>\n",
       "      <td>3113</td>\n",
       "      <td>1259176</td>\n",
       "      <td>4.0</td>\n",
       "      <td>2000-11-10</td>\n",
       "      <td>4</td>\n",
       "      <td>3.187192</td>\n",
       "      <td>7</td>\n",
       "      <td>4</td>\n",
       "      <td>1</td>\n",
       "      <td>0.0</td>\n",
       "    </tr>\n",
       "    <tr>\n",
       "      <th>4</th>\n",
       "      <td>3113</td>\n",
       "      <td>873369</td>\n",
       "      <td>3.0</td>\n",
       "      <td>2000-11-20</td>\n",
       "      <td>4</td>\n",
       "      <td>3.187192</td>\n",
       "      <td>9</td>\n",
       "      <td>4</td>\n",
       "      <td>1</td>\n",
       "      <td>0.0</td>\n",
       "    </tr>\n",
       "  </tbody>\n",
       "</table>\n",
       "</div>"
      ],
      "text/plain": [
       "    mid  cust_id  rating     r_date  m_decade  m_avg_rating  user_engagement   \n",
       "0  3113   510180     3.0 1999-12-12         4      3.187192                9  \\\n",
       "1  3113  1589382     4.0 2000-03-11         4      3.187192                2   \n",
       "2  3113  1878798     2.0 2000-08-08         4      3.187192               30   \n",
       "3  3113  1259176     4.0 2000-11-10         4      3.187192                7   \n",
       "4  3113   873369     3.0 2000-11-20         4      3.187192                9   \n",
       "\n",
       "   cust_act_activity_rank  adopters  m_minreq  \n",
       "0                       4         1       0.0  \n",
       "1                       2         1       0.0  \n",
       "2                       5         1       0.0  \n",
       "3                       4         1       0.0  \n",
       "4                       4         1       0.0  "
      ]
     },
     "execution_count": 49,
     "metadata": {},
     "output_type": "execute_result"
    }
   ],
   "source": [
    "data = pd.read_csv('data/1m_useratt_minreq.csv')\n",
    "minorityrec = pd.read_csv('data/minreq.csv')\n",
    "\n",
    "#for split\n",
    "data['r_date'] = data['r_date'].astype('datetime64[ns]')\n",
    "\n",
    "data.head()"
   ]
  },
  {
   "cell_type": "code",
   "execution_count": 50,
   "id": "5c4b936f",
   "metadata": {},
   "outputs": [
    {
     "name": "stdout",
     "output_type": "stream",
     "text": [
      "<class 'pandas.core.frame.DataFrame'>\n",
      "RangeIndex: 17770 entries, 0 to 17769\n",
      "Data columns (total 2 columns):\n",
      " #   Column    Non-Null Count  Dtype  \n",
      "---  ------    --------------  -----  \n",
      " 0   mid       17770 non-null  int64  \n",
      " 1   m_minreq  17770 non-null  float64\n",
      "dtypes: float64(1), int64(1)\n",
      "memory usage: 277.8 KB\n"
     ]
    }
   ],
   "source": [
    "minorityrec.info()"
   ]
  },
  {
   "cell_type": "markdown",
   "id": "42ed19ea",
   "metadata": {},
   "source": [
    "# The Models"
   ]
  },
  {
   "cell_type": "code",
   "execution_count": 4,
   "id": "baa46ac5",
   "metadata": {},
   "outputs": [],
   "source": [
    "reader = Reader(rating_scale=(1,5))\n",
    "all_data = Dataset.load_from_df(data[['cust_id','mid','rating']], reader)\n",
    "\n",
    "#correct surprise dataset format\n",
    "all_sr = all_data.build_full_trainset()"
   ]
  },
  {
   "cell_type": "code",
   "execution_count": 5,
   "id": "28863b01",
   "metadata": {},
   "outputs": [
    {
     "data": {
      "text/plain": [
       "<surprise.prediction_algorithms.matrix_factorization.SVDpp at 0x7ff23057a760>"
      ]
     },
     "execution_count": 5,
     "metadata": {},
     "output_type": "execute_result"
    }
   ],
   "source": [
    "#instantiate best Matrix Factorization Model and fit to all data\n",
    "svdpp = SVDpp(n_factors= 150, n_epochs= 20)\n",
    "svdpp.fit(all_sr)"
   ]
  },
  {
   "cell_type": "code",
   "execution_count": 83,
   "id": "4bb0b03f",
   "metadata": {},
   "outputs": [
    {
     "name": "stdout",
     "output_type": "stream",
     "text": [
      "Estimating biases using als...\n",
      "Computing the cosine similarity matrix...\n",
      "Done computing similarity matrix.\n"
     ]
    },
    {
     "data": {
      "text/plain": [
       "<surprise.prediction_algorithms.knns.KNNBaseline at 0x7ff1e1346550>"
      ]
     },
     "execution_count": 83,
     "metadata": {},
     "output_type": "execute_result"
    }
   ],
   "source": [
    "#instantiate best kNN Model and fit to all data\n",
    "sim_dict = {'name': 'cosine', 'user_based': False}\n",
    "knn = KNNBaseline(min_k=5, sim_options=sim_dict)\n",
    "knn.fit(all_sr)"
   ]
  },
  {
   "cell_type": "markdown",
   "id": "f710adf9",
   "metadata": {},
   "source": [
    "# Intentional Diversity\n",
    "\n",
    "A curated list from the celebrities below:\n",
    "\n",
    "**Will Smith:**\n",
    "- Hitch (2005): 17324\n",
    "- Shark Tale (2004): 5345\n",
    "- Bad Boys (1995): 2186\n",
    "\n",
    "**Lucy Liu:**\n",
    "- Mulan 2 (2004): 13836\n",
    "- Charlie's Angels (2000): 6552\n",
    "\n",
    "**Jennifer Lopez:**\n",
    "- Maid in Manhattan (2002): 11149\n",
    "- Out of Sight (1998): 13486\n",
    "\n",
    "**Holdout Will Smith Movie:**\n",
    "- Men In Black (2002): 12918"
   ]
  },
  {
   "cell_type": "code",
   "execution_count": 94,
   "id": "83bce02d",
   "metadata": {},
   "outputs": [
    {
     "data": {
      "text/plain": [
       "True"
      ]
     },
     "execution_count": 94,
     "metadata": {},
     "output_type": "execute_result"
    }
   ],
   "source": [
    "12918 in data['mid'].unique()"
   ]
  },
  {
   "cell_type": "code",
   "execution_count": 80,
   "id": "14e282a1",
   "metadata": {},
   "outputs": [],
   "source": [
    "diverse_mids = [17324, 5345, 2186, 13836, 6552, 11149, 13486, 12918]"
   ]
  },
  {
   "cell_type": "code",
   "execution_count": 100,
   "id": "99263d29",
   "metadata": {},
   "outputs": [],
   "source": [
    "def nn_iid_dict(mid_list):\n",
    "    \n",
    "    nn_dict = {}\n",
    "    \n",
    "    for mid in mid_list:\n",
    "        #inner id\n",
    "        mid_iid = knn.trainset.to_inner_iid(mid)\n",
    "        \n",
    "        #top 20 neighbors\n",
    "        neighbors = knn.get_neighbors(mid_iid, k=20)\n",
    "        \n",
    "        #add to dictionary\n",
    "        nn_dict[mid] = neighbors\n",
    "        \n",
    "    return nn_dict"
   ]
  },
  {
   "cell_type": "code",
   "execution_count": 102,
   "id": "e7152888",
   "metadata": {},
   "outputs": [
    {
     "name": "stdout",
     "output_type": "stream",
     "text": [
      "{17324: [4, 11, 14, 16, 23, 24, 26, 37, 45, 47, 56, 63, 66, 71, 78, 79, 80, 85, 89, 93], 5345: [1, 7, 11, 12, 17, 20, 24, 33, 37, 46, 51, 58, 60, 63, 65, 71, 72, 81, 86, 95], 2186: [0, 5, 22, 24, 36, 45, 52, 57, 58, 74, 75, 78, 82, 88, 90, 98, 100, 103, 104, 109], 13836: [1, 7, 8, 19, 48, 74, 77, 78, 85, 92, 103, 106, 117, 122, 124, 132, 154, 164, 167, 173], 6552: [0, 1, 11, 20, 36, 37, 43, 48, 49, 52, 54, 56, 59, 60, 64, 66, 67, 68, 72, 73], 11149: [2, 7, 15, 17, 43, 47, 50, 62, 68, 71, 87, 88, 93, 96, 97, 114, 116, 126, 128, 129], 13486: [1, 4, 7, 23, 39, 41, 42, 45, 50, 59, 63, 66, 70, 72, 76, 79, 81, 84, 88, 90]}\n"
     ]
    }
   ],
   "source": [
    "diverse_dict = nn_iid_dict(diverse_mids)\n",
    "print(diverse_dict)"
   ]
  },
  {
   "cell_type": "code",
   "execution_count": 129,
   "id": "9cede133",
   "metadata": {},
   "outputs": [],
   "source": [
    "cust_id = user1\n",
    "\n",
    "def diversity_check(initial_recs_df):\n",
    "    \"\"\"\n",
    "    \n",
    "    \"\"\"\n",
    "    #list of mids in initial rec df\n",
    "    mid_list = list(initial_recs_df['mid'].unique())\n",
    "\n",
    "    #instantiate list of 10nn for each rec\n",
    "    hundred_initial_rec_nn = []\n",
    "\n",
    "    #nearest neighbors for initial recs_df\n",
    "    def nn_rec_mids(mid_list):\n",
    "\n",
    "        def nn(mid):\n",
    "            #inner id\n",
    "            mid_iid = knn.trainset.to_inner_iid(mid)\n",
    "\n",
    "            #top 10 neighbors\n",
    "            return knn.get_neighbors(mid_iid, k=10)\n",
    "\n",
    "    #apply nn_rec_mids and + to list\n",
    "        ten_initial_nn = nn_rec_mids(mid_list)\n",
    "        hundred_initial_rec_nn.extend(ten_initial_nn)\n",
    "\n",
    "        return hundred_initial_rec_nn\n",
    "    \n",
    "    def diversity(hundred_initial_rec_nn):\n",
    "\n",
    "        #diversity check Hitch(2005) 17324\n",
    "        if knn.trainset.to_inner_iid(17324) in hundred_initial_rec_nn:\n",
    "            newrow = cust_id, 17324, 1\n",
    "\n",
    "        #diversity check Mulan 2 13836\n",
    "        elif knn.trainset.to_inner_iid(13836) in hundred_initial_rec_nn:\n",
    "            newrow = cust_id, 113836, 1\n",
    "\n",
    "        #diversity check Maid In Manhattan 11149\n",
    "        elif knn.trainset.to_inner_iid(11149) in hundred_initial_rec_nn:\n",
    "            newrow = cust_id, 11149, 1\n",
    "\n",
    "        #diversity check Shark Tale 5345\n",
    "        elif knn.trainset.to_inner_iid(5345) in hundred_initial_rec_nn:\n",
    "            newrow = cust_id, 5345, 1\n",
    "\n",
    "        #diversity check Charlie's Angels 6552\n",
    "        elif knn.trainset.to_inner_iid(6552) in hundred_initial_rec_nn:\n",
    "            newrow = cust_id, 6552, 1\n",
    "\n",
    "        #diversity check Out of Sight 13486\n",
    "        elif knn.trainset.to_inner_iid(13486) in hundred_initial_rec_nn:\n",
    "            newrow = cust_id, 13486, 1\n",
    "\n",
    "        #diversity check Bad Boys 2186\n",
    "        elif knn.trainset.to_inner_iid(2186) in hundred_initial_rec_nn:\n",
    "            newrow = cust_id, 2186, 1\n",
    "\n",
    "        #else return MIB 12918\n",
    "        else:\n",
    "            new_row = cust_id, 12918, 1\n",
    "\n",
    "        #insert new row at index 3\n",
    "        initial_recs_df.loc[3] = new_row\n",
    "        initial_recs_df = initial_recs_df.sort_index().reset_index(drop=True)\n",
    "        return initial_recs_df[:10]"
   ]
  },
  {
   "cell_type": "code",
   "execution_count": 130,
   "id": "d63c2af3",
   "metadata": {},
   "outputs": [
    {
     "ename": "NameError",
     "evalue": "name 'new_row' is not defined",
     "output_type": "error",
     "traceback": [
      "\u001b[0;31m---------------------------------------------------------------------------\u001b[0m",
      "\u001b[0;31mNameError\u001b[0m                                 Traceback (most recent call last)",
      "\u001b[0;32m/var/folders/xc/4fn08svj2dgdk_3wj3xkp_rr0000gn/T/ipykernel_34784/3962691333.py\u001b[0m in \u001b[0;36m<module>\u001b[0;34m\u001b[0m\n\u001b[0;32m----> 1\u001b[0;31m \u001b[0mdchecktest\u001b[0m \u001b[0;34m=\u001b[0m \u001b[0mdiversity_check\u001b[0m\u001b[0;34m(\u001b[0m\u001b[0mpvr1\u001b[0m\u001b[0;34m)\u001b[0m\u001b[0;34m\u001b[0m\u001b[0;34m\u001b[0m\u001b[0m\n\u001b[0m\u001b[1;32m      2\u001b[0m \u001b[0mdchecktest\u001b[0m\u001b[0;34m\u001b[0m\u001b[0;34m\u001b[0m\u001b[0m\n",
      "\u001b[0;32m/var/folders/xc/4fn08svj2dgdk_3wj3xkp_rr0000gn/T/ipykernel_34784/3378968756.py\u001b[0m in \u001b[0;36mdiversity_check\u001b[0;34m(initial_recs_df)\u001b[0m\n\u001b[1;32m     61\u001b[0m \u001b[0;34m\u001b[0m\u001b[0m\n\u001b[1;32m     62\u001b[0m     \u001b[0;31m#insert new row at index 3\u001b[0m\u001b[0;34m\u001b[0m\u001b[0;34m\u001b[0m\u001b[0m\n\u001b[0;32m---> 63\u001b[0;31m     \u001b[0minitial_recs_df\u001b[0m\u001b[0;34m.\u001b[0m\u001b[0mloc\u001b[0m\u001b[0;34m[\u001b[0m\u001b[0;36m3\u001b[0m\u001b[0;34m]\u001b[0m \u001b[0;34m=\u001b[0m \u001b[0mnew_row\u001b[0m\u001b[0;34m\u001b[0m\u001b[0;34m\u001b[0m\u001b[0m\n\u001b[0m\u001b[1;32m     64\u001b[0m     \u001b[0minitial_recs_df\u001b[0m \u001b[0;34m=\u001b[0m \u001b[0minitial_recs_df\u001b[0m\u001b[0;34m.\u001b[0m\u001b[0msort_index\u001b[0m\u001b[0;34m(\u001b[0m\u001b[0;34m)\u001b[0m\u001b[0;34m.\u001b[0m\u001b[0mreset_index\u001b[0m\u001b[0;34m(\u001b[0m\u001b[0mdrop\u001b[0m\u001b[0;34m=\u001b[0m\u001b[0;32mTrue\u001b[0m\u001b[0;34m)\u001b[0m\u001b[0;34m\u001b[0m\u001b[0;34m\u001b[0m\u001b[0m\n\u001b[1;32m     65\u001b[0m     \u001b[0;32mreturn\u001b[0m \u001b[0minitial_recs_df\u001b[0m\u001b[0;34m[\u001b[0m\u001b[0;34m:\u001b[0m\u001b[0;36m10\u001b[0m\u001b[0;34m]\u001b[0m\u001b[0;34m\u001b[0m\u001b[0;34m\u001b[0m\u001b[0m\n",
      "\u001b[0;31mNameError\u001b[0m: name 'new_row' is not defined"
     ]
    }
   ],
   "source": [
    "dchecktest = diversity_check(pvr1)\n",
    "dchecktest"
   ]
  },
  {
   "cell_type": "markdown",
   "id": "71117c51",
   "metadata": {},
   "source": [
    "# User #2407458: DONE BY HAND FOR RIGHT NOW\n",
    "\n",
    "Throughout this process, I have been tracking the recommendations given to this user"
   ]
  },
  {
   "cell_type": "code",
   "execution_count": 125,
   "id": "9cf114b9",
   "metadata": {},
   "outputs": [
    {
     "data": {
      "text/html": [
       "<div>\n",
       "<style scoped>\n",
       "    .dataframe tbody tr th:only-of-type {\n",
       "        vertical-align: middle;\n",
       "    }\n",
       "\n",
       "    .dataframe tbody tr th {\n",
       "        vertical-align: top;\n",
       "    }\n",
       "\n",
       "    .dataframe thead th {\n",
       "        text-align: right;\n",
       "    }\n",
       "</style>\n",
       "<table border=\"1\" class=\"dataframe\">\n",
       "  <thead>\n",
       "    <tr style=\"text-align: right;\">\n",
       "      <th></th>\n",
       "      <th>mid</th>\n",
       "      <th>cust_id</th>\n",
       "      <th>rating</th>\n",
       "      <th>r_date</th>\n",
       "      <th>m_decade</th>\n",
       "      <th>m_avg_rating</th>\n",
       "      <th>user_engagement</th>\n",
       "      <th>cust_act_activity_rank</th>\n",
       "      <th>adopters</th>\n",
       "      <th>m_minreq</th>\n",
       "    </tr>\n",
       "  </thead>\n",
       "  <tbody>\n",
       "    <tr>\n",
       "      <th>54936</th>\n",
       "      <td>15342</td>\n",
       "      <td>2407458</td>\n",
       "      <td>3.0</td>\n",
       "      <td>2005-11-17</td>\n",
       "      <td>4</td>\n",
       "      <td>3.476331</td>\n",
       "      <td>4</td>\n",
       "      <td>3</td>\n",
       "      <td>5</td>\n",
       "      <td>0.0</td>\n",
       "    </tr>\n",
       "    <tr>\n",
       "      <th>76944</th>\n",
       "      <td>16128</td>\n",
       "      <td>2407458</td>\n",
       "      <td>4.0</td>\n",
       "      <td>2005-11-05</td>\n",
       "      <td>4</td>\n",
       "      <td>3.964478</td>\n",
       "      <td>4</td>\n",
       "      <td>3</td>\n",
       "      <td>5</td>\n",
       "      <td>0.0</td>\n",
       "    </tr>\n",
       "    <tr>\n",
       "      <th>130508</th>\n",
       "      <td>14606</td>\n",
       "      <td>2407458</td>\n",
       "      <td>3.0</td>\n",
       "      <td>2005-11-05</td>\n",
       "      <td>5</td>\n",
       "      <td>3.124744</td>\n",
       "      <td>4</td>\n",
       "      <td>3</td>\n",
       "      <td>5</td>\n",
       "      <td>0.0</td>\n",
       "    </tr>\n",
       "    <tr>\n",
       "      <th>698884</th>\n",
       "      <td>4157</td>\n",
       "      <td>2407458</td>\n",
       "      <td>3.0</td>\n",
       "      <td>2005-11-17</td>\n",
       "      <td>4</td>\n",
       "      <td>3.357143</td>\n",
       "      <td>4</td>\n",
       "      <td>3</td>\n",
       "      <td>5</td>\n",
       "      <td>1.0</td>\n",
       "    </tr>\n",
       "  </tbody>\n",
       "</table>\n",
       "</div>"
      ],
      "text/plain": [
       "          mid  cust_id  rating     r_date  m_decade  m_avg_rating   \n",
       "54936   15342  2407458     3.0 2005-11-17         4      3.476331  \\\n",
       "76944   16128  2407458     4.0 2005-11-05         4      3.964478   \n",
       "130508  14606  2407458     3.0 2005-11-05         5      3.124744   \n",
       "698884   4157  2407458     3.0 2005-11-17         4      3.357143   \n",
       "\n",
       "        user_engagement  cust_act_activity_rank  adopters  m_minreq  \n",
       "54936                 4                       3         5       0.0  \n",
       "76944                 4                       3         5       0.0  \n",
       "130508                4                       3         5       0.0  \n",
       "698884                4                       3         5       1.0  "
      ]
     },
     "execution_count": 125,
     "metadata": {},
     "output_type": "execute_result"
    }
   ],
   "source": [
    "user1 = data[data['cust_id'] == 2407458]\n",
    "user1"
   ]
  },
  {
   "cell_type": "code",
   "execution_count": 194,
   "id": "6c03b8e5",
   "metadata": {},
   "outputs": [
    {
     "data": {
      "text/html": [
       "<div>\n",
       "<style scoped>\n",
       "    .dataframe tbody tr th:only-of-type {\n",
       "        vertical-align: middle;\n",
       "    }\n",
       "\n",
       "    .dataframe tbody tr th {\n",
       "        vertical-align: top;\n",
       "    }\n",
       "\n",
       "    .dataframe thead th {\n",
       "        text-align: right;\n",
       "    }\n",
       "</style>\n",
       "<table border=\"1\" class=\"dataframe\">\n",
       "  <thead>\n",
       "    <tr style=\"text-align: right;\">\n",
       "      <th></th>\n",
       "      <th>cust_id</th>\n",
       "      <th>mid</th>\n",
       "      <th>m_minreq</th>\n",
       "    </tr>\n",
       "  </thead>\n",
       "  <tbody>\n",
       "    <tr>\n",
       "      <th>267998</th>\n",
       "      <td>2407458</td>\n",
       "      <td>12834</td>\n",
       "      <td>0.0</td>\n",
       "    </tr>\n",
       "    <tr>\n",
       "      <th>502332</th>\n",
       "      <td>2407458</td>\n",
       "      <td>7230</td>\n",
       "      <td>0.0</td>\n",
       "    </tr>\n",
       "    <tr>\n",
       "      <th>864390</th>\n",
       "      <td>2407458</td>\n",
       "      <td>10418</td>\n",
       "      <td>0.0</td>\n",
       "    </tr>\n",
       "    <tr>\n",
       "      <th>997165</th>\n",
       "      <td>2407458</td>\n",
       "      <td>16587</td>\n",
       "      <td>0.0</td>\n",
       "    </tr>\n",
       "    <tr>\n",
       "      <th>1151834</th>\n",
       "      <td>2407458</td>\n",
       "      <td>14621</td>\n",
       "      <td>0.0</td>\n",
       "    </tr>\n",
       "    <tr>\n",
       "      <th>1558123</th>\n",
       "      <td>2407458</td>\n",
       "      <td>12293</td>\n",
       "      <td>0.0</td>\n",
       "    </tr>\n",
       "    <tr>\n",
       "      <th>1713263</th>\n",
       "      <td>2407458</td>\n",
       "      <td>2102</td>\n",
       "      <td>0.0</td>\n",
       "    </tr>\n",
       "    <tr>\n",
       "      <th>2183369</th>\n",
       "      <td>2407458</td>\n",
       "      <td>5103</td>\n",
       "      <td>0.0</td>\n",
       "    </tr>\n",
       "    <tr>\n",
       "      <th>2553679</th>\n",
       "      <td>2407458</td>\n",
       "      <td>14691</td>\n",
       "      <td>0.0</td>\n",
       "    </tr>\n",
       "    <tr>\n",
       "      <th>2824970</th>\n",
       "      <td>2407458</td>\n",
       "      <td>10080</td>\n",
       "      <td>0.0</td>\n",
       "    </tr>\n",
       "    <tr>\n",
       "      <th>3649131</th>\n",
       "      <td>2407458</td>\n",
       "      <td>457</td>\n",
       "      <td>1.0</td>\n",
       "    </tr>\n",
       "    <tr>\n",
       "      <th>3892031</th>\n",
       "      <td>2407458</td>\n",
       "      <td>12221</td>\n",
       "      <td>0.0</td>\n",
       "    </tr>\n",
       "    <tr>\n",
       "      <th>3911558</th>\n",
       "      <td>2407458</td>\n",
       "      <td>15689</td>\n",
       "      <td>0.0</td>\n",
       "    </tr>\n",
       "    <tr>\n",
       "      <th>4118086</th>\n",
       "      <td>2407458</td>\n",
       "      <td>11525</td>\n",
       "      <td>0.0</td>\n",
       "    </tr>\n",
       "    <tr>\n",
       "      <th>4198338</th>\n",
       "      <td>2407458</td>\n",
       "      <td>2443</td>\n",
       "      <td>1.0</td>\n",
       "    </tr>\n",
       "  </tbody>\n",
       "</table>\n",
       "</div>"
      ],
      "text/plain": [
       "         cust_id    mid  m_minreq\n",
       "267998   2407458  12834       0.0\n",
       "502332   2407458   7230       0.0\n",
       "864390   2407458  10418       0.0\n",
       "997165   2407458  16587       0.0\n",
       "1151834  2407458  14621       0.0\n",
       "1558123  2407458  12293       0.0\n",
       "1713263  2407458   2102       0.0\n",
       "2183369  2407458   5103       0.0\n",
       "2553679  2407458  14691       0.0\n",
       "2824970  2407458  10080       0.0\n",
       "3649131  2407458    457       1.0\n",
       "3892031  2407458  12221       0.0\n",
       "3911558  2407458  15689       0.0\n",
       "4118086  2407458  11525       0.0\n",
       "4198338  2407458   2443       1.0"
      ]
     },
     "execution_count": 194,
     "metadata": {},
     "output_type": "execute_result"
    }
   ],
   "source": [
    "top15_svdpp_allusers = pd.read_csv('data/top15_svdpp_allusers.csv')\n",
    "svdpp_example = top15_svdpp_allusers[(top15_svdpp_allusers['cust_id'] == 2407458)]\n",
    "svdpp_example"
   ]
  },
  {
   "cell_type": "code",
   "execution_count": 195,
   "id": "640b754c",
   "metadata": {},
   "outputs": [
    {
     "data": {
      "text/html": [
       "<div>\n",
       "<style scoped>\n",
       "    .dataframe tbody tr th:only-of-type {\n",
       "        vertical-align: middle;\n",
       "    }\n",
       "\n",
       "    .dataframe tbody tr th {\n",
       "        vertical-align: top;\n",
       "    }\n",
       "\n",
       "    .dataframe thead th {\n",
       "        text-align: right;\n",
       "    }\n",
       "</style>\n",
       "<table border=\"1\" class=\"dataframe\">\n",
       "  <thead>\n",
       "    <tr style=\"text-align: right;\">\n",
       "      <th></th>\n",
       "      <th>index</th>\n",
       "      <th>cust_id</th>\n",
       "      <th>mid</th>\n",
       "      <th>m_minreq</th>\n",
       "    </tr>\n",
       "  </thead>\n",
       "  <tbody>\n",
       "    <tr>\n",
       "      <th>0</th>\n",
       "      <td>267998</td>\n",
       "      <td>2407458</td>\n",
       "      <td>12834</td>\n",
       "      <td>0.0</td>\n",
       "    </tr>\n",
       "    <tr>\n",
       "      <th>1</th>\n",
       "      <td>502332</td>\n",
       "      <td>2407458</td>\n",
       "      <td>7230</td>\n",
       "      <td>0.0</td>\n",
       "    </tr>\n",
       "    <tr>\n",
       "      <th>2</th>\n",
       "      <td>864390</td>\n",
       "      <td>2407458</td>\n",
       "      <td>10418</td>\n",
       "      <td>0.0</td>\n",
       "    </tr>\n",
       "    <tr>\n",
       "      <th>3</th>\n",
       "      <td>997165</td>\n",
       "      <td>2407458</td>\n",
       "      <td>16587</td>\n",
       "      <td>0.0</td>\n",
       "    </tr>\n",
       "    <tr>\n",
       "      <th>4</th>\n",
       "      <td>1151834</td>\n",
       "      <td>2407458</td>\n",
       "      <td>14621</td>\n",
       "      <td>0.0</td>\n",
       "    </tr>\n",
       "    <tr>\n",
       "      <th>5</th>\n",
       "      <td>1558123</td>\n",
       "      <td>2407458</td>\n",
       "      <td>12293</td>\n",
       "      <td>0.0</td>\n",
       "    </tr>\n",
       "    <tr>\n",
       "      <th>6</th>\n",
       "      <td>1713263</td>\n",
       "      <td>2407458</td>\n",
       "      <td>2102</td>\n",
       "      <td>0.0</td>\n",
       "    </tr>\n",
       "    <tr>\n",
       "      <th>7</th>\n",
       "      <td>2183369</td>\n",
       "      <td>2407458</td>\n",
       "      <td>5103</td>\n",
       "      <td>0.0</td>\n",
       "    </tr>\n",
       "    <tr>\n",
       "      <th>8</th>\n",
       "      <td>2553679</td>\n",
       "      <td>2407458</td>\n",
       "      <td>14691</td>\n",
       "      <td>0.0</td>\n",
       "    </tr>\n",
       "    <tr>\n",
       "      <th>9</th>\n",
       "      <td>2824970</td>\n",
       "      <td>2407458</td>\n",
       "      <td>10080</td>\n",
       "      <td>0.0</td>\n",
       "    </tr>\n",
       "  </tbody>\n",
       "</table>\n",
       "</div>"
      ],
      "text/plain": [
       "     index  cust_id    mid  m_minreq\n",
       "0   267998  2407458  12834       0.0\n",
       "1   502332  2407458   7230       0.0\n",
       "2   864390  2407458  10418       0.0\n",
       "3   997165  2407458  16587       0.0\n",
       "4  1151834  2407458  14621       0.0\n",
       "5  1558123  2407458  12293       0.0\n",
       "6  1713263  2407458   2102       0.0\n",
       "7  2183369  2407458   5103       0.0\n",
       "8  2553679  2407458  14691       0.0\n",
       "9  2824970  2407458  10080       0.0"
      ]
     },
     "execution_count": 195,
     "metadata": {},
     "output_type": "execute_result"
    }
   ],
   "source": [
    "svdpp_example = svdpp_example[:10].reset_index()\n",
    "svdpp_example"
   ]
  },
  {
   "cell_type": "code",
   "execution_count": 139,
   "id": "f636bf40",
   "metadata": {},
   "outputs": [
    {
     "data": {
      "text/plain": [
       "[12834, 7230, 10418, 16587, 14621, 12293, 2102, 5103, 14691, 10080]"
      ]
     },
     "execution_count": 139,
     "metadata": {},
     "output_type": "execute_result"
    }
   ],
   "source": [
    "svdpp_list = list(svdpp_example['mid'])\n",
    "svdpp_list"
   ]
  },
  {
   "cell_type": "code",
   "execution_count": 174,
   "id": "f1451838",
   "metadata": {},
   "outputs": [],
   "source": [
    "list1 = []\n",
    "\n",
    "for mid in svdpp_list:\n",
    "    mid_iid = knn.trainset.to_inner_iid(mid)\n",
    "    ten = knn.get_neighbors(mid_iid, k=10)\n",
    "    list1.extend(ten)"
   ]
  },
  {
   "cell_type": "code",
   "execution_count": 175,
   "id": "97f45b1b",
   "metadata": {},
   "outputs": [
    {
     "data": {
      "text/plain": [
       "[1,\n",
       " 6,\n",
       " 15,\n",
       " 16,\n",
       " 40,\n",
       " 53,\n",
       " 56,\n",
       " 63,\n",
       " 64,\n",
       " 79,\n",
       " 3,\n",
       " 7,\n",
       " 9,\n",
       " 13,\n",
       " 14,\n",
       " 22,\n",
       " 26,\n",
       " 29,\n",
       " 38,\n",
       " 41,\n",
       " 0,\n",
       " 8,\n",
       " 10,\n",
       " 17,\n",
       " 22,\n",
       " 24,\n",
       " 25,\n",
       " 30,\n",
       " 36,\n",
       " 44,\n",
       " 4,\n",
       " 7,\n",
       " 8,\n",
       " 11,\n",
       " 22,\n",
       " 23,\n",
       " 25,\n",
       " 36,\n",
       " 39,\n",
       " 40,\n",
       " 5,\n",
       " 15,\n",
       " 24,\n",
       " 30,\n",
       " 31,\n",
       " 37,\n",
       " 50,\n",
       " 51,\n",
       " 53,\n",
       " 54,\n",
       " 0,\n",
       " 4,\n",
       " 5,\n",
       " 9,\n",
       " 21,\n",
       " 22,\n",
       " 46,\n",
       " 51,\n",
       " 57,\n",
       " 58,\n",
       " 0,\n",
       " 4,\n",
       " 9,\n",
       " 13,\n",
       " 23,\n",
       " 30,\n",
       " 37,\n",
       " 44,\n",
       " 46,\n",
       " 56,\n",
       " 1,\n",
       " 7,\n",
       " 11,\n",
       " 20,\n",
       " 24,\n",
       " 29,\n",
       " 30,\n",
       " 40,\n",
       " 45,\n",
       " 48,\n",
       " 1,\n",
       " 6,\n",
       " 7,\n",
       " 8,\n",
       " 14,\n",
       " 15,\n",
       " 16,\n",
       " 22,\n",
       " 30,\n",
       " 47,\n",
       " 3,\n",
       " 7,\n",
       " 9,\n",
       " 20,\n",
       " 29,\n",
       " 36,\n",
       " 39,\n",
       " 40,\n",
       " 62,\n",
       " 67]"
      ]
     },
     "execution_count": 175,
     "metadata": {},
     "output_type": "execute_result"
    }
   ],
   "source": [
    "list1"
   ]
  },
  {
   "cell_type": "code",
   "execution_count": 177,
   "id": "90a89220",
   "metadata": {},
   "outputs": [
    {
     "data": {
      "text/plain": [
       "100"
      ]
     },
     "execution_count": 177,
     "metadata": {},
     "output_type": "execute_result"
    }
   ],
   "source": [
    "len(list1)"
   ]
  },
  {
   "cell_type": "code",
   "execution_count": 179,
   "id": "4ec78394",
   "metadata": {},
   "outputs": [
    {
     "data": {
      "text/plain": [
       "488"
      ]
     },
     "execution_count": 179,
     "metadata": {},
     "output_type": "execute_result"
    }
   ],
   "source": [
    "hitch = knn.trainset.to_inner_iid(17324)\n",
    "hitch"
   ]
  },
  {
   "cell_type": "code",
   "execution_count": 180,
   "id": "a9493e01",
   "metadata": {},
   "outputs": [
    {
     "data": {
      "text/plain": [
       "False"
      ]
     },
     "execution_count": 180,
     "metadata": {},
     "output_type": "execute_result"
    }
   ],
   "source": [
    "knn.trainset.to_inner_iid(17324) in list1"
   ]
  },
  {
   "cell_type": "code",
   "execution_count": 181,
   "id": "193b6fe1",
   "metadata": {},
   "outputs": [
    {
     "data": {
      "text/plain": [
       "False"
      ]
     },
     "execution_count": 181,
     "metadata": {},
     "output_type": "execute_result"
    }
   ],
   "source": [
    "mulan = knn.trainset.to_inner_iid(13836)\n",
    "knn.trainset.to_inner_iid(13836) in list1"
   ]
  },
  {
   "cell_type": "code",
   "execution_count": 182,
   "id": "a3bb5581",
   "metadata": {},
   "outputs": [
    {
     "data": {
      "text/plain": [
       "False"
      ]
     },
     "execution_count": 182,
     "metadata": {},
     "output_type": "execute_result"
    }
   ],
   "source": [
    "knn.trainset.to_inner_iid(11149) in list1"
   ]
  },
  {
   "cell_type": "code",
   "execution_count": 183,
   "id": "542576e0",
   "metadata": {},
   "outputs": [
    {
     "data": {
      "text/plain": [
       "False"
      ]
     },
     "execution_count": 183,
     "metadata": {},
     "output_type": "execute_result"
    }
   ],
   "source": [
    "knn.trainset.to_inner_iid(5345) in list1"
   ]
  },
  {
   "cell_type": "code",
   "execution_count": 184,
   "id": "1ebd50ef",
   "metadata": {},
   "outputs": [
    {
     "data": {
      "text/plain": [
       "False"
      ]
     },
     "execution_count": 184,
     "metadata": {},
     "output_type": "execute_result"
    }
   ],
   "source": [
    "knn.trainset.to_inner_iid(6552) in list1"
   ]
  },
  {
   "cell_type": "code",
   "execution_count": 185,
   "id": "9de2a59f",
   "metadata": {},
   "outputs": [
    {
     "data": {
      "text/plain": [
       "False"
      ]
     },
     "execution_count": 185,
     "metadata": {},
     "output_type": "execute_result"
    }
   ],
   "source": [
    "knn.trainset.to_inner_iid(13486) in list1"
   ]
  },
  {
   "cell_type": "code",
   "execution_count": 186,
   "id": "a838d909",
   "metadata": {},
   "outputs": [
    {
     "data": {
      "text/plain": [
       "False"
      ]
     },
     "execution_count": 186,
     "metadata": {},
     "output_type": "execute_result"
    }
   ],
   "source": [
    "knn.trainset.to_inner_iid(2186) in list1"
   ]
  },
  {
   "cell_type": "code",
   "execution_count": 198,
   "id": "b9dce312",
   "metadata": {},
   "outputs": [
    {
     "data": {
      "text/html": [
       "<div>\n",
       "<style scoped>\n",
       "    .dataframe tbody tr th:only-of-type {\n",
       "        vertical-align: middle;\n",
       "    }\n",
       "\n",
       "    .dataframe tbody tr th {\n",
       "        vertical-align: top;\n",
       "    }\n",
       "\n",
       "    .dataframe thead th {\n",
       "        text-align: right;\n",
       "    }\n",
       "</style>\n",
       "<table border=\"1\" class=\"dataframe\">\n",
       "  <thead>\n",
       "    <tr style=\"text-align: right;\">\n",
       "      <th></th>\n",
       "      <th>index</th>\n",
       "      <th>cust_id</th>\n",
       "      <th>mid</th>\n",
       "      <th>m_minreq</th>\n",
       "    </tr>\n",
       "  </thead>\n",
       "  <tbody>\n",
       "    <tr>\n",
       "      <th>0</th>\n",
       "      <td>267998</td>\n",
       "      <td>2407458</td>\n",
       "      <td>12834</td>\n",
       "      <td>0.0</td>\n",
       "    </tr>\n",
       "    <tr>\n",
       "      <th>1</th>\n",
       "      <td>502332</td>\n",
       "      <td>2407458</td>\n",
       "      <td>7230</td>\n",
       "      <td>0.0</td>\n",
       "    </tr>\n",
       "    <tr>\n",
       "      <th>2</th>\n",
       "      <td>864390</td>\n",
       "      <td>2407458</td>\n",
       "      <td>10418</td>\n",
       "      <td>0.0</td>\n",
       "    </tr>\n",
       "    <tr>\n",
       "      <th>3</th>\n",
       "      <td>0</td>\n",
       "      <td>2407458</td>\n",
       "      <td>12918</td>\n",
       "      <td>1.0</td>\n",
       "    </tr>\n",
       "    <tr>\n",
       "      <th>4</th>\n",
       "      <td>1151834</td>\n",
       "      <td>2407458</td>\n",
       "      <td>14621</td>\n",
       "      <td>0.0</td>\n",
       "    </tr>\n",
       "    <tr>\n",
       "      <th>5</th>\n",
       "      <td>1558123</td>\n",
       "      <td>2407458</td>\n",
       "      <td>12293</td>\n",
       "      <td>0.0</td>\n",
       "    </tr>\n",
       "    <tr>\n",
       "      <th>6</th>\n",
       "      <td>1713263</td>\n",
       "      <td>2407458</td>\n",
       "      <td>2102</td>\n",
       "      <td>0.0</td>\n",
       "    </tr>\n",
       "    <tr>\n",
       "      <th>7</th>\n",
       "      <td>2183369</td>\n",
       "      <td>2407458</td>\n",
       "      <td>5103</td>\n",
       "      <td>0.0</td>\n",
       "    </tr>\n",
       "    <tr>\n",
       "      <th>8</th>\n",
       "      <td>2553679</td>\n",
       "      <td>2407458</td>\n",
       "      <td>14691</td>\n",
       "      <td>0.0</td>\n",
       "    </tr>\n",
       "    <tr>\n",
       "      <th>9</th>\n",
       "      <td>2824970</td>\n",
       "      <td>2407458</td>\n",
       "      <td>10080</td>\n",
       "      <td>0.0</td>\n",
       "    </tr>\n",
       "  </tbody>\n",
       "</table>\n",
       "</div>"
      ],
      "text/plain": [
       "     index  cust_id    mid  m_minreq\n",
       "0   267998  2407458  12834       0.0\n",
       "1   502332  2407458   7230       0.0\n",
       "2   864390  2407458  10418       0.0\n",
       "3        0  2407458  12918       1.0\n",
       "4  1151834  2407458  14621       0.0\n",
       "5  1558123  2407458  12293       0.0\n",
       "6  1713263  2407458   2102       0.0\n",
       "7  2183369  2407458   5103       0.0\n",
       "8  2553679  2407458  14691       0.0\n",
       "9  2824970  2407458  10080       0.0"
      ]
     },
     "execution_count": 198,
     "metadata": {},
     "output_type": "execute_result"
    }
   ],
   "source": [
    "new_row = [user1, 12918, 1]\n",
    "#svdpp_example = svdpp_example.append(new_row, ignore_index=True)\n",
    "svdpp_example.loc[3, :] = [0, 2407458, 12918, 1]\n",
    "svdpp_example"
   ]
  },
  {
   "cell_type": "code",
   "execution_count": null,
   "id": "43c8dafc",
   "metadata": {},
   "outputs": [],
   "source": [
    "def diversity(initial_recs_df, hundred_initial_rec_nn):\n",
    "\n",
    "        #diversity check Hitch(2005) 17324\n",
    "        if knn.trainset.to_inner_iid(17324) in hundred_initial_rec_nn:\n",
    "            newrow = cust_id, 17324, 1\n",
    "\n",
    "        #diversity check Mulan 2 13836\n",
    "        elif knn.trainset.to_inner_iid(13836) in hundred_initial_rec_nn:\n",
    "            newrow = cust_id, 113836, 1\n",
    "\n",
    "        #diversity check Maid In Manhattan 11149\n",
    "        elif knn.trainset.to_inner_iid(11149) in hundred_initial_rec_nn:\n",
    "            newrow = cust_id, 11149, 1\n",
    "\n",
    "        #diversity check Shark Tale 5345\n",
    "        elif knn.trainset.to_inner_iid(5345) in hundred_initial_rec_nn:\n",
    "            newrow = cust_id, 5345, 1\n",
    "\n",
    "        #diversity check Charlie's Angels 6552\n",
    "        elif knn.trainset.to_inner_iid(6552) in hundred_initial_rec_nn:\n",
    "            newrow = cust_id, 6552, 1\n",
    "\n",
    "        #diversity check Out of Sight 13486\n",
    "        elif knn.trainset.to_inner_iid(13486) in hundred_initial_rec_nn:\n",
    "            newrow = cust_id, 13486, 1\n",
    "\n",
    "        #diversity check Bad Boys 2186\n",
    "        elif knn.trainset.to_inner_iid(2186) in hundred_initial_rec_nn:\n",
    "            newrow = cust_id, 2186, 1\n",
    "\n",
    "        #else return MIB 12918\n",
    "        else:\n",
    "            new_row = cust_id, 12918, 1\n",
    "\n",
    "        #insert new row at index 3\n",
    "        initial_recs_df.loc[3] = new_row\n",
    "        return initial_recs_df[:10]"
   ]
  },
  {
   "cell_type": "code",
   "execution_count": 167,
   "id": "f914f4f7",
   "metadata": {},
   "outputs": [
    {
     "name": "stderr",
     "output_type": "stream",
     "text": [
      "/opt/anaconda3/lib/python3.9/site-packages/numpy/core/fromnumeric.py:3156: VisibleDeprecationWarning: Creating an ndarray from ragged nested sequences (which is a list-or-tuple of lists-or-tuples-or ndarrays with different lengths or shapes) is deprecated. If you meant to do this, you must specify 'dtype=object' when creating the ndarray.\n",
      "  return asarray(a).ndim\n"
     ]
    },
    {
     "data": {
      "text/html": [
       "<div>\n",
       "<style scoped>\n",
       "    .dataframe tbody tr th:only-of-type {\n",
       "        vertical-align: middle;\n",
       "    }\n",
       "\n",
       "    .dataframe tbody tr th {\n",
       "        vertical-align: top;\n",
       "    }\n",
       "\n",
       "    .dataframe thead th {\n",
       "        text-align: right;\n",
       "    }\n",
       "</style>\n",
       "<table border=\"1\" class=\"dataframe\">\n",
       "  <thead>\n",
       "    <tr style=\"text-align: right;\">\n",
       "      <th></th>\n",
       "      <th>cust_id</th>\n",
       "      <th>mid</th>\n",
       "      <th>m_minreq</th>\n",
       "    </tr>\n",
       "  </thead>\n",
       "  <tbody>\n",
       "    <tr>\n",
       "      <th>267998</th>\n",
       "      <td>2407458</td>\n",
       "      <td>12834</td>\n",
       "      <td>0.0</td>\n",
       "    </tr>\n",
       "    <tr>\n",
       "      <th>502332</th>\n",
       "      <td>2407458</td>\n",
       "      <td>7230</td>\n",
       "      <td>0.0</td>\n",
       "    </tr>\n",
       "    <tr>\n",
       "      <th>864390</th>\n",
       "      <td>2407458</td>\n",
       "      <td>10418</td>\n",
       "      <td>0.0</td>\n",
       "    </tr>\n",
       "    <tr>\n",
       "      <th>997165</th>\n",
       "      <td>2407458</td>\n",
       "      <td>16587</td>\n",
       "      <td>0.0</td>\n",
       "    </tr>\n",
       "    <tr>\n",
       "      <th>1151834</th>\n",
       "      <td>2407458</td>\n",
       "      <td>14621</td>\n",
       "      <td>0.0</td>\n",
       "    </tr>\n",
       "    <tr>\n",
       "      <th>1558123</th>\n",
       "      <td>2407458</td>\n",
       "      <td>12293</td>\n",
       "      <td>0.0</td>\n",
       "    </tr>\n",
       "    <tr>\n",
       "      <th>1713263</th>\n",
       "      <td>2407458</td>\n",
       "      <td>2102</td>\n",
       "      <td>0.0</td>\n",
       "    </tr>\n",
       "    <tr>\n",
       "      <th>2183369</th>\n",
       "      <td>2407458</td>\n",
       "      <td>5103</td>\n",
       "      <td>0.0</td>\n",
       "    </tr>\n",
       "    <tr>\n",
       "      <th>2553679</th>\n",
       "      <td>2407458</td>\n",
       "      <td>14691</td>\n",
       "      <td>0.0</td>\n",
       "    </tr>\n",
       "    <tr>\n",
       "      <th>2824970</th>\n",
       "      <td>2407458</td>\n",
       "      <td>10080</td>\n",
       "      <td>0.0</td>\n",
       "    </tr>\n",
       "  </tbody>\n",
       "</table>\n",
       "</div>"
      ],
      "text/plain": [
       "         cust_id    mid  m_minreq\n",
       "267998   2407458  12834       0.0\n",
       "502332   2407458   7230       0.0\n",
       "864390   2407458  10418       0.0\n",
       "997165   2407458  16587       0.0\n",
       "1151834  2407458  14621       0.0\n",
       "1558123  2407458  12293       0.0\n",
       "1713263  2407458   2102       0.0\n",
       "2183369  2407458   5103       0.0\n",
       "2553679  2407458  14691       0.0\n",
       "2824970  2407458  10080       0.0"
      ]
     },
     "execution_count": 167,
     "metadata": {},
     "output_type": "execute_result"
    }
   ],
   "source": [
    "diversity(svdpp_example, list1)"
   ]
  },
  {
   "cell_type": "code",
   "execution_count": null,
   "id": "d562150e",
   "metadata": {},
   "outputs": [],
   "source": [
    "v2v_df = pd.read_csv('data/v2vrecs.csv')\n"
   ]
  },
  {
   "cell_type": "markdown",
   "id": "b5731d42",
   "metadata": {},
   "source": [
    "## Personalized Video Ranker\n",
    "\n",
    "This is "
   ]
  },
  {
   "cell_type": "code",
   "execution_count": 56,
   "id": "3deba744",
   "metadata": {},
   "outputs": [],
   "source": [
    "#DO NOT TOUCH\n",
    "\n",
    "\n",
    "#DO NOT TOUCH\n",
    "\n",
    "def pvr(cust_id):\n",
    "    all_recs = []\n",
    "\n",
    "    def rec_pvr(cust_id):\n",
    "\n",
    "        # list of all content user has not rated\n",
    "        all_content = data['mid'].unique()\n",
    "        user_content = data[data['cust_id'] == cust_id]['mid'].unique()\n",
    "        new_content = list(set(all_content) - set(user_content))\n",
    "\n",
    "        # predict the ratings for new content\n",
    "        preds = [svdpp.predict(cust_id, mid) for mid in new_content]\n",
    "\n",
    "        # sort preds by estimated rating\n",
    "        preds.sort(key=lambda pred: pred.est, reverse=True)\n",
    "\n",
    "        # top 10 recommendations\n",
    "        top_10 = [prediction.iid for prediction in preds[:10]]\n",
    "        \n",
    "        #return list of cust,mid pairs\n",
    "        return [(cust_id, movie_id) for movie_id in top_10]\n",
    "    \n",
    "    #apply rec_pvr fxn and + to list\n",
    "    user_recs = rec_pvr(cust_id)\n",
    "    all_recs.extend(user_recs)\n",
    "\n",
    "    #new df of recs for analysis including minority requirement\n",
    "    recs = pd.DataFrame(all_recs, columns=[\"cust_id\", \"mid\"])\n",
    "    recs = recs.merge(minorityrec)\n",
    "    \n",
    "    return recs"
   ]
  },
  {
   "cell_type": "code",
   "execution_count": 57,
   "id": "6c45a6a7",
   "metadata": {},
   "outputs": [
    {
     "data": {
      "text/html": [
       "<div>\n",
       "<style scoped>\n",
       "    .dataframe tbody tr th:only-of-type {\n",
       "        vertical-align: middle;\n",
       "    }\n",
       "\n",
       "    .dataframe tbody tr th {\n",
       "        vertical-align: top;\n",
       "    }\n",
       "\n",
       "    .dataframe thead th {\n",
       "        text-align: right;\n",
       "    }\n",
       "</style>\n",
       "<table border=\"1\" class=\"dataframe\">\n",
       "  <thead>\n",
       "    <tr style=\"text-align: right;\">\n",
       "      <th></th>\n",
       "      <th>cust_id</th>\n",
       "      <th>mid</th>\n",
       "      <th>m_minreq</th>\n",
       "    </tr>\n",
       "  </thead>\n",
       "  <tbody>\n",
       "    <tr>\n",
       "      <th>0</th>\n",
       "      <td>2407458</td>\n",
       "      <td>17157</td>\n",
       "      <td>0.0</td>\n",
       "    </tr>\n",
       "    <tr>\n",
       "      <th>1</th>\n",
       "      <td>2407458</td>\n",
       "      <td>17085</td>\n",
       "      <td>0.0</td>\n",
       "    </tr>\n",
       "    <tr>\n",
       "      <th>2</th>\n",
       "      <td>2407458</td>\n",
       "      <td>6007</td>\n",
       "      <td>0.0</td>\n",
       "    </tr>\n",
       "    <tr>\n",
       "      <th>3</th>\n",
       "      <td>2407458</td>\n",
       "      <td>5760</td>\n",
       "      <td>0.0</td>\n",
       "    </tr>\n",
       "    <tr>\n",
       "      <th>4</th>\n",
       "      <td>2407458</td>\n",
       "      <td>14961</td>\n",
       "      <td>0.0</td>\n",
       "    </tr>\n",
       "    <tr>\n",
       "      <th>5</th>\n",
       "      <td>2407458</td>\n",
       "      <td>12242</td>\n",
       "      <td>0.0</td>\n",
       "    </tr>\n",
       "    <tr>\n",
       "      <th>6</th>\n",
       "      <td>2407458</td>\n",
       "      <td>7742</td>\n",
       "      <td>0.0</td>\n",
       "    </tr>\n",
       "    <tr>\n",
       "      <th>7</th>\n",
       "      <td>2407458</td>\n",
       "      <td>2129</td>\n",
       "      <td>0.0</td>\n",
       "    </tr>\n",
       "    <tr>\n",
       "      <th>8</th>\n",
       "      <td>2407458</td>\n",
       "      <td>5103</td>\n",
       "      <td>0.0</td>\n",
       "    </tr>\n",
       "    <tr>\n",
       "      <th>9</th>\n",
       "      <td>2407458</td>\n",
       "      <td>4877</td>\n",
       "      <td>0.0</td>\n",
       "    </tr>\n",
       "  </tbody>\n",
       "</table>\n",
       "</div>"
      ],
      "text/plain": [
       "   cust_id    mid  m_minreq\n",
       "0  2407458  17157       0.0\n",
       "1  2407458  17085       0.0\n",
       "2  2407458   6007       0.0\n",
       "3  2407458   5760       0.0\n",
       "4  2407458  14961       0.0\n",
       "5  2407458  12242       0.0\n",
       "6  2407458   7742       0.0\n",
       "7  2407458   2129       0.0\n",
       "8  2407458   5103       0.0\n",
       "9  2407458   4877       0.0"
      ]
     },
     "execution_count": 57,
     "metadata": {},
     "output_type": "execute_result"
    }
   ],
   "source": [
    "pvr1 = pvr(2407458)\n",
    "pvr1"
   ]
  },
  {
   "cell_type": "code",
   "execution_count": 106,
   "id": "686833e0",
   "metadata": {},
   "outputs": [
    {
     "data": {
      "text/plain": [
       "[17157, 17085, 6007, 5760, 14961, 12242, 7742, 2129, 5103, 4877]"
      ]
     },
     "execution_count": 106,
     "metadata": {},
     "output_type": "execute_result"
    }
   ],
   "source": [
    "mids = list(pvr1['mid'].unique())\n",
    "mids"
   ]
  },
  {
   "cell_type": "code",
   "execution_count": 107,
   "id": "b63f87bd",
   "metadata": {},
   "outputs": [
    {
     "data": {
      "text/html": [
       "<div>\n",
       "<style scoped>\n",
       "    .dataframe tbody tr th:only-of-type {\n",
       "        vertical-align: middle;\n",
       "    }\n",
       "\n",
       "    .dataframe tbody tr th {\n",
       "        vertical-align: top;\n",
       "    }\n",
       "\n",
       "    .dataframe thead th {\n",
       "        text-align: right;\n",
       "    }\n",
       "</style>\n",
       "<table border=\"1\" class=\"dataframe\">\n",
       "  <thead>\n",
       "    <tr style=\"text-align: right;\">\n",
       "      <th></th>\n",
       "      <th>cust_id</th>\n",
       "      <th>mid</th>\n",
       "      <th>m_minreq</th>\n",
       "    </tr>\n",
       "  </thead>\n",
       "  <tbody>\n",
       "    <tr>\n",
       "      <th>0</th>\n",
       "      <td>2407458</td>\n",
       "      <td>17157</td>\n",
       "      <td>0.0</td>\n",
       "    </tr>\n",
       "    <tr>\n",
       "      <th>1</th>\n",
       "      <td>2407458</td>\n",
       "      <td>17085</td>\n",
       "      <td>0.0</td>\n",
       "    </tr>\n",
       "    <tr>\n",
       "      <th>2</th>\n",
       "      <td>2407458</td>\n",
       "      <td>6007</td>\n",
       "      <td>0.0</td>\n",
       "    </tr>\n",
       "    <tr>\n",
       "      <th>3</th>\n",
       "      <td>2407458</td>\n",
       "      <td>5760</td>\n",
       "      <td>0.0</td>\n",
       "    </tr>\n",
       "    <tr>\n",
       "      <th>4</th>\n",
       "      <td>2407458</td>\n",
       "      <td>14961</td>\n",
       "      <td>0.0</td>\n",
       "    </tr>\n",
       "    <tr>\n",
       "      <th>5</th>\n",
       "      <td>2407458</td>\n",
       "      <td>12242</td>\n",
       "      <td>0.0</td>\n",
       "    </tr>\n",
       "    <tr>\n",
       "      <th>6</th>\n",
       "      <td>2407458</td>\n",
       "      <td>7742</td>\n",
       "      <td>0.0</td>\n",
       "    </tr>\n",
       "    <tr>\n",
       "      <th>7</th>\n",
       "      <td>2407458</td>\n",
       "      <td>2129</td>\n",
       "      <td>0.0</td>\n",
       "    </tr>\n",
       "    <tr>\n",
       "      <th>8</th>\n",
       "      <td>2407458</td>\n",
       "      <td>5103</td>\n",
       "      <td>0.0</td>\n",
       "    </tr>\n",
       "    <tr>\n",
       "      <th>9</th>\n",
       "      <td>2407458</td>\n",
       "      <td>4877</td>\n",
       "      <td>0.0</td>\n",
       "    </tr>\n",
       "  </tbody>\n",
       "</table>\n",
       "</div>"
      ],
      "text/plain": [
       "   cust_id    mid  m_minreq\n",
       "0  2407458  17157       0.0\n",
       "1  2407458  17085       0.0\n",
       "2  2407458   6007       0.0\n",
       "3  2407458   5760       0.0\n",
       "4  2407458  14961       0.0\n",
       "5  2407458  12242       0.0\n",
       "6  2407458   7742       0.0\n",
       "7  2407458   2129       0.0\n",
       "8  2407458   5103       0.0\n",
       "9  2407458   4877       0.0"
      ]
     },
     "execution_count": 107,
     "metadata": {},
     "output_type": "execute_result"
    }
   ],
   "source": [
    "pvr9 = pvr1[:10]\n",
    "pvr9"
   ]
  },
  {
   "cell_type": "code",
   "execution_count": 77,
   "id": "2e3f326f",
   "metadata": {},
   "outputs": [],
   "source": [
    "#top 10 does it contain a 1? \n",
    "\n",
    "def pvr(cust_id):\n",
    "    \n",
    "    diverse_recs = []\n",
    "    \n",
    "    #get initial recommendations\n",
    "    def cust_id_initial_recs(cust_id):\n",
    "    \n",
    "        first_recs = []\n",
    "\n",
    "        def rec_pvr(cust_id):\n",
    "\n",
    "            # list of all content user has not rated\n",
    "            all_content = data['mid'].unique()\n",
    "            user_content = data[data['cust_id'] == cust_id]['mid'].unique()\n",
    "            new_content = list(set(all_content) - set(user_content))\n",
    "\n",
    "            # predict the ratings for new content\n",
    "            preds = [svdpp.predict(cust_id, mid) for mid in new_content]\n",
    "\n",
    "            # sort preds by estimated rating\n",
    "            preds.sort(key=lambda pred: pred.est, reverse=True)\n",
    "\n",
    "            # top 10 recommendations\n",
    "            top_10 = [prediction.iid for prediction in preds[:10]]\n",
    "\n",
    "            #return list of cust,mid pairs\n",
    "            return [(cust_id, movie_id) for movie_id in top_10]\n",
    "\n",
    "        #apply rec_pvr fxn and + to list\n",
    "        user_recs = rec_pvr(cust_id)\n",
    "        first_recs.extend(user_recs)\n",
    "\n",
    "        #new df of recs for analysis including minority requirement\n",
    "        recs = pd.DataFrame(all_recs, columns=[\"cust_id\", \"mid\"])\n",
    "        recs = recs.merge(minorityrec)\n",
    "        \n",
    "        return recs\n",
    "\n",
    "    def diversity_check(initial_recs_df):\n",
    "        '''\n",
    "        if recs df meets minority req, will return df as is\n",
    "        else, will check if nns are in common with diverse dict\n",
    "            if there's one in common, it will return that movie in rec list\n",
    "        if still none,\n",
    "            will return Men In Black in rec list\n",
    "        '''\n",
    "        \n",
    "        #list of mids in rec\n",
    "        mid_list = list(initial_recs_df['mid'].unique())\n",
    "        \n",
    "        #nearest neighbors for initial recs_df\n",
    "        def nn_rec_mids(mid_list):\n",
    "            #instantiate list of 10nn for each rec\n",
    "            rec_nn_list = []\n",
    "            \n",
    "            def nn(mid):\n",
    "                #inner id\n",
    "                mid_iid = knn.trainset.to_inner_iid(mid)\n",
    "\n",
    "                #top 10 neighbors\n",
    "                neighbors = knn.get_neighbors(mid_iid, k=10)\n",
    "                \n",
    "        #apply nn to get list of 100nns\n",
    "        ten_initial_nn = nn_rec_mids(mid_list)\n",
    "        rec_nn_list.extend(user_recs)\n",
    "        \n",
    "        \n",
    "    if 1 in data['mid'].unique():\n",
    "            return recs\n",
    "        \n",
    "    else:\n",
    "        diversity_check(recs)\n",
    "    \n",
    "    "
   ]
  },
  {
   "cell_type": "code",
   "execution_count": null,
   "id": "7da55639",
   "metadata": {},
   "outputs": [],
   "source": []
  },
  {
   "cell_type": "code",
   "execution_count": null,
   "id": "f1dd541e",
   "metadata": {},
   "outputs": [],
   "source": []
  },
  {
   "cell_type": "code",
   "execution_count": 79,
   "id": "43a7e4ac",
   "metadata": {},
   "outputs": [
    {
     "ename": "ValueError",
     "evalue": "too many values to unpack (expected 2)",
     "output_type": "error",
     "traceback": [
      "\u001b[0;31m---------------------------------------------------------------------------\u001b[0m",
      "\u001b[0;31mValueError\u001b[0m                                Traceback (most recent call last)",
      "\u001b[0;32m/var/folders/xc/4fn08svj2dgdk_3wj3xkp_rr0000gn/T/ipykernel_34784/2207737079.py\u001b[0m in \u001b[0;36m<module>\u001b[0;34m\u001b[0m\n\u001b[0;32m----> 1\u001b[0;31m \u001b[0mpvrx\u001b[0m\u001b[0;34m,\u001b[0m \u001b[0mpvrx1\u001b[0m \u001b[0;34m=\u001b[0m \u001b[0mrec_pvr_x\u001b[0m\u001b[0;34m(\u001b[0m\u001b[0;36m2407458\u001b[0m\u001b[0;34m)\u001b[0m\u001b[0;34m\u001b[0m\u001b[0;34m\u001b[0m\u001b[0m\n\u001b[0m",
      "\u001b[0;31mValueError\u001b[0m: too many values to unpack (expected 2)"
     ]
    }
   ],
   "source": [
    "pvrx, pvrx1 = rec_pvr_x(2407458)"
   ]
  },
  {
   "cell_type": "code",
   "execution_count": null,
   "id": "e6cb453a",
   "metadata": {},
   "outputs": [],
   "source": []
  },
  {
   "cell_type": "code",
   "execution_count": null,
   "id": "c90f9b24",
   "metadata": {},
   "outputs": [],
   "source": []
  },
  {
   "cell_type": "code",
   "execution_count": null,
   "id": "3e964d60",
   "metadata": {},
   "outputs": [],
   "source": []
  },
  {
   "cell_type": "code",
   "execution_count": null,
   "id": "2177068a",
   "metadata": {},
   "outputs": [],
   "source": []
  },
  {
   "cell_type": "code",
   "execution_count": null,
   "id": "fa8a0e2a",
   "metadata": {},
   "outputs": [],
   "source": []
  },
  {
   "cell_type": "code",
   "execution_count": null,
   "id": "56c45582",
   "metadata": {},
   "outputs": [],
   "source": []
  },
  {
   "cell_type": "code",
   "execution_count": null,
   "id": "89972168",
   "metadata": {},
   "outputs": [],
   "source": []
  },
  {
   "cell_type": "code",
   "execution_count": 61,
   "id": "9139df71",
   "metadata": {},
   "outputs": [
    {
     "data": {
      "text/plain": [
       "17157"
      ]
     },
     "execution_count": 61,
     "metadata": {},
     "output_type": "execute_result"
    }
   ],
   "source": [
    "test_item = pvr1['mid'][0]\n",
    "test_item"
   ]
  },
  {
   "cell_type": "code",
   "execution_count": null,
   "id": "68820dba",
   "metadata": {},
   "outputs": [],
   "source": []
  },
  {
   "cell_type": "code",
   "execution_count": 72,
   "id": "6fa1d359",
   "metadata": {},
   "outputs": [
    {
     "data": {
      "text/plain": [
       "[7533,\n",
       " 17251,\n",
       " 6574,\n",
       " 14983,\n",
       " 12303,\n",
       " 10278,\n",
       " 13393,\n",
       " 10773,\n",
       " 10345,\n",
       " 15662,\n",
       " 9746,\n",
       " 1861,\n",
       " 9517,\n",
       " 3640,\n",
       " 8204,\n",
       " 2252,\n",
       " 17134,\n",
       " 3267,\n",
       " 9204,\n",
       " 12262]"
      ]
     },
     "execution_count": 72,
     "metadata": {},
     "output_type": "execute_result"
    }
   ],
   "source": [
    "will1 = 17324\n",
    "will1 = knn.trainset.to_inner_iid(will1)\n",
    "neighbor1 = knn.get_neighbors(test_item1, k=20)\n",
    "neighbors1 = [knn.trainset.to_raw_iid(inner_id) for inner_id in neighbor1]\n",
    "neighbors1"
   ]
  },
  {
   "cell_type": "code",
   "execution_count": null,
   "id": "eb420ec3",
   "metadata": {},
   "outputs": [],
   "source": []
  },
  {
   "cell_type": "code",
   "execution_count": null,
   "id": "9c232b31",
   "metadata": {},
   "outputs": [],
   "source": []
  },
  {
   "cell_type": "code",
   "execution_count": null,
   "id": "4eb49315",
   "metadata": {},
   "outputs": [],
   "source": []
  },
  {
   "cell_type": "code",
   "execution_count": 65,
   "id": "57349f7d",
   "metadata": {
    "scrolled": true
   },
   "outputs": [
    {
     "data": {
      "text/plain": [
       "528"
      ]
     },
     "execution_count": 65,
     "metadata": {},
     "output_type": "execute_result"
    }
   ],
   "source": [
    "#inner id\n",
    "test_item1 = knn.trainset.to_inner_iid(test_item)\n",
    "test_item1"
   ]
  },
  {
   "cell_type": "code",
   "execution_count": 69,
   "id": "18777d08",
   "metadata": {},
   "outputs": [
    {
     "data": {
      "text/plain": [
       "[5, 6, 11, 12, 14, 22, 27, 37, 43, 44, 49, 50, 53, 54, 57, 66, 71, 72, 74, 76]"
      ]
     },
     "execution_count": 69,
     "metadata": {},
     "output_type": "execute_result"
    }
   ],
   "source": [
    "neighbor = knn.get_neighbors(test_item1, k=20)\n",
    "neighbor"
   ]
  },
  {
   "cell_type": "code",
   "execution_count": 71,
   "id": "8aa116ba",
   "metadata": {
    "scrolled": true
   },
   "outputs": [
    {
     "data": {
      "text/plain": [
       "[7533,\n",
       " 17251,\n",
       " 6574,\n",
       " 14983,\n",
       " 12303,\n",
       " 10278,\n",
       " 13393,\n",
       " 10773,\n",
       " 10345,\n",
       " 15662,\n",
       " 9746,\n",
       " 1861,\n",
       " 9517,\n",
       " 3640,\n",
       " 8204,\n",
       " 2252,\n",
       " 17134,\n",
       " 3267,\n",
       " 9204,\n",
       " 12262]"
      ]
     },
     "execution_count": 71,
     "metadata": {},
     "output_type": "execute_result"
    }
   ],
   "source": [
    "neighbors = [knn.trainset.to_raw_iid(inner_id) for inner_id in neighbor]\n",
    "neighbors"
   ]
  },
  {
   "cell_type": "code",
   "execution_count": null,
   "id": "ecfb9910",
   "metadata": {},
   "outputs": [],
   "source": [
    "def pvr(cust_id):\n",
    "    all_recs = []\n",
    "\n",
    "    def rec_pvr(cust_id):\n",
    "\n",
    "        # list of all content user has not rated\n",
    "        all_content = data['mid'].unique()\n",
    "        user_content = data[data['cust_id'] == cust_id]['mid'].unique()\n",
    "        new_content = list(set(all_content) - set(user_content))\n",
    "\n",
    "        # predict the ratings for new content\n",
    "        preds = [svdpp.predict(cust_id, mid) for mid in new_content]\n",
    "\n",
    "        # sort preds by estimated rating\n",
    "        preds.sort(key=lambda pred: pred.est, reverse=True)\n",
    "\n",
    "        # top 10 recommendations\n",
    "        top_10 = [prediction.iid for prediction in preds[:10]]\n",
    "        \n",
    "        #return list of cust,mid pairs\n",
    "        return [(cust_id, movie_id) for movie_id in top_10]\n",
    "    \n",
    "    #apply rec_pvr fxn and + to list\n",
    "    user_recs = rec_pvr(cust_id)\n",
    "    all_recs.extend(user_recs)\n",
    "\n",
    "    #new df of recs for analysis including minority requirement\n",
    "    recs = pd.DataFrame(all_recs, columns=[\"cust_id\", \"mid\"])\n",
    "    recs = recs.merge(minorityrec)\n",
    "    \n",
    "    \n",
    "    \n",
    "    return recs"
   ]
  },
  {
   "cell_type": "code",
   "execution_count": null,
   "id": "3497fe42",
   "metadata": {},
   "outputs": [],
   "source": [
    "user = pvr(2407458)\n",
    "user"
   ]
  },
  {
   "cell_type": "code",
   "execution_count": null,
   "id": "690f4174",
   "metadata": {},
   "outputs": [],
   "source": [
    "def get_recs_bsl(user):\n",
    "    all_recommendations = []\n",
    "    \n",
    "    def rec_content(cust_id):\n",
    "        # Get a list of all the movies the user has not rated\n",
    "        all_content = data['mid'].unique()\n",
    "        user_content = data[data['cust_id'] == cust_id]['mid'].unique()\n",
    "        new_content = list(set(all_content) - set(user_content))\n",
    "\n",
    "        # Predict the ratings for the new movies\n",
    "        predictions = [bias_baseline.predict(cust_id, mid) for mid in new_content]\n",
    "\n",
    "        # Sort the predictions by estimated rating\n",
    "        predictions.sort(key=lambda x: x.est, reverse=True)\n",
    "\n",
    "        # Get the top 10 recommendations\n",
    "        top_recommendations = [prediction.iid for prediction in predictions[:10]]\n",
    "\n",
    "        return [(cust_id, movie_id) for movie_id in top_recommendations]\n",
    "\n",
    "    #for all users apply recs\n",
    "    for cust_id in user_list:\n",
    "        user_recs = rec_content(cust_id)\n",
    "        all_recommendations.extend(user_recs)\n",
    "    \n",
    "    #new df of recs for analysis\n",
    "    recommendations_df = pd.DataFrame(all_recommendations, columns=[\"cust_id\", \"mid\"])\n",
    "    return recommendations_df"
   ]
  },
  {
   "cell_type": "code",
   "execution_count": null,
   "id": "e5eb98d8",
   "metadata": {},
   "outputs": [],
   "source": [
    "def v2v_preds(user_list):\n",
    "    \n",
    "    '''\n",
    "    this is an unpersonalized item based recommendation\n",
    "    returns a movie that is similar to one that has been watched \n",
    "    but doesn't take into account any other user behavior\n",
    "    '''\n",
    "    \n",
    "    v2v = []\n",
    "    \n",
    "    def v2v_hybrid(cust_id):\n",
    "        \n",
    "        # last movie they rated\n",
    "        rated = data[data['cust_id'] == cust_id]['mid'].to_list()\n",
    "        mid = rated[-1]\n",
    "        \n",
    "        # neighbors from both models\n",
    "        neighbors = knn_bsl.get_neighbors(all_sr.to_inner_iid(mid), k=10)\n",
    "        neighborsd = knn_dec.get_neighbors(all_sr.to_inner_iid(mid), k=10)\n",
    "        \n",
    "        #combine lists\n",
    "        nearest_neighbors = neighbors + [i for i in neighborsd if i not in neighbors]\n",
    "\n",
    "        return [(cust_id, mid, neighbor) for neighbor in nearest_neighbors]\n",
    "    \n",
    "    #for all users get the nearest neighbors to the last movie they rated\n",
    "    for cust_id in user_list:\n",
    "        user_recs = v2v_hybrid(cust_id)\n",
    "        v2v.extend(user_recs)\n",
    "    \n",
    "    #new df of recs for analysis\n",
    "    neighbors_df = pd.DataFrame(v2v, columns=[\"cust_id\", \"mid\", 'recs'])\n",
    "    return neighbors_df"
   ]
  }
 ],
 "metadata": {
  "kernelspec": {
   "display_name": "Python 3 (ipykernel)",
   "language": "python",
   "name": "python3"
  },
  "language_info": {
   "codemirror_mode": {
    "name": "ipython",
    "version": 3
   },
   "file_extension": ".py",
   "mimetype": "text/x-python",
   "name": "python",
   "nbconvert_exporter": "python",
   "pygments_lexer": "ipython3",
   "version": "3.9.13"
  }
 },
 "nbformat": 4,
 "nbformat_minor": 5
}
