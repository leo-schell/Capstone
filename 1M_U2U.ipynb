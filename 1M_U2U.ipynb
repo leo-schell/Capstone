{
 "cells": [
  {
   "cell_type": "code",
   "execution_count": 2,
   "id": "3788414b",
   "metadata": {},
   "outputs": [],
   "source": [
    "import pandas as pd\n",
    "import numpy as np\n",
    "import matplotlib.pyplot as plt\n",
    "%matplotlib inline\n",
    "import seaborn as sns\n",
    "\n",
    "import os\n",
    "from surprise import Dataset\n",
    "from surprise import Reader\n",
    "from surprise import accuracy\n",
    "from surprise import KNNBasic\n",
    "from surprise import KNNBaseline\n",
    "from surprise import KNNWithMeans"
   ]
  },
  {
   "cell_type": "code",
   "execution_count": 3,
   "id": "50ad2d11",
   "metadata": {},
   "outputs": [
    {
     "name": "stdout",
     "output_type": "stream",
     "text": [
      "<class 'pandas.core.frame.DataFrame'>\n",
      "RangeIndex: 1000000 entries, 0 to 999999\n",
      "Data columns (total 8 columns):\n",
      " #   Column           Non-Null Count    Dtype         \n",
      "---  ------           --------------    -----         \n",
      " 0   mid              1000000 non-null  int64         \n",
      " 1   cust_id          1000000 non-null  int64         \n",
      " 2   rating           1000000 non-null  float64       \n",
      " 3   r_date           1000000 non-null  datetime64[ns]\n",
      " 4   m_decade         1000000 non-null  int64         \n",
      " 5   m_avg_rating     1000000 non-null  float64       \n",
      " 6   user_engagement  1000000 non-null  int64         \n",
      " 7   adopters         1000000 non-null  int64         \n",
      "dtypes: datetime64[ns](1), float64(2), int64(5)\n",
      "memory usage: 61.0 MB\n",
      "holdout shape:  (100000, 9)\n",
      "test shape:  (200000, 9)\n",
      "train shape:  (700000, 9)\n"
     ]
    }
   ],
   "source": [
    "data = pd.read_csv('data/1m_useratt.csv')\n",
    "\n",
    "#for split\n",
    "data['r_date'] = data['r_date'].astype('datetime64[ns]')\n",
    "\n",
    "data.info()\n",
    "\n",
    "train = pd.read_csv('data/train_1M.csv')\n",
    "test = pd.read_csv('data/test_1M.csv')\n",
    "holdout = pd.read_csv('data/ho_1M.csv')\n",
    "\n",
    "print('holdout shape: ', holdout.shape)\n",
    "print('test shape: ', test.shape)\n",
    "print('train shape: ', train.shape)"
   ]
  },
  {
   "cell_type": "code",
   "execution_count": 4,
   "id": "7598f830",
   "metadata": {},
   "outputs": [],
   "source": [
    "reader = Reader(rating_scale=(1,5))\n",
    "\n",
    "train_data = Dataset.load_from_df(train[['cust_id','mid','rating']], reader)\n",
    "test_data = Dataset.load_from_df(test[['cust_id','mid','rating']], reader)\n",
    "ho_data = Dataset.load_from_df(holdout[['cust_id','mid','rating']], reader)\n",
    "all_data = Dataset.load_from_df(data[['cust_id','mid','rating']], reader)\n",
    "\n",
    "#correct surprise dataset format\n",
    "train_sr = train_data.build_full_trainset()\n",
    "\n",
    "test_sr1 = test_data.build_full_trainset()\n",
    "test_sr = test_sr1.build_testset()\n",
    "\n",
    "ho_sr1 = ho_data.build_full_trainset()\n",
    "ho_sr = ho_sr1.build_testset()\n",
    "\n",
    "all_sr = all_data.build_full_trainset()"
   ]
  },
  {
   "cell_type": "code",
   "execution_count": null,
   "id": "b157eff6",
   "metadata": {},
   "outputs": [],
   "source": [
    "sim_dict = {'name': 'cosine', 'user_based': True}\n",
    "knn = KNNBasic(sim_options=sim_dict)\n",
    "knn.fit(train_sr)\n",
    "knn_preds = knn.test(test_sr)\n",
    "\n",
    "accuracy.rmse(knn_preds)\n",
    "accuracy.mae(knn_preds)"
   ]
  },
  {
   "cell_type": "code",
   "execution_count": null,
   "id": "736dea57",
   "metadata": {},
   "outputs": [],
   "source": []
  }
 ],
 "metadata": {
  "kernelspec": {
   "display_name": "Python 3 (ipykernel)",
   "language": "python",
   "name": "python3"
  },
  "language_info": {
   "codemirror_mode": {
    "name": "ipython",
    "version": 3
   },
   "file_extension": ".py",
   "mimetype": "text/x-python",
   "name": "python",
   "nbconvert_exporter": "python",
   "pygments_lexer": "ipython3",
   "version": "3.9.13"
  }
 },
 "nbformat": 4,
 "nbformat_minor": 5
}
