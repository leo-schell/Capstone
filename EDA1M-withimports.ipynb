{
 "cells": [
  {
   "cell_type": "code",
   "execution_count": 52,
   "id": "9a78b02e",
   "metadata": {},
   "outputs": [],
   "source": [
    "import pandas as pd\n",
    "from pandas import Grouper\n",
    "import numpy as np\n",
    "import matplotlib.pyplot as plt\n",
    "%matplotlib inline\n",
    "import seaborn as sns\n",
    "\n",
    "import random\n",
    "from random import sample\n",
    "\n",
    "import warnings\n",
    "warnings.filterwarnings(\"ignore\")"
   ]
  },
  {
   "cell_type": "code",
   "execution_count": 2,
   "id": "83d761ac",
   "metadata": {},
   "outputs": [
    {
     "data": {
      "application/javascript": [
       "if (!(\"Notification\" in window)) {\n",
       "    alert(\"This browser does not support desktop notifications, so the %%notify magic will not work.\");\n",
       "} else if (Notification.permission !== 'granted' && Notification.permission !== 'denied') {\n",
       "    Notification.requestPermission(function (permission) {\n",
       "        if(!('permission' in Notification)) {\n",
       "            Notification.permission = permission;\n",
       "        }\n",
       "    })\n",
       "}\n"
      ],
      "text/plain": [
       "<IPython.core.display.Javascript object>"
      ]
     },
     "metadata": {},
     "output_type": "display_data"
    }
   ],
   "source": [
    "#notify me when a long running cell is complete\n",
    "%load_ext jupyternotify\n",
    "import time"
   ]
  },
  {
   "cell_type": "code",
   "execution_count": 53,
   "id": "0370b072",
   "metadata": {},
   "outputs": [
    {
     "data": {
      "text/html": [
       "<div>\n",
       "<style scoped>\n",
       "    .dataframe tbody tr th:only-of-type {\n",
       "        vertical-align: middle;\n",
       "    }\n",
       "\n",
       "    .dataframe tbody tr th {\n",
       "        vertical-align: top;\n",
       "    }\n",
       "\n",
       "    .dataframe thead th {\n",
       "        text-align: right;\n",
       "    }\n",
       "</style>\n",
       "<table border=\"1\" class=\"dataframe\">\n",
       "  <thead>\n",
       "    <tr style=\"text-align: right;\">\n",
       "      <th></th>\n",
       "      <th>id</th>\n",
       "      <th>year</th>\n",
       "      <th>title</th>\n",
       "    </tr>\n",
       "  </thead>\n",
       "  <tbody>\n",
       "    <tr>\n",
       "      <th>0</th>\n",
       "      <td>1</td>\n",
       "      <td>2003.0</td>\n",
       "      <td>Dinosaur Planet</td>\n",
       "    </tr>\n",
       "    <tr>\n",
       "      <th>1</th>\n",
       "      <td>2</td>\n",
       "      <td>2004.0</td>\n",
       "      <td>Isle of Man TT 2004 Review</td>\n",
       "    </tr>\n",
       "    <tr>\n",
       "      <th>2</th>\n",
       "      <td>3</td>\n",
       "      <td>1997.0</td>\n",
       "      <td>Character</td>\n",
       "    </tr>\n",
       "    <tr>\n",
       "      <th>3</th>\n",
       "      <td>4</td>\n",
       "      <td>1994.0</td>\n",
       "      <td>Paula Abdul's Get Up &amp; Dance</td>\n",
       "    </tr>\n",
       "    <tr>\n",
       "      <th>4</th>\n",
       "      <td>5</td>\n",
       "      <td>2004.0</td>\n",
       "      <td>The Rise and Fall of ECW</td>\n",
       "    </tr>\n",
       "  </tbody>\n",
       "</table>\n",
       "</div>"
      ],
      "text/plain": [
       "   id    year                         title\n",
       "0   1  2003.0               Dinosaur Planet\n",
       "1   2  2004.0    Isle of Man TT 2004 Review\n",
       "2   3  1997.0                     Character\n",
       "3   4  1994.0  Paula Abdul's Get Up & Dance\n",
       "4   5  2004.0      The Rise and Fall of ECW"
      ]
     },
     "execution_count": 53,
     "metadata": {},
     "output_type": "execute_result"
    }
   ],
   "source": [
    "content = pd.read_csv('data/movie_titles3.csv', index_col=False, names = ['id', 'year', 'title'])\n",
    "content.head()"
   ]
  },
  {
   "cell_type": "code",
   "execution_count": 4,
   "id": "9349adc0",
   "metadata": {},
   "outputs": [
    {
     "data": {
      "text/plain": [
       "count    17763.000000\n",
       "mean      1990.263694\n",
       "std         16.507891\n",
       "min       1896.000000\n",
       "25%       1985.000000\n",
       "50%       1997.000000\n",
       "75%       2002.000000\n",
       "max       2005.000000\n",
       "Name: year, dtype: float64"
      ]
     },
     "execution_count": 4,
     "metadata": {},
     "output_type": "execute_result"
    }
   ],
   "source": [
    "content['year'].describe()"
   ]
  },
  {
   "cell_type": "code",
   "execution_count": 5,
   "id": "70f7312c",
   "metadata": {},
   "outputs": [
    {
     "name": "stdout",
     "output_type": "stream",
     "text": [
      "<class 'pandas.core.frame.DataFrame'>\n",
      "RangeIndex: 17770 entries, 0 to 17769\n",
      "Data columns (total 3 columns):\n",
      " #   Column  Non-Null Count  Dtype  \n",
      "---  ------  --------------  -----  \n",
      " 0   id      17770 non-null  int64  \n",
      " 1   year    17763 non-null  float64\n",
      " 2   title   17770 non-null  object \n",
      "dtypes: float64(1), int64(1), object(1)\n",
      "memory usage: 416.6+ KB\n"
     ]
    }
   ],
   "source": [
    "content.info()"
   ]
  },
  {
   "cell_type": "markdown",
   "id": "9a457642",
   "metadata": {},
   "source": [
    "# Year Release\n",
    "\n",
    "There are a few missing years - adding those in.\n",
    "\n",
    "I'm assuming that people identify heavily with the content that they grew up with or a certain styles of content. For that reason, I'm going to bin films by decade.\n",
    "\n",
    "However, considering the low outliers anything before 1960 will be binned together. Q1 - 1.5IQR"
   ]
  },
  {
   "cell_type": "code",
   "execution_count": 6,
   "id": "a7089a26",
   "metadata": {
    "scrolled": true
   },
   "outputs": [
    {
     "data": {
      "text/html": [
       "<div>\n",
       "<style scoped>\n",
       "    .dataframe tbody tr th:only-of-type {\n",
       "        vertical-align: middle;\n",
       "    }\n",
       "\n",
       "    .dataframe tbody tr th {\n",
       "        vertical-align: top;\n",
       "    }\n",
       "\n",
       "    .dataframe thead th {\n",
       "        text-align: right;\n",
       "    }\n",
       "</style>\n",
       "<table border=\"1\" class=\"dataframe\">\n",
       "  <thead>\n",
       "    <tr style=\"text-align: right;\">\n",
       "      <th></th>\n",
       "      <th>id</th>\n",
       "      <th>year</th>\n",
       "      <th>title</th>\n",
       "    </tr>\n",
       "  </thead>\n",
       "  <tbody>\n",
       "    <tr>\n",
       "      <th>4387</th>\n",
       "      <td>4388</td>\n",
       "      <td>NaN</td>\n",
       "      <td>Ancient Civilizations: Rome and Pompeii</td>\n",
       "    </tr>\n",
       "    <tr>\n",
       "      <th>4793</th>\n",
       "      <td>4794</td>\n",
       "      <td>NaN</td>\n",
       "      <td>Ancient Civilizations: Land of the Pharaohs</td>\n",
       "    </tr>\n",
       "    <tr>\n",
       "      <th>7240</th>\n",
       "      <td>7241</td>\n",
       "      <td>NaN</td>\n",
       "      <td>Ancient Civilizations: Athens and Greece</td>\n",
       "    </tr>\n",
       "    <tr>\n",
       "      <th>10781</th>\n",
       "      <td>10782</td>\n",
       "      <td>NaN</td>\n",
       "      <td>Roti Kapada Aur Makaan</td>\n",
       "    </tr>\n",
       "    <tr>\n",
       "      <th>15917</th>\n",
       "      <td>15918</td>\n",
       "      <td>NaN</td>\n",
       "      <td>Hote Hote Pyaar Ho Gaya</td>\n",
       "    </tr>\n",
       "    <tr>\n",
       "      <th>16677</th>\n",
       "      <td>16678</td>\n",
       "      <td>NaN</td>\n",
       "      <td>Jimmy Hollywood</td>\n",
       "    </tr>\n",
       "    <tr>\n",
       "      <th>17666</th>\n",
       "      <td>17667</td>\n",
       "      <td>NaN</td>\n",
       "      <td>Eros Dance Dhamaka</td>\n",
       "    </tr>\n",
       "  </tbody>\n",
       "</table>\n",
       "</div>"
      ],
      "text/plain": [
       "          id  year                                        title\n",
       "4387    4388   NaN      Ancient Civilizations: Rome and Pompeii\n",
       "4793    4794   NaN  Ancient Civilizations: Land of the Pharaohs\n",
       "7240    7241   NaN     Ancient Civilizations: Athens and Greece\n",
       "10781  10782   NaN                       Roti Kapada Aur Makaan\n",
       "15917  15918   NaN                      Hote Hote Pyaar Ho Gaya\n",
       "16677  16678   NaN                              Jimmy Hollywood\n",
       "17666  17667   NaN                           Eros Dance Dhamaka"
      ]
     },
     "execution_count": 6,
     "metadata": {},
     "output_type": "execute_result"
    }
   ],
   "source": [
    "content[content['year'].isna()]"
   ]
  },
  {
   "cell_type": "code",
   "execution_count": 7,
   "id": "1cc5af99",
   "metadata": {},
   "outputs": [
    {
     "data": {
      "text/html": [
       "<div>\n",
       "<style scoped>\n",
       "    .dataframe tbody tr th:only-of-type {\n",
       "        vertical-align: middle;\n",
       "    }\n",
       "\n",
       "    .dataframe tbody tr th {\n",
       "        vertical-align: top;\n",
       "    }\n",
       "\n",
       "    .dataframe thead th {\n",
       "        text-align: right;\n",
       "    }\n",
       "</style>\n",
       "<table border=\"1\" class=\"dataframe\">\n",
       "  <thead>\n",
       "    <tr style=\"text-align: right;\">\n",
       "      <th></th>\n",
       "      <th>id</th>\n",
       "      <th>year</th>\n",
       "      <th>title</th>\n",
       "    </tr>\n",
       "  </thead>\n",
       "  <tbody>\n",
       "  </tbody>\n",
       "</table>\n",
       "</div>"
      ],
      "text/plain": [
       "Empty DataFrame\n",
       "Columns: [id, year, title]\n",
       "Index: []"
      ]
     },
     "execution_count": 7,
     "metadata": {},
     "output_type": "execute_result"
    }
   ],
   "source": [
    "#fix year\n",
    "content.at[4387,'year']=2002\n",
    "content.at[4793,'year']=2002\n",
    "content.at[7240,'year']=2002\n",
    "content.at[10781,'year']=1974\n",
    "content.at[15917,'year']=1999\n",
    "content.at[16677,'year']=1994\n",
    "content.at[17666,'year']=1999\n",
    "\n",
    "#check\n",
    "content[content['year'].isna()]"
   ]
  },
  {
   "cell_type": "code",
   "execution_count": 8,
   "id": "0066fd7f",
   "metadata": {},
   "outputs": [],
   "source": [
    "def decade(row):\n",
    "    \n",
    "    \"\"\"\n",
    "    bins years by decade, 1959 and before are binned together\n",
    "    \"\"\"\n",
    "    if row['year'] <= 1959:\n",
    "        return 0\n",
    "    elif 1960 <= row['year'] < 1969:\n",
    "        return 1\n",
    "    elif 1970 <= row['year'] < 1979:\n",
    "        return 2\n",
    "    elif 1980 <= row['year'] < 1989:\n",
    "        return 3\n",
    "    elif 1990 <= row['year'] < 1999:\n",
    "        return 4\n",
    "    else:\n",
    "        return 5"
   ]
  },
  {
   "cell_type": "code",
   "execution_count": 9,
   "id": "13667d22",
   "metadata": {},
   "outputs": [
    {
     "data": {
      "text/html": [
       "<div>\n",
       "<style scoped>\n",
       "    .dataframe tbody tr th:only-of-type {\n",
       "        vertical-align: middle;\n",
       "    }\n",
       "\n",
       "    .dataframe tbody tr th {\n",
       "        vertical-align: top;\n",
       "    }\n",
       "\n",
       "    .dataframe thead th {\n",
       "        text-align: right;\n",
       "    }\n",
       "</style>\n",
       "<table border=\"1\" class=\"dataframe\">\n",
       "  <thead>\n",
       "    <tr style=\"text-align: right;\">\n",
       "      <th></th>\n",
       "      <th>id</th>\n",
       "      <th>year</th>\n",
       "      <th>title</th>\n",
       "      <th>decade</th>\n",
       "    </tr>\n",
       "  </thead>\n",
       "  <tbody>\n",
       "    <tr>\n",
       "      <th>0</th>\n",
       "      <td>1</td>\n",
       "      <td>2003.0</td>\n",
       "      <td>Dinosaur Planet</td>\n",
       "      <td>5</td>\n",
       "    </tr>\n",
       "    <tr>\n",
       "      <th>1</th>\n",
       "      <td>2</td>\n",
       "      <td>2004.0</td>\n",
       "      <td>Isle of Man TT 2004 Review</td>\n",
       "      <td>5</td>\n",
       "    </tr>\n",
       "    <tr>\n",
       "      <th>2</th>\n",
       "      <td>3</td>\n",
       "      <td>1997.0</td>\n",
       "      <td>Character</td>\n",
       "      <td>4</td>\n",
       "    </tr>\n",
       "    <tr>\n",
       "      <th>3</th>\n",
       "      <td>4</td>\n",
       "      <td>1994.0</td>\n",
       "      <td>Paula Abdul's Get Up &amp; Dance</td>\n",
       "      <td>4</td>\n",
       "    </tr>\n",
       "    <tr>\n",
       "      <th>4</th>\n",
       "      <td>5</td>\n",
       "      <td>2004.0</td>\n",
       "      <td>The Rise and Fall of ECW</td>\n",
       "      <td>5</td>\n",
       "    </tr>\n",
       "    <tr>\n",
       "      <th>...</th>\n",
       "      <td>...</td>\n",
       "      <td>...</td>\n",
       "      <td>...</td>\n",
       "      <td>...</td>\n",
       "    </tr>\n",
       "    <tr>\n",
       "      <th>17765</th>\n",
       "      <td>17766</td>\n",
       "      <td>2002.0</td>\n",
       "      <td>Where the Wild Things Are and Other Maurice Se...</td>\n",
       "      <td>5</td>\n",
       "    </tr>\n",
       "    <tr>\n",
       "      <th>17766</th>\n",
       "      <td>17767</td>\n",
       "      <td>2004.0</td>\n",
       "      <td>Fidel Castro: American Experience</td>\n",
       "      <td>5</td>\n",
       "    </tr>\n",
       "    <tr>\n",
       "      <th>17767</th>\n",
       "      <td>17768</td>\n",
       "      <td>2000.0</td>\n",
       "      <td>Epoch</td>\n",
       "      <td>5</td>\n",
       "    </tr>\n",
       "    <tr>\n",
       "      <th>17768</th>\n",
       "      <td>17769</td>\n",
       "      <td>2003.0</td>\n",
       "      <td>The Company</td>\n",
       "      <td>5</td>\n",
       "    </tr>\n",
       "    <tr>\n",
       "      <th>17769</th>\n",
       "      <td>17770</td>\n",
       "      <td>2003.0</td>\n",
       "      <td>Alien Hunter</td>\n",
       "      <td>5</td>\n",
       "    </tr>\n",
       "  </tbody>\n",
       "</table>\n",
       "<p>17770 rows × 4 columns</p>\n",
       "</div>"
      ],
      "text/plain": [
       "          id    year                                              title   \n",
       "0          1  2003.0                                    Dinosaur Planet  \\\n",
       "1          2  2004.0                         Isle of Man TT 2004 Review   \n",
       "2          3  1997.0                                          Character   \n",
       "3          4  1994.0                       Paula Abdul's Get Up & Dance   \n",
       "4          5  2004.0                           The Rise and Fall of ECW   \n",
       "...      ...     ...                                                ...   \n",
       "17765  17766  2002.0  Where the Wild Things Are and Other Maurice Se...   \n",
       "17766  17767  2004.0                  Fidel Castro: American Experience   \n",
       "17767  17768  2000.0                                              Epoch   \n",
       "17768  17769  2003.0                                        The Company   \n",
       "17769  17770  2003.0                                       Alien Hunter   \n",
       "\n",
       "       decade  \n",
       "0           5  \n",
       "1           5  \n",
       "2           4  \n",
       "3           4  \n",
       "4           5  \n",
       "...       ...  \n",
       "17765       5  \n",
       "17766       5  \n",
       "17767       5  \n",
       "17768       5  \n",
       "17769       5  \n",
       "\n",
       "[17770 rows x 4 columns]"
      ]
     },
     "execution_count": 9,
     "metadata": {},
     "output_type": "execute_result"
    }
   ],
   "source": [
    "#bin years\n",
    "\n",
    "content['decade'] = content.apply(decade, axis=1)\n",
    "content"
   ]
  },
  {
   "cell_type": "code",
   "execution_count": 10,
   "id": "44d495ec",
   "metadata": {},
   "outputs": [
    {
     "name": "stdout",
     "output_type": "stream",
     "text": [
      "<class 'pandas.core.frame.DataFrame'>\n",
      "RangeIndex: 17770 entries, 0 to 17769\n",
      "Data columns (total 4 columns):\n",
      " #   Column  Non-Null Count  Dtype  \n",
      "---  ------  --------------  -----  \n",
      " 0   id      17770 non-null  int64  \n",
      " 1   year    17770 non-null  float64\n",
      " 2   title   17770 non-null  object \n",
      " 3   decade  17770 non-null  int64  \n",
      "dtypes: float64(1), int64(2), object(1)\n",
      "memory usage: 555.4+ KB\n"
     ]
    }
   ],
   "source": [
    "content.info()"
   ]
  },
  {
   "cell_type": "code",
   "execution_count": 11,
   "id": "c919ef78",
   "metadata": {},
   "outputs": [
    {
     "data": {
      "text/plain": [
       "decade\n",
       "5    8457\n",
       "4    4209\n",
       "3    1860\n",
       "0    1246\n",
       "2    1152\n",
       "1     846\n",
       "Name: count, dtype: int64"
      ]
     },
     "execution_count": 11,
     "metadata": {},
     "output_type": "execute_result"
    }
   ],
   "source": [
    "# decade counts\n",
    "content['decade'].value_counts(sort=True)"
   ]
  },
  {
   "cell_type": "code",
   "execution_count": 12,
   "id": "8772f176",
   "metadata": {},
   "outputs": [
    {
     "data": {
      "text/plain": [
       "<BarContainer object of 6 artists>"
      ]
     },
     "execution_count": 12,
     "metadata": {},
     "output_type": "execute_result"
    },
    {
     "data": {
      "image/png": "[encoded data removed]",
      "text/plain": [
       "<Figure size 640x480 with 1 Axes>"
      ]
     },
     "metadata": {},
     "output_type": "display_data"
    }
   ],
   "source": [
    "plt.bar((content['decade'].value_counts(sort=True).index), (content['decade'].value_counts(sort=True).values))"
   ]
  },
  {
   "cell_type": "markdown",
   "id": "c92a02a7",
   "metadata": {},
   "source": [
    "# content feature selection\n",
    "\n",
    "to minimize bias, i'm only going to add the decade column to the data i will use for modeling."
   ]
  },
  {
   "cell_type": "code",
   "execution_count": 13,
   "id": "32eba9ea",
   "metadata": {},
   "outputs": [
    {
     "name": "stdout",
     "output_type": "stream",
     "text": [
      "<class 'pandas.core.frame.DataFrame'>\n",
      "RangeIndex: 17770 entries, 0 to 17769\n",
      "Data columns (total 2 columns):\n",
      " #   Column    Non-Null Count  Dtype\n",
      "---  ------    --------------  -----\n",
      " 0   mid       17770 non-null  int64\n",
      " 1   m_decade  17770 non-null  int64\n",
      "dtypes: int64(2)\n",
      "memory usage: 277.8 KB\n"
     ]
    }
   ],
   "source": [
    "decade = content[['id', 'decade']]\n",
    "decade = decade.rename(columns = {'id': 'mid', 'decade': 'm_decade'})\n",
    "decade.info()"
   ]
  },
  {
   "cell_type": "markdown",
   "id": "a0ccabac",
   "metadata": {},
   "source": [
    "# ratings\n",
    "\n",
    "importing partial datasets as csvs for ease of use"
   ]
  },
  {
   "cell_type": "code",
   "execution_count": null,
   "id": "a00c4a29",
   "metadata": {},
   "outputs": [],
   "source": [
    "#import raw data in chunks, precleaning process in data folder\n",
    "d1 = pd.read_csv('data/d1_clean.csv')\n",
    "d1 = d1.drop(['Unnamed: 0'], axis=1)\n",
    "\n",
    "d2 = pd.read_csv('data/d2_clean.csv')\n",
    "d2 = d2.drop(['Unnamed: 0'], axis=1)\n",
    "\n",
    "d3 = pd.read_csv('data/d3_clean.csv')\n",
    "d3 = d3.drop(['Unnamed: 0'], axis = 1)\n",
    "\n",
    "d4 = pd.read_csv('data/d4_clean.csv')\n",
    "d4 = d4.drop(['Unnamed: 0'], axis =1)\n",
    "\n",
    "df = pd.concat([d1, d2, d3, d4], axis =0, ignore_index=True)\n",
    "\n",
    "#sample\n",
    "df = df.sample(n=1000000, random_state=1)\n",
    "\n",
    "#dropping day and month because I changed my mind\n",
    "df = df.drop(['day', 'month', 'fisc_Q', 'year'], axis=1)\n",
    "\n",
    "#rename for clarity\n",
    "df = df.rename(columns = {'date': 'r_date'})\n",
    "\n",
    "df['r_date'] = df['r_date'].astype('datetime64[ns]')\n",
    "\n",
    "data = df.merge(decade)\n",
    "\n",
    "#data.to_csv('data/1mdf.csv', index=False)"
   ]
  },
  {
   "cell_type": "markdown",
   "id": "9ab2e1e7",
   "metadata": {},
   "source": [
    "# Ready for EDA"
   ]
  },
  {
   "cell_type": "code",
   "execution_count": 14,
   "id": "1a9a3f77",
   "metadata": {},
   "outputs": [
    {
     "data": {
      "text/html": [
       "<div>\n",
       "<style scoped>\n",
       "    .dataframe tbody tr th:only-of-type {\n",
       "        vertical-align: middle;\n",
       "    }\n",
       "\n",
       "    .dataframe tbody tr th {\n",
       "        vertical-align: top;\n",
       "    }\n",
       "\n",
       "    .dataframe thead th {\n",
       "        text-align: right;\n",
       "    }\n",
       "</style>\n",
       "<table border=\"1\" class=\"dataframe\">\n",
       "  <thead>\n",
       "    <tr style=\"text-align: right;\">\n",
       "      <th></th>\n",
       "      <th>mid</th>\n",
       "      <th>cust_id</th>\n",
       "      <th>rating</th>\n",
       "      <th>r_date</th>\n",
       "      <th>m_decade</th>\n",
       "    </tr>\n",
       "  </thead>\n",
       "  <tbody>\n",
       "    <tr>\n",
       "      <th>0</th>\n",
       "      <td>3113</td>\n",
       "      <td>510180</td>\n",
       "      <td>3.0</td>\n",
       "      <td>1999-12-12</td>\n",
       "      <td>4</td>\n",
       "    </tr>\n",
       "    <tr>\n",
       "      <th>1</th>\n",
       "      <td>3113</td>\n",
       "      <td>1589382</td>\n",
       "      <td>4.0</td>\n",
       "      <td>2000-03-11</td>\n",
       "      <td>4</td>\n",
       "    </tr>\n",
       "    <tr>\n",
       "      <th>2</th>\n",
       "      <td>3113</td>\n",
       "      <td>1878798</td>\n",
       "      <td>2.0</td>\n",
       "      <td>2000-08-08</td>\n",
       "      <td>4</td>\n",
       "    </tr>\n",
       "    <tr>\n",
       "      <th>3</th>\n",
       "      <td>3113</td>\n",
       "      <td>1259176</td>\n",
       "      <td>4.0</td>\n",
       "      <td>2000-11-10</td>\n",
       "      <td>4</td>\n",
       "    </tr>\n",
       "    <tr>\n",
       "      <th>4</th>\n",
       "      <td>3113</td>\n",
       "      <td>873369</td>\n",
       "      <td>3.0</td>\n",
       "      <td>2000-11-20</td>\n",
       "      <td>4</td>\n",
       "    </tr>\n",
       "  </tbody>\n",
       "</table>\n",
       "</div>"
      ],
      "text/plain": [
       "    mid  cust_id  rating      r_date  m_decade\n",
       "0  3113   510180     3.0  1999-12-12         4\n",
       "1  3113  1589382     4.0  2000-03-11         4\n",
       "2  3113  1878798     2.0  2000-08-08         4\n",
       "3  3113  1259176     4.0  2000-11-10         4\n",
       "4  3113   873369     3.0  2000-11-20         4"
      ]
     },
     "execution_count": 14,
     "metadata": {},
     "output_type": "execute_result"
    }
   ],
   "source": [
    "data = pd.read_csv('data/1mdf.csv')\n",
    "data.head()"
   ]
  },
  {
   "cell_type": "markdown",
   "id": "3f31bb9f",
   "metadata": {},
   "source": [
    "## Exploring content attributes\n",
    "\n",
    "- highest rated content (content quality)\n",
    "- most rated content (popularity)\n",
    "- decade frequency distribution\n",
    "\n",
    "### Decade Frequency Distribution"
   ]
  },
  {
   "cell_type": "code",
   "execution_count": 15,
   "id": "12c7f2ee",
   "metadata": {},
   "outputs": [
    {
     "data": {
      "text/plain": [
       "<BarContainer object of 6 artists>"
      ]
     },
     "execution_count": 15,
     "metadata": {},
     "output_type": "execute_result"
    },
    {
     "data": {
      "image/png": "[encoded data removed]",
      "text/plain": [
       "<Figure size 640x480 with 1 Axes>"
      ]
     },
     "metadata": {},
     "output_type": "display_data"
    }
   ],
   "source": [
    "plt.bar((data['m_decade'].value_counts(sort=True).index), (data['m_decade'].value_counts(sort=True).values))"
   ]
  },
  {
   "cell_type": "code",
   "execution_count": 16,
   "id": "f7766c11",
   "metadata": {},
   "outputs": [
    {
     "data": {
      "text/plain": [
       "m_decade\n",
       "5    0.528246\n",
       "4    0.261975\n",
       "3    0.113831\n",
       "2    0.039405\n",
       "0    0.030192\n",
       "1    0.026351\n",
       "Name: proportion, dtype: float64"
      ]
     },
     "execution_count": 16,
     "metadata": {},
     "output_type": "execute_result"
    }
   ],
   "source": [
    "data['m_decade'].value_counts(normalize=True)"
   ]
  },
  {
   "cell_type": "markdown",
   "id": "596f18ea",
   "metadata": {},
   "source": [
    "### Looking at rating as a popularity metric - speaks to the perceived quality of the content"
   ]
  },
  {
   "cell_type": "code",
   "execution_count": 17,
   "id": "e2cbb5b4",
   "metadata": {},
   "outputs": [
    {
     "data": {
      "text/html": [
       "<div>\n",
       "<style scoped>\n",
       "    .dataframe tbody tr th:only-of-type {\n",
       "        vertical-align: middle;\n",
       "    }\n",
       "\n",
       "    .dataframe tbody tr th {\n",
       "        vertical-align: top;\n",
       "    }\n",
       "\n",
       "    .dataframe thead th {\n",
       "        text-align: right;\n",
       "    }\n",
       "</style>\n",
       "<table border=\"1\" class=\"dataframe\">\n",
       "  <thead>\n",
       "    <tr style=\"text-align: right;\">\n",
       "      <th></th>\n",
       "      <th>mid</th>\n",
       "      <th>m_avg_rating</th>\n",
       "    </tr>\n",
       "  </thead>\n",
       "  <tbody>\n",
       "    <tr>\n",
       "      <th>0</th>\n",
       "      <td>12972</td>\n",
       "      <td>5.0</td>\n",
       "    </tr>\n",
       "    <tr>\n",
       "      <th>1</th>\n",
       "      <td>9158</td>\n",
       "      <td>5.0</td>\n",
       "    </tr>\n",
       "    <tr>\n",
       "      <th>2</th>\n",
       "      <td>9162</td>\n",
       "      <td>5.0</td>\n",
       "    </tr>\n",
       "    <tr>\n",
       "      <th>3</th>\n",
       "      <td>9173</td>\n",
       "      <td>5.0</td>\n",
       "    </tr>\n",
       "    <tr>\n",
       "      <th>4</th>\n",
       "      <td>2648</td>\n",
       "      <td>5.0</td>\n",
       "    </tr>\n",
       "    <tr>\n",
       "      <th>...</th>\n",
       "      <td>...</td>\n",
       "      <td>...</td>\n",
       "    </tr>\n",
       "    <tr>\n",
       "      <th>16216</th>\n",
       "      <td>17284</td>\n",
       "      <td>1.0</td>\n",
       "    </tr>\n",
       "    <tr>\n",
       "      <th>16217</th>\n",
       "      <td>16549</td>\n",
       "      <td>1.0</td>\n",
       "    </tr>\n",
       "    <tr>\n",
       "      <th>16218</th>\n",
       "      <td>6496</td>\n",
       "      <td>1.0</td>\n",
       "    </tr>\n",
       "    <tr>\n",
       "      <th>16219</th>\n",
       "      <td>16073</td>\n",
       "      <td>1.0</td>\n",
       "    </tr>\n",
       "    <tr>\n",
       "      <th>16220</th>\n",
       "      <td>820</td>\n",
       "      <td>1.0</td>\n",
       "    </tr>\n",
       "  </tbody>\n",
       "</table>\n",
       "<p>16221 rows × 2 columns</p>\n",
       "</div>"
      ],
      "text/plain": [
       "         mid  m_avg_rating\n",
       "0      12972           5.0\n",
       "1       9158           5.0\n",
       "2       9162           5.0\n",
       "3       9173           5.0\n",
       "4       2648           5.0\n",
       "...      ...           ...\n",
       "16216  17284           1.0\n",
       "16217  16549           1.0\n",
       "16218   6496           1.0\n",
       "16219  16073           1.0\n",
       "16220    820           1.0\n",
       "\n",
       "[16221 rows x 2 columns]"
      ]
     },
     "execution_count": 17,
     "metadata": {},
     "output_type": "execute_result"
    }
   ],
   "source": [
    "#average rating for each content piece\n",
    "avgrating = data.groupby('mid')['rating'].mean().sort_values(ascending=False).to_frame()\n",
    "avgrating = avgrating.rename(columns = {'rating': 'm_avg_rating'}).reset_index()\n",
    "avgrating"
   ]
  },
  {
   "cell_type": "markdown",
   "id": "832590da",
   "metadata": {},
   "source": [
    "**1. What is the distribution of content ratings?**"
   ]
  },
  {
   "cell_type": "code",
   "execution_count": 18,
   "id": "b2b89f06",
   "metadata": {},
   "outputs": [
    {
     "data": {
      "text/plain": [
       "count    16221.000000\n",
       "mean         3.263065\n",
       "std          0.787667\n",
       "min          1.000000\n",
       "25%          2.947368\n",
       "50%          3.333333\n",
       "75%          3.800000\n",
       "max          5.000000\n",
       "Name: m_avg_rating, dtype: float64"
      ]
     },
     "execution_count": 18,
     "metadata": {},
     "output_type": "execute_result"
    }
   ],
   "source": [
    "avgrating['m_avg_rating'].describe()"
   ]
  },
  {
   "cell_type": "code",
   "execution_count": null,
   "id": "088d35b9",
   "metadata": {},
   "outputs": [],
   "source": [
    "#looks at distribution of avg rating per movie\n",
    "avgrathist = avgrating['m_avg_rating'].plot(kind='hist');"
   ]
  },
  {
   "cell_type": "code",
   "execution_count": null,
   "id": "1948d198",
   "metadata": {},
   "outputs": [],
   "source": [
    "hist = plt.hist(avgrating['m_avg_rating'])"
   ]
  },
  {
   "cell_type": "code",
   "execution_count": null,
   "id": "9810c9ac",
   "metadata": {},
   "outputs": [],
   "source": [
    "ax = hist.gca() # get axis handle"
   ]
  },
  {
   "cell_type": "markdown",
   "id": "aa948215",
   "metadata": {},
   "source": [
    "Skewed to the left. Users tend to rate content above average. \n",
    "\n",
    "This doesn't necessarily speak to the quality of the content however it does show that our users tend to enjoy it."
   ]
  },
  {
   "cell_type": "code",
   "execution_count": 19,
   "id": "67dc5a88",
   "metadata": {},
   "outputs": [
    {
     "data": {
      "text/html": [
       "<div>\n",
       "<style scoped>\n",
       "    .dataframe tbody tr th:only-of-type {\n",
       "        vertical-align: middle;\n",
       "    }\n",
       "\n",
       "    .dataframe tbody tr th {\n",
       "        vertical-align: top;\n",
       "    }\n",
       "\n",
       "    .dataframe thead th {\n",
       "        text-align: right;\n",
       "    }\n",
       "</style>\n",
       "<table border=\"1\" class=\"dataframe\">\n",
       "  <thead>\n",
       "    <tr style=\"text-align: right;\">\n",
       "      <th></th>\n",
       "      <th>mid</th>\n",
       "      <th>cust_id</th>\n",
       "      <th>rating</th>\n",
       "      <th>r_date</th>\n",
       "      <th>m_decade</th>\n",
       "      <th>m_avg_rating</th>\n",
       "    </tr>\n",
       "  </thead>\n",
       "  <tbody>\n",
       "    <tr>\n",
       "      <th>0</th>\n",
       "      <td>3113</td>\n",
       "      <td>510180</td>\n",
       "      <td>3.0</td>\n",
       "      <td>1999-12-12</td>\n",
       "      <td>4</td>\n",
       "      <td>3.187192</td>\n",
       "    </tr>\n",
       "    <tr>\n",
       "      <th>1</th>\n",
       "      <td>3113</td>\n",
       "      <td>1589382</td>\n",
       "      <td>4.0</td>\n",
       "      <td>2000-03-11</td>\n",
       "      <td>4</td>\n",
       "      <td>3.187192</td>\n",
       "    </tr>\n",
       "    <tr>\n",
       "      <th>2</th>\n",
       "      <td>3113</td>\n",
       "      <td>1878798</td>\n",
       "      <td>2.0</td>\n",
       "      <td>2000-08-08</td>\n",
       "      <td>4</td>\n",
       "      <td>3.187192</td>\n",
       "    </tr>\n",
       "    <tr>\n",
       "      <th>3</th>\n",
       "      <td>3113</td>\n",
       "      <td>1259176</td>\n",
       "      <td>4.0</td>\n",
       "      <td>2000-11-10</td>\n",
       "      <td>4</td>\n",
       "      <td>3.187192</td>\n",
       "    </tr>\n",
       "    <tr>\n",
       "      <th>4</th>\n",
       "      <td>3113</td>\n",
       "      <td>873369</td>\n",
       "      <td>3.0</td>\n",
       "      <td>2000-11-20</td>\n",
       "      <td>4</td>\n",
       "      <td>3.187192</td>\n",
       "    </tr>\n",
       "  </tbody>\n",
       "</table>\n",
       "</div>"
      ],
      "text/plain": [
       "    mid  cust_id  rating      r_date  m_decade  m_avg_rating\n",
       "0  3113   510180     3.0  1999-12-12         4      3.187192\n",
       "1  3113  1589382     4.0  2000-03-11         4      3.187192\n",
       "2  3113  1878798     2.0  2000-08-08         4      3.187192\n",
       "3  3113  1259176     4.0  2000-11-10         4      3.187192\n",
       "4  3113   873369     3.0  2000-11-20         4      3.187192"
      ]
     },
     "execution_count": 19,
     "metadata": {},
     "output_type": "execute_result"
    }
   ],
   "source": [
    "#adding avg rating as a feature\n",
    "data = data.merge(avgrating)\n",
    "data.head()"
   ]
  },
  {
   "cell_type": "markdown",
   "id": "51b98078",
   "metadata": {},
   "source": [
    "**2. On average, do users enjoy a specific decade more than others?**"
   ]
  },
  {
   "cell_type": "code",
   "execution_count": 20,
   "id": "bc8d5e34",
   "metadata": {},
   "outputs": [
    {
     "data": {
      "text/plain": [
       "<AxesSubplot:xlabel='m_decade', ylabel='m_avg_rating'>"
      ]
     },
     "execution_count": 20,
     "metadata": {},
     "output_type": "execute_result"
    },
    {
     "data": {
      "image/png": "[encoded data removed]",
      "text/plain": [
       "<Figure size 640x480 with 1 Axes>"
      ]
     },
     "metadata": {},
     "output_type": "display_data"
    }
   ],
   "source": [
    "sns.violinplot(\n",
    "    y=\"m_avg_rating\", \n",
    "    x=\"m_decade\", \n",
    "    data=data, \n",
    "    color='aqua',\n",
    "    inner=\"quartile\",  # Seeing the mean and quartiles\n",
    ")\n"
   ]
  },
  {
   "cell_type": "code",
   "execution_count": 21,
   "id": "c5b25ad0",
   "metadata": {},
   "outputs": [
    {
     "data": {
      "text/plain": [
       "m_decade\n",
       "0    3.849364\n",
       "1    3.836780\n",
       "2    3.774851\n",
       "3    3.681291\n",
       "4    3.623350\n",
       "5    3.542565\n",
       "Name: rating, dtype: float64"
      ]
     },
     "execution_count": 21,
     "metadata": {},
     "output_type": "execute_result"
    }
   ],
   "source": [
    "data.groupby('m_decade')['rating'].mean().sort_values(ascending=False)"
   ]
  },
  {
   "cell_type": "markdown",
   "id": "8486e0be",
   "metadata": {},
   "source": [
    "On average, users may tend to rate older content slightly higher but not to a significant degree.\n",
    "\n",
    "**3. What is the distribution of rating count? Does higher rating count indicate higher quality?**"
   ]
  },
  {
   "cell_type": "code",
   "execution_count": 22,
   "id": "a374e3ab",
   "metadata": {},
   "outputs": [
    {
     "data": {
      "text/html": [
       "<div>\n",
       "<style scoped>\n",
       "    .dataframe tbody tr th:only-of-type {\n",
       "        vertical-align: middle;\n",
       "    }\n",
       "\n",
       "    .dataframe tbody tr th {\n",
       "        vertical-align: top;\n",
       "    }\n",
       "\n",
       "    .dataframe thead th {\n",
       "        text-align: right;\n",
       "    }\n",
       "</style>\n",
       "<table border=\"1\" class=\"dataframe\">\n",
       "  <thead>\n",
       "    <tr style=\"text-align: right;\">\n",
       "      <th></th>\n",
       "      <th>mid</th>\n",
       "      <th>m_avg_rating</th>\n",
       "      <th>r_count</th>\n",
       "    </tr>\n",
       "  </thead>\n",
       "  <tbody>\n",
       "    <tr>\n",
       "      <th>count</th>\n",
       "      <td>16221.000000</td>\n",
       "      <td>16221.000000</td>\n",
       "      <td>16221.000000</td>\n",
       "    </tr>\n",
       "    <tr>\n",
       "      <th>mean</th>\n",
       "      <td>8889.624499</td>\n",
       "      <td>3.263065</td>\n",
       "      <td>61.648480</td>\n",
       "    </tr>\n",
       "    <tr>\n",
       "      <th>std</th>\n",
       "      <td>5138.947282</td>\n",
       "      <td>0.787667</td>\n",
       "      <td>175.357348</td>\n",
       "    </tr>\n",
       "    <tr>\n",
       "      <th>min</th>\n",
       "      <td>1.000000</td>\n",
       "      <td>1.000000</td>\n",
       "      <td>1.000000</td>\n",
       "    </tr>\n",
       "    <tr>\n",
       "      <th>25%</th>\n",
       "      <td>4439.000000</td>\n",
       "      <td>2.947368</td>\n",
       "      <td>2.000000</td>\n",
       "    </tr>\n",
       "    <tr>\n",
       "      <th>50%</th>\n",
       "      <td>8878.000000</td>\n",
       "      <td>3.333333</td>\n",
       "      <td>7.000000</td>\n",
       "    </tr>\n",
       "    <tr>\n",
       "      <th>75%</th>\n",
       "      <td>13346.000000</td>\n",
       "      <td>3.800000</td>\n",
       "      <td>32.000000</td>\n",
       "    </tr>\n",
       "    <tr>\n",
       "      <th>max</th>\n",
       "      <td>17770.000000</td>\n",
       "      <td>5.000000</td>\n",
       "      <td>2269.000000</td>\n",
       "    </tr>\n",
       "  </tbody>\n",
       "</table>\n",
       "</div>"
      ],
      "text/plain": [
       "                mid  m_avg_rating       r_count\n",
       "count  16221.000000  16221.000000  16221.000000\n",
       "mean    8889.624499      3.263065     61.648480\n",
       "std     5138.947282      0.787667    175.357348\n",
       "min        1.000000      1.000000      1.000000\n",
       "25%     4439.000000      2.947368      2.000000\n",
       "50%     8878.000000      3.333333      7.000000\n",
       "75%    13346.000000      3.800000     32.000000\n",
       "max    17770.000000      5.000000   2269.000000"
      ]
     },
     "execution_count": 22,
     "metadata": {},
     "output_type": "execute_result"
    }
   ],
   "source": [
    "popularity = data.groupby('mid')['rating'].count().sort_values(ascending=False).to_frame()\n",
    "popularity = popularity.rename(columns = {'rating': 'r_count'}).reset_index()\n",
    "avgrating = avgrating.merge(popularity)\n",
    "avgrating.describe()"
   ]
  },
  {
   "cell_type": "code",
   "execution_count": 23,
   "id": "e3bd346c",
   "metadata": {},
   "outputs": [
    {
     "data": {
      "image/png": "[encoded data removed]",
      "text/plain": [
       "<Figure size 640x480 with 1 Axes>"
      ]
     },
     "metadata": {},
     "output_type": "display_data"
    }
   ],
   "source": [
    "#looks at distribution of rating count per video\n",
    "avgrating['r_count'].plot(kind='hist');"
   ]
  },
  {
   "cell_type": "code",
   "execution_count": null,
   "id": "c214c60b",
   "metadata": {},
   "outputs": [],
   "source": [
    "sns.scatterplot(x=avgrating['r_count'],y=avgrating['m_avg_rating']);"
   ]
  },
  {
   "cell_type": "code",
   "execution_count": 24,
   "id": "0666189c",
   "metadata": {},
   "outputs": [
    {
     "data": {
      "text/plain": [
       "<AxesSubplot:xlabel='r_count', ylabel='m_avg_rating'>"
      ]
     },
     "execution_count": 24,
     "metadata": {},
     "output_type": "execute_result"
    },
    {
     "data": {
      "image/png": "[encoded data removed]",
      "text/plain": [
       "<Figure size 640x480 with 1 Axes>"
      ]
     },
     "metadata": {},
     "output_type": "display_data"
    }
   ],
   "source": [
    "sns.regplot(data = avgrating, x='r_count', y='m_avg_rating')"
   ]
  },
  {
   "cell_type": "markdown",
   "id": "aff44edd",
   "metadata": {},
   "source": [
    "### Thoughts on content attributes\n",
    "\n",
    "- Popularity: content pieces on avg have 12 ratings, though it can range up to 4606 ratings. More popular content has an above average rating. I'll address popularity bias in my models\n",
    "\n",
    "- Quality: I'm certain that quality directly impacts consumer experience so I made it a feature I'd like to keep an eye on\n",
    "\n",
    "- Decade: grouping by decade rather than year released is more meaningful in that it also describes potential stylistic preferences or nostalgia/emotional attachments\n",
    "\n",
    "\n",
    "## User behavior\n",
    "\n",
    "**1. Most active users**"
   ]
  },
  {
   "cell_type": "code",
   "execution_count": 25,
   "id": "9b97c80b",
   "metadata": {},
   "outputs": [
    {
     "data": {
      "text/html": [
       "<div>\n",
       "<style scoped>\n",
       "    .dataframe tbody tr th:only-of-type {\n",
       "        vertical-align: middle;\n",
       "    }\n",
       "\n",
       "    .dataframe tbody tr th {\n",
       "        vertical-align: top;\n",
       "    }\n",
       "\n",
       "    .dataframe thead th {\n",
       "        text-align: right;\n",
       "    }\n",
       "</style>\n",
       "<table border=\"1\" class=\"dataframe\">\n",
       "  <thead>\n",
       "    <tr style=\"text-align: right;\">\n",
       "      <th></th>\n",
       "      <th>cust_id</th>\n",
       "      <th>user_engagement</th>\n",
       "    </tr>\n",
       "  </thead>\n",
       "  <tbody>\n",
       "    <tr>\n",
       "      <th>count</th>\n",
       "      <td>2.900220e+05</td>\n",
       "      <td>290022.000000</td>\n",
       "    </tr>\n",
       "    <tr>\n",
       "      <th>mean</th>\n",
       "      <td>1.322388e+06</td>\n",
       "      <td>3.448014</td>\n",
       "    </tr>\n",
       "    <tr>\n",
       "      <th>std</th>\n",
       "      <td>7.652185e+05</td>\n",
       "      <td>3.694112</td>\n",
       "    </tr>\n",
       "    <tr>\n",
       "      <th>min</th>\n",
       "      <td>6.000000e+00</td>\n",
       "      <td>1.000000</td>\n",
       "    </tr>\n",
       "    <tr>\n",
       "      <th>25%</th>\n",
       "      <td>6.594545e+05</td>\n",
       "      <td>1.000000</td>\n",
       "    </tr>\n",
       "    <tr>\n",
       "      <th>50%</th>\n",
       "      <td>1.319308e+06</td>\n",
       "      <td>2.000000</td>\n",
       "    </tr>\n",
       "    <tr>\n",
       "      <th>75%</th>\n",
       "      <td>1.984964e+06</td>\n",
       "      <td>4.000000</td>\n",
       "    </tr>\n",
       "    <tr>\n",
       "      <th>max</th>\n",
       "      <td>2.649429e+06</td>\n",
       "      <td>192.000000</td>\n",
       "    </tr>\n",
       "  </tbody>\n",
       "</table>\n",
       "</div>"
      ],
      "text/plain": [
       "            cust_id  user_engagement\n",
       "count  2.900220e+05    290022.000000\n",
       "mean   1.322388e+06         3.448014\n",
       "std    7.652185e+05         3.694112\n",
       "min    6.000000e+00         1.000000\n",
       "25%    6.594545e+05         1.000000\n",
       "50%    1.319308e+06         2.000000\n",
       "75%    1.984964e+06         4.000000\n",
       "max    2.649429e+06       192.000000"
      ]
     },
     "execution_count": 25,
     "metadata": {},
     "output_type": "execute_result"
    }
   ],
   "source": [
    "users = data.groupby('cust_id')['rating'].count().sort_values(ascending=False).to_frame()\n",
    "users = users.rename(columns = {'rating': 'user_engagement'}).reset_index()\n",
    "users.describe()"
   ]
  },
  {
   "cell_type": "code",
   "execution_count": 26,
   "id": "094b6757",
   "metadata": {},
   "outputs": [
    {
     "data": {
      "text/html": [
       "<div>\n",
       "<style scoped>\n",
       "    .dataframe tbody tr th:only-of-type {\n",
       "        vertical-align: middle;\n",
       "    }\n",
       "\n",
       "    .dataframe tbody tr th {\n",
       "        vertical-align: top;\n",
       "    }\n",
       "\n",
       "    .dataframe thead th {\n",
       "        text-align: right;\n",
       "    }\n",
       "</style>\n",
       "<table border=\"1\" class=\"dataframe\">\n",
       "  <thead>\n",
       "    <tr style=\"text-align: right;\">\n",
       "      <th></th>\n",
       "      <th>cust_id</th>\n",
       "      <th>user_engagement</th>\n",
       "    </tr>\n",
       "  </thead>\n",
       "  <tbody>\n",
       "    <tr>\n",
       "      <th>0</th>\n",
       "      <td>305344</td>\n",
       "      <td>192</td>\n",
       "    </tr>\n",
       "    <tr>\n",
       "      <th>1</th>\n",
       "      <td>2439493</td>\n",
       "      <td>161</td>\n",
       "    </tr>\n",
       "    <tr>\n",
       "      <th>2</th>\n",
       "      <td>1664010</td>\n",
       "      <td>155</td>\n",
       "    </tr>\n",
       "    <tr>\n",
       "      <th>3</th>\n",
       "      <td>387418</td>\n",
       "      <td>154</td>\n",
       "    </tr>\n",
       "    <tr>\n",
       "      <th>4</th>\n",
       "      <td>2118461</td>\n",
       "      <td>154</td>\n",
       "    </tr>\n",
       "  </tbody>\n",
       "</table>\n",
       "</div>"
      ],
      "text/plain": [
       "   cust_id  user_engagement\n",
       "0   305344              192\n",
       "1  2439493              161\n",
       "2  1664010              155\n",
       "3   387418              154\n",
       "4  2118461              154"
      ]
     },
     "execution_count": 26,
     "metadata": {},
     "output_type": "execute_result"
    }
   ],
   "source": [
    "users.head()"
   ]
  },
  {
   "cell_type": "code",
   "execution_count": 31,
   "id": "2cb93c11",
   "metadata": {},
   "outputs": [
    {
     "data": {
      "image/png": "[encoded data removed]",
      "text/plain": [
       "<Figure size 640x480 with 1 Axes>"
      ]
     },
     "metadata": {},
     "output_type": "display_data"
    }
   ],
   "source": [
    "#looks at distribution of avg # of ratings per user\n",
    "user_eng = users['user_engagement'].plot(kind='hist');"
   ]
  },
  {
   "cell_type": "code",
   "execution_count": 32,
   "id": "92af8d2f",
   "metadata": {},
   "outputs": [],
   "source": [
    "def activity(row):\n",
    "    \n",
    "    \"\"\"\n",
    "    bins users by activity level\n",
    "    \"\"\"\n",
    "    if row['user_engagement'] == 1:\n",
    "        return 1\n",
    "    elif row['user_engagement'] == 2:\n",
    "        return 2\n",
    "    elif 3 <= row['user_engagement'] <= 4:\n",
    "        return 3\n",
    "    elif 5 <= row['user_engagement'] <= 10:\n",
    "        return 4\n",
    "    else:\n",
    "        #these are super users\n",
    "        return 5"
   ]
  },
  {
   "cell_type": "code",
   "execution_count": 33,
   "id": "660e585d",
   "metadata": {},
   "outputs": [
    {
     "data": {
      "text/html": [
       "<div>\n",
       "<style scoped>\n",
       "    .dataframe tbody tr th:only-of-type {\n",
       "        vertical-align: middle;\n",
       "    }\n",
       "\n",
       "    .dataframe tbody tr th {\n",
       "        vertical-align: top;\n",
       "    }\n",
       "\n",
       "    .dataframe thead th {\n",
       "        text-align: right;\n",
       "    }\n",
       "</style>\n",
       "<table border=\"1\" class=\"dataframe\">\n",
       "  <thead>\n",
       "    <tr style=\"text-align: right;\">\n",
       "      <th></th>\n",
       "      <th>cust_id</th>\n",
       "      <th>user_engagement</th>\n",
       "      <th>cust_act_activity_rank</th>\n",
       "    </tr>\n",
       "  </thead>\n",
       "  <tbody>\n",
       "    <tr>\n",
       "      <th>0</th>\n",
       "      <td>305344</td>\n",
       "      <td>192</td>\n",
       "      <td>5</td>\n",
       "    </tr>\n",
       "    <tr>\n",
       "      <th>1</th>\n",
       "      <td>2439493</td>\n",
       "      <td>161</td>\n",
       "      <td>5</td>\n",
       "    </tr>\n",
       "    <tr>\n",
       "      <th>2</th>\n",
       "      <td>1664010</td>\n",
       "      <td>155</td>\n",
       "      <td>5</td>\n",
       "    </tr>\n",
       "    <tr>\n",
       "      <th>3</th>\n",
       "      <td>387418</td>\n",
       "      <td>154</td>\n",
       "      <td>5</td>\n",
       "    </tr>\n",
       "    <tr>\n",
       "      <th>4</th>\n",
       "      <td>2118461</td>\n",
       "      <td>154</td>\n",
       "      <td>5</td>\n",
       "    </tr>\n",
       "  </tbody>\n",
       "</table>\n",
       "</div>"
      ],
      "text/plain": [
       "   cust_id  user_engagement  cust_act_activity_rank\n",
       "0   305344              192                       5\n",
       "1  2439493              161                       5\n",
       "2  1664010              155                       5\n",
       "3   387418              154                       5\n",
       "4  2118461              154                       5"
      ]
     },
     "execution_count": 33,
     "metadata": {},
     "output_type": "execute_result"
    }
   ],
   "source": [
    "users['cust_act_activity_rank'] = users.apply(activity, axis=1)\n",
    "users.head()"
   ]
  },
  {
   "cell_type": "code",
   "execution_count": 34,
   "id": "1f7e397e",
   "metadata": {},
   "outputs": [
    {
     "data": {
      "text/plain": [
       "cust_act_activity_rank\n",
       "1    104451\n",
       "3     59647\n",
       "2     57388\n",
       "4     54424\n",
       "5     14112\n",
       "Name: count, dtype: int64"
      ]
     },
     "execution_count": 34,
     "metadata": {},
     "output_type": "execute_result"
    }
   ],
   "source": [
    "users['cust_act_activity_rank'].value_counts() "
   ]
  },
  {
   "cell_type": "code",
   "execution_count": 35,
   "id": "be5cbca0",
   "metadata": {},
   "outputs": [
    {
     "data": {
      "text/plain": [
       "<BarContainer object of 5 artists>"
      ]
     },
     "execution_count": 35,
     "metadata": {},
     "output_type": "execute_result"
    },
    {
     "data": {
      "image/png": "[encoded data removed]",
      "text/plain": [
       "<Figure size 640x480 with 1 Axes>"
      ]
     },
     "metadata": {},
     "output_type": "display_data"
    }
   ],
   "source": [
    "plt.bar((users['cust_act_activity_rank'].value_counts(sort=True).index), \n",
    "        (users['cust_act_activity_rank'].value_counts(sort=True).values))"
   ]
  },
  {
   "cell_type": "code",
   "execution_count": 38,
   "id": "572b065b",
   "metadata": {},
   "outputs": [
    {
     "data": {
      "text/html": [
       "<div>\n",
       "<style scoped>\n",
       "    .dataframe tbody tr th:only-of-type {\n",
       "        vertical-align: middle;\n",
       "    }\n",
       "\n",
       "    .dataframe tbody tr th {\n",
       "        vertical-align: top;\n",
       "    }\n",
       "\n",
       "    .dataframe thead th {\n",
       "        text-align: right;\n",
       "    }\n",
       "</style>\n",
       "<table border=\"1\" class=\"dataframe\">\n",
       "  <thead>\n",
       "    <tr style=\"text-align: right;\">\n",
       "      <th></th>\n",
       "      <th>count</th>\n",
       "    </tr>\n",
       "    <tr>\n",
       "      <th>cust_act_activity_rank</th>\n",
       "      <th></th>\n",
       "    </tr>\n",
       "  </thead>\n",
       "  <tbody>\n",
       "    <tr>\n",
       "      <th>1</th>\n",
       "      <td>104451</td>\n",
       "    </tr>\n",
       "    <tr>\n",
       "      <th>3</th>\n",
       "      <td>59647</td>\n",
       "    </tr>\n",
       "    <tr>\n",
       "      <th>2</th>\n",
       "      <td>57388</td>\n",
       "    </tr>\n",
       "    <tr>\n",
       "      <th>4</th>\n",
       "      <td>54424</td>\n",
       "    </tr>\n",
       "    <tr>\n",
       "      <th>5</th>\n",
       "      <td>14112</td>\n",
       "    </tr>\n",
       "  </tbody>\n",
       "</table>\n",
       "</div>"
      ],
      "text/plain": [
       "                         count\n",
       "cust_act_activity_rank        \n",
       "1                       104451\n",
       "3                        59647\n",
       "2                        57388\n",
       "4                        54424\n",
       "5                        14112"
      ]
     },
     "execution_count": 38,
     "metadata": {},
     "output_type": "execute_result"
    }
   ],
   "source": [
    "usereng = users['cust_act_activity_rank'].value_counts().to_frame()\n",
    "usereng"
   ]
  },
  {
   "cell_type": "code",
   "execution_count": 39,
   "id": "eb6f9920",
   "metadata": {},
   "outputs": [],
   "source": [
    "usereng.to_csv('data/usereng.csv')"
   ]
  },
  {
   "cell_type": "markdown",
   "id": "6860ce83",
   "metadata": {},
   "source": [
    "**Early Adopters Curve**\n",
    "\n",
    "2.5% innovators\n",
    "13.5% early adopters\n",
    "34% early majority\n",
    "34% late majority\n",
    "16% laggards"
   ]
  },
  {
   "cell_type": "code",
   "execution_count": null,
   "id": "3f872476",
   "metadata": {},
   "outputs": [],
   "source": [
    "first_reviews = data.drop_duplicates(subset='cust_id', keep='first')\n",
    "#sort vals by date, prep to split linearly\n",
    "first_reviews['r_date'] = first_reviews['r_date'].astype('datetime64[ns]')\n",
    "first_reviews = first_reviews.sort_values(by=['r_date'])\n",
    "first_reviews"
   ]
  },
  {
   "cell_type": "code",
   "execution_count": null,
   "id": "023379fc",
   "metadata": {},
   "outputs": [],
   "source": [
    "def adopters(df):\n",
    "    row_count = len(df)\n",
    "    inn = round(row_count * 0.025)\n",
    "    earlya = round(row_count * 0.135)\n",
    "    earlym = round(row_count * 0.34)\n",
    "    latem = round(row_count * 0.34)\n",
    "    lag = row_count - (inn + earlya + earlym + latem)\n",
    "    \n",
    "    df['adopters'] = 0\n",
    "    \n",
    "    start_index = 0\n",
    "    end_index = inn\n",
    "    df.iloc[start_index:end_index, -1] = 1\n",
    "\n",
    "    start_index = end_index\n",
    "    end_index += earlya\n",
    "    df.iloc[start_index:end_index, -1] = 2\n",
    "\n",
    "    start_index = end_index\n",
    "    end_index += earlym\n",
    "    df.iloc[start_index:end_index, -1] = 3\n",
    "\n",
    "    start_index = end_index\n",
    "    end_index += latem\n",
    "    df.iloc[start_index:end_index, -1] = 4\n",
    "\n",
    "    start_index = end_index\n",
    "    end_index += lag\n",
    "    df.iloc[start_index:end_index, -1] = 5\n",
    "\n",
    "    return df"
   ]
  },
  {
   "cell_type": "code",
   "execution_count": null,
   "id": "cfbb06f8",
   "metadata": {},
   "outputs": [],
   "source": [
    "adopters(first_reviews)\n",
    "first_reviews.head()"
   ]
  },
  {
   "cell_type": "code",
   "execution_count": null,
   "id": "e9389a30",
   "metadata": {},
   "outputs": [],
   "source": [
    "first_reviews = first_reviews[['cust_id', 'adopters']]\n"
   ]
  },
  {
   "cell_type": "code",
   "execution_count": null,
   "id": "5a8defe7",
   "metadata": {},
   "outputs": [],
   "source": [
    "first_reviews"
   ]
  },
  {
   "cell_type": "code",
   "execution_count": null,
   "id": "a47167ab",
   "metadata": {},
   "outputs": [],
   "source": [
    "data = data.merge(users)\n",
    "data"
   ]
  },
  {
   "cell_type": "code",
   "execution_count": null,
   "id": "96ebad70",
   "metadata": {},
   "outputs": [],
   "source": [
    "data = data.merge(first_reviews)\n",
    "data"
   ]
  },
  {
   "cell_type": "code",
   "execution_count": null,
   "id": "9e193ec8",
   "metadata": {},
   "outputs": [],
   "source": [
    "#data.to_csv('data/1m_useratt.csv', index=False)"
   ]
  },
  {
   "cell_type": "markdown",
   "id": "f96e883b",
   "metadata": {},
   "source": [
    "# Diversity Requirement\n",
    "\n",
    "In addition to the general concept of content diversity, I'd also like to examine different diversity parameters such as racial, ethnic, gender, sexual-orientation, etc. \n",
    "\n",
    "Because of the limited amount of time, each video was assigned True or False based on if any of the Top (2) Billed Cast, Director, or Writer(s) are a minority. White women count as minorities in this instance as they are also underrepresented in the above categories.\n",
    "\n",
    "This part of the project was added later in the process so it was not taken into account throughout the modeling process. This was done by hand using information from IMDb and will be revisited in the future to ensure accuracy.\n",
    "\n",
    "Based on the information that I did find, you'll see below that out of almost 18,000 videos, only about 2214 met the minority requirement. This is less than 13%."
   ]
  },
  {
   "cell_type": "code",
   "execution_count": 49,
   "id": "6aa5baba",
   "metadata": {},
   "outputs": [
    {
     "data": {
      "text/html": [
       "<div>\n",
       "<style scoped>\n",
       "    .dataframe tbody tr th:only-of-type {\n",
       "        vertical-align: middle;\n",
       "    }\n",
       "\n",
       "    .dataframe tbody tr th {\n",
       "        vertical-align: top;\n",
       "    }\n",
       "\n",
       "    .dataframe thead th {\n",
       "        text-align: right;\n",
       "    }\n",
       "</style>\n",
       "<table border=\"1\" class=\"dataframe\">\n",
       "  <thead>\n",
       "    <tr style=\"text-align: right;\">\n",
       "      <th></th>\n",
       "      <th>mid</th>\n",
       "      <th>yr</th>\n",
       "      <th>title</th>\n",
       "      <th>m_minreq</th>\n",
       "    </tr>\n",
       "  </thead>\n",
       "  <tbody>\n",
       "    <tr>\n",
       "      <th>0</th>\n",
       "      <td>1</td>\n",
       "      <td>2003.0</td>\n",
       "      <td>Dinosaur Planet</td>\n",
       "      <td>0.0</td>\n",
       "    </tr>\n",
       "    <tr>\n",
       "      <th>1</th>\n",
       "      <td>2</td>\n",
       "      <td>2004.0</td>\n",
       "      <td>Isle of Man TT 2004 Review</td>\n",
       "      <td>0.0</td>\n",
       "    </tr>\n",
       "    <tr>\n",
       "      <th>2</th>\n",
       "      <td>3</td>\n",
       "      <td>1997.0</td>\n",
       "      <td>Character</td>\n",
       "      <td>0.0</td>\n",
       "    </tr>\n",
       "    <tr>\n",
       "      <th>3</th>\n",
       "      <td>4</td>\n",
       "      <td>1994.0</td>\n",
       "      <td>Paula Abdul's Get Up &amp; Dance</td>\n",
       "      <td>1.0</td>\n",
       "    </tr>\n",
       "    <tr>\n",
       "      <th>4</th>\n",
       "      <td>5</td>\n",
       "      <td>2004.0</td>\n",
       "      <td>The Rise and Fall of ECW</td>\n",
       "      <td>0.0</td>\n",
       "    </tr>\n",
       "    <tr>\n",
       "      <th>...</th>\n",
       "      <td>...</td>\n",
       "      <td>...</td>\n",
       "      <td>...</td>\n",
       "      <td>...</td>\n",
       "    </tr>\n",
       "    <tr>\n",
       "      <th>17765</th>\n",
       "      <td>17766</td>\n",
       "      <td>2002.0</td>\n",
       "      <td>Where the Wild Things Are and Other Maurice Se...</td>\n",
       "      <td>1.0</td>\n",
       "    </tr>\n",
       "    <tr>\n",
       "      <th>17766</th>\n",
       "      <td>17767</td>\n",
       "      <td>2004.0</td>\n",
       "      <td>Fidel Castro: American Experience</td>\n",
       "      <td>0.0</td>\n",
       "    </tr>\n",
       "    <tr>\n",
       "      <th>17767</th>\n",
       "      <td>17768</td>\n",
       "      <td>2000.0</td>\n",
       "      <td>Epoch</td>\n",
       "      <td>0.0</td>\n",
       "    </tr>\n",
       "    <tr>\n",
       "      <th>17768</th>\n",
       "      <td>17769</td>\n",
       "      <td>2003.0</td>\n",
       "      <td>The Company</td>\n",
       "      <td>0.0</td>\n",
       "    </tr>\n",
       "    <tr>\n",
       "      <th>17769</th>\n",
       "      <td>17770</td>\n",
       "      <td>2003.0</td>\n",
       "      <td>Alien Hunter</td>\n",
       "      <td>0.0</td>\n",
       "    </tr>\n",
       "  </tbody>\n",
       "</table>\n",
       "<p>17770 rows × 4 columns</p>\n",
       "</div>"
      ],
      "text/plain": [
       "         mid      yr                                              title   \n",
       "0          1  2003.0                                    Dinosaur Planet  \\\n",
       "1          2  2004.0                         Isle of Man TT 2004 Review   \n",
       "2          3  1997.0                                          Character   \n",
       "3          4  1994.0                       Paula Abdul's Get Up & Dance   \n",
       "4          5  2004.0                           The Rise and Fall of ECW   \n",
       "...      ...     ...                                                ...   \n",
       "17765  17766  2002.0  Where the Wild Things Are and Other Maurice Se...   \n",
       "17766  17767  2004.0                  Fidel Castro: American Experience   \n",
       "17767  17768  2000.0                                              Epoch   \n",
       "17768  17769  2003.0                                        The Company   \n",
       "17769  17770  2003.0                                       Alien Hunter   \n",
       "\n",
       "       m_minreq  \n",
       "0           0.0  \n",
       "1           0.0  \n",
       "2           0.0  \n",
       "3           1.0  \n",
       "4           0.0  \n",
       "...         ...  \n",
       "17765       1.0  \n",
       "17766       0.0  \n",
       "17767       0.0  \n",
       "17768       0.0  \n",
       "17769       0.0  \n",
       "\n",
       "[17770 rows x 4 columns]"
      ]
     },
     "execution_count": 49,
     "metadata": {},
     "output_type": "execute_result"
    }
   ],
   "source": [
    "diversity = pd.read_csv('data/movie_titles4.csv')\n",
    "diversity = diversity.rename(columns = {'minority requirement': 'm_minreq'})\n",
    "diversity = diversity.fillna(0)\n",
    "diversity"
   ]
  },
  {
   "cell_type": "code",
   "execution_count": 50,
   "id": "3c787007",
   "metadata": {},
   "outputs": [
    {
     "data": {
      "text/plain": [
       "m_minreq\n",
       "0.0    15556\n",
       "1.0     2214\n",
       "Name: count, dtype: int64"
      ]
     },
     "execution_count": 50,
     "metadata": {},
     "output_type": "execute_result"
    }
   ],
   "source": [
    "diversity['m_minreq'].value_counts()"
   ]
  },
  {
   "cell_type": "code",
   "execution_count": 51,
   "id": "aea47eea",
   "metadata": {},
   "outputs": [
    {
     "data": {
      "text/plain": [
       "m_minreq\n",
       "0.0    0.875408\n",
       "1.0    0.124592\n",
       "Name: proportion, dtype: float64"
      ]
     },
     "execution_count": 51,
     "metadata": {},
     "output_type": "execute_result"
    }
   ],
   "source": [
    "diversity['m_minreq'].value_counts(normalize=True)"
   ]
  },
  {
   "cell_type": "markdown",
   "id": "b274da44",
   "metadata": {},
   "source": [
    "# Up Next:\n",
    "\n",
    "\n"
   ]
  },
  {
   "cell_type": "code",
   "execution_count": null,
   "id": "f63f4e92",
   "metadata": {},
   "outputs": [],
   "source": []
  }
 ],
 "metadata": {
  "kernelspec": {
   "display_name": "Python 3 (ipykernel)",
   "language": "python",
   "name": "python3"
  },
  "language_info": {
   "codemirror_mode": {
    "name": "ipython",
    "version": 3
   },
   "file_extension": ".py",
   "mimetype": "text/x-python",
   "name": "python",
   "nbconvert_exporter": "python",
   "pygments_lexer": "ipython3",
   "version": "3.9.13"
  }
 },
 "nbformat": 4,
 "nbformat_minor": 5
}
